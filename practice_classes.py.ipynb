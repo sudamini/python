{
 "cells": [
  {
   "cell_type": "code",
   "execution_count": null,
   "metadata": {},
   "outputs": [],
   "source": [
    "class ApacTradeReview:\n",
    "    #this method runs once an object has been created\n",
    "    #when you create a class with 'self', python knows that it is instance attribute.\n",
    "    #you can also create static variables and methods in a class\n",
    "    def __init__(self,asofdate,snaptime,)\n",
    "    \n",
    "    #if you want to change the value of a global variable from inside a local method, "
   ]
  },
  {
   "cell_type": "code",
   "execution_count": 1,
   "metadata": {},
   "outputs": [
    {
     "data": {
      "text/plain": [
       "<module 'math' from '/Users/self/opt/anaconda3/lib/python3.7/lib-dynload/math.cpython-37m-darwin.so'>"
      ]
     },
     "execution_count": 1,
     "metadata": {},
     "output_type": "execute_result"
    }
   ],
   "source": [
    "#modules are objects of a certain data type\n",
    "import math # this is a built in module\n",
    "math"
   ]
  },
  {
   "cell_type": "code",
   "execution_count": 2,
   "metadata": {},
   "outputs": [
    {
     "data": {
      "text/plain": [
       "<module 'fractions' from '/Users/self/opt/anaconda3/lib/python3.7/fractions.py'>"
      ]
     },
     "execution_count": 2,
     "metadata": {},
     "output_type": "execute_result"
    }
   ],
   "source": [
    "import fractions #standard library function\n",
    "fractions"
   ]
  },
  {
   "cell_type": "code",
   "execution_count": 3,
   "metadata": {},
   "outputs": [
    {
     "data": {
      "text/plain": [
       "{'__name__': '__main__',\n",
       " '__doc__': 'Automatically created module for IPython interactive environment',\n",
       " '__package__': None,\n",
       " '__loader__': None,\n",
       " '__spec__': None,\n",
       " '__builtin__': <module 'builtins' (built-in)>,\n",
       " '__builtins__': <module 'builtins' (built-in)>,\n",
       " '_ih': ['',\n",
       "  '#modules are objects of a certain data type\\nimport math\\nmath',\n",
       "  'import fractions\\nfractions',\n",
       "  '#global namespace\\nglobals()'],\n",
       " '_oh': {1: <module 'math' from '/Users/self/opt/anaconda3/lib/python3.7/lib-dynload/math.cpython-37m-darwin.so'>,\n",
       "  2: <module 'fractions' from '/Users/self/opt/anaconda3/lib/python3.7/fractions.py'>},\n",
       " '_dh': ['/Users/self/Documents/sudamini/Development/Python'],\n",
       " 'In': ['',\n",
       "  '#modules are objects of a certain data type\\nimport math\\nmath',\n",
       "  'import fractions\\nfractions',\n",
       "  '#global namespace\\nglobals()'],\n",
       " 'Out': {1: <module 'math' from '/Users/self/opt/anaconda3/lib/python3.7/lib-dynload/math.cpython-37m-darwin.so'>,\n",
       "  2: <module 'fractions' from '/Users/self/opt/anaconda3/lib/python3.7/fractions.py'>},\n",
       " 'get_ipython': <bound method InteractiveShell.get_ipython of <ipykernel.zmqshell.ZMQInteractiveShell object at 0x7fc5b5a19a10>>,\n",
       " 'exit': <IPython.core.autocall.ZMQExitAutocall at 0x7fc5b6ffd410>,\n",
       " 'quit': <IPython.core.autocall.ZMQExitAutocall at 0x7fc5b6ffd410>,\n",
       " '_': <module 'fractions' from '/Users/self/opt/anaconda3/lib/python3.7/fractions.py'>,\n",
       " '__': <module 'math' from '/Users/self/opt/anaconda3/lib/python3.7/lib-dynload/math.cpython-37m-darwin.so'>,\n",
       " '___': '',\n",
       " '_i': 'import fractions\\nfractions',\n",
       " '_ii': '#modules are objects of a certain data type\\nimport math\\nmath',\n",
       " '_iii': '',\n",
       " '_i1': '#modules are objects of a certain data type\\nimport math\\nmath',\n",
       " 'math': <module 'math' from '/Users/self/opt/anaconda3/lib/python3.7/lib-dynload/math.cpython-37m-darwin.so'>,\n",
       " '_1': <module 'math' from '/Users/self/opt/anaconda3/lib/python3.7/lib-dynload/math.cpython-37m-darwin.so'>,\n",
       " '_i2': 'import fractions\\nfractions',\n",
       " 'fractions': <module 'fractions' from '/Users/self/opt/anaconda3/lib/python3.7/fractions.py'>,\n",
       " '_2': <module 'fractions' from '/Users/self/opt/anaconda3/lib/python3.7/fractions.py'>,\n",
       " '_i3': '#global namespace\\nglobals()'}"
      ]
     },
     "execution_count": 3,
     "metadata": {},
     "output_type": "execute_result"
    }
   ],
   "source": [
    "#global namespace\n",
    "globals()"
   ]
  },
  {
   "cell_type": "code",
   "execution_count": 5,
   "metadata": {},
   "outputs": [
    {
     "data": {
      "text/plain": [
       "{'__name__': 'math',\n",
       " '__doc__': 'This module provides access to the mathematical functions\\ndefined by the C standard.',\n",
       " '__package__': '',\n",
       " '__loader__': <_frozen_importlib_external.ExtensionFileLoader at 0x7fc5b18ae290>,\n",
       " '__spec__': ModuleSpec(name='math', loader=<_frozen_importlib_external.ExtensionFileLoader object at 0x7fc5b18ae290>, origin='/Users/self/opt/anaconda3/lib/python3.7/lib-dynload/math.cpython-37m-darwin.so'),\n",
       " 'acos': <function math.acos(x, /)>,\n",
       " 'acosh': <function math.acosh(x, /)>,\n",
       " 'asin': <function math.asin(x, /)>,\n",
       " 'asinh': <function math.asinh(x, /)>,\n",
       " 'atan': <function math.atan(x, /)>,\n",
       " 'atan2': <function math.atan2(y, x, /)>,\n",
       " 'atanh': <function math.atanh(x, /)>,\n",
       " 'ceil': <function math.ceil(x, /)>,\n",
       " 'copysign': <function math.copysign(x, y, /)>,\n",
       " 'cos': <function math.cos(x, /)>,\n",
       " 'cosh': <function math.cosh(x, /)>,\n",
       " 'degrees': <function math.degrees(x, /)>,\n",
       " 'erf': <function math.erf(x, /)>,\n",
       " 'erfc': <function math.erfc(x, /)>,\n",
       " 'exp': <function math.exp(x, /)>,\n",
       " 'expm1': <function math.expm1(x, /)>,\n",
       " 'fabs': <function math.fabs(x, /)>,\n",
       " 'factorial': <function math.factorial(x, /)>,\n",
       " 'floor': <function math.floor(x, /)>,\n",
       " 'fmod': <function math.fmod(x, y, /)>,\n",
       " 'frexp': <function math.frexp(x, /)>,\n",
       " 'fsum': <function math.fsum(seq, /)>,\n",
       " 'gamma': <function math.gamma(x, /)>,\n",
       " 'gcd': <function math.gcd(x, y, /)>,\n",
       " 'hypot': <function math.hypot(x, y, /)>,\n",
       " 'isclose': <function math.isclose(a, b, *, rel_tol=1e-09, abs_tol=0.0)>,\n",
       " 'isfinite': <function math.isfinite(x, /)>,\n",
       " 'isinf': <function math.isinf(x, /)>,\n",
       " 'isnan': <function math.isnan(x, /)>,\n",
       " 'ldexp': <function math.ldexp(x, i, /)>,\n",
       " 'lgamma': <function math.lgamma(x, /)>,\n",
       " 'log': <function math.log>,\n",
       " 'log1p': <function math.log1p(x, /)>,\n",
       " 'log10': <function math.log10(x, /)>,\n",
       " 'log2': <function math.log2(x, /)>,\n",
       " 'modf': <function math.modf(x, /)>,\n",
       " 'pow': <function math.pow(x, y, /)>,\n",
       " 'radians': <function math.radians(x, /)>,\n",
       " 'remainder': <function math.remainder(x, y, /)>,\n",
       " 'sin': <function math.sin(x, /)>,\n",
       " 'sinh': <function math.sinh(x, /)>,\n",
       " 'sqrt': <function math.sqrt(x, /)>,\n",
       " 'tan': <function math.tan(x, /)>,\n",
       " 'tanh': <function math.tanh(x, /)>,\n",
       " 'trunc': <function math.trunc(x, /)>,\n",
       " 'pi': 3.141592653589793,\n",
       " 'e': 2.718281828459045,\n",
       " 'tau': 6.283185307179586,\n",
       " 'inf': inf,\n",
       " 'nan': nan,\n",
       " '__file__': '/Users/self/opt/anaconda3/lib/python3.7/lib-dynload/math.cpython-37m-darwin.so'}"
      ]
     },
     "execution_count": 5,
     "metadata": {},
     "output_type": "execute_result"
    }
   ],
   "source": [
    "math.__dict__"
   ]
  },
  {
   "cell_type": "code",
   "execution_count": 7,
   "metadata": {},
   "outputs": [],
   "source": [
    "#create your own module type\n",
    "import types\n",
    "mod = types.ModuleType('test','This is a test module')"
   ]
  },
  {
   "cell_type": "code",
   "execution_count": 9,
   "metadata": {},
   "outputs": [
    {
     "data": {
      "text/plain": [
       "{'__name__': 'test',\n",
       " '__doc__': 'This is a test module',\n",
       " '__package__': None,\n",
       " '__loader__': None,\n",
       " '__spec__': None}"
      ]
     },
     "execution_count": 9,
     "metadata": {},
     "output_type": "execute_result"
    }
   ],
   "source": [
    "mod.__dict__ #this doesnt have any attributes yet"
   ]
  },
  {
   "cell_type": "code",
   "execution_count": 10,
   "metadata": {},
   "outputs": [],
   "source": [
    "mod.pi = 3.14\n",
    "mod.hello = lambda : 'Hello'"
   ]
  },
  {
   "cell_type": "code",
   "execution_count": 11,
   "metadata": {},
   "outputs": [
    {
     "data": {
      "text/plain": [
       "{'__name__': 'test',\n",
       " '__doc__': 'This is a test module',\n",
       " '__package__': None,\n",
       " '__loader__': None,\n",
       " '__spec__': None,\n",
       " 'pi': 3.14,\n",
       " 'hello': <function __main__.<lambda>()>}"
      ]
     },
     "execution_count": 11,
     "metadata": {},
     "output_type": "execute_result"
    }
   ],
   "source": [
    "mod.__dict__"
   ]
  },
  {
   "cell_type": "code",
   "execution_count": 12,
   "metadata": {},
   "outputs": [
    {
     "data": {
      "text/plain": [
       "'Hello'"
      ]
     },
     "execution_count": 12,
     "metadata": {},
     "output_type": "execute_result"
    }
   ],
   "source": [
    "mod.hello()"
   ]
  },
  {
   "cell_type": "code",
   "execution_count": 13,
   "metadata": {},
   "outputs": [
    {
     "data": {
      "text/plain": [
       "'Hello'"
      ]
     },
     "execution_count": 13,
     "metadata": {},
     "output_type": "execute_result"
    }
   ],
   "source": [
    "sayhello = mod.hello()\n",
    "sayhello"
   ]
  },
  {
   "cell_type": "code",
   "execution_count": 15,
   "metadata": {},
   "outputs": [
    {
     "data": {
      "text/plain": [
       "Point(x=1, y=2)"
      ]
     },
     "execution_count": 15,
     "metadata": {},
     "output_type": "execute_result"
    }
   ],
   "source": [
    "from collections import namedtuple\n",
    "mod.Point = namedtuple('Point', 'x y')\n",
    "p1 = mod.Point(1,2)\n",
    "p2 = mod.Point(2,2)\n",
    "p1"
   ]
  },
  {
   "cell_type": "code",
   "execution_count": 16,
   "metadata": {},
   "outputs": [
    {
     "data": {
      "text/plain": [
       "['Point',\n",
       " '__doc__',\n",
       " '__loader__',\n",
       " '__name__',\n",
       " '__package__',\n",
       " '__spec__',\n",
       " 'hello',\n",
       " 'pi']"
      ]
     },
     "execution_count": 16,
     "metadata": {},
     "output_type": "execute_result"
    }
   ],
   "source": [
    "dir(mod)"
   ]
  },
  {
   "cell_type": "code",
   "execution_count": null,
   "metadata": {},
   "outputs": [],
   "source": []
  }
 ],
 "metadata": {
  "kernelspec": {
   "display_name": "Python 3",
   "language": "python",
   "name": "python3"
  },
  "language_info": {
   "codemirror_mode": {
    "name": "ipython",
    "version": 3
   },
   "file_extension": ".py",
   "mimetype": "text/x-python",
   "name": "python",
   "nbconvert_exporter": "python",
   "pygments_lexer": "ipython3",
   "version": "3.7.6"
  }
 },
 "nbformat": 4,
 "nbformat_minor": 4
}
