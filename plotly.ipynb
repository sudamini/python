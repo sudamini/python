{
 "cells": [
  {
   "cell_type": "code",
   "execution_count": 17,
   "metadata": {},
   "outputs": [],
   "source": [
    "import numpy as np\n",
    "import pandas as pd\n",
    "%matplotlib inline"
   ]
  },
  {
   "cell_type": "code",
   "execution_count": 18,
   "metadata": {},
   "outputs": [],
   "source": [
    "from plotly import __version__"
   ]
  },
  {
   "cell_type": "code",
   "execution_count": 19,
   "metadata": {},
   "outputs": [
    {
     "name": "stdout",
     "output_type": "stream",
     "text": [
      "4.14.3\n"
     ]
    }
   ],
   "source": [
    "print (__version__)"
   ]
  },
  {
   "cell_type": "code",
   "execution_count": 20,
   "metadata": {},
   "outputs": [],
   "source": [
    "import cufflinks as cf"
   ]
  },
  {
   "cell_type": "code",
   "execution_count": 21,
   "metadata": {},
   "outputs": [],
   "source": [
    "from plotly.offline import download_plotlyjs, init_notebook_mode,plot,iplot"
   ]
  },
  {
   "cell_type": "code",
   "execution_count": 22,
   "metadata": {},
   "outputs": [
    {
     "data": {
      "text/html": [
       "        <script type=\"text/javascript\">\n",
       "        window.PlotlyConfig = {MathJaxConfig: 'local'};\n",
       "        if (window.MathJax) {MathJax.Hub.Config({SVG: {font: \"STIX-Web\"}});}\n",
       "        if (typeof require !== 'undefined') {\n",
       "        require.undef(\"plotly\");\n",
       "        requirejs.config({\n",
       "            paths: {\n",
       "                'plotly': ['https://cdn.plot.ly/plotly-latest.min']\n",
       "            }\n",
       "        });\n",
       "        require(['plotly'], function(Plotly) {\n",
       "            window._Plotly = Plotly;\n",
       "        });\n",
       "        }\n",
       "        </script>\n",
       "        "
      ]
     },
     "metadata": {},
     "output_type": "display_data"
    }
   ],
   "source": [
    "init_notebook_mode(connected=True)"
   ]
  },
  {
   "cell_type": "code",
   "execution_count": 23,
   "metadata": {},
   "outputs": [
    {
     "data": {
      "text/html": [
       "        <script type=\"text/javascript\">\n",
       "        window.PlotlyConfig = {MathJaxConfig: 'local'};\n",
       "        if (window.MathJax) {MathJax.Hub.Config({SVG: {font: \"STIX-Web\"}});}\n",
       "        if (typeof require !== 'undefined') {\n",
       "        require.undef(\"plotly\");\n",
       "        requirejs.config({\n",
       "            paths: {\n",
       "                'plotly': ['https://cdn.plot.ly/plotly-latest.min']\n",
       "            }\n",
       "        });\n",
       "        require(['plotly'], function(Plotly) {\n",
       "            window._Plotly = Plotly;\n",
       "        });\n",
       "        }\n",
       "        </script>\n",
       "        "
      ]
     },
     "metadata": {},
     "output_type": "display_data"
    }
   ],
   "source": [
    "cf.go_offline()"
   ]
  },
  {
   "cell_type": "code",
   "execution_count": 28,
   "metadata": {},
   "outputs": [
    {
     "data": {
      "text/html": [
       "<div>\n",
       "<style scoped>\n",
       "    .dataframe tbody tr th:only-of-type {\n",
       "        vertical-align: middle;\n",
       "    }\n",
       "\n",
       "    .dataframe tbody tr th {\n",
       "        vertical-align: top;\n",
       "    }\n",
       "\n",
       "    .dataframe thead th {\n",
       "        text-align: right;\n",
       "    }\n",
       "</style>\n",
       "<table border=\"1\" class=\"dataframe\">\n",
       "  <thead>\n",
       "    <tr style=\"text-align: right;\">\n",
       "      <th></th>\n",
       "      <th>A</th>\n",
       "      <th>B</th>\n",
       "      <th>C</th>\n",
       "      <th>D</th>\n",
       "    </tr>\n",
       "  </thead>\n",
       "  <tbody>\n",
       "    <tr>\n",
       "      <th>0</th>\n",
       "      <td>-0.374379</td>\n",
       "      <td>-1.102779</td>\n",
       "      <td>0.630509</td>\n",
       "      <td>-0.977554</td>\n",
       "    </tr>\n",
       "    <tr>\n",
       "      <th>1</th>\n",
       "      <td>-1.619733</td>\n",
       "      <td>0.297400</td>\n",
       "      <td>0.257393</td>\n",
       "      <td>0.512542</td>\n",
       "    </tr>\n",
       "    <tr>\n",
       "      <th>2</th>\n",
       "      <td>-1.669424</td>\n",
       "      <td>-0.432533</td>\n",
       "      <td>1.200251</td>\n",
       "      <td>-0.294908</td>\n",
       "    </tr>\n",
       "    <tr>\n",
       "      <th>3</th>\n",
       "      <td>-0.823472</td>\n",
       "      <td>-1.108427</td>\n",
       "      <td>1.824981</td>\n",
       "      <td>0.656105</td>\n",
       "    </tr>\n",
       "    <tr>\n",
       "      <th>4</th>\n",
       "      <td>0.136939</td>\n",
       "      <td>-1.637366</td>\n",
       "      <td>0.391800</td>\n",
       "      <td>-0.948656</td>\n",
       "    </tr>\n",
       "    <tr>\n",
       "      <th>...</th>\n",
       "      <td>...</td>\n",
       "      <td>...</td>\n",
       "      <td>...</td>\n",
       "      <td>...</td>\n",
       "    </tr>\n",
       "    <tr>\n",
       "      <th>95</th>\n",
       "      <td>0.284692</td>\n",
       "      <td>-0.950279</td>\n",
       "      <td>0.138687</td>\n",
       "      <td>0.037388</td>\n",
       "    </tr>\n",
       "    <tr>\n",
       "      <th>96</th>\n",
       "      <td>-0.680837</td>\n",
       "      <td>-1.097837</td>\n",
       "      <td>0.012902</td>\n",
       "      <td>-1.120728</td>\n",
       "    </tr>\n",
       "    <tr>\n",
       "      <th>97</th>\n",
       "      <td>-1.007142</td>\n",
       "      <td>0.399230</td>\n",
       "      <td>1.163954</td>\n",
       "      <td>-1.911334</td>\n",
       "    </tr>\n",
       "    <tr>\n",
       "      <th>98</th>\n",
       "      <td>2.283632</td>\n",
       "      <td>0.398276</td>\n",
       "      <td>-0.534312</td>\n",
       "      <td>-0.007295</td>\n",
       "    </tr>\n",
       "    <tr>\n",
       "      <th>99</th>\n",
       "      <td>-2.154357</td>\n",
       "      <td>0.146181</td>\n",
       "      <td>-0.562288</td>\n",
       "      <td>0.917199</td>\n",
       "    </tr>\n",
       "  </tbody>\n",
       "</table>\n",
       "<p>100 rows × 4 columns</p>\n",
       "</div>"
      ],
      "text/plain": [
       "           A         B         C         D\n",
       "0  -0.374379 -1.102779  0.630509 -0.977554\n",
       "1  -1.619733  0.297400  0.257393  0.512542\n",
       "2  -1.669424 -0.432533  1.200251 -0.294908\n",
       "3  -0.823472 -1.108427  1.824981  0.656105\n",
       "4   0.136939 -1.637366  0.391800 -0.948656\n",
       "..       ...       ...       ...       ...\n",
       "95  0.284692 -0.950279  0.138687  0.037388\n",
       "96 -0.680837 -1.097837  0.012902 -1.120728\n",
       "97 -1.007142  0.399230  1.163954 -1.911334\n",
       "98  2.283632  0.398276 -0.534312 -0.007295\n",
       "99 -2.154357  0.146181 -0.562288  0.917199\n",
       "\n",
       "[100 rows x 4 columns]"
      ]
     },
     "execution_count": 28,
     "metadata": {},
     "output_type": "execute_result"
    }
   ],
   "source": [
    "# create data\n",
    "df = pd.DataFrame(np.random.randn(100,4),columns='A B C D'.split())\n",
    "df"
   ]
  },
  {
   "cell_type": "code",
   "execution_count": 25,
   "metadata": {},
   "outputs": [
    {
     "data": {
      "text/html": [
       "<div>\n",
       "<style scoped>\n",
       "    .dataframe tbody tr th:only-of-type {\n",
       "        vertical-align: middle;\n",
       "    }\n",
       "\n",
       "    .dataframe tbody tr th {\n",
       "        vertical-align: top;\n",
       "    }\n",
       "\n",
       "    .dataframe thead th {\n",
       "        text-align: right;\n",
       "    }\n",
       "</style>\n",
       "<table border=\"1\" class=\"dataframe\">\n",
       "  <thead>\n",
       "    <tr style=\"text-align: right;\">\n",
       "      <th></th>\n",
       "      <th>Category</th>\n",
       "      <th>Values</th>\n",
       "    </tr>\n",
       "  </thead>\n",
       "  <tbody>\n",
       "    <tr>\n",
       "      <th>0</th>\n",
       "      <td>A</td>\n",
       "      <td>32</td>\n",
       "    </tr>\n",
       "    <tr>\n",
       "      <th>1</th>\n",
       "      <td>B</td>\n",
       "      <td>43</td>\n",
       "    </tr>\n",
       "    <tr>\n",
       "      <th>2</th>\n",
       "      <td>C</td>\n",
       "      <td>50</td>\n",
       "    </tr>\n",
       "  </tbody>\n",
       "</table>\n",
       "</div>"
      ],
      "text/plain": [
       "  Category  Values\n",
       "0        A      32\n",
       "1        B      43\n",
       "2        C      50"
      ]
     },
     "execution_count": 25,
     "metadata": {},
     "output_type": "execute_result"
    }
   ],
   "source": [
    "df2 = pd.DataFrame({'Category':['A','B','C'],'Values':[32,43,50]})\n",
    "df2"
   ]
  },
  {
   "cell_type": "code",
   "execution_count": 26,
   "metadata": {},
   "outputs": [
    {
     "data": {
      "text/plain": [
       "<matplotlib.axes._subplots.AxesSubplot at 0x7ff2ea532b50>"
      ]
     },
     "execution_count": 26,
     "metadata": {},
     "output_type": "execute_result"
    },
    {
     "data": {
      "image/png": "[encoded data removed]",
      "text/plain": [
       "<Figure size 432x288 with 1 Axes>"
      ]
     },
     "metadata": {
      "needs_background": "light"
     },
     "output_type": "display_data"
    }
   ],
   "source": [
    "df.plot()\n"
   ]
  },
  {
   "cell_type": "code",
   "execution_count": 27,
   "metadata": {},
   "outputs": [
    {
     "data": {
      "application/vnd.plotly.v1+json": {
       "config": {
        "linkText": "Export to plot.ly",
        "plotlyServerURL": "https://plot.ly",
        "showLink": true
       },
       "data": [
        {
         "line": {
          "color": "rgba(255, 153, 51, 1.0)",
          "dash": "solid",
          "shape": "linear",
          "width": 1.3
         },
         "mode": "lines",
         "name": "A",
         "text": "",
         "type": "scatter",
         "x": [
          0,
          1,
          2,
          3,
          4,
          5,
          6,
          7,
          8,
          9,
          10,
          11,
          12,
          13,
          14,
          15,
          16,
          17,
          18,
          19,
          20,
          21,
          22,
          23,
          24,
          25,
          26,
          27,
          28,
          29,
          30,
          31,
          32,
          33,
          34,
          35,
          36,
          37,
          38,
          39,
          40,
          41,
          42,
          43,
          44,
          45,
          46,
          47,
          48,
          49,
          50,
          51,
          52,
          53,
          54,
          55,
          56,
          57,
          58,
          59,
          60,
          61,
          62,
          63,
          64,
          65,
          66,
          67,
          68,
          69,
          70,
          71,
          72,
          73,
          74,
          75,
          76,
          77,
          78,
          79,
          80,
          81,
          82,
          83,
          84,
          85,
          86,
          87,
          88,
          89,
          90,
          91,
          92,
          93,
          94,
          95,
          96,
          97,
          98,
          99
         ],
         "y": [
          0.8117593057455418,
          1.0938335899028273,
          -1.0585659298583676,
          -0.7565092780915293,
          -0.8737804160242374,
          0.49720620851023956,
          -0.05410565400864815,
          -0.6411684703077976,
          -1.3203430346156904,
          0.9973577381839706,
          1.6028753545402314,
          -1.1916652422681018,
          0.40354438815212035,
          0.6125420071975703,
          0.40352165749994223,
          -0.2865942492878363,
          -1.1847487550910498,
          1.0591622443127071,
          0.23802489749265793,
          0.015011595859583247,
          -0.13244541481894054,
          0.09260540316312997,
          0.8407229843097053,
          0.536520778253444,
          1.381727326217422,
          0.8079404083705898,
          -1.000647364659804,
          0.10341628797925384,
          -0.9833980902025061,
          -0.22875629172502226,
          0.6814810862972287,
          0.7185771131397225,
          1.834142343624583,
          -0.3478223470247949,
          0.054370316002024285,
          0.08536335126478993,
          0.5918070923638621,
          -0.3992623365561799,
          -0.0439918570438183,
          -0.3279251888936415,
          0.9896076785386166,
          2.44365995679159,
          1.016398299111544,
          -0.9762615747203973,
          0.2878346645227675,
          -0.7384220972355146,
          0.027921576560273234,
          -0.256158774203129,
          -0.5203261221152697,
          1.4531086760717467,
          0.010486794339953733,
          1.0789516948150542,
          1.3764419255186455,
          0.007672691729570908,
          0.9910424454519633,
          0.40088688059996064,
          -0.5207890053899487,
          1.0670972153140525,
          -0.9196060186380659,
          -0.373150698349545,
          0.8382043933487532,
          2.132303914601843,
          -1.298672917318817,
          -0.30614865834499444,
          -0.0351548736403371,
          -1.5601649907701984,
          -1.192868035894293,
          0.20391618148623994,
          -0.5867006654380617,
          -0.6068487046457063,
          -0.9198323410420188,
          0.2948917172718335,
          0.6014272004012783,
          0.8543222772060785,
          0.04314622513368861,
          -0.20090613491520168,
          0.0888363908170916,
          -1.888692729290511,
          0.8764059270357962,
          -2.3048883781116256,
          -1.4231094830615676,
          0.6475540872500007,
          -0.34391726981094667,
          -1.3441074003143008,
          -0.5622283652111137,
          -0.5282793985048376,
          0.3421903691170103,
          0.01788359005556727,
          0.5442436521650769,
          0.4673436205667279,
          -0.44241087079920166,
          -0.844589462490869,
          0.13811890616692252,
          -1.157391938774541,
          0.38866164107263657,
          -0.09627814654844286,
          0.5987485810090317,
          -1.7070211835244629,
          -1.5476172666778762,
          -0.18234982213263456
         ]
        },
        {
         "line": {
          "color": "rgba(55, 128, 191, 1.0)",
          "dash": "solid",
          "shape": "linear",
          "width": 1.3
         },
         "mode": "lines",
         "name": "B",
         "text": "",
         "type": "scatter",
         "x": [
          0,
          1,
          2,
          3,
          4,
          5,
          6,
          7,
          8,
          9,
          10,
          11,
          12,
          13,
          14,
          15,
          16,
          17,
          18,
          19,
          20,
          21,
          22,
          23,
          24,
          25,
          26,
          27,
          28,
          29,
          30,
          31,
          32,
          33,
          34,
          35,
          36,
          37,
          38,
          39,
          40,
          41,
          42,
          43,
          44,
          45,
          46,
          47,
          48,
          49,
          50,
          51,
          52,
          53,
          54,
          55,
          56,
          57,
          58,
          59,
          60,
          61,
          62,
          63,
          64,
          65,
          66,
          67,
          68,
          69,
          70,
          71,
          72,
          73,
          74,
          75,
          76,
          77,
          78,
          79,
          80,
          81,
          82,
          83,
          84,
          85,
          86,
          87,
          88,
          89,
          90,
          91,
          92,
          93,
          94,
          95,
          96,
          97,
          98,
          99
         ],
         "y": [
          -1.7280711542954839,
          -1.1957084908846969,
          -0.7609003319251163,
          -0.8992202098353379,
          -0.40759782195937266,
          0.3338227550881855,
          -1.7552544530126335,
          0.33671060102766237,
          0.11882245344996673,
          1.0009417392044908,
          -0.6126029170262892,
          0.012629495531698906,
          0.5844404267707572,
          -0.7801056333554419,
          -0.11628176579062487,
          -0.7443093307194818,
          -0.609038484879578,
          0.7045921425873652,
          -0.20297686329122008,
          0.38936536186420045,
          -0.8656957235188297,
          0.5218740284695094,
          -0.02639133861806917,
          -0.157081527005404,
          0.49835828814276667,
          0.1868056404627085,
          1.2009795821673648,
          -1.3232312185931183,
          0.9088142313487576,
          0.8787095179783736,
          -0.44895216928939347,
          0.6356159861601131,
          -1.3769127950150544,
          -0.7387276479668221,
          -0.2145695384485341,
          -0.6198482340314376,
          0.9652006948550529,
          -0.24845735013975825,
          2.42504495654557,
          0.4906110653256236,
          -1.5551389642240225,
          -0.33660869532572696,
          0.5503182641988837,
          1.7731598764124714,
          -0.1968426735354632,
          -1.0155940494130329,
          1.2490340867757117,
          -0.30573998105255223,
          0.47985946549874153,
          -0.050816644102438684,
          -0.6442831416001048,
          0.16765682288159306,
          0.7337456646161149,
          2.001103614551314,
          -0.5292552281440623,
          -1.8647810755078456,
          1.9105934394240418,
          0.7707738626690032,
          -0.6417282554150975,
          -0.6016515617430954,
          -0.13819784867074889,
          0.42922706691247703,
          -0.12713140247587473,
          2.383052527425673,
          0.8479308379923014,
          1.2696925447566962,
          0.4896738390243203,
          1.965671283177073,
          -1.2531922399694222,
          -1.6038981436887285,
          -0.3554959605341899,
          -0.3215191371199448,
          -0.9596791954686859,
          -1.7621888116909716,
          0.6323443405359207,
          1.7463649230520057,
          -1.7024413428289735,
          1.9942334406357414,
          0.31648561442321377,
          1.2466034668024673,
          -0.4100437575045897,
          -0.6803134059994413,
          0.2743427348584373,
          0.37867889712758296,
          -0.688862148993204,
          0.2056718268725381,
          0.08373444303321136,
          1.0622789463144022,
          -0.5906005225910133,
          -0.19445791373657276,
          1.223528477065588,
          -0.11096324497501499,
          -0.17830968692268773,
          0.6039225878792442,
          0.358664523742132,
          0.2944432695459543,
          0.01651903069129188,
          0.657393099169997,
          1.8891319993678721,
          -0.13459268096634483
         ]
        },
        {
         "line": {
          "color": "rgba(50, 171, 96, 1.0)",
          "dash": "solid",
          "shape": "linear",
          "width": 1.3
         },
         "mode": "lines",
         "name": "C",
         "text": "",
         "type": "scatter",
         "x": [
          0,
          1,
          2,
          3,
          4,
          5,
          6,
          7,
          8,
          9,
          10,
          11,
          12,
          13,
          14,
          15,
          16,
          17,
          18,
          19,
          20,
          21,
          22,
          23,
          24,
          25,
          26,
          27,
          28,
          29,
          30,
          31,
          32,
          33,
          34,
          35,
          36,
          37,
          38,
          39,
          40,
          41,
          42,
          43,
          44,
          45,
          46,
          47,
          48,
          49,
          50,
          51,
          52,
          53,
          54,
          55,
          56,
          57,
          58,
          59,
          60,
          61,
          62,
          63,
          64,
          65,
          66,
          67,
          68,
          69,
          70,
          71,
          72,
          73,
          74,
          75,
          76,
          77,
          78,
          79,
          80,
          81,
          82,
          83,
          84,
          85,
          86,
          87,
          88,
          89,
          90,
          91,
          92,
          93,
          94,
          95,
          96,
          97,
          98,
          99
         ],
         "y": [
          -0.3256741148215648,
          -0.2974989144591323,
          -1.3765817053103728,
          0.07368953609353383,
          0.24014838359270785,
          -0.013475904224632317,
          -0.8980578995672214,
          0.9724674121606918,
          0.5659632954367466,
          -0.295313464992177,
          -0.8225731853715427,
          0.23212713356048123,
          0.28034982459068314,
          -0.16420664429915122,
          -0.4636411244981629,
          0.6366371457276797,
          -1.0350709308403871,
          0.1347717929481551,
          0.12003672134189629,
          -0.5891206867628873,
          1.4274602984520415,
          -0.005175917284646751,
          0.13706789461970617,
          1.9166465523886869,
          -1.5925875397106002,
          -0.1317008956627029,
          0.40046677515356177,
          -0.1722752457178248,
          -1.7324426409508658,
          -0.9453151659690919,
          -0.014756918886460335,
          1.0912231793506737,
          0.9289871156022677,
          -0.2871474470023052,
          -0.38447369165905454,
          0.22067425667042453,
          0.04776324581646775,
          -0.5215532673347455,
          -0.07227833269098818,
          0.05887856516233382,
          0.6335347514564964,
          -0.025756395456760808,
          1.2948621076848152,
          -1.2936962203252602,
          0.03912297967270034,
          0.04735643371307412,
          1.1621121114562054,
          -2.057380715403768,
          -0.7848502996021651,
          -1.0900732849786468,
          -0.16188391437168836,
          -0.43055845418098626,
          -0.4646596079221264,
          -1.5396995076786053,
          0.0781591663142975,
          -0.3460124187409642,
          0.9082649156934579,
          -3.519701887898581,
          1.9859831212379346,
          -0.3058771765003051,
          -0.30474549195098016,
          0.616361762117754,
          -0.8272802860377928,
          -0.6912722021752007,
          0.8003871023869402,
          -0.3734971412704398,
          -1.6815424824149545,
          -1.036857578439765,
          -2.288429258462322,
          0.657500256255855,
          -0.017331117686897313,
          0.7283645252794371,
          0.2155780132220932,
          -1.5130430259380467,
          -0.6011291459671154,
          -0.08373852369121071,
          0.3127232095843196,
          0.037374790640371434,
          0.16193335430078282,
          0.5226995387135773,
          -1.7018867292463795,
          -2.1152308455492355,
          -2.712479916594341,
          0.7228750612825968,
          -0.818324066145602,
          0.8939765716292348,
          -0.05789164671953331,
          -1.3795470900020006,
          0.07988989894605827,
          1.5381149527079176,
          1.0222562535942872,
          1.1583928621967094,
          -0.523316481090315,
          0.14331442214000828,
          -0.09981001139877496,
          0.9845173777736983,
          0.7488967029261225,
          1.453959987663088,
          -0.29409955976263585,
          -1.3627632910407854
         ]
        },
        {
         "line": {
          "color": "rgba(128, 0, 128, 1.0)",
          "dash": "solid",
          "shape": "linear",
          "width": 1.3
         },
         "mode": "lines",
         "name": "D",
         "text": "",
         "type": "scatter",
         "x": [
          0,
          1,
          2,
          3,
          4,
          5,
          6,
          7,
          8,
          9,
          10,
          11,
          12,
          13,
          14,
          15,
          16,
          17,
          18,
          19,
          20,
          21,
          22,
          23,
          24,
          25,
          26,
          27,
          28,
          29,
          30,
          31,
          32,
          33,
          34,
          35,
          36,
          37,
          38,
          39,
          40,
          41,
          42,
          43,
          44,
          45,
          46,
          47,
          48,
          49,
          50,
          51,
          52,
          53,
          54,
          55,
          56,
          57,
          58,
          59,
          60,
          61,
          62,
          63,
          64,
          65,
          66,
          67,
          68,
          69,
          70,
          71,
          72,
          73,
          74,
          75,
          76,
          77,
          78,
          79,
          80,
          81,
          82,
          83,
          84,
          85,
          86,
          87,
          88,
          89,
          90,
          91,
          92,
          93,
          94,
          95,
          96,
          97,
          98,
          99
         ],
         "y": [
          -1.513760601123315,
          -0.5136897680691328,
          0.6226717483312474,
          0.3769811071308463,
          0.5139753366277028,
          -0.7530504477347479,
          -3.2163785953901756,
          -1.3600401806186941,
          -1.4303257064294035,
          2.178535939838147,
          1.4002787894897664,
          -1.2409526621642029,
          -2.649399750260464,
          0.6397243862884993,
          -0.007639884550598591,
          -0.6275628111276064,
          -0.7062302165898209,
          -0.22010170214855332,
          0.884870449011603,
          -0.31067016845131756,
          0.3086591492017006,
          -0.20983883425192482,
          -1.3677440673424548,
          0.0629385405414221,
          -0.2993158587565532,
          1.9337526954105797,
          0.512675069538471,
          0.21526470832327518,
          0.9729874259884324,
          0.31791632190526664,
          -0.01199666522180835,
          -0.7108133682472048,
          -0.6739030487700897,
          -0.917265329404924,
          -0.48253710712664527,
          0.014134969395050804,
          0.5449436108744,
          0.3836040087234892,
          0.2596368344985003,
          1.9713448721843034,
          -0.9171685601268311,
          -0.757520914368115,
          -0.8769638644133537,
          -0.8732372378624086,
          -1.1293281100863204,
          -1.0420861511242716,
          -0.5846388188311241,
          -0.6271507115464479,
          -0.04765187622916353,
          1.0799499229116096,
          -0.8073787687828899,
          0.27562772471878855,
          1.1060250498144863,
          0.8311040948495871,
          1.6960405048329603,
          1.2828788681425038,
          1.5138000448006266,
          0.6707111412918514,
          -1.9997419880887646,
          1.7701706097153238,
          1.2356522034866262,
          -0.5362635306181747,
          0.09653393950659139,
          1.0581509410925423,
          -0.5136125296935253,
          2.058170352864349,
          1.2232830358330122,
          -0.45799837571571006,
          1.035122540550178,
          0.8206984993653632,
          -0.8609052101215563,
          -1.785312704171346,
          -1.504191292709429,
          -2.4533527436687192,
          -0.19503262367256644,
          1.3996728155019018,
          -0.5349640078527975,
          -1.143110988479014,
          -1.3480616691373577,
          0.5613640701328786,
          -0.41964463882470504,
          0.39685766260160643,
          0.6237846094084627,
          1.4288291589118762,
          1.3843302783191567,
          0.601055243142244,
          1.634185852941976,
          -1.44400582822833,
          -1.623102978000686,
          -0.7836784349870582,
          -0.6397242494716737,
          0.3810748913493028,
          -0.2699712565753278,
          -0.4342451496789116,
          1.9608966786174995,
          1.0332286050304644,
          0.36249660938042877,
          0.24439535434945933,
          0.052760995462130866,
          -1.1641479967494688
         ]
        }
       ],
       "layout": {
        "legend": {
         "bgcolor": "#F5F6F9",
         "font": {
          "color": "#4D5663"
         }
        },
        "paper_bgcolor": "#F5F6F9",
        "plot_bgcolor": "#F5F6F9",
        "template": {
         "data": {
          "bar": [
           {
            "error_x": {
             "color": "#2a3f5f"
            },
            "error_y": {
             "color": "#2a3f5f"
            },
            "marker": {
             "line": {
              "color": "#E5ECF6",
              "width": 0.5
             }
            },
            "type": "bar"
           }
          ],
          "barpolar": [
           {
            "marker": {
             "line": {
              "color": "#E5ECF6",
              "width": 0.5
             }
            },
            "type": "barpolar"
           }
          ],
          "carpet": [
           {
            "aaxis": {
             "endlinecolor": "#2a3f5f",
             "gridcolor": "white",
             "linecolor": "white",
             "minorgridcolor": "white",
             "startlinecolor": "#2a3f5f"
            },
            "baxis": {
             "endlinecolor": "#2a3f5f",
             "gridcolor": "white",
             "linecolor": "white",
             "minorgridcolor": "white",
             "startlinecolor": "#2a3f5f"
            },
            "type": "carpet"
           }
          ],
          "choropleth": [
           {
            "colorbar": {
             "outlinewidth": 0,
             "ticks": ""
            },
            "type": "choropleth"
           }
          ],
          "contour": [
           {
            "colorbar": {
             "outlinewidth": 0,
             "ticks": ""
            },
            "colorscale": [
             [
              0,
              "#0d0887"
             ],
             [
              0.1111111111111111,
              "#46039f"
             ],
             [
              0.2222222222222222,
              "#7201a8"
             ],
             [
              0.3333333333333333,
              "#9c179e"
             ],
             [
              0.4444444444444444,
              "#bd3786"
             ],
             [
              0.5555555555555556,
              "#d8576b"
             ],
             [
              0.6666666666666666,
              "#ed7953"
             ],
             [
              0.7777777777777778,
              "#fb9f3a"
             ],
             [
              0.8888888888888888,
              "#fdca26"
             ],
             [
              1,
              "#f0f921"
             ]
            ],
            "type": "contour"
           }
          ],
          "contourcarpet": [
           {
            "colorbar": {
             "outlinewidth": 0,
             "ticks": ""
            },
            "type": "contourcarpet"
           }
          ],
          "heatmap": [
           {
            "colorbar": {
             "outlinewidth": 0,
             "ticks": ""
            },
            "colorscale": [
             [
              0,
              "#0d0887"
             ],
             [
              0.1111111111111111,
              "#46039f"
             ],
             [
              0.2222222222222222,
              "#7201a8"
             ],
             [
              0.3333333333333333,
              "#9c179e"
             ],
             [
              0.4444444444444444,
              "#bd3786"
             ],
             [
              0.5555555555555556,
              "#d8576b"
             ],
             [
              0.6666666666666666,
              "#ed7953"
             ],
             [
              0.7777777777777778,
              "#fb9f3a"
             ],
             [
              0.8888888888888888,
              "#fdca26"
             ],
             [
              1,
              "#f0f921"
             ]
            ],
            "type": "heatmap"
           }
          ],
          "heatmapgl": [
           {
            "colorbar": {
             "outlinewidth": 0,
             "ticks": ""
            },
            "colorscale": [
             [
              0,
              "#0d0887"
             ],
             [
              0.1111111111111111,
              "#46039f"
             ],
             [
              0.2222222222222222,
              "#7201a8"
             ],
             [
              0.3333333333333333,
              "#9c179e"
             ],
             [
              0.4444444444444444,
              "#bd3786"
             ],
             [
              0.5555555555555556,
              "#d8576b"
             ],
             [
              0.6666666666666666,
              "#ed7953"
             ],
             [
              0.7777777777777778,
              "#fb9f3a"
             ],
             [
              0.8888888888888888,
              "#fdca26"
             ],
             [
              1,
              "#f0f921"
             ]
            ],
            "type": "heatmapgl"
           }
          ],
          "histogram": [
           {
            "marker": {
             "colorbar": {
              "outlinewidth": 0,
              "ticks": ""
             }
            },
            "type": "histogram"
           }
          ],
          "histogram2d": [
           {
            "colorbar": {
             "outlinewidth": 0,
             "ticks": ""
            },
            "colorscale": [
             [
              0,
              "#0d0887"
             ],
             [
              0.1111111111111111,
              "#46039f"
             ],
             [
              0.2222222222222222,
              "#7201a8"
             ],
             [
              0.3333333333333333,
              "#9c179e"
             ],
             [
              0.4444444444444444,
              "#bd3786"
             ],
             [
              0.5555555555555556,
              "#d8576b"
             ],
             [
              0.6666666666666666,
              "#ed7953"
             ],
             [
              0.7777777777777778,
              "#fb9f3a"
             ],
             [
              0.8888888888888888,
              "#fdca26"
             ],
             [
              1,
              "#f0f921"
             ]
            ],
            "type": "histogram2d"
           }
          ],
          "histogram2dcontour": [
           {
            "colorbar": {
             "outlinewidth": 0,
             "ticks": ""
            },
            "colorscale": [
             [
              0,
              "#0d0887"
             ],
             [
              0.1111111111111111,
              "#46039f"
             ],
             [
              0.2222222222222222,
              "#7201a8"
             ],
             [
              0.3333333333333333,
              "#9c179e"
             ],
             [
              0.4444444444444444,
              "#bd3786"
             ],
             [
              0.5555555555555556,
              "#d8576b"
             ],
             [
              0.6666666666666666,
              "#ed7953"
             ],
             [
              0.7777777777777778,
              "#fb9f3a"
             ],
             [
              0.8888888888888888,
              "#fdca26"
             ],
             [
              1,
              "#f0f921"
             ]
            ],
            "type": "histogram2dcontour"
           }
          ],
          "mesh3d": [
           {
            "colorbar": {
             "outlinewidth": 0,
             "ticks": ""
            },
            "type": "mesh3d"
           }
          ],
          "parcoords": [
           {
            "line": {
             "colorbar": {
              "outlinewidth": 0,
              "ticks": ""
             }
            },
            "type": "parcoords"
           }
          ],
          "pie": [
           {
            "automargin": true,
            "type": "pie"
           }
          ],
          "scatter": [
           {
            "marker": {
             "colorbar": {
              "outlinewidth": 0,
              "ticks": ""
             }
            },
            "type": "scatter"
           }
          ],
          "scatter3d": [
           {
            "line": {
             "colorbar": {
              "outlinewidth": 0,
              "ticks": ""
             }
            },
            "marker": {
             "colorbar": {
              "outlinewidth": 0,
              "ticks": ""
             }
            },
            "type": "scatter3d"
           }
          ],
          "scattercarpet": [
           {
            "marker": {
             "colorbar": {
              "outlinewidth": 0,
              "ticks": ""
             }
            },
            "type": "scattercarpet"
           }
          ],
          "scattergeo": [
           {
            "marker": {
             "colorbar": {
              "outlinewidth": 0,
              "ticks": ""
             }
            },
            "type": "scattergeo"
           }
          ],
          "scattergl": [
           {
            "marker": {
             "colorbar": {
              "outlinewidth": 0,
              "ticks": ""
             }
            },
            "type": "scattergl"
           }
          ],
          "scattermapbox": [
           {
            "marker": {
             "colorbar": {
              "outlinewidth": 0,
              "ticks": ""
             }
            },
            "type": "scattermapbox"
           }
          ],
          "scatterpolar": [
           {
            "marker": {
             "colorbar": {
              "outlinewidth": 0,
              "ticks": ""
             }
            },
            "type": "scatterpolar"
           }
          ],
          "scatterpolargl": [
           {
            "marker": {
             "colorbar": {
              "outlinewidth": 0,
              "ticks": ""
             }
            },
            "type": "scatterpolargl"
           }
          ],
          "scatterternary": [
           {
            "marker": {
             "colorbar": {
              "outlinewidth": 0,
              "ticks": ""
             }
            },
            "type": "scatterternary"
           }
          ],
          "surface": [
           {
            "colorbar": {
             "outlinewidth": 0,
             "ticks": ""
            },
            "colorscale": [
             [
              0,
              "#0d0887"
             ],
             [
              0.1111111111111111,
              "#46039f"
             ],
             [
              0.2222222222222222,
              "#7201a8"
             ],
             [
              0.3333333333333333,
              "#9c179e"
             ],
             [
              0.4444444444444444,
              "#bd3786"
             ],
             [
              0.5555555555555556,
              "#d8576b"
             ],
             [
              0.6666666666666666,
              "#ed7953"
             ],
             [
              0.7777777777777778,
              "#fb9f3a"
             ],
             [
              0.8888888888888888,
              "#fdca26"
             ],
             [
              1,
              "#f0f921"
             ]
            ],
            "type": "surface"
           }
          ],
          "table": [
           {
            "cells": {
             "fill": {
              "color": "#EBF0F8"
             },
             "line": {
              "color": "white"
             }
            },
            "header": {
             "fill": {
              "color": "#C8D4E3"
             },
             "line": {
              "color": "white"
             }
            },
            "type": "table"
           }
          ]
         },
         "layout": {
          "annotationdefaults": {
           "arrowcolor": "#2a3f5f",
           "arrowhead": 0,
           "arrowwidth": 1
          },
          "autotypenumbers": "strict",
          "coloraxis": {
           "colorbar": {
            "outlinewidth": 0,
            "ticks": ""
           }
          },
          "colorscale": {
           "diverging": [
            [
             0,
             "#8e0152"
            ],
            [
             0.1,
             "#c51b7d"
            ],
            [
             0.2,
             "#de77ae"
            ],
            [
             0.3,
             "#f1b6da"
            ],
            [
             0.4,
             "#fde0ef"
            ],
            [
             0.5,
             "#f7f7f7"
            ],
            [
             0.6,
             "#e6f5d0"
            ],
            [
             0.7,
             "#b8e186"
            ],
            [
             0.8,
             "#7fbc41"
            ],
            [
             0.9,
             "#4d9221"
            ],
            [
             1,
             "#276419"
            ]
           ],
           "sequential": [
            [
             0,
             "#0d0887"
            ],
            [
             0.1111111111111111,
             "#46039f"
            ],
            [
             0.2222222222222222,
             "#7201a8"
            ],
            [
             0.3333333333333333,
             "#9c179e"
            ],
            [
             0.4444444444444444,
             "#bd3786"
            ],
            [
             0.5555555555555556,
             "#d8576b"
            ],
            [
             0.6666666666666666,
             "#ed7953"
            ],
            [
             0.7777777777777778,
             "#fb9f3a"
            ],
            [
             0.8888888888888888,
             "#fdca26"
            ],
            [
             1,
             "#f0f921"
            ]
           ],
           "sequentialminus": [
            [
             0,
             "#0d0887"
            ],
            [
             0.1111111111111111,
             "#46039f"
            ],
            [
             0.2222222222222222,
             "#7201a8"
            ],
            [
             0.3333333333333333,
             "#9c179e"
            ],
            [
             0.4444444444444444,
             "#bd3786"
            ],
            [
             0.5555555555555556,
             "#d8576b"
            ],
            [
             0.6666666666666666,
             "#ed7953"
            ],
            [
             0.7777777777777778,
             "#fb9f3a"
            ],
            [
             0.8888888888888888,
             "#fdca26"
            ],
            [
             1,
             "#f0f921"
            ]
           ]
          },
          "colorway": [
           "#636efa",
           "#EF553B",
           "#00cc96",
           "#ab63fa",
           "#FFA15A",
           "#19d3f3",
           "#FF6692",
           "#B6E880",
           "#FF97FF",
           "#FECB52"
          ],
          "font": {
           "color": "#2a3f5f"
          },
          "geo": {
           "bgcolor": "white",
           "lakecolor": "white",
           "landcolor": "#E5ECF6",
           "showlakes": true,
           "showland": true,
           "subunitcolor": "white"
          },
          "hoverlabel": {
           "align": "left"
          },
          "hovermode": "closest",
          "mapbox": {
           "style": "light"
          },
          "paper_bgcolor": "white",
          "plot_bgcolor": "#E5ECF6",
          "polar": {
           "angularaxis": {
            "gridcolor": "white",
            "linecolor": "white",
            "ticks": ""
           },
           "bgcolor": "#E5ECF6",
           "radialaxis": {
            "gridcolor": "white",
            "linecolor": "white",
            "ticks": ""
           }
          },
          "scene": {
           "xaxis": {
            "backgroundcolor": "#E5ECF6",
            "gridcolor": "white",
            "gridwidth": 2,
            "linecolor": "white",
            "showbackground": true,
            "ticks": "",
            "zerolinecolor": "white"
           },
           "yaxis": {
            "backgroundcolor": "#E5ECF6",
            "gridcolor": "white",
            "gridwidth": 2,
            "linecolor": "white",
            "showbackground": true,
            "ticks": "",
            "zerolinecolor": "white"
           },
           "zaxis": {
            "backgroundcolor": "#E5ECF6",
            "gridcolor": "white",
            "gridwidth": 2,
            "linecolor": "white",
            "showbackground": true,
            "ticks": "",
            "zerolinecolor": "white"
           }
          },
          "shapedefaults": {
           "line": {
            "color": "#2a3f5f"
           }
          },
          "ternary": {
           "aaxis": {
            "gridcolor": "white",
            "linecolor": "white",
            "ticks": ""
           },
           "baxis": {
            "gridcolor": "white",
            "linecolor": "white",
            "ticks": ""
           },
           "bgcolor": "#E5ECF6",
           "caxis": {
            "gridcolor": "white",
            "linecolor": "white",
            "ticks": ""
           }
          },
          "title": {
           "x": 0.05
          },
          "xaxis": {
           "automargin": true,
           "gridcolor": "white",
           "linecolor": "white",
           "ticks": "",
           "title": {
            "standoff": 15
           },
           "zerolinecolor": "white",
           "zerolinewidth": 2
          },
          "yaxis": {
           "automargin": true,
           "gridcolor": "white",
           "linecolor": "white",
           "ticks": "",
           "title": {
            "standoff": 15
           },
           "zerolinecolor": "white",
           "zerolinewidth": 2
          }
         }
        },
        "title": {
         "font": {
          "color": "#4D5663"
         }
        },
        "xaxis": {
         "gridcolor": "#E1E5ED",
         "showgrid": true,
         "tickfont": {
          "color": "#4D5663"
         },
         "title": {
          "font": {
           "color": "#4D5663"
          },
          "text": ""
         },
         "zerolinecolor": "#E1E5ED"
        },
        "yaxis": {
         "gridcolor": "#E1E5ED",
         "showgrid": true,
         "tickfont": {
          "color": "#4D5663"
         },
         "title": {
          "font": {
           "color": "#4D5663"
          },
          "text": ""
         },
         "zerolinecolor": "#E1E5ED"
        }
       }
      },
      "text/html": [
       "<div>                            <div id=\"aa593e9c-d662-4b65-8ee5-09650dedc815\" class=\"plotly-graph-div\" style=\"height:525px; width:100%;\"></div>            <script type=\"text/javascript\">                require([\"plotly\"], function(Plotly) {                    window.PLOTLYENV=window.PLOTLYENV || {};\n",
       "                    window.PLOTLYENV.BASE_URL='https://plot.ly';                                    if (document.getElementById(\"aa593e9c-d662-4b65-8ee5-09650dedc815\")) {                    Plotly.newPlot(                        \"aa593e9c-d662-4b65-8ee5-09650dedc815\",                        [{\"line\": {\"color\": \"rgba(255, 153, 51, 1.0)\", \"dash\": \"solid\", \"shape\": \"linear\", \"width\": 1.3}, \"mode\": \"lines\", \"name\": \"A\", \"text\": \"\", \"type\": \"scatter\", \"x\": [0, 1, 2, 3, 4, 5, 6, 7, 8, 9, 10, 11, 12, 13, 14, 15, 16, 17, 18, 19, 20, 21, 22, 23, 24, 25, 26, 27, 28, 29, 30, 31, 32, 33, 34, 35, 36, 37, 38, 39, 40, 41, 42, 43, 44, 45, 46, 47, 48, 49, 50, 51, 52, 53, 54, 55, 56, 57, 58, 59, 60, 61, 62, 63, 64, 65, 66, 67, 68, 69, 70, 71, 72, 73, 74, 75, 76, 77, 78, 79, 80, 81, 82, 83, 84, 85, 86, 87, 88, 89, 90, 91, 92, 93, 94, 95, 96, 97, 98, 99], \"y\": [0.8117593057455418, 1.0938335899028273, -1.0585659298583676, -0.7565092780915293, -0.8737804160242374, 0.49720620851023956, -0.05410565400864815, -0.6411684703077976, -1.3203430346156904, 0.9973577381839706, 1.6028753545402314, -1.1916652422681018, 0.40354438815212035, 0.6125420071975703, 0.40352165749994223, -0.2865942492878363, -1.1847487550910498, 1.0591622443127071, 0.23802489749265793, 0.015011595859583247, -0.13244541481894054, 0.09260540316312997, 0.8407229843097053, 0.536520778253444, 1.381727326217422, 0.8079404083705898, -1.000647364659804, 0.10341628797925384, -0.9833980902025061, -0.22875629172502226, 0.6814810862972287, 0.7185771131397225, 1.834142343624583, -0.3478223470247949, 0.054370316002024285, 0.08536335126478993, 0.5918070923638621, -0.3992623365561799, -0.0439918570438183, -0.3279251888936415, 0.9896076785386166, 2.44365995679159, 1.016398299111544, -0.9762615747203973, 0.2878346645227675, -0.7384220972355146, 0.027921576560273234, -0.256158774203129, -0.5203261221152697, 1.4531086760717467, 0.010486794339953733, 1.0789516948150542, 1.3764419255186455, 0.007672691729570908, 0.9910424454519633, 0.40088688059996064, -0.5207890053899487, 1.0670972153140525, -0.9196060186380659, -0.373150698349545, 0.8382043933487532, 2.132303914601843, -1.298672917318817, -0.30614865834499444, -0.0351548736403371, -1.5601649907701984, -1.192868035894293, 0.20391618148623994, -0.5867006654380617, -0.6068487046457063, -0.9198323410420188, 0.2948917172718335, 0.6014272004012783, 0.8543222772060785, 0.04314622513368861, -0.20090613491520168, 0.0888363908170916, -1.888692729290511, 0.8764059270357962, -2.3048883781116256, -1.4231094830615676, 0.6475540872500007, -0.34391726981094667, -1.3441074003143008, -0.5622283652111137, -0.5282793985048376, 0.3421903691170103, 0.01788359005556727, 0.5442436521650769, 0.4673436205667279, -0.44241087079920166, -0.844589462490869, 0.13811890616692252, -1.157391938774541, 0.38866164107263657, -0.09627814654844286, 0.5987485810090317, -1.7070211835244629, -1.5476172666778762, -0.18234982213263456]}, {\"line\": {\"color\": \"rgba(55, 128, 191, 1.0)\", \"dash\": \"solid\", \"shape\": \"linear\", \"width\": 1.3}, \"mode\": \"lines\", \"name\": \"B\", \"text\": \"\", \"type\": \"scatter\", \"x\": [0, 1, 2, 3, 4, 5, 6, 7, 8, 9, 10, 11, 12, 13, 14, 15, 16, 17, 18, 19, 20, 21, 22, 23, 24, 25, 26, 27, 28, 29, 30, 31, 32, 33, 34, 35, 36, 37, 38, 39, 40, 41, 42, 43, 44, 45, 46, 47, 48, 49, 50, 51, 52, 53, 54, 55, 56, 57, 58, 59, 60, 61, 62, 63, 64, 65, 66, 67, 68, 69, 70, 71, 72, 73, 74, 75, 76, 77, 78, 79, 80, 81, 82, 83, 84, 85, 86, 87, 88, 89, 90, 91, 92, 93, 94, 95, 96, 97, 98, 99], \"y\": [-1.7280711542954839, -1.1957084908846969, -0.7609003319251163, -0.8992202098353379, -0.40759782195937266, 0.3338227550881855, -1.7552544530126335, 0.33671060102766237, 0.11882245344996673, 1.0009417392044908, -0.6126029170262892, 0.012629495531698906, 0.5844404267707572, -0.7801056333554419, -0.11628176579062487, -0.7443093307194818, -0.609038484879578, 0.7045921425873652, -0.20297686329122008, 0.38936536186420045, -0.8656957235188297, 0.5218740284695094, -0.02639133861806917, -0.157081527005404, 0.49835828814276667, 0.1868056404627085, 1.2009795821673648, -1.3232312185931183, 0.9088142313487576, 0.8787095179783736, -0.44895216928939347, 0.6356159861601131, -1.3769127950150544, -0.7387276479668221, -0.2145695384485341, -0.6198482340314376, 0.9652006948550529, -0.24845735013975825, 2.42504495654557, 0.4906110653256236, -1.5551389642240225, -0.33660869532572696, 0.5503182641988837, 1.7731598764124714, -0.1968426735354632, -1.0155940494130329, 1.2490340867757117, -0.30573998105255223, 0.47985946549874153, -0.050816644102438684, -0.6442831416001048, 0.16765682288159306, 0.7337456646161149, 2.001103614551314, -0.5292552281440623, -1.8647810755078456, 1.9105934394240418, 0.7707738626690032, -0.6417282554150975, -0.6016515617430954, -0.13819784867074889, 0.42922706691247703, -0.12713140247587473, 2.383052527425673, 0.8479308379923014, 1.2696925447566962, 0.4896738390243203, 1.965671283177073, -1.2531922399694222, -1.6038981436887285, -0.3554959605341899, -0.3215191371199448, -0.9596791954686859, -1.7621888116909716, 0.6323443405359207, 1.7463649230520057, -1.7024413428289735, 1.9942334406357414, 0.31648561442321377, 1.2466034668024673, -0.4100437575045897, -0.6803134059994413, 0.2743427348584373, 0.37867889712758296, -0.688862148993204, 0.2056718268725381, 0.08373444303321136, 1.0622789463144022, -0.5906005225910133, -0.19445791373657276, 1.223528477065588, -0.11096324497501499, -0.17830968692268773, 0.6039225878792442, 0.358664523742132, 0.2944432695459543, 0.01651903069129188, 0.657393099169997, 1.8891319993678721, -0.13459268096634483]}, {\"line\": {\"color\": \"rgba(50, 171, 96, 1.0)\", \"dash\": \"solid\", \"shape\": \"linear\", \"width\": 1.3}, \"mode\": \"lines\", \"name\": \"C\", \"text\": \"\", \"type\": \"scatter\", \"x\": [0, 1, 2, 3, 4, 5, 6, 7, 8, 9, 10, 11, 12, 13, 14, 15, 16, 17, 18, 19, 20, 21, 22, 23, 24, 25, 26, 27, 28, 29, 30, 31, 32, 33, 34, 35, 36, 37, 38, 39, 40, 41, 42, 43, 44, 45, 46, 47, 48, 49, 50, 51, 52, 53, 54, 55, 56, 57, 58, 59, 60, 61, 62, 63, 64, 65, 66, 67, 68, 69, 70, 71, 72, 73, 74, 75, 76, 77, 78, 79, 80, 81, 82, 83, 84, 85, 86, 87, 88, 89, 90, 91, 92, 93, 94, 95, 96, 97, 98, 99], \"y\": [-0.3256741148215648, -0.2974989144591323, -1.3765817053103728, 0.07368953609353383, 0.24014838359270785, -0.013475904224632317, -0.8980578995672214, 0.9724674121606918, 0.5659632954367466, -0.295313464992177, -0.8225731853715427, 0.23212713356048123, 0.28034982459068314, -0.16420664429915122, -0.4636411244981629, 0.6366371457276797, -1.0350709308403871, 0.1347717929481551, 0.12003672134189629, -0.5891206867628873, 1.4274602984520415, -0.005175917284646751, 0.13706789461970617, 1.9166465523886869, -1.5925875397106002, -0.1317008956627029, 0.40046677515356177, -0.1722752457178248, -1.7324426409508658, -0.9453151659690919, -0.014756918886460335, 1.0912231793506737, 0.9289871156022677, -0.2871474470023052, -0.38447369165905454, 0.22067425667042453, 0.04776324581646775, -0.5215532673347455, -0.07227833269098818, 0.05887856516233382, 0.6335347514564964, -0.025756395456760808, 1.2948621076848152, -1.2936962203252602, 0.03912297967270034, 0.04735643371307412, 1.1621121114562054, -2.057380715403768, -0.7848502996021651, -1.0900732849786468, -0.16188391437168836, -0.43055845418098626, -0.4646596079221264, -1.5396995076786053, 0.0781591663142975, -0.3460124187409642, 0.9082649156934579, -3.519701887898581, 1.9859831212379346, -0.3058771765003051, -0.30474549195098016, 0.616361762117754, -0.8272802860377928, -0.6912722021752007, 0.8003871023869402, -0.3734971412704398, -1.6815424824149545, -1.036857578439765, -2.288429258462322, 0.657500256255855, -0.017331117686897313, 0.7283645252794371, 0.2155780132220932, -1.5130430259380467, -0.6011291459671154, -0.08373852369121071, 0.3127232095843196, 0.037374790640371434, 0.16193335430078282, 0.5226995387135773, -1.7018867292463795, -2.1152308455492355, -2.712479916594341, 0.7228750612825968, -0.818324066145602, 0.8939765716292348, -0.05789164671953331, -1.3795470900020006, 0.07988989894605827, 1.5381149527079176, 1.0222562535942872, 1.1583928621967094, -0.523316481090315, 0.14331442214000828, -0.09981001139877496, 0.9845173777736983, 0.7488967029261225, 1.453959987663088, -0.29409955976263585, -1.3627632910407854]}, {\"line\": {\"color\": \"rgba(128, 0, 128, 1.0)\", \"dash\": \"solid\", \"shape\": \"linear\", \"width\": 1.3}, \"mode\": \"lines\", \"name\": \"D\", \"text\": \"\", \"type\": \"scatter\", \"x\": [0, 1, 2, 3, 4, 5, 6, 7, 8, 9, 10, 11, 12, 13, 14, 15, 16, 17, 18, 19, 20, 21, 22, 23, 24, 25, 26, 27, 28, 29, 30, 31, 32, 33, 34, 35, 36, 37, 38, 39, 40, 41, 42, 43, 44, 45, 46, 47, 48, 49, 50, 51, 52, 53, 54, 55, 56, 57, 58, 59, 60, 61, 62, 63, 64, 65, 66, 67, 68, 69, 70, 71, 72, 73, 74, 75, 76, 77, 78, 79, 80, 81, 82, 83, 84, 85, 86, 87, 88, 89, 90, 91, 92, 93, 94, 95, 96, 97, 98, 99], \"y\": [-1.513760601123315, -0.5136897680691328, 0.6226717483312474, 0.3769811071308463, 0.5139753366277028, -0.7530504477347479, -3.2163785953901756, -1.3600401806186941, -1.4303257064294035, 2.178535939838147, 1.4002787894897664, -1.2409526621642029, -2.649399750260464, 0.6397243862884993, -0.007639884550598591, -0.6275628111276064, -0.7062302165898209, -0.22010170214855332, 0.884870449011603, -0.31067016845131756, 0.3086591492017006, -0.20983883425192482, -1.3677440673424548, 0.0629385405414221, -0.2993158587565532, 1.9337526954105797, 0.512675069538471, 0.21526470832327518, 0.9729874259884324, 0.31791632190526664, -0.01199666522180835, -0.7108133682472048, -0.6739030487700897, -0.917265329404924, -0.48253710712664527, 0.014134969395050804, 0.5449436108744, 0.3836040087234892, 0.2596368344985003, 1.9713448721843034, -0.9171685601268311, -0.757520914368115, -0.8769638644133537, -0.8732372378624086, -1.1293281100863204, -1.0420861511242716, -0.5846388188311241, -0.6271507115464479, -0.04765187622916353, 1.0799499229116096, -0.8073787687828899, 0.27562772471878855, 1.1060250498144863, 0.8311040948495871, 1.6960405048329603, 1.2828788681425038, 1.5138000448006266, 0.6707111412918514, -1.9997419880887646, 1.7701706097153238, 1.2356522034866262, -0.5362635306181747, 0.09653393950659139, 1.0581509410925423, -0.5136125296935253, 2.058170352864349, 1.2232830358330122, -0.45799837571571006, 1.035122540550178, 0.8206984993653632, -0.8609052101215563, -1.785312704171346, -1.504191292709429, -2.4533527436687192, -0.19503262367256644, 1.3996728155019018, -0.5349640078527975, -1.143110988479014, -1.3480616691373577, 0.5613640701328786, -0.41964463882470504, 0.39685766260160643, 0.6237846094084627, 1.4288291589118762, 1.3843302783191567, 0.601055243142244, 1.634185852941976, -1.44400582822833, -1.623102978000686, -0.7836784349870582, -0.6397242494716737, 0.3810748913493028, -0.2699712565753278, -0.4342451496789116, 1.9608966786174995, 1.0332286050304644, 0.36249660938042877, 0.24439535434945933, 0.052760995462130866, -1.1641479967494688]}],                        {\"legend\": {\"bgcolor\": \"#F5F6F9\", \"font\": {\"color\": \"#4D5663\"}}, \"paper_bgcolor\": \"#F5F6F9\", \"plot_bgcolor\": \"#F5F6F9\", \"template\": {\"data\": {\"bar\": [{\"error_x\": {\"color\": \"#2a3f5f\"}, \"error_y\": {\"color\": \"#2a3f5f\"}, \"marker\": {\"line\": {\"color\": \"#E5ECF6\", \"width\": 0.5}}, \"type\": \"bar\"}], \"barpolar\": [{\"marker\": {\"line\": {\"color\": \"#E5ECF6\", \"width\": 0.5}}, \"type\": \"barpolar\"}], \"carpet\": [{\"aaxis\": {\"endlinecolor\": \"#2a3f5f\", \"gridcolor\": \"white\", \"linecolor\": \"white\", \"minorgridcolor\": \"white\", \"startlinecolor\": \"#2a3f5f\"}, \"baxis\": {\"endlinecolor\": \"#2a3f5f\", \"gridcolor\": \"white\", \"linecolor\": \"white\", \"minorgridcolor\": \"white\", \"startlinecolor\": \"#2a3f5f\"}, \"type\": \"carpet\"}], \"choropleth\": [{\"colorbar\": {\"outlinewidth\": 0, \"ticks\": \"\"}, \"type\": \"choropleth\"}], \"contour\": [{\"colorbar\": {\"outlinewidth\": 0, \"ticks\": \"\"}, \"colorscale\": [[0.0, \"#0d0887\"], [0.1111111111111111, \"#46039f\"], [0.2222222222222222, \"#7201a8\"], [0.3333333333333333, \"#9c179e\"], [0.4444444444444444, \"#bd3786\"], [0.5555555555555556, \"#d8576b\"], [0.6666666666666666, \"#ed7953\"], [0.7777777777777778, \"#fb9f3a\"], [0.8888888888888888, \"#fdca26\"], [1.0, \"#f0f921\"]], \"type\": \"contour\"}], \"contourcarpet\": [{\"colorbar\": {\"outlinewidth\": 0, \"ticks\": \"\"}, \"type\": \"contourcarpet\"}], \"heatmap\": [{\"colorbar\": {\"outlinewidth\": 0, \"ticks\": \"\"}, \"colorscale\": [[0.0, \"#0d0887\"], [0.1111111111111111, \"#46039f\"], [0.2222222222222222, \"#7201a8\"], [0.3333333333333333, \"#9c179e\"], [0.4444444444444444, \"#bd3786\"], [0.5555555555555556, \"#d8576b\"], [0.6666666666666666, \"#ed7953\"], [0.7777777777777778, \"#fb9f3a\"], [0.8888888888888888, \"#fdca26\"], [1.0, \"#f0f921\"]], \"type\": \"heatmap\"}], \"heatmapgl\": [{\"colorbar\": {\"outlinewidth\": 0, \"ticks\": \"\"}, \"colorscale\": [[0.0, \"#0d0887\"], [0.1111111111111111, \"#46039f\"], [0.2222222222222222, \"#7201a8\"], [0.3333333333333333, \"#9c179e\"], [0.4444444444444444, \"#bd3786\"], [0.5555555555555556, \"#d8576b\"], [0.6666666666666666, \"#ed7953\"], [0.7777777777777778, \"#fb9f3a\"], [0.8888888888888888, \"#fdca26\"], [1.0, \"#f0f921\"]], \"type\": \"heatmapgl\"}], \"histogram\": [{\"marker\": {\"colorbar\": {\"outlinewidth\": 0, \"ticks\": \"\"}}, \"type\": \"histogram\"}], \"histogram2d\": [{\"colorbar\": {\"outlinewidth\": 0, \"ticks\": \"\"}, \"colorscale\": [[0.0, \"#0d0887\"], [0.1111111111111111, \"#46039f\"], [0.2222222222222222, \"#7201a8\"], [0.3333333333333333, \"#9c179e\"], [0.4444444444444444, \"#bd3786\"], [0.5555555555555556, \"#d8576b\"], [0.6666666666666666, \"#ed7953\"], [0.7777777777777778, \"#fb9f3a\"], [0.8888888888888888, \"#fdca26\"], [1.0, \"#f0f921\"]], \"type\": \"histogram2d\"}], \"histogram2dcontour\": [{\"colorbar\": {\"outlinewidth\": 0, \"ticks\": \"\"}, \"colorscale\": [[0.0, \"#0d0887\"], [0.1111111111111111, \"#46039f\"], [0.2222222222222222, \"#7201a8\"], [0.3333333333333333, \"#9c179e\"], [0.4444444444444444, \"#bd3786\"], [0.5555555555555556, \"#d8576b\"], [0.6666666666666666, \"#ed7953\"], [0.7777777777777778, \"#fb9f3a\"], [0.8888888888888888, \"#fdca26\"], [1.0, \"#f0f921\"]], \"type\": \"histogram2dcontour\"}], \"mesh3d\": [{\"colorbar\": {\"outlinewidth\": 0, \"ticks\": \"\"}, \"type\": \"mesh3d\"}], \"parcoords\": [{\"line\": {\"colorbar\": {\"outlinewidth\": 0, \"ticks\": \"\"}}, \"type\": \"parcoords\"}], \"pie\": [{\"automargin\": true, \"type\": \"pie\"}], \"scatter\": [{\"marker\": {\"colorbar\": {\"outlinewidth\": 0, \"ticks\": \"\"}}, \"type\": \"scatter\"}], \"scatter3d\": [{\"line\": {\"colorbar\": {\"outlinewidth\": 0, \"ticks\": \"\"}}, \"marker\": {\"colorbar\": {\"outlinewidth\": 0, \"ticks\": \"\"}}, \"type\": \"scatter3d\"}], \"scattercarpet\": [{\"marker\": {\"colorbar\": {\"outlinewidth\": 0, \"ticks\": \"\"}}, \"type\": \"scattercarpet\"}], \"scattergeo\": [{\"marker\": {\"colorbar\": {\"outlinewidth\": 0, \"ticks\": \"\"}}, \"type\": \"scattergeo\"}], \"scattergl\": [{\"marker\": {\"colorbar\": {\"outlinewidth\": 0, \"ticks\": \"\"}}, \"type\": \"scattergl\"}], \"scattermapbox\": [{\"marker\": {\"colorbar\": {\"outlinewidth\": 0, \"ticks\": \"\"}}, \"type\": \"scattermapbox\"}], \"scatterpolar\": [{\"marker\": {\"colorbar\": {\"outlinewidth\": 0, \"ticks\": \"\"}}, \"type\": \"scatterpolar\"}], \"scatterpolargl\": [{\"marker\": {\"colorbar\": {\"outlinewidth\": 0, \"ticks\": \"\"}}, \"type\": \"scatterpolargl\"}], \"scatterternary\": [{\"marker\": {\"colorbar\": {\"outlinewidth\": 0, \"ticks\": \"\"}}, \"type\": \"scatterternary\"}], \"surface\": [{\"colorbar\": {\"outlinewidth\": 0, \"ticks\": \"\"}, \"colorscale\": [[0.0, \"#0d0887\"], [0.1111111111111111, \"#46039f\"], [0.2222222222222222, \"#7201a8\"], [0.3333333333333333, \"#9c179e\"], [0.4444444444444444, \"#bd3786\"], [0.5555555555555556, \"#d8576b\"], [0.6666666666666666, \"#ed7953\"], [0.7777777777777778, \"#fb9f3a\"], [0.8888888888888888, \"#fdca26\"], [1.0, \"#f0f921\"]], \"type\": \"surface\"}], \"table\": [{\"cells\": {\"fill\": {\"color\": \"#EBF0F8\"}, \"line\": {\"color\": \"white\"}}, \"header\": {\"fill\": {\"color\": \"#C8D4E3\"}, \"line\": {\"color\": \"white\"}}, \"type\": \"table\"}]}, \"layout\": {\"annotationdefaults\": {\"arrowcolor\": \"#2a3f5f\", \"arrowhead\": 0, \"arrowwidth\": 1}, \"autotypenumbers\": \"strict\", \"coloraxis\": {\"colorbar\": {\"outlinewidth\": 0, \"ticks\": \"\"}}, \"colorscale\": {\"diverging\": [[0, \"#8e0152\"], [0.1, \"#c51b7d\"], [0.2, \"#de77ae\"], [0.3, \"#f1b6da\"], [0.4, \"#fde0ef\"], [0.5, \"#f7f7f7\"], [0.6, \"#e6f5d0\"], [0.7, \"#b8e186\"], [0.8, \"#7fbc41\"], [0.9, \"#4d9221\"], [1, \"#276419\"]], \"sequential\": [[0.0, \"#0d0887\"], [0.1111111111111111, \"#46039f\"], [0.2222222222222222, \"#7201a8\"], [0.3333333333333333, \"#9c179e\"], [0.4444444444444444, \"#bd3786\"], [0.5555555555555556, \"#d8576b\"], [0.6666666666666666, \"#ed7953\"], [0.7777777777777778, \"#fb9f3a\"], [0.8888888888888888, \"#fdca26\"], [1.0, \"#f0f921\"]], \"sequentialminus\": [[0.0, \"#0d0887\"], [0.1111111111111111, \"#46039f\"], [0.2222222222222222, \"#7201a8\"], [0.3333333333333333, \"#9c179e\"], [0.4444444444444444, \"#bd3786\"], [0.5555555555555556, \"#d8576b\"], [0.6666666666666666, \"#ed7953\"], [0.7777777777777778, \"#fb9f3a\"], [0.8888888888888888, \"#fdca26\"], [1.0, \"#f0f921\"]]}, \"colorway\": [\"#636efa\", \"#EF553B\", \"#00cc96\", \"#ab63fa\", \"#FFA15A\", \"#19d3f3\", \"#FF6692\", \"#B6E880\", \"#FF97FF\", \"#FECB52\"], \"font\": {\"color\": \"#2a3f5f\"}, \"geo\": {\"bgcolor\": \"white\", \"lakecolor\": \"white\", \"landcolor\": \"#E5ECF6\", \"showlakes\": true, \"showland\": true, \"subunitcolor\": \"white\"}, \"hoverlabel\": {\"align\": \"left\"}, \"hovermode\": \"closest\", \"mapbox\": {\"style\": \"light\"}, \"paper_bgcolor\": \"white\", \"plot_bgcolor\": \"#E5ECF6\", \"polar\": {\"angularaxis\": {\"gridcolor\": \"white\", \"linecolor\": \"white\", \"ticks\": \"\"}, \"bgcolor\": \"#E5ECF6\", \"radialaxis\": {\"gridcolor\": \"white\", \"linecolor\": \"white\", \"ticks\": \"\"}}, \"scene\": {\"xaxis\": {\"backgroundcolor\": \"#E5ECF6\", \"gridcolor\": \"white\", \"gridwidth\": 2, \"linecolor\": \"white\", \"showbackground\": true, \"ticks\": \"\", \"zerolinecolor\": \"white\"}, \"yaxis\": {\"backgroundcolor\": \"#E5ECF6\", \"gridcolor\": \"white\", \"gridwidth\": 2, \"linecolor\": \"white\", \"showbackground\": true, \"ticks\": \"\", \"zerolinecolor\": \"white\"}, \"zaxis\": {\"backgroundcolor\": \"#E5ECF6\", \"gridcolor\": \"white\", \"gridwidth\": 2, \"linecolor\": \"white\", \"showbackground\": true, \"ticks\": \"\", \"zerolinecolor\": \"white\"}}, \"shapedefaults\": {\"line\": {\"color\": \"#2a3f5f\"}}, \"ternary\": {\"aaxis\": {\"gridcolor\": \"white\", \"linecolor\": \"white\", \"ticks\": \"\"}, \"baxis\": {\"gridcolor\": \"white\", \"linecolor\": \"white\", \"ticks\": \"\"}, \"bgcolor\": \"#E5ECF6\", \"caxis\": {\"gridcolor\": \"white\", \"linecolor\": \"white\", \"ticks\": \"\"}}, \"title\": {\"x\": 0.05}, \"xaxis\": {\"automargin\": true, \"gridcolor\": \"white\", \"linecolor\": \"white\", \"ticks\": \"\", \"title\": {\"standoff\": 15}, \"zerolinecolor\": \"white\", \"zerolinewidth\": 2}, \"yaxis\": {\"automargin\": true, \"gridcolor\": \"white\", \"linecolor\": \"white\", \"ticks\": \"\", \"title\": {\"standoff\": 15}, \"zerolinecolor\": \"white\", \"zerolinewidth\": 2}}}, \"title\": {\"font\": {\"color\": \"#4D5663\"}}, \"xaxis\": {\"gridcolor\": \"#E1E5ED\", \"showgrid\": true, \"tickfont\": {\"color\": \"#4D5663\"}, \"title\": {\"font\": {\"color\": \"#4D5663\"}, \"text\": \"\"}, \"zerolinecolor\": \"#E1E5ED\"}, \"yaxis\": {\"gridcolor\": \"#E1E5ED\", \"showgrid\": true, \"tickfont\": {\"color\": \"#4D5663\"}, \"title\": {\"font\": {\"color\": \"#4D5663\"}, \"text\": \"\"}, \"zerolinecolor\": \"#E1E5ED\"}},                        {\"showLink\": true, \"linkText\": \"Export to plot.ly\", \"plotlyServerURL\": \"https://plot.ly\", \"responsive\": true}                    ).then(function(){\n",
       "                            \n",
       "var gd = document.getElementById('aa593e9c-d662-4b65-8ee5-09650dedc815');\n",
       "var x = new MutationObserver(function (mutations, observer) {{\n",
       "        var display = window.getComputedStyle(gd).display;\n",
       "        if (!display || display === 'none') {{\n",
       "            console.log([gd, 'removed!']);\n",
       "            Plotly.purge(gd);\n",
       "            observer.disconnect();\n",
       "        }}\n",
       "}});\n",
       "\n",
       "// Listen for the removal of the full notebook cells\n",
       "var notebookContainer = gd.closest('#notebook-container');\n",
       "if (notebookContainer) {{\n",
       "    x.observe(notebookContainer, {childList: true});\n",
       "}}\n",
       "\n",
       "// Listen for the clearing of the current output cell\n",
       "var outputEl = gd.closest('.output');\n",
       "if (outputEl) {{\n",
       "    x.observe(outputEl, {childList: true});\n",
       "}}\n",
       "\n",
       "                        })                };                });            </script>        </div>"
      ]
     },
     "metadata": {},
     "output_type": "display_data"
    }
   ],
   "source": [
    "df.iplot()"
   ]
  },
  {
   "cell_type": "code",
   "execution_count": 32,
   "metadata": {},
   "outputs": [
    {
     "data": {
      "application/vnd.plotly.v1+json": {
       "config": {
        "linkText": "Export to plot.ly",
        "plotlyServerURL": "https://plot.ly",
        "showLink": true
       },
       "data": [
        {
         "line": {
          "color": "rgba(255, 153, 51, 1.0)",
          "dash": "solid",
          "shape": "linear",
          "width": 1.3
         },
         "marker": {
          "size": 12,
          "symbol": "circle"
         },
         "mode": "markers",
         "name": "B",
         "text": "",
         "type": "scatter",
         "x": [
          -0.3743792182439242,
          -1.6197326287777765,
          -1.6694241693284275,
          -0.8234720676448699,
          0.13693934194800925,
          -0.7786890259731041,
          1.2425205537238309,
          0.23661461195068445,
          0.4427518671054902,
          2.0602492413190627,
          0.17347553754917663,
          0.5272904974803029,
          1.0501036685459912,
          0.27964168711265713,
          -0.7272118486201753,
          -0.22172121217961174,
          -1.4066185696758435,
          0.14943198489384765,
          1.9432086736456875,
          2.5220657307651355,
          -1.575145667869044,
          2.106775558992982,
          0.10174098248546284,
          1.7396932489191501,
          2.074786533983352,
          -1.1987093179807613,
          -0.7165329207174465,
          2.606548254803393,
          -0.1731233457547235,
          1.0190282826591162,
          -0.8462404362171113,
          -0.013844020914462261,
          0.03325819160101085,
          1.7785315479135524,
          -0.845672667552957,
          1.2601128671438402,
          -1.8143044052327248,
          0.5970279618887205,
          -0.5769416532706793,
          -0.32364036863083556,
          0.03374636130467711,
          1.1262235526047673,
          -0.8835399735809639,
          0.06711967156865234,
          -1.4139271342518789,
          -0.6575777307138329,
          0.46229213676974534,
          1.0313703525873301,
          -0.493699775953662,
          0.7661403815389104,
          -0.17056924610476254,
          0.1903867851538594,
          -0.5971541790764131,
          1.241771128939705,
          -0.0983027365076231,
          0.09160084021308144,
          -1.9601710782173678,
          0.037315681418766455,
          0.8821219685238391,
          -0.7375779940391467,
          0.19254111855709474,
          0.6924571147549479,
          0.16154451786586277,
          -1.0727850115023716,
          -0.01649775264774975,
          -0.8049803974922969,
          -0.8398704184601684,
          0.8505246844046274,
          -0.5200062488807476,
          0.014739737631221722,
          0.12869943874606232,
          -1.392960388914175,
          0.20609619106358215,
          -0.10679886929113508,
          0.8973824818566172,
          -0.2730155117429203,
          0.7207158467228036,
          -0.43694692713810984,
          1.0219884648429,
          -0.108800476161582,
          1.165329073668084,
          -0.16302070112148123,
          0.5891703252134486,
          0.11281410046037657,
          0.4284575251522544,
          -1.9219006979808662,
          -0.6563995509383275,
          -1.43950547963843,
          -0.2762985778717633,
          3.010485863448667,
          -0.12036745273155926,
          -0.20020535022170713,
          0.31097193170068255,
          1.0109448623739885,
          -0.17848199577529572,
          0.2846917936792169,
          -0.6808365819892909,
          -1.0071421584201592,
          2.283632305623987,
          -2.1543573610817393
         ],
         "y": [
          -1.1027785660551868,
          0.29740020489597846,
          -0.43253294240382856,
          -1.1084269652229717,
          -1.6373655590184417,
          -1.0725117618110998,
          -1.9099100685608439,
          -2.0689122733051275,
          0.077918987078293,
          0.5024584203750352,
          -1.3926796764698834,
          0.3717509242747525,
          -0.8474458229363676,
          0.08737683711031544,
          -0.33133430972182576,
          -2.733316055785719,
          -0.6928824100740675,
          0.5250323944129693,
          -1.6067781687815792,
          -0.7287202006257252,
          -1.6918012487369385,
          0.3542738500682554,
          -0.1915179367997926,
          -0.29403482375669315,
          -1.4559887425614062,
          -0.45946662861286863,
          -1.0573702753899408,
          -0.13034922297969953,
          -1.5699117976686348,
          0.5481499873171011,
          -1.4685830306254732,
          -1.1806385665913264,
          -1.4156796963696252,
          1.3605077053581722,
          1.9811380136832317,
          -0.16316712319178428,
          -0.6983529403698392,
          1.1203194633607836,
          -0.378838594956958,
          2.0486437782810403,
          0.5192196076632097,
          -0.8777252263888996,
          -0.38206113714898843,
          0.012992185416119843,
          1.2929317353034275,
          0.3907851507983996,
          -1.3572897634254169,
          -0.870575384725658,
          -0.0027188992621641167,
          0.49670782282570086,
          -0.7091516270566384,
          -0.40752396773946536,
          0.5777273937905538,
          -0.028583879645875804,
          -0.686415398165249,
          -0.6632303830207483,
          0.3611285698868993,
          -1.4150766880023653,
          -0.5355969336730079,
          0.15148844935688743,
          1.4809758774301216,
          0.1341776189245072,
          2.039413314544158,
          -0.03243372323009276,
          0.022831173707126735,
          -0.841240189670404,
          -0.49541889751084567,
          0.8183400775505387,
          0.7488401406486337,
          -0.17193420847758445,
          -0.45187359053888715,
          -0.19881883509728254,
          -1.50152229425189,
          -0.35828183450124146,
          1.9630368930993207,
          1.1964489103975489,
          -0.1435270860047802,
          -0.3308275681612723,
          0.8659755734970961,
          -0.26379834794677504,
          -0.46684150154116616,
          0.4345934611912318,
          0.9143039934710501,
          -0.06561570356948355,
          -0.6767256650340361,
          -1.0259488290832,
          -0.2727313264750364,
          1.0195015218583527,
          -0.1125709709711396,
          -0.0992052156509772,
          -0.10038565402562996,
          1.182259921569917,
          0.6201037680164574,
          0.00065696719603261,
          0.4556208055782743,
          -0.9502790546247901,
          -1.0978368547782833,
          0.3992300601573083,
          0.3982763109978748,
          0.14618132688760946
         ]
        }
       ],
       "layout": {
        "legend": {
         "bgcolor": "#F5F6F9",
         "font": {
          "color": "#4D5663"
         }
        },
        "paper_bgcolor": "#F5F6F9",
        "plot_bgcolor": "#F5F6F9",
        "template": {
         "data": {
          "bar": [
           {
            "error_x": {
             "color": "#2a3f5f"
            },
            "error_y": {
             "color": "#2a3f5f"
            },
            "marker": {
             "line": {
              "color": "#E5ECF6",
              "width": 0.5
             }
            },
            "type": "bar"
           }
          ],
          "barpolar": [
           {
            "marker": {
             "line": {
              "color": "#E5ECF6",
              "width": 0.5
             }
            },
            "type": "barpolar"
           }
          ],
          "carpet": [
           {
            "aaxis": {
             "endlinecolor": "#2a3f5f",
             "gridcolor": "white",
             "linecolor": "white",
             "minorgridcolor": "white",
             "startlinecolor": "#2a3f5f"
            },
            "baxis": {
             "endlinecolor": "#2a3f5f",
             "gridcolor": "white",
             "linecolor": "white",
             "minorgridcolor": "white",
             "startlinecolor": "#2a3f5f"
            },
            "type": "carpet"
           }
          ],
          "choropleth": [
           {
            "colorbar": {
             "outlinewidth": 0,
             "ticks": ""
            },
            "type": "choropleth"
           }
          ],
          "contour": [
           {
            "colorbar": {
             "outlinewidth": 0,
             "ticks": ""
            },
            "colorscale": [
             [
              0,
              "#0d0887"
             ],
             [
              0.1111111111111111,
              "#46039f"
             ],
             [
              0.2222222222222222,
              "#7201a8"
             ],
             [
              0.3333333333333333,
              "#9c179e"
             ],
             [
              0.4444444444444444,
              "#bd3786"
             ],
             [
              0.5555555555555556,
              "#d8576b"
             ],
             [
              0.6666666666666666,
              "#ed7953"
             ],
             [
              0.7777777777777778,
              "#fb9f3a"
             ],
             [
              0.8888888888888888,
              "#fdca26"
             ],
             [
              1,
              "#f0f921"
             ]
            ],
            "type": "contour"
           }
          ],
          "contourcarpet": [
           {
            "colorbar": {
             "outlinewidth": 0,
             "ticks": ""
            },
            "type": "contourcarpet"
           }
          ],
          "heatmap": [
           {
            "colorbar": {
             "outlinewidth": 0,
             "ticks": ""
            },
            "colorscale": [
             [
              0,
              "#0d0887"
             ],
             [
              0.1111111111111111,
              "#46039f"
             ],
             [
              0.2222222222222222,
              "#7201a8"
             ],
             [
              0.3333333333333333,
              "#9c179e"
             ],
             [
              0.4444444444444444,
              "#bd3786"
             ],
             [
              0.5555555555555556,
              "#d8576b"
             ],
             [
              0.6666666666666666,
              "#ed7953"
             ],
             [
              0.7777777777777778,
              "#fb9f3a"
             ],
             [
              0.8888888888888888,
              "#fdca26"
             ],
             [
              1,
              "#f0f921"
             ]
            ],
            "type": "heatmap"
           }
          ],
          "heatmapgl": [
           {
            "colorbar": {
             "outlinewidth": 0,
             "ticks": ""
            },
            "colorscale": [
             [
              0,
              "#0d0887"
             ],
             [
              0.1111111111111111,
              "#46039f"
             ],
             [
              0.2222222222222222,
              "#7201a8"
             ],
             [
              0.3333333333333333,
              "#9c179e"
             ],
             [
              0.4444444444444444,
              "#bd3786"
             ],
             [
              0.5555555555555556,
              "#d8576b"
             ],
             [
              0.6666666666666666,
              "#ed7953"
             ],
             [
              0.7777777777777778,
              "#fb9f3a"
             ],
             [
              0.8888888888888888,
              "#fdca26"
             ],
             [
              1,
              "#f0f921"
             ]
            ],
            "type": "heatmapgl"
           }
          ],
          "histogram": [
           {
            "marker": {
             "colorbar": {
              "outlinewidth": 0,
              "ticks": ""
             }
            },
            "type": "histogram"
           }
          ],
          "histogram2d": [
           {
            "colorbar": {
             "outlinewidth": 0,
             "ticks": ""
            },
            "colorscale": [
             [
              0,
              "#0d0887"
             ],
             [
              0.1111111111111111,
              "#46039f"
             ],
             [
              0.2222222222222222,
              "#7201a8"
             ],
             [
              0.3333333333333333,
              "#9c179e"
             ],
             [
              0.4444444444444444,
              "#bd3786"
             ],
             [
              0.5555555555555556,
              "#d8576b"
             ],
             [
              0.6666666666666666,
              "#ed7953"
             ],
             [
              0.7777777777777778,
              "#fb9f3a"
             ],
             [
              0.8888888888888888,
              "#fdca26"
             ],
             [
              1,
              "#f0f921"
             ]
            ],
            "type": "histogram2d"
           }
          ],
          "histogram2dcontour": [
           {
            "colorbar": {
             "outlinewidth": 0,
             "ticks": ""
            },
            "colorscale": [
             [
              0,
              "#0d0887"
             ],
             [
              0.1111111111111111,
              "#46039f"
             ],
             [
              0.2222222222222222,
              "#7201a8"
             ],
             [
              0.3333333333333333,
              "#9c179e"
             ],
             [
              0.4444444444444444,
              "#bd3786"
             ],
             [
              0.5555555555555556,
              "#d8576b"
             ],
             [
              0.6666666666666666,
              "#ed7953"
             ],
             [
              0.7777777777777778,
              "#fb9f3a"
             ],
             [
              0.8888888888888888,
              "#fdca26"
             ],
             [
              1,
              "#f0f921"
             ]
            ],
            "type": "histogram2dcontour"
           }
          ],
          "mesh3d": [
           {
            "colorbar": {
             "outlinewidth": 0,
             "ticks": ""
            },
            "type": "mesh3d"
           }
          ],
          "parcoords": [
           {
            "line": {
             "colorbar": {
              "outlinewidth": 0,
              "ticks": ""
             }
            },
            "type": "parcoords"
           }
          ],
          "pie": [
           {
            "automargin": true,
            "type": "pie"
           }
          ],
          "scatter": [
           {
            "marker": {
             "colorbar": {
              "outlinewidth": 0,
              "ticks": ""
             }
            },
            "type": "scatter"
           }
          ],
          "scatter3d": [
           {
            "line": {
             "colorbar": {
              "outlinewidth": 0,
              "ticks": ""
             }
            },
            "marker": {
             "colorbar": {
              "outlinewidth": 0,
              "ticks": ""
             }
            },
            "type": "scatter3d"
           }
          ],
          "scattercarpet": [
           {
            "marker": {
             "colorbar": {
              "outlinewidth": 0,
              "ticks": ""
             }
            },
            "type": "scattercarpet"
           }
          ],
          "scattergeo": [
           {
            "marker": {
             "colorbar": {
              "outlinewidth": 0,
              "ticks": ""
             }
            },
            "type": "scattergeo"
           }
          ],
          "scattergl": [
           {
            "marker": {
             "colorbar": {
              "outlinewidth": 0,
              "ticks": ""
             }
            },
            "type": "scattergl"
           }
          ],
          "scattermapbox": [
           {
            "marker": {
             "colorbar": {
              "outlinewidth": 0,
              "ticks": ""
             }
            },
            "type": "scattermapbox"
           }
          ],
          "scatterpolar": [
           {
            "marker": {
             "colorbar": {
              "outlinewidth": 0,
              "ticks": ""
             }
            },
            "type": "scatterpolar"
           }
          ],
          "scatterpolargl": [
           {
            "marker": {
             "colorbar": {
              "outlinewidth": 0,
              "ticks": ""
             }
            },
            "type": "scatterpolargl"
           }
          ],
          "scatterternary": [
           {
            "marker": {
             "colorbar": {
              "outlinewidth": 0,
              "ticks": ""
             }
            },
            "type": "scatterternary"
           }
          ],
          "surface": [
           {
            "colorbar": {
             "outlinewidth": 0,
             "ticks": ""
            },
            "colorscale": [
             [
              0,
              "#0d0887"
             ],
             [
              0.1111111111111111,
              "#46039f"
             ],
             [
              0.2222222222222222,
              "#7201a8"
             ],
             [
              0.3333333333333333,
              "#9c179e"
             ],
             [
              0.4444444444444444,
              "#bd3786"
             ],
             [
              0.5555555555555556,
              "#d8576b"
             ],
             [
              0.6666666666666666,
              "#ed7953"
             ],
             [
              0.7777777777777778,
              "#fb9f3a"
             ],
             [
              0.8888888888888888,
              "#fdca26"
             ],
             [
              1,
              "#f0f921"
             ]
            ],
            "type": "surface"
           }
          ],
          "table": [
           {
            "cells": {
             "fill": {
              "color": "#EBF0F8"
             },
             "line": {
              "color": "white"
             }
            },
            "header": {
             "fill": {
              "color": "#C8D4E3"
             },
             "line": {
              "color": "white"
             }
            },
            "type": "table"
           }
          ]
         },
         "layout": {
          "annotationdefaults": {
           "arrowcolor": "#2a3f5f",
           "arrowhead": 0,
           "arrowwidth": 1
          },
          "autotypenumbers": "strict",
          "coloraxis": {
           "colorbar": {
            "outlinewidth": 0,
            "ticks": ""
           }
          },
          "colorscale": {
           "diverging": [
            [
             0,
             "#8e0152"
            ],
            [
             0.1,
             "#c51b7d"
            ],
            [
             0.2,
             "#de77ae"
            ],
            [
             0.3,
             "#f1b6da"
            ],
            [
             0.4,
             "#fde0ef"
            ],
            [
             0.5,
             "#f7f7f7"
            ],
            [
             0.6,
             "#e6f5d0"
            ],
            [
             0.7,
             "#b8e186"
            ],
            [
             0.8,
             "#7fbc41"
            ],
            [
             0.9,
             "#4d9221"
            ],
            [
             1,
             "#276419"
            ]
           ],
           "sequential": [
            [
             0,
             "#0d0887"
            ],
            [
             0.1111111111111111,
             "#46039f"
            ],
            [
             0.2222222222222222,
             "#7201a8"
            ],
            [
             0.3333333333333333,
             "#9c179e"
            ],
            [
             0.4444444444444444,
             "#bd3786"
            ],
            [
             0.5555555555555556,
             "#d8576b"
            ],
            [
             0.6666666666666666,
             "#ed7953"
            ],
            [
             0.7777777777777778,
             "#fb9f3a"
            ],
            [
             0.8888888888888888,
             "#fdca26"
            ],
            [
             1,
             "#f0f921"
            ]
           ],
           "sequentialminus": [
            [
             0,
             "#0d0887"
            ],
            [
             0.1111111111111111,
             "#46039f"
            ],
            [
             0.2222222222222222,
             "#7201a8"
            ],
            [
             0.3333333333333333,
             "#9c179e"
            ],
            [
             0.4444444444444444,
             "#bd3786"
            ],
            [
             0.5555555555555556,
             "#d8576b"
            ],
            [
             0.6666666666666666,
             "#ed7953"
            ],
            [
             0.7777777777777778,
             "#fb9f3a"
            ],
            [
             0.8888888888888888,
             "#fdca26"
            ],
            [
             1,
             "#f0f921"
            ]
           ]
          },
          "colorway": [
           "#636efa",
           "#EF553B",
           "#00cc96",
           "#ab63fa",
           "#FFA15A",
           "#19d3f3",
           "#FF6692",
           "#B6E880",
           "#FF97FF",
           "#FECB52"
          ],
          "font": {
           "color": "#2a3f5f"
          },
          "geo": {
           "bgcolor": "white",
           "lakecolor": "white",
           "landcolor": "#E5ECF6",
           "showlakes": true,
           "showland": true,
           "subunitcolor": "white"
          },
          "hoverlabel": {
           "align": "left"
          },
          "hovermode": "closest",
          "mapbox": {
           "style": "light"
          },
          "paper_bgcolor": "white",
          "plot_bgcolor": "#E5ECF6",
          "polar": {
           "angularaxis": {
            "gridcolor": "white",
            "linecolor": "white",
            "ticks": ""
           },
           "bgcolor": "#E5ECF6",
           "radialaxis": {
            "gridcolor": "white",
            "linecolor": "white",
            "ticks": ""
           }
          },
          "scene": {
           "xaxis": {
            "backgroundcolor": "#E5ECF6",
            "gridcolor": "white",
            "gridwidth": 2,
            "linecolor": "white",
            "showbackground": true,
            "ticks": "",
            "zerolinecolor": "white"
           },
           "yaxis": {
            "backgroundcolor": "#E5ECF6",
            "gridcolor": "white",
            "gridwidth": 2,
            "linecolor": "white",
            "showbackground": true,
            "ticks": "",
            "zerolinecolor": "white"
           },
           "zaxis": {
            "backgroundcolor": "#E5ECF6",
            "gridcolor": "white",
            "gridwidth": 2,
            "linecolor": "white",
            "showbackground": true,
            "ticks": "",
            "zerolinecolor": "white"
           }
          },
          "shapedefaults": {
           "line": {
            "color": "#2a3f5f"
           }
          },
          "ternary": {
           "aaxis": {
            "gridcolor": "white",
            "linecolor": "white",
            "ticks": ""
           },
           "baxis": {
            "gridcolor": "white",
            "linecolor": "white",
            "ticks": ""
           },
           "bgcolor": "#E5ECF6",
           "caxis": {
            "gridcolor": "white",
            "linecolor": "white",
            "ticks": ""
           }
          },
          "title": {
           "x": 0.05
          },
          "xaxis": {
           "automargin": true,
           "gridcolor": "white",
           "linecolor": "white",
           "ticks": "",
           "title": {
            "standoff": 15
           },
           "zerolinecolor": "white",
           "zerolinewidth": 2
          },
          "yaxis": {
           "automargin": true,
           "gridcolor": "white",
           "linecolor": "white",
           "ticks": "",
           "title": {
            "standoff": 15
           },
           "zerolinecolor": "white",
           "zerolinewidth": 2
          }
         }
        },
        "title": {
         "font": {
          "color": "#4D5663"
         }
        },
        "xaxis": {
         "gridcolor": "#E1E5ED",
         "showgrid": true,
         "tickfont": {
          "color": "#4D5663"
         },
         "title": {
          "font": {
           "color": "#4D5663"
          },
          "text": ""
         },
         "zerolinecolor": "#E1E5ED"
        },
        "yaxis": {
         "gridcolor": "#E1E5ED",
         "showgrid": true,
         "tickfont": {
          "color": "#4D5663"
         },
         "title": {
          "font": {
           "color": "#4D5663"
          },
          "text": ""
         },
         "zerolinecolor": "#E1E5ED"
        }
       }
      },
      "text/html": [
       "<div>                            <div id=\"1f052908-7cbe-471f-a580-3e44ae3b7852\" class=\"plotly-graph-div\" style=\"height:525px; width:100%;\"></div>            <script type=\"text/javascript\">                require([\"plotly\"], function(Plotly) {                    window.PLOTLYENV=window.PLOTLYENV || {};\n",
       "                    window.PLOTLYENV.BASE_URL='https://plot.ly';                                    if (document.getElementById(\"1f052908-7cbe-471f-a580-3e44ae3b7852\")) {                    Plotly.newPlot(                        \"1f052908-7cbe-471f-a580-3e44ae3b7852\",                        [{\"line\": {\"color\": \"rgba(255, 153, 51, 1.0)\", \"dash\": \"solid\", \"shape\": \"linear\", \"width\": 1.3}, \"marker\": {\"size\": 12, \"symbol\": \"circle\"}, \"mode\": \"markers\", \"name\": \"B\", \"text\": \"\", \"type\": \"scatter\", \"x\": [-0.3743792182439242, -1.6197326287777765, -1.6694241693284275, -0.8234720676448699, 0.13693934194800925, -0.7786890259731041, 1.2425205537238309, 0.23661461195068445, 0.4427518671054902, 2.0602492413190627, 0.17347553754917663, 0.5272904974803029, 1.0501036685459912, 0.27964168711265713, -0.7272118486201753, -0.22172121217961174, -1.4066185696758435, 0.14943198489384765, 1.9432086736456875, 2.5220657307651355, -1.575145667869044, 2.106775558992982, 0.10174098248546284, 1.7396932489191501, 2.074786533983352, -1.1987093179807613, -0.7165329207174465, 2.606548254803393, -0.1731233457547235, 1.0190282826591162, -0.8462404362171113, -0.013844020914462261, 0.03325819160101085, 1.7785315479135524, -0.845672667552957, 1.2601128671438402, -1.8143044052327248, 0.5970279618887205, -0.5769416532706793, -0.32364036863083556, 0.03374636130467711, 1.1262235526047673, -0.8835399735809639, 0.06711967156865234, -1.4139271342518789, -0.6575777307138329, 0.46229213676974534, 1.0313703525873301, -0.493699775953662, 0.7661403815389104, -0.17056924610476254, 0.1903867851538594, -0.5971541790764131, 1.241771128939705, -0.0983027365076231, 0.09160084021308144, -1.9601710782173678, 0.037315681418766455, 0.8821219685238391, -0.7375779940391467, 0.19254111855709474, 0.6924571147549479, 0.16154451786586277, -1.0727850115023716, -0.01649775264774975, -0.8049803974922969, -0.8398704184601684, 0.8505246844046274, -0.5200062488807476, 0.014739737631221722, 0.12869943874606232, -1.392960388914175, 0.20609619106358215, -0.10679886929113508, 0.8973824818566172, -0.2730155117429203, 0.7207158467228036, -0.43694692713810984, 1.0219884648429, -0.108800476161582, 1.165329073668084, -0.16302070112148123, 0.5891703252134486, 0.11281410046037657, 0.4284575251522544, -1.9219006979808662, -0.6563995509383275, -1.43950547963843, -0.2762985778717633, 3.010485863448667, -0.12036745273155926, -0.20020535022170713, 0.31097193170068255, 1.0109448623739885, -0.17848199577529572, 0.2846917936792169, -0.6808365819892909, -1.0071421584201592, 2.283632305623987, -2.1543573610817393], \"y\": [-1.1027785660551868, 0.29740020489597846, -0.43253294240382856, -1.1084269652229717, -1.6373655590184417, -1.0725117618110998, -1.9099100685608439, -2.0689122733051275, 0.077918987078293, 0.5024584203750352, -1.3926796764698834, 0.3717509242747525, -0.8474458229363676, 0.08737683711031544, -0.33133430972182576, -2.733316055785719, -0.6928824100740675, 0.5250323944129693, -1.6067781687815792, -0.7287202006257252, -1.6918012487369385, 0.3542738500682554, -0.1915179367997926, -0.29403482375669315, -1.4559887425614062, -0.45946662861286863, -1.0573702753899408, -0.13034922297969953, -1.5699117976686348, 0.5481499873171011, -1.4685830306254732, -1.1806385665913264, -1.4156796963696252, 1.3605077053581722, 1.9811380136832317, -0.16316712319178428, -0.6983529403698392, 1.1203194633607836, -0.378838594956958, 2.0486437782810403, 0.5192196076632097, -0.8777252263888996, -0.38206113714898843, 0.012992185416119843, 1.2929317353034275, 0.3907851507983996, -1.3572897634254169, -0.870575384725658, -0.0027188992621641167, 0.49670782282570086, -0.7091516270566384, -0.40752396773946536, 0.5777273937905538, -0.028583879645875804, -0.686415398165249, -0.6632303830207483, 0.3611285698868993, -1.4150766880023653, -0.5355969336730079, 0.15148844935688743, 1.4809758774301216, 0.1341776189245072, 2.039413314544158, -0.03243372323009276, 0.022831173707126735, -0.841240189670404, -0.49541889751084567, 0.8183400775505387, 0.7488401406486337, -0.17193420847758445, -0.45187359053888715, -0.19881883509728254, -1.50152229425189, -0.35828183450124146, 1.9630368930993207, 1.1964489103975489, -0.1435270860047802, -0.3308275681612723, 0.8659755734970961, -0.26379834794677504, -0.46684150154116616, 0.4345934611912318, 0.9143039934710501, -0.06561570356948355, -0.6767256650340361, -1.0259488290832, -0.2727313264750364, 1.0195015218583527, -0.1125709709711396, -0.0992052156509772, -0.10038565402562996, 1.182259921569917, 0.6201037680164574, 0.00065696719603261, 0.4556208055782743, -0.9502790546247901, -1.0978368547782833, 0.3992300601573083, 0.3982763109978748, 0.14618132688760946]}],                        {\"legend\": {\"bgcolor\": \"#F5F6F9\", \"font\": {\"color\": \"#4D5663\"}}, \"paper_bgcolor\": \"#F5F6F9\", \"plot_bgcolor\": \"#F5F6F9\", \"template\": {\"data\": {\"bar\": [{\"error_x\": {\"color\": \"#2a3f5f\"}, \"error_y\": {\"color\": \"#2a3f5f\"}, \"marker\": {\"line\": {\"color\": \"#E5ECF6\", \"width\": 0.5}}, \"type\": \"bar\"}], \"barpolar\": [{\"marker\": {\"line\": {\"color\": \"#E5ECF6\", \"width\": 0.5}}, \"type\": \"barpolar\"}], \"carpet\": [{\"aaxis\": {\"endlinecolor\": \"#2a3f5f\", \"gridcolor\": \"white\", \"linecolor\": \"white\", \"minorgridcolor\": \"white\", \"startlinecolor\": \"#2a3f5f\"}, \"baxis\": {\"endlinecolor\": \"#2a3f5f\", \"gridcolor\": \"white\", \"linecolor\": \"white\", \"minorgridcolor\": \"white\", \"startlinecolor\": \"#2a3f5f\"}, \"type\": \"carpet\"}], \"choropleth\": [{\"colorbar\": {\"outlinewidth\": 0, \"ticks\": \"\"}, \"type\": \"choropleth\"}], \"contour\": [{\"colorbar\": {\"outlinewidth\": 0, \"ticks\": \"\"}, \"colorscale\": [[0.0, \"#0d0887\"], [0.1111111111111111, \"#46039f\"], [0.2222222222222222, \"#7201a8\"], [0.3333333333333333, \"#9c179e\"], [0.4444444444444444, \"#bd3786\"], [0.5555555555555556, \"#d8576b\"], [0.6666666666666666, \"#ed7953\"], [0.7777777777777778, \"#fb9f3a\"], [0.8888888888888888, \"#fdca26\"], [1.0, \"#f0f921\"]], \"type\": \"contour\"}], \"contourcarpet\": [{\"colorbar\": {\"outlinewidth\": 0, \"ticks\": \"\"}, \"type\": \"contourcarpet\"}], \"heatmap\": [{\"colorbar\": {\"outlinewidth\": 0, \"ticks\": \"\"}, \"colorscale\": [[0.0, \"#0d0887\"], [0.1111111111111111, \"#46039f\"], [0.2222222222222222, \"#7201a8\"], [0.3333333333333333, \"#9c179e\"], [0.4444444444444444, \"#bd3786\"], [0.5555555555555556, \"#d8576b\"], [0.6666666666666666, \"#ed7953\"], [0.7777777777777778, \"#fb9f3a\"], [0.8888888888888888, \"#fdca26\"], [1.0, \"#f0f921\"]], \"type\": \"heatmap\"}], \"heatmapgl\": [{\"colorbar\": {\"outlinewidth\": 0, \"ticks\": \"\"}, \"colorscale\": [[0.0, \"#0d0887\"], [0.1111111111111111, \"#46039f\"], [0.2222222222222222, \"#7201a8\"], [0.3333333333333333, \"#9c179e\"], [0.4444444444444444, \"#bd3786\"], [0.5555555555555556, \"#d8576b\"], [0.6666666666666666, \"#ed7953\"], [0.7777777777777778, \"#fb9f3a\"], [0.8888888888888888, \"#fdca26\"], [1.0, \"#f0f921\"]], \"type\": \"heatmapgl\"}], \"histogram\": [{\"marker\": {\"colorbar\": {\"outlinewidth\": 0, \"ticks\": \"\"}}, \"type\": \"histogram\"}], \"histogram2d\": [{\"colorbar\": {\"outlinewidth\": 0, \"ticks\": \"\"}, \"colorscale\": [[0.0, \"#0d0887\"], [0.1111111111111111, \"#46039f\"], [0.2222222222222222, \"#7201a8\"], [0.3333333333333333, \"#9c179e\"], [0.4444444444444444, \"#bd3786\"], [0.5555555555555556, \"#d8576b\"], [0.6666666666666666, \"#ed7953\"], [0.7777777777777778, \"#fb9f3a\"], [0.8888888888888888, \"#fdca26\"], [1.0, \"#f0f921\"]], \"type\": \"histogram2d\"}], \"histogram2dcontour\": [{\"colorbar\": {\"outlinewidth\": 0, \"ticks\": \"\"}, \"colorscale\": [[0.0, \"#0d0887\"], [0.1111111111111111, \"#46039f\"], [0.2222222222222222, \"#7201a8\"], [0.3333333333333333, \"#9c179e\"], [0.4444444444444444, \"#bd3786\"], [0.5555555555555556, \"#d8576b\"], [0.6666666666666666, \"#ed7953\"], [0.7777777777777778, \"#fb9f3a\"], [0.8888888888888888, \"#fdca26\"], [1.0, \"#f0f921\"]], \"type\": \"histogram2dcontour\"}], \"mesh3d\": [{\"colorbar\": {\"outlinewidth\": 0, \"ticks\": \"\"}, \"type\": \"mesh3d\"}], \"parcoords\": [{\"line\": {\"colorbar\": {\"outlinewidth\": 0, \"ticks\": \"\"}}, \"type\": \"parcoords\"}], \"pie\": [{\"automargin\": true, \"type\": \"pie\"}], \"scatter\": [{\"marker\": {\"colorbar\": {\"outlinewidth\": 0, \"ticks\": \"\"}}, \"type\": \"scatter\"}], \"scatter3d\": [{\"line\": {\"colorbar\": {\"outlinewidth\": 0, \"ticks\": \"\"}}, \"marker\": {\"colorbar\": {\"outlinewidth\": 0, \"ticks\": \"\"}}, \"type\": \"scatter3d\"}], \"scattercarpet\": [{\"marker\": {\"colorbar\": {\"outlinewidth\": 0, \"ticks\": \"\"}}, \"type\": \"scattercarpet\"}], \"scattergeo\": [{\"marker\": {\"colorbar\": {\"outlinewidth\": 0, \"ticks\": \"\"}}, \"type\": \"scattergeo\"}], \"scattergl\": [{\"marker\": {\"colorbar\": {\"outlinewidth\": 0, \"ticks\": \"\"}}, \"type\": \"scattergl\"}], \"scattermapbox\": [{\"marker\": {\"colorbar\": {\"outlinewidth\": 0, \"ticks\": \"\"}}, \"type\": \"scattermapbox\"}], \"scatterpolar\": [{\"marker\": {\"colorbar\": {\"outlinewidth\": 0, \"ticks\": \"\"}}, \"type\": \"scatterpolar\"}], \"scatterpolargl\": [{\"marker\": {\"colorbar\": {\"outlinewidth\": 0, \"ticks\": \"\"}}, \"type\": \"scatterpolargl\"}], \"scatterternary\": [{\"marker\": {\"colorbar\": {\"outlinewidth\": 0, \"ticks\": \"\"}}, \"type\": \"scatterternary\"}], \"surface\": [{\"colorbar\": {\"outlinewidth\": 0, \"ticks\": \"\"}, \"colorscale\": [[0.0, \"#0d0887\"], [0.1111111111111111, \"#46039f\"], [0.2222222222222222, \"#7201a8\"], [0.3333333333333333, \"#9c179e\"], [0.4444444444444444, \"#bd3786\"], [0.5555555555555556, \"#d8576b\"], [0.6666666666666666, \"#ed7953\"], [0.7777777777777778, \"#fb9f3a\"], [0.8888888888888888, \"#fdca26\"], [1.0, \"#f0f921\"]], \"type\": \"surface\"}], \"table\": [{\"cells\": {\"fill\": {\"color\": \"#EBF0F8\"}, \"line\": {\"color\": \"white\"}}, \"header\": {\"fill\": {\"color\": \"#C8D4E3\"}, \"line\": {\"color\": \"white\"}}, \"type\": \"table\"}]}, \"layout\": {\"annotationdefaults\": {\"arrowcolor\": \"#2a3f5f\", \"arrowhead\": 0, \"arrowwidth\": 1}, \"autotypenumbers\": \"strict\", \"coloraxis\": {\"colorbar\": {\"outlinewidth\": 0, \"ticks\": \"\"}}, \"colorscale\": {\"diverging\": [[0, \"#8e0152\"], [0.1, \"#c51b7d\"], [0.2, \"#de77ae\"], [0.3, \"#f1b6da\"], [0.4, \"#fde0ef\"], [0.5, \"#f7f7f7\"], [0.6, \"#e6f5d0\"], [0.7, \"#b8e186\"], [0.8, \"#7fbc41\"], [0.9, \"#4d9221\"], [1, \"#276419\"]], \"sequential\": [[0.0, \"#0d0887\"], [0.1111111111111111, \"#46039f\"], [0.2222222222222222, \"#7201a8\"], [0.3333333333333333, \"#9c179e\"], [0.4444444444444444, \"#bd3786\"], [0.5555555555555556, \"#d8576b\"], [0.6666666666666666, \"#ed7953\"], [0.7777777777777778, \"#fb9f3a\"], [0.8888888888888888, \"#fdca26\"], [1.0, \"#f0f921\"]], \"sequentialminus\": [[0.0, \"#0d0887\"], [0.1111111111111111, \"#46039f\"], [0.2222222222222222, \"#7201a8\"], [0.3333333333333333, \"#9c179e\"], [0.4444444444444444, \"#bd3786\"], [0.5555555555555556, \"#d8576b\"], [0.6666666666666666, \"#ed7953\"], [0.7777777777777778, \"#fb9f3a\"], [0.8888888888888888, \"#fdca26\"], [1.0, \"#f0f921\"]]}, \"colorway\": [\"#636efa\", \"#EF553B\", \"#00cc96\", \"#ab63fa\", \"#FFA15A\", \"#19d3f3\", \"#FF6692\", \"#B6E880\", \"#FF97FF\", \"#FECB52\"], \"font\": {\"color\": \"#2a3f5f\"}, \"geo\": {\"bgcolor\": \"white\", \"lakecolor\": \"white\", \"landcolor\": \"#E5ECF6\", \"showlakes\": true, \"showland\": true, \"subunitcolor\": \"white\"}, \"hoverlabel\": {\"align\": \"left\"}, \"hovermode\": \"closest\", \"mapbox\": {\"style\": \"light\"}, \"paper_bgcolor\": \"white\", \"plot_bgcolor\": \"#E5ECF6\", \"polar\": {\"angularaxis\": {\"gridcolor\": \"white\", \"linecolor\": \"white\", \"ticks\": \"\"}, \"bgcolor\": \"#E5ECF6\", \"radialaxis\": {\"gridcolor\": \"white\", \"linecolor\": \"white\", \"ticks\": \"\"}}, \"scene\": {\"xaxis\": {\"backgroundcolor\": \"#E5ECF6\", \"gridcolor\": \"white\", \"gridwidth\": 2, \"linecolor\": \"white\", \"showbackground\": true, \"ticks\": \"\", \"zerolinecolor\": \"white\"}, \"yaxis\": {\"backgroundcolor\": \"#E5ECF6\", \"gridcolor\": \"white\", \"gridwidth\": 2, \"linecolor\": \"white\", \"showbackground\": true, \"ticks\": \"\", \"zerolinecolor\": \"white\"}, \"zaxis\": {\"backgroundcolor\": \"#E5ECF6\", \"gridcolor\": \"white\", \"gridwidth\": 2, \"linecolor\": \"white\", \"showbackground\": true, \"ticks\": \"\", \"zerolinecolor\": \"white\"}}, \"shapedefaults\": {\"line\": {\"color\": \"#2a3f5f\"}}, \"ternary\": {\"aaxis\": {\"gridcolor\": \"white\", \"linecolor\": \"white\", \"ticks\": \"\"}, \"baxis\": {\"gridcolor\": \"white\", \"linecolor\": \"white\", \"ticks\": \"\"}, \"bgcolor\": \"#E5ECF6\", \"caxis\": {\"gridcolor\": \"white\", \"linecolor\": \"white\", \"ticks\": \"\"}}, \"title\": {\"x\": 0.05}, \"xaxis\": {\"automargin\": true, \"gridcolor\": \"white\", \"linecolor\": \"white\", \"ticks\": \"\", \"title\": {\"standoff\": 15}, \"zerolinecolor\": \"white\", \"zerolinewidth\": 2}, \"yaxis\": {\"automargin\": true, \"gridcolor\": \"white\", \"linecolor\": \"white\", \"ticks\": \"\", \"title\": {\"standoff\": 15}, \"zerolinecolor\": \"white\", \"zerolinewidth\": 2}}}, \"title\": {\"font\": {\"color\": \"#4D5663\"}}, \"xaxis\": {\"gridcolor\": \"#E1E5ED\", \"showgrid\": true, \"tickfont\": {\"color\": \"#4D5663\"}, \"title\": {\"font\": {\"color\": \"#4D5663\"}, \"text\": \"\"}, \"zerolinecolor\": \"#E1E5ED\"}, \"yaxis\": {\"gridcolor\": \"#E1E5ED\", \"showgrid\": true, \"tickfont\": {\"color\": \"#4D5663\"}, \"title\": {\"font\": {\"color\": \"#4D5663\"}, \"text\": \"\"}, \"zerolinecolor\": \"#E1E5ED\"}},                        {\"showLink\": true, \"linkText\": \"Export to plot.ly\", \"plotlyServerURL\": \"https://plot.ly\", \"responsive\": true}                    ).then(function(){\n",
       "                            \n",
       "var gd = document.getElementById('1f052908-7cbe-471f-a580-3e44ae3b7852');\n",
       "var x = new MutationObserver(function (mutations, observer) {{\n",
       "        var display = window.getComputedStyle(gd).display;\n",
       "        if (!display || display === 'none') {{\n",
       "            console.log([gd, 'removed!']);\n",
       "            Plotly.purge(gd);\n",
       "            observer.disconnect();\n",
       "        }}\n",
       "}});\n",
       "\n",
       "// Listen for the removal of the full notebook cells\n",
       "var notebookContainer = gd.closest('#notebook-container');\n",
       "if (notebookContainer) {{\n",
       "    x.observe(notebookContainer, {childList: true});\n",
       "}}\n",
       "\n",
       "// Listen for the clearing of the current output cell\n",
       "var outputEl = gd.closest('.output');\n",
       "if (outputEl) {{\n",
       "    x.observe(outputEl, {childList: true});\n",
       "}}\n",
       "\n",
       "                        })                };                });            </script>        </div>"
      ]
     },
     "metadata": {},
     "output_type": "display_data"
    }
   ],
   "source": [
    "df.iplot(kind='scatter',x='A',y='B', mode='markers')"
   ]
  },
  {
   "cell_type": "code",
   "execution_count": 33,
   "metadata": {},
   "outputs": [
    {
     "data": {
      "application/vnd.plotly.v1+json": {
       "config": {
        "linkText": "Export to plot.ly",
        "plotlyServerURL": "https://plot.ly",
        "showLink": true
       },
       "data": [
        {
         "marker": {
          "color": "rgba(255, 153, 51, 0.6)",
          "line": {
           "color": "rgba(255, 153, 51, 1.0)",
           "width": 1
          }
         },
         "name": "Values",
         "orientation": "v",
         "text": "",
         "type": "bar",
         "x": [
          "A",
          "B",
          "C"
         ],
         "y": [
          32,
          43,
          50
         ]
        }
       ],
       "layout": {
        "legend": {
         "bgcolor": "#F5F6F9",
         "font": {
          "color": "#4D5663"
         }
        },
        "paper_bgcolor": "#F5F6F9",
        "plot_bgcolor": "#F5F6F9",
        "template": {
         "data": {
          "bar": [
           {
            "error_x": {
             "color": "#2a3f5f"
            },
            "error_y": {
             "color": "#2a3f5f"
            },
            "marker": {
             "line": {
              "color": "#E5ECF6",
              "width": 0.5
             }
            },
            "type": "bar"
           }
          ],
          "barpolar": [
           {
            "marker": {
             "line": {
              "color": "#E5ECF6",
              "width": 0.5
             }
            },
            "type": "barpolar"
           }
          ],
          "carpet": [
           {
            "aaxis": {
             "endlinecolor": "#2a3f5f",
             "gridcolor": "white",
             "linecolor": "white",
             "minorgridcolor": "white",
             "startlinecolor": "#2a3f5f"
            },
            "baxis": {
             "endlinecolor": "#2a3f5f",
             "gridcolor": "white",
             "linecolor": "white",
             "minorgridcolor": "white",
             "startlinecolor": "#2a3f5f"
            },
            "type": "carpet"
           }
          ],
          "choropleth": [
           {
            "colorbar": {
             "outlinewidth": 0,
             "ticks": ""
            },
            "type": "choropleth"
           }
          ],
          "contour": [
           {
            "colorbar": {
             "outlinewidth": 0,
             "ticks": ""
            },
            "colorscale": [
             [
              0,
              "#0d0887"
             ],
             [
              0.1111111111111111,
              "#46039f"
             ],
             [
              0.2222222222222222,
              "#7201a8"
             ],
             [
              0.3333333333333333,
              "#9c179e"
             ],
             [
              0.4444444444444444,
              "#bd3786"
             ],
             [
              0.5555555555555556,
              "#d8576b"
             ],
             [
              0.6666666666666666,
              "#ed7953"
             ],
             [
              0.7777777777777778,
              "#fb9f3a"
             ],
             [
              0.8888888888888888,
              "#fdca26"
             ],
             [
              1,
              "#f0f921"
             ]
            ],
            "type": "contour"
           }
          ],
          "contourcarpet": [
           {
            "colorbar": {
             "outlinewidth": 0,
             "ticks": ""
            },
            "type": "contourcarpet"
           }
          ],
          "heatmap": [
           {
            "colorbar": {
             "outlinewidth": 0,
             "ticks": ""
            },
            "colorscale": [
             [
              0,
              "#0d0887"
             ],
             [
              0.1111111111111111,
              "#46039f"
             ],
             [
              0.2222222222222222,
              "#7201a8"
             ],
             [
              0.3333333333333333,
              "#9c179e"
             ],
             [
              0.4444444444444444,
              "#bd3786"
             ],
             [
              0.5555555555555556,
              "#d8576b"
             ],
             [
              0.6666666666666666,
              "#ed7953"
             ],
             [
              0.7777777777777778,
              "#fb9f3a"
             ],
             [
              0.8888888888888888,
              "#fdca26"
             ],
             [
              1,
              "#f0f921"
             ]
            ],
            "type": "heatmap"
           }
          ],
          "heatmapgl": [
           {
            "colorbar": {
             "outlinewidth": 0,
             "ticks": ""
            },
            "colorscale": [
             [
              0,
              "#0d0887"
             ],
             [
              0.1111111111111111,
              "#46039f"
             ],
             [
              0.2222222222222222,
              "#7201a8"
             ],
             [
              0.3333333333333333,
              "#9c179e"
             ],
             [
              0.4444444444444444,
              "#bd3786"
             ],
             [
              0.5555555555555556,
              "#d8576b"
             ],
             [
              0.6666666666666666,
              "#ed7953"
             ],
             [
              0.7777777777777778,
              "#fb9f3a"
             ],
             [
              0.8888888888888888,
              "#fdca26"
             ],
             [
              1,
              "#f0f921"
             ]
            ],
            "type": "heatmapgl"
           }
          ],
          "histogram": [
           {
            "marker": {
             "colorbar": {
              "outlinewidth": 0,
              "ticks": ""
             }
            },
            "type": "histogram"
           }
          ],
          "histogram2d": [
           {
            "colorbar": {
             "outlinewidth": 0,
             "ticks": ""
            },
            "colorscale": [
             [
              0,
              "#0d0887"
             ],
             [
              0.1111111111111111,
              "#46039f"
             ],
             [
              0.2222222222222222,
              "#7201a8"
             ],
             [
              0.3333333333333333,
              "#9c179e"
             ],
             [
              0.4444444444444444,
              "#bd3786"
             ],
             [
              0.5555555555555556,
              "#d8576b"
             ],
             [
              0.6666666666666666,
              "#ed7953"
             ],
             [
              0.7777777777777778,
              "#fb9f3a"
             ],
             [
              0.8888888888888888,
              "#fdca26"
             ],
             [
              1,
              "#f0f921"
             ]
            ],
            "type": "histogram2d"
           }
          ],
          "histogram2dcontour": [
           {
            "colorbar": {
             "outlinewidth": 0,
             "ticks": ""
            },
            "colorscale": [
             [
              0,
              "#0d0887"
             ],
             [
              0.1111111111111111,
              "#46039f"
             ],
             [
              0.2222222222222222,
              "#7201a8"
             ],
             [
              0.3333333333333333,
              "#9c179e"
             ],
             [
              0.4444444444444444,
              "#bd3786"
             ],
             [
              0.5555555555555556,
              "#d8576b"
             ],
             [
              0.6666666666666666,
              "#ed7953"
             ],
             [
              0.7777777777777778,
              "#fb9f3a"
             ],
             [
              0.8888888888888888,
              "#fdca26"
             ],
             [
              1,
              "#f0f921"
             ]
            ],
            "type": "histogram2dcontour"
           }
          ],
          "mesh3d": [
           {
            "colorbar": {
             "outlinewidth": 0,
             "ticks": ""
            },
            "type": "mesh3d"
           }
          ],
          "parcoords": [
           {
            "line": {
             "colorbar": {
              "outlinewidth": 0,
              "ticks": ""
             }
            },
            "type": "parcoords"
           }
          ],
          "pie": [
           {
            "automargin": true,
            "type": "pie"
           }
          ],
          "scatter": [
           {
            "marker": {
             "colorbar": {
              "outlinewidth": 0,
              "ticks": ""
             }
            },
            "type": "scatter"
           }
          ],
          "scatter3d": [
           {
            "line": {
             "colorbar": {
              "outlinewidth": 0,
              "ticks": ""
             }
            },
            "marker": {
             "colorbar": {
              "outlinewidth": 0,
              "ticks": ""
             }
            },
            "type": "scatter3d"
           }
          ],
          "scattercarpet": [
           {
            "marker": {
             "colorbar": {
              "outlinewidth": 0,
              "ticks": ""
             }
            },
            "type": "scattercarpet"
           }
          ],
          "scattergeo": [
           {
            "marker": {
             "colorbar": {
              "outlinewidth": 0,
              "ticks": ""
             }
            },
            "type": "scattergeo"
           }
          ],
          "scattergl": [
           {
            "marker": {
             "colorbar": {
              "outlinewidth": 0,
              "ticks": ""
             }
            },
            "type": "scattergl"
           }
          ],
          "scattermapbox": [
           {
            "marker": {
             "colorbar": {
              "outlinewidth": 0,
              "ticks": ""
             }
            },
            "type": "scattermapbox"
           }
          ],
          "scatterpolar": [
           {
            "marker": {
             "colorbar": {
              "outlinewidth": 0,
              "ticks": ""
             }
            },
            "type": "scatterpolar"
           }
          ],
          "scatterpolargl": [
           {
            "marker": {
             "colorbar": {
              "outlinewidth": 0,
              "ticks": ""
             }
            },
            "type": "scatterpolargl"
           }
          ],
          "scatterternary": [
           {
            "marker": {
             "colorbar": {
              "outlinewidth": 0,
              "ticks": ""
             }
            },
            "type": "scatterternary"
           }
          ],
          "surface": [
           {
            "colorbar": {
             "outlinewidth": 0,
             "ticks": ""
            },
            "colorscale": [
             [
              0,
              "#0d0887"
             ],
             [
              0.1111111111111111,
              "#46039f"
             ],
             [
              0.2222222222222222,
              "#7201a8"
             ],
             [
              0.3333333333333333,
              "#9c179e"
             ],
             [
              0.4444444444444444,
              "#bd3786"
             ],
             [
              0.5555555555555556,
              "#d8576b"
             ],
             [
              0.6666666666666666,
              "#ed7953"
             ],
             [
              0.7777777777777778,
              "#fb9f3a"
             ],
             [
              0.8888888888888888,
              "#fdca26"
             ],
             [
              1,
              "#f0f921"
             ]
            ],
            "type": "surface"
           }
          ],
          "table": [
           {
            "cells": {
             "fill": {
              "color": "#EBF0F8"
             },
             "line": {
              "color": "white"
             }
            },
            "header": {
             "fill": {
              "color": "#C8D4E3"
             },
             "line": {
              "color": "white"
             }
            },
            "type": "table"
           }
          ]
         },
         "layout": {
          "annotationdefaults": {
           "arrowcolor": "#2a3f5f",
           "arrowhead": 0,
           "arrowwidth": 1
          },
          "autotypenumbers": "strict",
          "coloraxis": {
           "colorbar": {
            "outlinewidth": 0,
            "ticks": ""
           }
          },
          "colorscale": {
           "diverging": [
            [
             0,
             "#8e0152"
            ],
            [
             0.1,
             "#c51b7d"
            ],
            [
             0.2,
             "#de77ae"
            ],
            [
             0.3,
             "#f1b6da"
            ],
            [
             0.4,
             "#fde0ef"
            ],
            [
             0.5,
             "#f7f7f7"
            ],
            [
             0.6,
             "#e6f5d0"
            ],
            [
             0.7,
             "#b8e186"
            ],
            [
             0.8,
             "#7fbc41"
            ],
            [
             0.9,
             "#4d9221"
            ],
            [
             1,
             "#276419"
            ]
           ],
           "sequential": [
            [
             0,
             "#0d0887"
            ],
            [
             0.1111111111111111,
             "#46039f"
            ],
            [
             0.2222222222222222,
             "#7201a8"
            ],
            [
             0.3333333333333333,
             "#9c179e"
            ],
            [
             0.4444444444444444,
             "#bd3786"
            ],
            [
             0.5555555555555556,
             "#d8576b"
            ],
            [
             0.6666666666666666,
             "#ed7953"
            ],
            [
             0.7777777777777778,
             "#fb9f3a"
            ],
            [
             0.8888888888888888,
             "#fdca26"
            ],
            [
             1,
             "#f0f921"
            ]
           ],
           "sequentialminus": [
            [
             0,
             "#0d0887"
            ],
            [
             0.1111111111111111,
             "#46039f"
            ],
            [
             0.2222222222222222,
             "#7201a8"
            ],
            [
             0.3333333333333333,
             "#9c179e"
            ],
            [
             0.4444444444444444,
             "#bd3786"
            ],
            [
             0.5555555555555556,
             "#d8576b"
            ],
            [
             0.6666666666666666,
             "#ed7953"
            ],
            [
             0.7777777777777778,
             "#fb9f3a"
            ],
            [
             0.8888888888888888,
             "#fdca26"
            ],
            [
             1,
             "#f0f921"
            ]
           ]
          },
          "colorway": [
           "#636efa",
           "#EF553B",
           "#00cc96",
           "#ab63fa",
           "#FFA15A",
           "#19d3f3",
           "#FF6692",
           "#B6E880",
           "#FF97FF",
           "#FECB52"
          ],
          "font": {
           "color": "#2a3f5f"
          },
          "geo": {
           "bgcolor": "white",
           "lakecolor": "white",
           "landcolor": "#E5ECF6",
           "showlakes": true,
           "showland": true,
           "subunitcolor": "white"
          },
          "hoverlabel": {
           "align": "left"
          },
          "hovermode": "closest",
          "mapbox": {
           "style": "light"
          },
          "paper_bgcolor": "white",
          "plot_bgcolor": "#E5ECF6",
          "polar": {
           "angularaxis": {
            "gridcolor": "white",
            "linecolor": "white",
            "ticks": ""
           },
           "bgcolor": "#E5ECF6",
           "radialaxis": {
            "gridcolor": "white",
            "linecolor": "white",
            "ticks": ""
           }
          },
          "scene": {
           "xaxis": {
            "backgroundcolor": "#E5ECF6",
            "gridcolor": "white",
            "gridwidth": 2,
            "linecolor": "white",
            "showbackground": true,
            "ticks": "",
            "zerolinecolor": "white"
           },
           "yaxis": {
            "backgroundcolor": "#E5ECF6",
            "gridcolor": "white",
            "gridwidth": 2,
            "linecolor": "white",
            "showbackground": true,
            "ticks": "",
            "zerolinecolor": "white"
           },
           "zaxis": {
            "backgroundcolor": "#E5ECF6",
            "gridcolor": "white",
            "gridwidth": 2,
            "linecolor": "white",
            "showbackground": true,
            "ticks": "",
            "zerolinecolor": "white"
           }
          },
          "shapedefaults": {
           "line": {
            "color": "#2a3f5f"
           }
          },
          "ternary": {
           "aaxis": {
            "gridcolor": "white",
            "linecolor": "white",
            "ticks": ""
           },
           "baxis": {
            "gridcolor": "white",
            "linecolor": "white",
            "ticks": ""
           },
           "bgcolor": "#E5ECF6",
           "caxis": {
            "gridcolor": "white",
            "linecolor": "white",
            "ticks": ""
           }
          },
          "title": {
           "x": 0.05
          },
          "xaxis": {
           "automargin": true,
           "gridcolor": "white",
           "linecolor": "white",
           "ticks": "",
           "title": {
            "standoff": 15
           },
           "zerolinecolor": "white",
           "zerolinewidth": 2
          },
          "yaxis": {
           "automargin": true,
           "gridcolor": "white",
           "linecolor": "white",
           "ticks": "",
           "title": {
            "standoff": 15
           },
           "zerolinecolor": "white",
           "zerolinewidth": 2
          }
         }
        },
        "title": {
         "font": {
          "color": "#4D5663"
         }
        },
        "xaxis": {
         "gridcolor": "#E1E5ED",
         "showgrid": true,
         "tickfont": {
          "color": "#4D5663"
         },
         "title": {
          "font": {
           "color": "#4D5663"
          },
          "text": ""
         },
         "zerolinecolor": "#E1E5ED"
        },
        "yaxis": {
         "gridcolor": "#E1E5ED",
         "showgrid": true,
         "tickfont": {
          "color": "#4D5663"
         },
         "title": {
          "font": {
           "color": "#4D5663"
          },
          "text": ""
         },
         "zerolinecolor": "#E1E5ED"
        }
       }
      },
      "text/html": [
       "<div>                            <div id=\"4f53d6f8-a568-40ec-a2c2-adb19b6e9853\" class=\"plotly-graph-div\" style=\"height:525px; width:100%;\"></div>            <script type=\"text/javascript\">                require([\"plotly\"], function(Plotly) {                    window.PLOTLYENV=window.PLOTLYENV || {};\n",
       "                    window.PLOTLYENV.BASE_URL='https://plot.ly';                                    if (document.getElementById(\"4f53d6f8-a568-40ec-a2c2-adb19b6e9853\")) {                    Plotly.newPlot(                        \"4f53d6f8-a568-40ec-a2c2-adb19b6e9853\",                        [{\"marker\": {\"color\": \"rgba(255, 153, 51, 0.6)\", \"line\": {\"color\": \"rgba(255, 153, 51, 1.0)\", \"width\": 1}}, \"name\": \"Values\", \"orientation\": \"v\", \"text\": \"\", \"type\": \"bar\", \"x\": [\"A\", \"B\", \"C\"], \"y\": [32, 43, 50]}],                        {\"legend\": {\"bgcolor\": \"#F5F6F9\", \"font\": {\"color\": \"#4D5663\"}}, \"paper_bgcolor\": \"#F5F6F9\", \"plot_bgcolor\": \"#F5F6F9\", \"template\": {\"data\": {\"bar\": [{\"error_x\": {\"color\": \"#2a3f5f\"}, \"error_y\": {\"color\": \"#2a3f5f\"}, \"marker\": {\"line\": {\"color\": \"#E5ECF6\", \"width\": 0.5}}, \"type\": \"bar\"}], \"barpolar\": [{\"marker\": {\"line\": {\"color\": \"#E5ECF6\", \"width\": 0.5}}, \"type\": \"barpolar\"}], \"carpet\": [{\"aaxis\": {\"endlinecolor\": \"#2a3f5f\", \"gridcolor\": \"white\", \"linecolor\": \"white\", \"minorgridcolor\": \"white\", \"startlinecolor\": \"#2a3f5f\"}, \"baxis\": {\"endlinecolor\": \"#2a3f5f\", \"gridcolor\": \"white\", \"linecolor\": \"white\", \"minorgridcolor\": \"white\", \"startlinecolor\": \"#2a3f5f\"}, \"type\": \"carpet\"}], \"choropleth\": [{\"colorbar\": {\"outlinewidth\": 0, \"ticks\": \"\"}, \"type\": \"choropleth\"}], \"contour\": [{\"colorbar\": {\"outlinewidth\": 0, \"ticks\": \"\"}, \"colorscale\": [[0.0, \"#0d0887\"], [0.1111111111111111, \"#46039f\"], [0.2222222222222222, \"#7201a8\"], [0.3333333333333333, \"#9c179e\"], [0.4444444444444444, \"#bd3786\"], [0.5555555555555556, \"#d8576b\"], [0.6666666666666666, \"#ed7953\"], [0.7777777777777778, \"#fb9f3a\"], [0.8888888888888888, \"#fdca26\"], [1.0, \"#f0f921\"]], \"type\": \"contour\"}], \"contourcarpet\": [{\"colorbar\": {\"outlinewidth\": 0, \"ticks\": \"\"}, \"type\": \"contourcarpet\"}], \"heatmap\": [{\"colorbar\": {\"outlinewidth\": 0, \"ticks\": \"\"}, \"colorscale\": [[0.0, \"#0d0887\"], [0.1111111111111111, \"#46039f\"], [0.2222222222222222, \"#7201a8\"], [0.3333333333333333, \"#9c179e\"], [0.4444444444444444, \"#bd3786\"], [0.5555555555555556, \"#d8576b\"], [0.6666666666666666, \"#ed7953\"], [0.7777777777777778, \"#fb9f3a\"], [0.8888888888888888, \"#fdca26\"], [1.0, \"#f0f921\"]], \"type\": \"heatmap\"}], \"heatmapgl\": [{\"colorbar\": {\"outlinewidth\": 0, \"ticks\": \"\"}, \"colorscale\": [[0.0, \"#0d0887\"], [0.1111111111111111, \"#46039f\"], [0.2222222222222222, \"#7201a8\"], [0.3333333333333333, \"#9c179e\"], [0.4444444444444444, \"#bd3786\"], [0.5555555555555556, \"#d8576b\"], [0.6666666666666666, \"#ed7953\"], [0.7777777777777778, \"#fb9f3a\"], [0.8888888888888888, \"#fdca26\"], [1.0, \"#f0f921\"]], \"type\": \"heatmapgl\"}], \"histogram\": [{\"marker\": {\"colorbar\": {\"outlinewidth\": 0, \"ticks\": \"\"}}, \"type\": \"histogram\"}], \"histogram2d\": [{\"colorbar\": {\"outlinewidth\": 0, \"ticks\": \"\"}, \"colorscale\": [[0.0, \"#0d0887\"], [0.1111111111111111, \"#46039f\"], [0.2222222222222222, \"#7201a8\"], [0.3333333333333333, \"#9c179e\"], [0.4444444444444444, \"#bd3786\"], [0.5555555555555556, \"#d8576b\"], [0.6666666666666666, \"#ed7953\"], [0.7777777777777778, \"#fb9f3a\"], [0.8888888888888888, \"#fdca26\"], [1.0, \"#f0f921\"]], \"type\": \"histogram2d\"}], \"histogram2dcontour\": [{\"colorbar\": {\"outlinewidth\": 0, \"ticks\": \"\"}, \"colorscale\": [[0.0, \"#0d0887\"], [0.1111111111111111, \"#46039f\"], [0.2222222222222222, \"#7201a8\"], [0.3333333333333333, \"#9c179e\"], [0.4444444444444444, \"#bd3786\"], [0.5555555555555556, \"#d8576b\"], [0.6666666666666666, \"#ed7953\"], [0.7777777777777778, \"#fb9f3a\"], [0.8888888888888888, \"#fdca26\"], [1.0, \"#f0f921\"]], \"type\": \"histogram2dcontour\"}], \"mesh3d\": [{\"colorbar\": {\"outlinewidth\": 0, \"ticks\": \"\"}, \"type\": \"mesh3d\"}], \"parcoords\": [{\"line\": {\"colorbar\": {\"outlinewidth\": 0, \"ticks\": \"\"}}, \"type\": \"parcoords\"}], \"pie\": [{\"automargin\": true, \"type\": \"pie\"}], \"scatter\": [{\"marker\": {\"colorbar\": {\"outlinewidth\": 0, \"ticks\": \"\"}}, \"type\": \"scatter\"}], \"scatter3d\": [{\"line\": {\"colorbar\": {\"outlinewidth\": 0, \"ticks\": \"\"}}, \"marker\": {\"colorbar\": {\"outlinewidth\": 0, \"ticks\": \"\"}}, \"type\": \"scatter3d\"}], \"scattercarpet\": [{\"marker\": {\"colorbar\": {\"outlinewidth\": 0, \"ticks\": \"\"}}, \"type\": \"scattercarpet\"}], \"scattergeo\": [{\"marker\": {\"colorbar\": {\"outlinewidth\": 0, \"ticks\": \"\"}}, \"type\": \"scattergeo\"}], \"scattergl\": [{\"marker\": {\"colorbar\": {\"outlinewidth\": 0, \"ticks\": \"\"}}, \"type\": \"scattergl\"}], \"scattermapbox\": [{\"marker\": {\"colorbar\": {\"outlinewidth\": 0, \"ticks\": \"\"}}, \"type\": \"scattermapbox\"}], \"scatterpolar\": [{\"marker\": {\"colorbar\": {\"outlinewidth\": 0, \"ticks\": \"\"}}, \"type\": \"scatterpolar\"}], \"scatterpolargl\": [{\"marker\": {\"colorbar\": {\"outlinewidth\": 0, \"ticks\": \"\"}}, \"type\": \"scatterpolargl\"}], \"scatterternary\": [{\"marker\": {\"colorbar\": {\"outlinewidth\": 0, \"ticks\": \"\"}}, \"type\": \"scatterternary\"}], \"surface\": [{\"colorbar\": {\"outlinewidth\": 0, \"ticks\": \"\"}, \"colorscale\": [[0.0, \"#0d0887\"], [0.1111111111111111, \"#46039f\"], [0.2222222222222222, \"#7201a8\"], [0.3333333333333333, \"#9c179e\"], [0.4444444444444444, \"#bd3786\"], [0.5555555555555556, \"#d8576b\"], [0.6666666666666666, \"#ed7953\"], [0.7777777777777778, \"#fb9f3a\"], [0.8888888888888888, \"#fdca26\"], [1.0, \"#f0f921\"]], \"type\": \"surface\"}], \"table\": [{\"cells\": {\"fill\": {\"color\": \"#EBF0F8\"}, \"line\": {\"color\": \"white\"}}, \"header\": {\"fill\": {\"color\": \"#C8D4E3\"}, \"line\": {\"color\": \"white\"}}, \"type\": \"table\"}]}, \"layout\": {\"annotationdefaults\": {\"arrowcolor\": \"#2a3f5f\", \"arrowhead\": 0, \"arrowwidth\": 1}, \"autotypenumbers\": \"strict\", \"coloraxis\": {\"colorbar\": {\"outlinewidth\": 0, \"ticks\": \"\"}}, \"colorscale\": {\"diverging\": [[0, \"#8e0152\"], [0.1, \"#c51b7d\"], [0.2, \"#de77ae\"], [0.3, \"#f1b6da\"], [0.4, \"#fde0ef\"], [0.5, \"#f7f7f7\"], [0.6, \"#e6f5d0\"], [0.7, \"#b8e186\"], [0.8, \"#7fbc41\"], [0.9, \"#4d9221\"], [1, \"#276419\"]], \"sequential\": [[0.0, \"#0d0887\"], [0.1111111111111111, \"#46039f\"], [0.2222222222222222, \"#7201a8\"], [0.3333333333333333, \"#9c179e\"], [0.4444444444444444, \"#bd3786\"], [0.5555555555555556, \"#d8576b\"], [0.6666666666666666, \"#ed7953\"], [0.7777777777777778, \"#fb9f3a\"], [0.8888888888888888, \"#fdca26\"], [1.0, \"#f0f921\"]], \"sequentialminus\": [[0.0, \"#0d0887\"], [0.1111111111111111, \"#46039f\"], [0.2222222222222222, \"#7201a8\"], [0.3333333333333333, \"#9c179e\"], [0.4444444444444444, \"#bd3786\"], [0.5555555555555556, \"#d8576b\"], [0.6666666666666666, \"#ed7953\"], [0.7777777777777778, \"#fb9f3a\"], [0.8888888888888888, \"#fdca26\"], [1.0, \"#f0f921\"]]}, \"colorway\": [\"#636efa\", \"#EF553B\", \"#00cc96\", \"#ab63fa\", \"#FFA15A\", \"#19d3f3\", \"#FF6692\", \"#B6E880\", \"#FF97FF\", \"#FECB52\"], \"font\": {\"color\": \"#2a3f5f\"}, \"geo\": {\"bgcolor\": \"white\", \"lakecolor\": \"white\", \"landcolor\": \"#E5ECF6\", \"showlakes\": true, \"showland\": true, \"subunitcolor\": \"white\"}, \"hoverlabel\": {\"align\": \"left\"}, \"hovermode\": \"closest\", \"mapbox\": {\"style\": \"light\"}, \"paper_bgcolor\": \"white\", \"plot_bgcolor\": \"#E5ECF6\", \"polar\": {\"angularaxis\": {\"gridcolor\": \"white\", \"linecolor\": \"white\", \"ticks\": \"\"}, \"bgcolor\": \"#E5ECF6\", \"radialaxis\": {\"gridcolor\": \"white\", \"linecolor\": \"white\", \"ticks\": \"\"}}, \"scene\": {\"xaxis\": {\"backgroundcolor\": \"#E5ECF6\", \"gridcolor\": \"white\", \"gridwidth\": 2, \"linecolor\": \"white\", \"showbackground\": true, \"ticks\": \"\", \"zerolinecolor\": \"white\"}, \"yaxis\": {\"backgroundcolor\": \"#E5ECF6\", \"gridcolor\": \"white\", \"gridwidth\": 2, \"linecolor\": \"white\", \"showbackground\": true, \"ticks\": \"\", \"zerolinecolor\": \"white\"}, \"zaxis\": {\"backgroundcolor\": \"#E5ECF6\", \"gridcolor\": \"white\", \"gridwidth\": 2, \"linecolor\": \"white\", \"showbackground\": true, \"ticks\": \"\", \"zerolinecolor\": \"white\"}}, \"shapedefaults\": {\"line\": {\"color\": \"#2a3f5f\"}}, \"ternary\": {\"aaxis\": {\"gridcolor\": \"white\", \"linecolor\": \"white\", \"ticks\": \"\"}, \"baxis\": {\"gridcolor\": \"white\", \"linecolor\": \"white\", \"ticks\": \"\"}, \"bgcolor\": \"#E5ECF6\", \"caxis\": {\"gridcolor\": \"white\", \"linecolor\": \"white\", \"ticks\": \"\"}}, \"title\": {\"x\": 0.05}, \"xaxis\": {\"automargin\": true, \"gridcolor\": \"white\", \"linecolor\": \"white\", \"ticks\": \"\", \"title\": {\"standoff\": 15}, \"zerolinecolor\": \"white\", \"zerolinewidth\": 2}, \"yaxis\": {\"automargin\": true, \"gridcolor\": \"white\", \"linecolor\": \"white\", \"ticks\": \"\", \"title\": {\"standoff\": 15}, \"zerolinecolor\": \"white\", \"zerolinewidth\": 2}}}, \"title\": {\"font\": {\"color\": \"#4D5663\"}}, \"xaxis\": {\"gridcolor\": \"#E1E5ED\", \"showgrid\": true, \"tickfont\": {\"color\": \"#4D5663\"}, \"title\": {\"font\": {\"color\": \"#4D5663\"}, \"text\": \"\"}, \"zerolinecolor\": \"#E1E5ED\"}, \"yaxis\": {\"gridcolor\": \"#E1E5ED\", \"showgrid\": true, \"tickfont\": {\"color\": \"#4D5663\"}, \"title\": {\"font\": {\"color\": \"#4D5663\"}, \"text\": \"\"}, \"zerolinecolor\": \"#E1E5ED\"}},                        {\"showLink\": true, \"linkText\": \"Export to plot.ly\", \"plotlyServerURL\": \"https://plot.ly\", \"responsive\": true}                    ).then(function(){\n",
       "                            \n",
       "var gd = document.getElementById('4f53d6f8-a568-40ec-a2c2-adb19b6e9853');\n",
       "var x = new MutationObserver(function (mutations, observer) {{\n",
       "        var display = window.getComputedStyle(gd).display;\n",
       "        if (!display || display === 'none') {{\n",
       "            console.log([gd, 'removed!']);\n",
       "            Plotly.purge(gd);\n",
       "            observer.disconnect();\n",
       "        }}\n",
       "}});\n",
       "\n",
       "// Listen for the removal of the full notebook cells\n",
       "var notebookContainer = gd.closest('#notebook-container');\n",
       "if (notebookContainer) {{\n",
       "    x.observe(notebookContainer, {childList: true});\n",
       "}}\n",
       "\n",
       "// Listen for the clearing of the current output cell\n",
       "var outputEl = gd.closest('.output');\n",
       "if (outputEl) {{\n",
       "    x.observe(outputEl, {childList: true});\n",
       "}}\n",
       "\n",
       "                        })                };                });            </script>        </div>"
      ]
     },
     "metadata": {},
     "output_type": "display_data"
    }
   ],
   "source": [
    "#bar plot\n",
    "df2.iplot(kind='bar',x='Category',y='Values')"
   ]
  },
  {
   "cell_type": "code",
   "execution_count": 35,
   "metadata": {},
   "outputs": [
    {
     "data": {
      "text/plain": [
       "<matplotlib.axes._subplots.AxesSubplot at 0x7ff2eb267d50>"
      ]
     },
     "execution_count": 35,
     "metadata": {},
     "output_type": "execute_result"
    },
    {
     "data": {
      "image/png": "[encoded data removed]",
      "text/plain": [
       "<Figure size 432x288 with 1 Axes>"
      ]
     },
     "metadata": {
      "needs_background": "light"
     },
     "output_type": "display_data"
    }
   ],
   "source": [
    "#group by and aggregate\n",
    "df.count().plot(kind='bar')"
   ]
  },
  {
   "cell_type": "code",
   "execution_count": 36,
   "metadata": {},
   "outputs": [
    {
     "data": {
      "text/plain": [
       "<matplotlib.axes._subplots.AxesSubplot at 0x7ff2eb56e750>"
      ]
     },
     "execution_count": 36,
     "metadata": {},
     "output_type": "execute_result"
    },
    {
     "data": {
      "image/png": "[encoded data removed]",
      "text/plain": [
       "<Figure size 432x288 with 1 Axes>"
      ]
     },
     "metadata": {
      "needs_background": "light"
     },
     "output_type": "display_data"
    }
   ],
   "source": [
    "df.sum().plot(kind='bar')"
   ]
  },
  {
   "cell_type": "code",
   "execution_count": 39,
   "metadata": {},
   "outputs": [
    {
     "data": {
      "application/vnd.plotly.v1+json": {
       "config": {
        "linkText": "Export to plot.ly",
        "plotlyServerURL": "https://plot.ly",
        "showLink": true
       },
       "data": [
        {
         "boxpoints": false,
         "line": {
          "width": 1.3
         },
         "marker": {
          "color": "rgba(255, 153, 51, 1.0)"
         },
         "name": "A",
         "orientation": "v",
         "type": "box",
         "y": [
          -0.3743792182439242,
          -1.6197326287777765,
          -1.6694241693284275,
          -0.8234720676448699,
          0.13693934194800925,
          -0.7786890259731041,
          1.2425205537238309,
          0.23661461195068445,
          0.4427518671054902,
          2.0602492413190627,
          0.17347553754917663,
          0.5272904974803029,
          1.0501036685459912,
          0.27964168711265713,
          -0.7272118486201753,
          -0.22172121217961174,
          -1.4066185696758435,
          0.14943198489384765,
          1.9432086736456875,
          2.5220657307651355,
          -1.575145667869044,
          2.106775558992982,
          0.10174098248546284,
          1.7396932489191501,
          2.074786533983352,
          -1.1987093179807613,
          -0.7165329207174465,
          2.606548254803393,
          -0.1731233457547235,
          1.0190282826591162,
          -0.8462404362171113,
          -0.013844020914462261,
          0.03325819160101085,
          1.7785315479135524,
          -0.845672667552957,
          1.2601128671438402,
          -1.8143044052327248,
          0.5970279618887205,
          -0.5769416532706793,
          -0.32364036863083556,
          0.03374636130467711,
          1.1262235526047673,
          -0.8835399735809639,
          0.06711967156865234,
          -1.4139271342518789,
          -0.6575777307138329,
          0.46229213676974534,
          1.0313703525873301,
          -0.493699775953662,
          0.7661403815389104,
          -0.17056924610476254,
          0.1903867851538594,
          -0.5971541790764131,
          1.241771128939705,
          -0.0983027365076231,
          0.09160084021308144,
          -1.9601710782173678,
          0.037315681418766455,
          0.8821219685238391,
          -0.7375779940391467,
          0.19254111855709474,
          0.6924571147549479,
          0.16154451786586277,
          -1.0727850115023716,
          -0.01649775264774975,
          -0.8049803974922969,
          -0.8398704184601684,
          0.8505246844046274,
          -0.5200062488807476,
          0.014739737631221722,
          0.12869943874606232,
          -1.392960388914175,
          0.20609619106358215,
          -0.10679886929113508,
          0.8973824818566172,
          -0.2730155117429203,
          0.7207158467228036,
          -0.43694692713810984,
          1.0219884648429,
          -0.108800476161582,
          1.165329073668084,
          -0.16302070112148123,
          0.5891703252134486,
          0.11281410046037657,
          0.4284575251522544,
          -1.9219006979808662,
          -0.6563995509383275,
          -1.43950547963843,
          -0.2762985778717633,
          3.010485863448667,
          -0.12036745273155926,
          -0.20020535022170713,
          0.31097193170068255,
          1.0109448623739885,
          -0.17848199577529572,
          0.2846917936792169,
          -0.6808365819892909,
          -1.0071421584201592,
          2.283632305623987,
          -2.1543573610817393
         ]
        },
        {
         "boxpoints": false,
         "line": {
          "width": 1.3
         },
         "marker": {
          "color": "rgba(55, 128, 191, 1.0)"
         },
         "name": "B",
         "orientation": "v",
         "type": "box",
         "y": [
          -1.1027785660551868,
          0.29740020489597846,
          -0.43253294240382856,
          -1.1084269652229717,
          -1.6373655590184417,
          -1.0725117618110998,
          -1.9099100685608439,
          -2.0689122733051275,
          0.077918987078293,
          0.5024584203750352,
          -1.3926796764698834,
          0.3717509242747525,
          -0.8474458229363676,
          0.08737683711031544,
          -0.33133430972182576,
          -2.733316055785719,
          -0.6928824100740675,
          0.5250323944129693,
          -1.6067781687815792,
          -0.7287202006257252,
          -1.6918012487369385,
          0.3542738500682554,
          -0.1915179367997926,
          -0.29403482375669315,
          -1.4559887425614062,
          -0.45946662861286863,
          -1.0573702753899408,
          -0.13034922297969953,
          -1.5699117976686348,
          0.5481499873171011,
          -1.4685830306254732,
          -1.1806385665913264,
          -1.4156796963696252,
          1.3605077053581722,
          1.9811380136832317,
          -0.16316712319178428,
          -0.6983529403698392,
          1.1203194633607836,
          -0.378838594956958,
          2.0486437782810403,
          0.5192196076632097,
          -0.8777252263888996,
          -0.38206113714898843,
          0.012992185416119843,
          1.2929317353034275,
          0.3907851507983996,
          -1.3572897634254169,
          -0.870575384725658,
          -0.0027188992621641167,
          0.49670782282570086,
          -0.7091516270566384,
          -0.40752396773946536,
          0.5777273937905538,
          -0.028583879645875804,
          -0.686415398165249,
          -0.6632303830207483,
          0.3611285698868993,
          -1.4150766880023653,
          -0.5355969336730079,
          0.15148844935688743,
          1.4809758774301216,
          0.1341776189245072,
          2.039413314544158,
          -0.03243372323009276,
          0.022831173707126735,
          -0.841240189670404,
          -0.49541889751084567,
          0.8183400775505387,
          0.7488401406486337,
          -0.17193420847758445,
          -0.45187359053888715,
          -0.19881883509728254,
          -1.50152229425189,
          -0.35828183450124146,
          1.9630368930993207,
          1.1964489103975489,
          -0.1435270860047802,
          -0.3308275681612723,
          0.8659755734970961,
          -0.26379834794677504,
          -0.46684150154116616,
          0.4345934611912318,
          0.9143039934710501,
          -0.06561570356948355,
          -0.6767256650340361,
          -1.0259488290832,
          -0.2727313264750364,
          1.0195015218583527,
          -0.1125709709711396,
          -0.0992052156509772,
          -0.10038565402562996,
          1.182259921569917,
          0.6201037680164574,
          0.00065696719603261,
          0.4556208055782743,
          -0.9502790546247901,
          -1.0978368547782833,
          0.3992300601573083,
          0.3982763109978748,
          0.14618132688760946
         ]
        },
        {
         "boxpoints": false,
         "line": {
          "width": 1.3
         },
         "marker": {
          "color": "rgba(50, 171, 96, 1.0)"
         },
         "name": "C",
         "orientation": "v",
         "type": "box",
         "y": [
          0.6305086408405335,
          0.2573929741581128,
          1.2002509871699105,
          1.8249813489097186,
          0.3918002396090246,
          2.045502634431302,
          -0.12255302335727361,
          -0.14328856625676092,
          -0.20748786540499695,
          -0.3064262606826834,
          -1.1379840810055082,
          0.1673648590728652,
          0.37699394164743627,
          -0.6962736680079707,
          -0.6586427335574921,
          1.026882387486378,
          -0.13961200892487075,
          0.13493393701558787,
          -0.21222692847029387,
          -0.629736224541587,
          1.4735661632735562,
          -1.0104870058846744,
          0.8366005276015587,
          -0.33702113005301576,
          0.39797885431417157,
          -0.16811043462184252,
          -0.6197407303272026,
          0.10336820541209946,
          0.9429313960623031,
          0.7907388100117877,
          -0.7702545298597853,
          1.8824678262475079,
          0.3764093764765518,
          -0.31741290339867323,
          -0.4080431921994537,
          0.8524436320243046,
          -0.8874432210963202,
          1.278318444357705,
          1.400387427082184,
          0.5164502436081181,
          0.5260515938763501,
          -1.516843418418446,
          -1.2296490295672757,
          -0.3030387528649891,
          -0.8673602866550375,
          1.2577169602465843,
          -0.17664278745729972,
          -0.8011024909016581,
          -1.2709067509118592,
          2.600574336866944,
          1.7026407853872678,
          1.188257856928726,
          1.470492384903625,
          -1.4246726210313863,
          -0.5822627018194775,
          0.37354771607816406,
          -0.5340206493997645,
          0.04376725425074439,
          -0.47645358851481984,
          1.5597252552643888,
          -1.2000497575023026,
          -0.6258442258992837,
          -0.793624442495925,
          0.1898625339161362,
          0.20876742846720092,
          1.3709461458575776,
          0.8634147134772215,
          -0.48704667145588254,
          -1.6763341999764252,
          0.645748787049174,
          -1.2776430496406737,
          0.8424179571291159,
          -1.8479145390147624,
          0.9343548341121494,
          -0.003951426835194898,
          0.570119633366993,
          -1.0825526928291904,
          -0.17270588345420862,
          1.4225521073363245,
          -0.9250108836454827,
          -0.5242086646505019,
          -0.9144328597996433,
          -0.9510490339648087,
          -0.5511617558446993,
          0.7727258199523624,
          2.1177556445538634,
          1.5414102237779639,
          0.10267936984726589,
          -0.5582221230138756,
          0.15764762924658451,
          -0.0043885162080275625,
          -1.3373114196927731,
          0.10633748756502394,
          -0.4647282500767246,
          -0.026345456157078864,
          0.138687004546556,
          0.012902495730874639,
          1.1639536789822604,
          -0.534311955025553,
          -0.5622879971904758
         ]
        },
        {
         "boxpoints": false,
         "line": {
          "width": 1.3
         },
         "marker": {
          "color": "rgba(128, 0, 128, 1.0)"
         },
         "name": "D",
         "orientation": "v",
         "type": "box",
         "y": [
          -0.9775540867952446,
          0.5125419768385915,
          -0.294908048965335,
          0.6561049172570194,
          -0.948655669014669,
          0.38826492530369056,
          -1.051515798800067,
          1.0916810700420954,
          -0.7698443127541724,
          -0.9044517115380162,
          0.30475023729635403,
          1.539858983273998,
          1.226919733553733,
          0.42749343772456005,
          0.04433626310293226,
          -1.943719051879809,
          1.2463238062234774,
          -1.2104794780278358,
          2.2434389335917615,
          -0.7046858778536157,
          -1.4554723150616735,
          1.0941988942748302,
          -0.02952503436206944,
          -0.33924093843015646,
          0.2044200372012253,
          0.2685291939229705,
          -1.5299696422235398,
          0.6581448336938301,
          0.39454019984961214,
          -0.29532382509339766,
          -0.7754927189028199,
          -0.7517249288087523,
          1.1662456581357885,
          0.47100641399697557,
          0.18091632997000087,
          -0.8680521122835154,
          0.34188638195693616,
          -0.6395572104363515,
          1.7607211883492682,
          -0.5427324119660141,
          0.6094134787515665,
          -0.3228406532113041,
          -1.240984117694116,
          0.9476958531796474,
          -1.566799508736097,
          -1.3693967159456835,
          -1.002806751796895,
          -0.6290596720219408,
          -0.9665578288157056,
          0.9840878963356897,
          -0.4843673241245268,
          1.0518601552732783,
          -1.1491433046014432,
          -0.6095902338712633,
          1.9231102218474039,
          0.9376082791295621,
          0.10526475977098643,
          0.4989098099237765,
          -0.5043174075431105,
          2.1408461247925024,
          0.1352941400065242,
          -0.27473495827988226,
          -0.2889957842311569,
          -0.03266538710690525,
          -0.0157904210532621,
          0.08899841220396364,
          -1.2285876409947754,
          1.9089716125433318,
          -0.672817717516103,
          -0.9991552089496202,
          0.7787563460737548,
          -0.012740471268385447,
          -2.479165537636401,
          1.40143034536203,
          -1.729474372047749,
          -0.21787372323390702,
          0.7980485729437748,
          0.3776094257046723,
          -0.4760637243601897,
          -2.3832051413841637,
          -1.7099159788344809,
          0.4827711017041606,
          0.8620357645975364,
          0.17453108335633685,
          0.7443925303551422,
          0.6903132193598274,
          -0.5627408036346566,
          -0.4518178996632333,
          -0.9368981301966262,
          0.05061874383989501,
          -0.6922640658095132,
          -0.5280750185783809,
          -1.2947751095368296,
          -0.870662429879271,
          -0.298108580253174,
          0.037387968557037854,
          -1.1207278026636471,
          -1.9113339857999854,
          -0.007295497555885252,
          0.9171993947582978
         ]
        }
       ],
       "layout": {
        "legend": {
         "bgcolor": "#F5F6F9",
         "font": {
          "color": "#4D5663"
         }
        },
        "paper_bgcolor": "#F5F6F9",
        "plot_bgcolor": "#F5F6F9",
        "template": {
         "data": {
          "bar": [
           {
            "error_x": {
             "color": "#2a3f5f"
            },
            "error_y": {
             "color": "#2a3f5f"
            },
            "marker": {
             "line": {
              "color": "#E5ECF6",
              "width": 0.5
             }
            },
            "type": "bar"
           }
          ],
          "barpolar": [
           {
            "marker": {
             "line": {
              "color": "#E5ECF6",
              "width": 0.5
             }
            },
            "type": "barpolar"
           }
          ],
          "carpet": [
           {
            "aaxis": {
             "endlinecolor": "#2a3f5f",
             "gridcolor": "white",
             "linecolor": "white",
             "minorgridcolor": "white",
             "startlinecolor": "#2a3f5f"
            },
            "baxis": {
             "endlinecolor": "#2a3f5f",
             "gridcolor": "white",
             "linecolor": "white",
             "minorgridcolor": "white",
             "startlinecolor": "#2a3f5f"
            },
            "type": "carpet"
           }
          ],
          "choropleth": [
           {
            "colorbar": {
             "outlinewidth": 0,
             "ticks": ""
            },
            "type": "choropleth"
           }
          ],
          "contour": [
           {
            "colorbar": {
             "outlinewidth": 0,
             "ticks": ""
            },
            "colorscale": [
             [
              0,
              "#0d0887"
             ],
             [
              0.1111111111111111,
              "#46039f"
             ],
             [
              0.2222222222222222,
              "#7201a8"
             ],
             [
              0.3333333333333333,
              "#9c179e"
             ],
             [
              0.4444444444444444,
              "#bd3786"
             ],
             [
              0.5555555555555556,
              "#d8576b"
             ],
             [
              0.6666666666666666,
              "#ed7953"
             ],
             [
              0.7777777777777778,
              "#fb9f3a"
             ],
             [
              0.8888888888888888,
              "#fdca26"
             ],
             [
              1,
              "#f0f921"
             ]
            ],
            "type": "contour"
           }
          ],
          "contourcarpet": [
           {
            "colorbar": {
             "outlinewidth": 0,
             "ticks": ""
            },
            "type": "contourcarpet"
           }
          ],
          "heatmap": [
           {
            "colorbar": {
             "outlinewidth": 0,
             "ticks": ""
            },
            "colorscale": [
             [
              0,
              "#0d0887"
             ],
             [
              0.1111111111111111,
              "#46039f"
             ],
             [
              0.2222222222222222,
              "#7201a8"
             ],
             [
              0.3333333333333333,
              "#9c179e"
             ],
             [
              0.4444444444444444,
              "#bd3786"
             ],
             [
              0.5555555555555556,
              "#d8576b"
             ],
             [
              0.6666666666666666,
              "#ed7953"
             ],
             [
              0.7777777777777778,
              "#fb9f3a"
             ],
             [
              0.8888888888888888,
              "#fdca26"
             ],
             [
              1,
              "#f0f921"
             ]
            ],
            "type": "heatmap"
           }
          ],
          "heatmapgl": [
           {
            "colorbar": {
             "outlinewidth": 0,
             "ticks": ""
            },
            "colorscale": [
             [
              0,
              "#0d0887"
             ],
             [
              0.1111111111111111,
              "#46039f"
             ],
             [
              0.2222222222222222,
              "#7201a8"
             ],
             [
              0.3333333333333333,
              "#9c179e"
             ],
             [
              0.4444444444444444,
              "#bd3786"
             ],
             [
              0.5555555555555556,
              "#d8576b"
             ],
             [
              0.6666666666666666,
              "#ed7953"
             ],
             [
              0.7777777777777778,
              "#fb9f3a"
             ],
             [
              0.8888888888888888,
              "#fdca26"
             ],
             [
              1,
              "#f0f921"
             ]
            ],
            "type": "heatmapgl"
           }
          ],
          "histogram": [
           {
            "marker": {
             "colorbar": {
              "outlinewidth": 0,
              "ticks": ""
             }
            },
            "type": "histogram"
           }
          ],
          "histogram2d": [
           {
            "colorbar": {
             "outlinewidth": 0,
             "ticks": ""
            },
            "colorscale": [
             [
              0,
              "#0d0887"
             ],
             [
              0.1111111111111111,
              "#46039f"
             ],
             [
              0.2222222222222222,
              "#7201a8"
             ],
             [
              0.3333333333333333,
              "#9c179e"
             ],
             [
              0.4444444444444444,
              "#bd3786"
             ],
             [
              0.5555555555555556,
              "#d8576b"
             ],
             [
              0.6666666666666666,
              "#ed7953"
             ],
             [
              0.7777777777777778,
              "#fb9f3a"
             ],
             [
              0.8888888888888888,
              "#fdca26"
             ],
             [
              1,
              "#f0f921"
             ]
            ],
            "type": "histogram2d"
           }
          ],
          "histogram2dcontour": [
           {
            "colorbar": {
             "outlinewidth": 0,
             "ticks": ""
            },
            "colorscale": [
             [
              0,
              "#0d0887"
             ],
             [
              0.1111111111111111,
              "#46039f"
             ],
             [
              0.2222222222222222,
              "#7201a8"
             ],
             [
              0.3333333333333333,
              "#9c179e"
             ],
             [
              0.4444444444444444,
              "#bd3786"
             ],
             [
              0.5555555555555556,
              "#d8576b"
             ],
             [
              0.6666666666666666,
              "#ed7953"
             ],
             [
              0.7777777777777778,
              "#fb9f3a"
             ],
             [
              0.8888888888888888,
              "#fdca26"
             ],
             [
              1,
              "#f0f921"
             ]
            ],
            "type": "histogram2dcontour"
           }
          ],
          "mesh3d": [
           {
            "colorbar": {
             "outlinewidth": 0,
             "ticks": ""
            },
            "type": "mesh3d"
           }
          ],
          "parcoords": [
           {
            "line": {
             "colorbar": {
              "outlinewidth": 0,
              "ticks": ""
             }
            },
            "type": "parcoords"
           }
          ],
          "pie": [
           {
            "automargin": true,
            "type": "pie"
           }
          ],
          "scatter": [
           {
            "marker": {
             "colorbar": {
              "outlinewidth": 0,
              "ticks": ""
             }
            },
            "type": "scatter"
           }
          ],
          "scatter3d": [
           {
            "line": {
             "colorbar": {
              "outlinewidth": 0,
              "ticks": ""
             }
            },
            "marker": {
             "colorbar": {
              "outlinewidth": 0,
              "ticks": ""
             }
            },
            "type": "scatter3d"
           }
          ],
          "scattercarpet": [
           {
            "marker": {
             "colorbar": {
              "outlinewidth": 0,
              "ticks": ""
             }
            },
            "type": "scattercarpet"
           }
          ],
          "scattergeo": [
           {
            "marker": {
             "colorbar": {
              "outlinewidth": 0,
              "ticks": ""
             }
            },
            "type": "scattergeo"
           }
          ],
          "scattergl": [
           {
            "marker": {
             "colorbar": {
              "outlinewidth": 0,
              "ticks": ""
             }
            },
            "type": "scattergl"
           }
          ],
          "scattermapbox": [
           {
            "marker": {
             "colorbar": {
              "outlinewidth": 0,
              "ticks": ""
             }
            },
            "type": "scattermapbox"
           }
          ],
          "scatterpolar": [
           {
            "marker": {
             "colorbar": {
              "outlinewidth": 0,
              "ticks": ""
             }
            },
            "type": "scatterpolar"
           }
          ],
          "scatterpolargl": [
           {
            "marker": {
             "colorbar": {
              "outlinewidth": 0,
              "ticks": ""
             }
            },
            "type": "scatterpolargl"
           }
          ],
          "scatterternary": [
           {
            "marker": {
             "colorbar": {
              "outlinewidth": 0,
              "ticks": ""
             }
            },
            "type": "scatterternary"
           }
          ],
          "surface": [
           {
            "colorbar": {
             "outlinewidth": 0,
             "ticks": ""
            },
            "colorscale": [
             [
              0,
              "#0d0887"
             ],
             [
              0.1111111111111111,
              "#46039f"
             ],
             [
              0.2222222222222222,
              "#7201a8"
             ],
             [
              0.3333333333333333,
              "#9c179e"
             ],
             [
              0.4444444444444444,
              "#bd3786"
             ],
             [
              0.5555555555555556,
              "#d8576b"
             ],
             [
              0.6666666666666666,
              "#ed7953"
             ],
             [
              0.7777777777777778,
              "#fb9f3a"
             ],
             [
              0.8888888888888888,
              "#fdca26"
             ],
             [
              1,
              "#f0f921"
             ]
            ],
            "type": "surface"
           }
          ],
          "table": [
           {
            "cells": {
             "fill": {
              "color": "#EBF0F8"
             },
             "line": {
              "color": "white"
             }
            },
            "header": {
             "fill": {
              "color": "#C8D4E3"
             },
             "line": {
              "color": "white"
             }
            },
            "type": "table"
           }
          ]
         },
         "layout": {
          "annotationdefaults": {
           "arrowcolor": "#2a3f5f",
           "arrowhead": 0,
           "arrowwidth": 1
          },
          "autotypenumbers": "strict",
          "coloraxis": {
           "colorbar": {
            "outlinewidth": 0,
            "ticks": ""
           }
          },
          "colorscale": {
           "diverging": [
            [
             0,
             "#8e0152"
            ],
            [
             0.1,
             "#c51b7d"
            ],
            [
             0.2,
             "#de77ae"
            ],
            [
             0.3,
             "#f1b6da"
            ],
            [
             0.4,
             "#fde0ef"
            ],
            [
             0.5,
             "#f7f7f7"
            ],
            [
             0.6,
             "#e6f5d0"
            ],
            [
             0.7,
             "#b8e186"
            ],
            [
             0.8,
             "#7fbc41"
            ],
            [
             0.9,
             "#4d9221"
            ],
            [
             1,
             "#276419"
            ]
           ],
           "sequential": [
            [
             0,
             "#0d0887"
            ],
            [
             0.1111111111111111,
             "#46039f"
            ],
            [
             0.2222222222222222,
             "#7201a8"
            ],
            [
             0.3333333333333333,
             "#9c179e"
            ],
            [
             0.4444444444444444,
             "#bd3786"
            ],
            [
             0.5555555555555556,
             "#d8576b"
            ],
            [
             0.6666666666666666,
             "#ed7953"
            ],
            [
             0.7777777777777778,
             "#fb9f3a"
            ],
            [
             0.8888888888888888,
             "#fdca26"
            ],
            [
             1,
             "#f0f921"
            ]
           ],
           "sequentialminus": [
            [
             0,
             "#0d0887"
            ],
            [
             0.1111111111111111,
             "#46039f"
            ],
            [
             0.2222222222222222,
             "#7201a8"
            ],
            [
             0.3333333333333333,
             "#9c179e"
            ],
            [
             0.4444444444444444,
             "#bd3786"
            ],
            [
             0.5555555555555556,
             "#d8576b"
            ],
            [
             0.6666666666666666,
             "#ed7953"
            ],
            [
             0.7777777777777778,
             "#fb9f3a"
            ],
            [
             0.8888888888888888,
             "#fdca26"
            ],
            [
             1,
             "#f0f921"
            ]
           ]
          },
          "colorway": [
           "#636efa",
           "#EF553B",
           "#00cc96",
           "#ab63fa",
           "#FFA15A",
           "#19d3f3",
           "#FF6692",
           "#B6E880",
           "#FF97FF",
           "#FECB52"
          ],
          "font": {
           "color": "#2a3f5f"
          },
          "geo": {
           "bgcolor": "white",
           "lakecolor": "white",
           "landcolor": "#E5ECF6",
           "showlakes": true,
           "showland": true,
           "subunitcolor": "white"
          },
          "hoverlabel": {
           "align": "left"
          },
          "hovermode": "closest",
          "mapbox": {
           "style": "light"
          },
          "paper_bgcolor": "white",
          "plot_bgcolor": "#E5ECF6",
          "polar": {
           "angularaxis": {
            "gridcolor": "white",
            "linecolor": "white",
            "ticks": ""
           },
           "bgcolor": "#E5ECF6",
           "radialaxis": {
            "gridcolor": "white",
            "linecolor": "white",
            "ticks": ""
           }
          },
          "scene": {
           "xaxis": {
            "backgroundcolor": "#E5ECF6",
            "gridcolor": "white",
            "gridwidth": 2,
            "linecolor": "white",
            "showbackground": true,
            "ticks": "",
            "zerolinecolor": "white"
           },
           "yaxis": {
            "backgroundcolor": "#E5ECF6",
            "gridcolor": "white",
            "gridwidth": 2,
            "linecolor": "white",
            "showbackground": true,
            "ticks": "",
            "zerolinecolor": "white"
           },
           "zaxis": {
            "backgroundcolor": "#E5ECF6",
            "gridcolor": "white",
            "gridwidth": 2,
            "linecolor": "white",
            "showbackground": true,
            "ticks": "",
            "zerolinecolor": "white"
           }
          },
          "shapedefaults": {
           "line": {
            "color": "#2a3f5f"
           }
          },
          "ternary": {
           "aaxis": {
            "gridcolor": "white",
            "linecolor": "white",
            "ticks": ""
           },
           "baxis": {
            "gridcolor": "white",
            "linecolor": "white",
            "ticks": ""
           },
           "bgcolor": "#E5ECF6",
           "caxis": {
            "gridcolor": "white",
            "linecolor": "white",
            "ticks": ""
           }
          },
          "title": {
           "x": 0.05
          },
          "xaxis": {
           "automargin": true,
           "gridcolor": "white",
           "linecolor": "white",
           "ticks": "",
           "title": {
            "standoff": 15
           },
           "zerolinecolor": "white",
           "zerolinewidth": 2
          },
          "yaxis": {
           "automargin": true,
           "gridcolor": "white",
           "linecolor": "white",
           "ticks": "",
           "title": {
            "standoff": 15
           },
           "zerolinecolor": "white",
           "zerolinewidth": 2
          }
         }
        },
        "title": {
         "font": {
          "color": "#4D5663"
         }
        },
        "xaxis": {
         "gridcolor": "#E1E5ED",
         "showgrid": true,
         "tickfont": {
          "color": "#4D5663"
         },
         "title": {
          "font": {
           "color": "#4D5663"
          },
          "text": ""
         },
         "zerolinecolor": "#E1E5ED"
        },
        "yaxis": {
         "gridcolor": "#E1E5ED",
         "showgrid": true,
         "tickfont": {
          "color": "#4D5663"
         },
         "title": {
          "font": {
           "color": "#4D5663"
          },
          "text": ""
         },
         "zerolinecolor": "#E1E5ED"
        }
       }
      },
      "text/html": [
       "<div>                            <div id=\"5395ae56-92f9-4304-aaee-8f1228be387e\" class=\"plotly-graph-div\" style=\"height:525px; width:100%;\"></div>            <script type=\"text/javascript\">                require([\"plotly\"], function(Plotly) {                    window.PLOTLYENV=window.PLOTLYENV || {};\n",
       "                    window.PLOTLYENV.BASE_URL='https://plot.ly';                                    if (document.getElementById(\"5395ae56-92f9-4304-aaee-8f1228be387e\")) {                    Plotly.newPlot(                        \"5395ae56-92f9-4304-aaee-8f1228be387e\",                        [{\"boxpoints\": false, \"line\": {\"width\": 1.3}, \"marker\": {\"color\": \"rgba(255, 153, 51, 1.0)\"}, \"name\": \"A\", \"orientation\": \"v\", \"type\": \"box\", \"y\": [-0.3743792182439242, -1.6197326287777765, -1.6694241693284275, -0.8234720676448699, 0.13693934194800925, -0.7786890259731041, 1.2425205537238309, 0.23661461195068445, 0.4427518671054902, 2.0602492413190627, 0.17347553754917663, 0.5272904974803029, 1.0501036685459912, 0.27964168711265713, -0.7272118486201753, -0.22172121217961174, -1.4066185696758435, 0.14943198489384765, 1.9432086736456875, 2.5220657307651355, -1.575145667869044, 2.106775558992982, 0.10174098248546284, 1.7396932489191501, 2.074786533983352, -1.1987093179807613, -0.7165329207174465, 2.606548254803393, -0.1731233457547235, 1.0190282826591162, -0.8462404362171113, -0.013844020914462261, 0.03325819160101085, 1.7785315479135524, -0.845672667552957, 1.2601128671438402, -1.8143044052327248, 0.5970279618887205, -0.5769416532706793, -0.32364036863083556, 0.03374636130467711, 1.1262235526047673, -0.8835399735809639, 0.06711967156865234, -1.4139271342518789, -0.6575777307138329, 0.46229213676974534, 1.0313703525873301, -0.493699775953662, 0.7661403815389104, -0.17056924610476254, 0.1903867851538594, -0.5971541790764131, 1.241771128939705, -0.0983027365076231, 0.09160084021308144, -1.9601710782173678, 0.037315681418766455, 0.8821219685238391, -0.7375779940391467, 0.19254111855709474, 0.6924571147549479, 0.16154451786586277, -1.0727850115023716, -0.01649775264774975, -0.8049803974922969, -0.8398704184601684, 0.8505246844046274, -0.5200062488807476, 0.014739737631221722, 0.12869943874606232, -1.392960388914175, 0.20609619106358215, -0.10679886929113508, 0.8973824818566172, -0.2730155117429203, 0.7207158467228036, -0.43694692713810984, 1.0219884648429, -0.108800476161582, 1.165329073668084, -0.16302070112148123, 0.5891703252134486, 0.11281410046037657, 0.4284575251522544, -1.9219006979808662, -0.6563995509383275, -1.43950547963843, -0.2762985778717633, 3.010485863448667, -0.12036745273155926, -0.20020535022170713, 0.31097193170068255, 1.0109448623739885, -0.17848199577529572, 0.2846917936792169, -0.6808365819892909, -1.0071421584201592, 2.283632305623987, -2.1543573610817393]}, {\"boxpoints\": false, \"line\": {\"width\": 1.3}, \"marker\": {\"color\": \"rgba(55, 128, 191, 1.0)\"}, \"name\": \"B\", \"orientation\": \"v\", \"type\": \"box\", \"y\": [-1.1027785660551868, 0.29740020489597846, -0.43253294240382856, -1.1084269652229717, -1.6373655590184417, -1.0725117618110998, -1.9099100685608439, -2.0689122733051275, 0.077918987078293, 0.5024584203750352, -1.3926796764698834, 0.3717509242747525, -0.8474458229363676, 0.08737683711031544, -0.33133430972182576, -2.733316055785719, -0.6928824100740675, 0.5250323944129693, -1.6067781687815792, -0.7287202006257252, -1.6918012487369385, 0.3542738500682554, -0.1915179367997926, -0.29403482375669315, -1.4559887425614062, -0.45946662861286863, -1.0573702753899408, -0.13034922297969953, -1.5699117976686348, 0.5481499873171011, -1.4685830306254732, -1.1806385665913264, -1.4156796963696252, 1.3605077053581722, 1.9811380136832317, -0.16316712319178428, -0.6983529403698392, 1.1203194633607836, -0.378838594956958, 2.0486437782810403, 0.5192196076632097, -0.8777252263888996, -0.38206113714898843, 0.012992185416119843, 1.2929317353034275, 0.3907851507983996, -1.3572897634254169, -0.870575384725658, -0.0027188992621641167, 0.49670782282570086, -0.7091516270566384, -0.40752396773946536, 0.5777273937905538, -0.028583879645875804, -0.686415398165249, -0.6632303830207483, 0.3611285698868993, -1.4150766880023653, -0.5355969336730079, 0.15148844935688743, 1.4809758774301216, 0.1341776189245072, 2.039413314544158, -0.03243372323009276, 0.022831173707126735, -0.841240189670404, -0.49541889751084567, 0.8183400775505387, 0.7488401406486337, -0.17193420847758445, -0.45187359053888715, -0.19881883509728254, -1.50152229425189, -0.35828183450124146, 1.9630368930993207, 1.1964489103975489, -0.1435270860047802, -0.3308275681612723, 0.8659755734970961, -0.26379834794677504, -0.46684150154116616, 0.4345934611912318, 0.9143039934710501, -0.06561570356948355, -0.6767256650340361, -1.0259488290832, -0.2727313264750364, 1.0195015218583527, -0.1125709709711396, -0.0992052156509772, -0.10038565402562996, 1.182259921569917, 0.6201037680164574, 0.00065696719603261, 0.4556208055782743, -0.9502790546247901, -1.0978368547782833, 0.3992300601573083, 0.3982763109978748, 0.14618132688760946]}, {\"boxpoints\": false, \"line\": {\"width\": 1.3}, \"marker\": {\"color\": \"rgba(50, 171, 96, 1.0)\"}, \"name\": \"C\", \"orientation\": \"v\", \"type\": \"box\", \"y\": [0.6305086408405335, 0.2573929741581128, 1.2002509871699105, 1.8249813489097186, 0.3918002396090246, 2.045502634431302, -0.12255302335727361, -0.14328856625676092, -0.20748786540499695, -0.3064262606826834, -1.1379840810055082, 0.1673648590728652, 0.37699394164743627, -0.6962736680079707, -0.6586427335574921, 1.026882387486378, -0.13961200892487075, 0.13493393701558787, -0.21222692847029387, -0.629736224541587, 1.4735661632735562, -1.0104870058846744, 0.8366005276015587, -0.33702113005301576, 0.39797885431417157, -0.16811043462184252, -0.6197407303272026, 0.10336820541209946, 0.9429313960623031, 0.7907388100117877, -0.7702545298597853, 1.8824678262475079, 0.3764093764765518, -0.31741290339867323, -0.4080431921994537, 0.8524436320243046, -0.8874432210963202, 1.278318444357705, 1.400387427082184, 0.5164502436081181, 0.5260515938763501, -1.516843418418446, -1.2296490295672757, -0.3030387528649891, -0.8673602866550375, 1.2577169602465843, -0.17664278745729972, -0.8011024909016581, -1.2709067509118592, 2.600574336866944, 1.7026407853872678, 1.188257856928726, 1.470492384903625, -1.4246726210313863, -0.5822627018194775, 0.37354771607816406, -0.5340206493997645, 0.04376725425074439, -0.47645358851481984, 1.5597252552643888, -1.2000497575023026, -0.6258442258992837, -0.793624442495925, 0.1898625339161362, 0.20876742846720092, 1.3709461458575776, 0.8634147134772215, -0.48704667145588254, -1.6763341999764252, 0.645748787049174, -1.2776430496406737, 0.8424179571291159, -1.8479145390147624, 0.9343548341121494, -0.003951426835194898, 0.570119633366993, -1.0825526928291904, -0.17270588345420862, 1.4225521073363245, -0.9250108836454827, -0.5242086646505019, -0.9144328597996433, -0.9510490339648087, -0.5511617558446993, 0.7727258199523624, 2.1177556445538634, 1.5414102237779639, 0.10267936984726589, -0.5582221230138756, 0.15764762924658451, -0.0043885162080275625, -1.3373114196927731, 0.10633748756502394, -0.4647282500767246, -0.026345456157078864, 0.138687004546556, 0.012902495730874639, 1.1639536789822604, -0.534311955025553, -0.5622879971904758]}, {\"boxpoints\": false, \"line\": {\"width\": 1.3}, \"marker\": {\"color\": \"rgba(128, 0, 128, 1.0)\"}, \"name\": \"D\", \"orientation\": \"v\", \"type\": \"box\", \"y\": [-0.9775540867952446, 0.5125419768385915, -0.294908048965335, 0.6561049172570194, -0.948655669014669, 0.38826492530369056, -1.051515798800067, 1.0916810700420954, -0.7698443127541724, -0.9044517115380162, 0.30475023729635403, 1.539858983273998, 1.226919733553733, 0.42749343772456005, 0.04433626310293226, -1.943719051879809, 1.2463238062234774, -1.2104794780278358, 2.2434389335917615, -0.7046858778536157, -1.4554723150616735, 1.0941988942748302, -0.02952503436206944, -0.33924093843015646, 0.2044200372012253, 0.2685291939229705, -1.5299696422235398, 0.6581448336938301, 0.39454019984961214, -0.29532382509339766, -0.7754927189028199, -0.7517249288087523, 1.1662456581357885, 0.47100641399697557, 0.18091632997000087, -0.8680521122835154, 0.34188638195693616, -0.6395572104363515, 1.7607211883492682, -0.5427324119660141, 0.6094134787515665, -0.3228406532113041, -1.240984117694116, 0.9476958531796474, -1.566799508736097, -1.3693967159456835, -1.002806751796895, -0.6290596720219408, -0.9665578288157056, 0.9840878963356897, -0.4843673241245268, 1.0518601552732783, -1.1491433046014432, -0.6095902338712633, 1.9231102218474039, 0.9376082791295621, 0.10526475977098643, 0.4989098099237765, -0.5043174075431105, 2.1408461247925024, 0.1352941400065242, -0.27473495827988226, -0.2889957842311569, -0.03266538710690525, -0.0157904210532621, 0.08899841220396364, -1.2285876409947754, 1.9089716125433318, -0.672817717516103, -0.9991552089496202, 0.7787563460737548, -0.012740471268385447, -2.479165537636401, 1.40143034536203, -1.729474372047749, -0.21787372323390702, 0.7980485729437748, 0.3776094257046723, -0.4760637243601897, -2.3832051413841637, -1.7099159788344809, 0.4827711017041606, 0.8620357645975364, 0.17453108335633685, 0.7443925303551422, 0.6903132193598274, -0.5627408036346566, -0.4518178996632333, -0.9368981301966262, 0.05061874383989501, -0.6922640658095132, -0.5280750185783809, -1.2947751095368296, -0.870662429879271, -0.298108580253174, 0.037387968557037854, -1.1207278026636471, -1.9113339857999854, -0.007295497555885252, 0.9171993947582978]}],                        {\"legend\": {\"bgcolor\": \"#F5F6F9\", \"font\": {\"color\": \"#4D5663\"}}, \"paper_bgcolor\": \"#F5F6F9\", \"plot_bgcolor\": \"#F5F6F9\", \"template\": {\"data\": {\"bar\": [{\"error_x\": {\"color\": \"#2a3f5f\"}, \"error_y\": {\"color\": \"#2a3f5f\"}, \"marker\": {\"line\": {\"color\": \"#E5ECF6\", \"width\": 0.5}}, \"type\": \"bar\"}], \"barpolar\": [{\"marker\": {\"line\": {\"color\": \"#E5ECF6\", \"width\": 0.5}}, \"type\": \"barpolar\"}], \"carpet\": [{\"aaxis\": {\"endlinecolor\": \"#2a3f5f\", \"gridcolor\": \"white\", \"linecolor\": \"white\", \"minorgridcolor\": \"white\", \"startlinecolor\": \"#2a3f5f\"}, \"baxis\": {\"endlinecolor\": \"#2a3f5f\", \"gridcolor\": \"white\", \"linecolor\": \"white\", \"minorgridcolor\": \"white\", \"startlinecolor\": \"#2a3f5f\"}, \"type\": \"carpet\"}], \"choropleth\": [{\"colorbar\": {\"outlinewidth\": 0, \"ticks\": \"\"}, \"type\": \"choropleth\"}], \"contour\": [{\"colorbar\": {\"outlinewidth\": 0, \"ticks\": \"\"}, \"colorscale\": [[0.0, \"#0d0887\"], [0.1111111111111111, \"#46039f\"], [0.2222222222222222, \"#7201a8\"], [0.3333333333333333, \"#9c179e\"], [0.4444444444444444, \"#bd3786\"], [0.5555555555555556, \"#d8576b\"], [0.6666666666666666, \"#ed7953\"], [0.7777777777777778, \"#fb9f3a\"], [0.8888888888888888, \"#fdca26\"], [1.0, \"#f0f921\"]], \"type\": \"contour\"}], \"contourcarpet\": [{\"colorbar\": {\"outlinewidth\": 0, \"ticks\": \"\"}, \"type\": \"contourcarpet\"}], \"heatmap\": [{\"colorbar\": {\"outlinewidth\": 0, \"ticks\": \"\"}, \"colorscale\": [[0.0, \"#0d0887\"], [0.1111111111111111, \"#46039f\"], [0.2222222222222222, \"#7201a8\"], [0.3333333333333333, \"#9c179e\"], [0.4444444444444444, \"#bd3786\"], [0.5555555555555556, \"#d8576b\"], [0.6666666666666666, \"#ed7953\"], [0.7777777777777778, \"#fb9f3a\"], [0.8888888888888888, \"#fdca26\"], [1.0, \"#f0f921\"]], \"type\": \"heatmap\"}], \"heatmapgl\": [{\"colorbar\": {\"outlinewidth\": 0, \"ticks\": \"\"}, \"colorscale\": [[0.0, \"#0d0887\"], [0.1111111111111111, \"#46039f\"], [0.2222222222222222, \"#7201a8\"], [0.3333333333333333, \"#9c179e\"], [0.4444444444444444, \"#bd3786\"], [0.5555555555555556, \"#d8576b\"], [0.6666666666666666, \"#ed7953\"], [0.7777777777777778, \"#fb9f3a\"], [0.8888888888888888, \"#fdca26\"], [1.0, \"#f0f921\"]], \"type\": \"heatmapgl\"}], \"histogram\": [{\"marker\": {\"colorbar\": {\"outlinewidth\": 0, \"ticks\": \"\"}}, \"type\": \"histogram\"}], \"histogram2d\": [{\"colorbar\": {\"outlinewidth\": 0, \"ticks\": \"\"}, \"colorscale\": [[0.0, \"#0d0887\"], [0.1111111111111111, \"#46039f\"], [0.2222222222222222, \"#7201a8\"], [0.3333333333333333, \"#9c179e\"], [0.4444444444444444, \"#bd3786\"], [0.5555555555555556, \"#d8576b\"], [0.6666666666666666, \"#ed7953\"], [0.7777777777777778, \"#fb9f3a\"], [0.8888888888888888, \"#fdca26\"], [1.0, \"#f0f921\"]], \"type\": \"histogram2d\"}], \"histogram2dcontour\": [{\"colorbar\": {\"outlinewidth\": 0, \"ticks\": \"\"}, \"colorscale\": [[0.0, \"#0d0887\"], [0.1111111111111111, \"#46039f\"], [0.2222222222222222, \"#7201a8\"], [0.3333333333333333, \"#9c179e\"], [0.4444444444444444, \"#bd3786\"], [0.5555555555555556, \"#d8576b\"], [0.6666666666666666, \"#ed7953\"], [0.7777777777777778, \"#fb9f3a\"], [0.8888888888888888, \"#fdca26\"], [1.0, \"#f0f921\"]], \"type\": \"histogram2dcontour\"}], \"mesh3d\": [{\"colorbar\": {\"outlinewidth\": 0, \"ticks\": \"\"}, \"type\": \"mesh3d\"}], \"parcoords\": [{\"line\": {\"colorbar\": {\"outlinewidth\": 0, \"ticks\": \"\"}}, \"type\": \"parcoords\"}], \"pie\": [{\"automargin\": true, \"type\": \"pie\"}], \"scatter\": [{\"marker\": {\"colorbar\": {\"outlinewidth\": 0, \"ticks\": \"\"}}, \"type\": \"scatter\"}], \"scatter3d\": [{\"line\": {\"colorbar\": {\"outlinewidth\": 0, \"ticks\": \"\"}}, \"marker\": {\"colorbar\": {\"outlinewidth\": 0, \"ticks\": \"\"}}, \"type\": \"scatter3d\"}], \"scattercarpet\": [{\"marker\": {\"colorbar\": {\"outlinewidth\": 0, \"ticks\": \"\"}}, \"type\": \"scattercarpet\"}], \"scattergeo\": [{\"marker\": {\"colorbar\": {\"outlinewidth\": 0, \"ticks\": \"\"}}, \"type\": \"scattergeo\"}], \"scattergl\": [{\"marker\": {\"colorbar\": {\"outlinewidth\": 0, \"ticks\": \"\"}}, \"type\": \"scattergl\"}], \"scattermapbox\": [{\"marker\": {\"colorbar\": {\"outlinewidth\": 0, \"ticks\": \"\"}}, \"type\": \"scattermapbox\"}], \"scatterpolar\": [{\"marker\": {\"colorbar\": {\"outlinewidth\": 0, \"ticks\": \"\"}}, \"type\": \"scatterpolar\"}], \"scatterpolargl\": [{\"marker\": {\"colorbar\": {\"outlinewidth\": 0, \"ticks\": \"\"}}, \"type\": \"scatterpolargl\"}], \"scatterternary\": [{\"marker\": {\"colorbar\": {\"outlinewidth\": 0, \"ticks\": \"\"}}, \"type\": \"scatterternary\"}], \"surface\": [{\"colorbar\": {\"outlinewidth\": 0, \"ticks\": \"\"}, \"colorscale\": [[0.0, \"#0d0887\"], [0.1111111111111111, \"#46039f\"], [0.2222222222222222, \"#7201a8\"], [0.3333333333333333, \"#9c179e\"], [0.4444444444444444, \"#bd3786\"], [0.5555555555555556, \"#d8576b\"], [0.6666666666666666, \"#ed7953\"], [0.7777777777777778, \"#fb9f3a\"], [0.8888888888888888, \"#fdca26\"], [1.0, \"#f0f921\"]], \"type\": \"surface\"}], \"table\": [{\"cells\": {\"fill\": {\"color\": \"#EBF0F8\"}, \"line\": {\"color\": \"white\"}}, \"header\": {\"fill\": {\"color\": \"#C8D4E3\"}, \"line\": {\"color\": \"white\"}}, \"type\": \"table\"}]}, \"layout\": {\"annotationdefaults\": {\"arrowcolor\": \"#2a3f5f\", \"arrowhead\": 0, \"arrowwidth\": 1}, \"autotypenumbers\": \"strict\", \"coloraxis\": {\"colorbar\": {\"outlinewidth\": 0, \"ticks\": \"\"}}, \"colorscale\": {\"diverging\": [[0, \"#8e0152\"], [0.1, \"#c51b7d\"], [0.2, \"#de77ae\"], [0.3, \"#f1b6da\"], [0.4, \"#fde0ef\"], [0.5, \"#f7f7f7\"], [0.6, \"#e6f5d0\"], [0.7, \"#b8e186\"], [0.8, \"#7fbc41\"], [0.9, \"#4d9221\"], [1, \"#276419\"]], \"sequential\": [[0.0, \"#0d0887\"], [0.1111111111111111, \"#46039f\"], [0.2222222222222222, \"#7201a8\"], [0.3333333333333333, \"#9c179e\"], [0.4444444444444444, \"#bd3786\"], [0.5555555555555556, \"#d8576b\"], [0.6666666666666666, \"#ed7953\"], [0.7777777777777778, \"#fb9f3a\"], [0.8888888888888888, \"#fdca26\"], [1.0, \"#f0f921\"]], \"sequentialminus\": [[0.0, \"#0d0887\"], [0.1111111111111111, \"#46039f\"], [0.2222222222222222, \"#7201a8\"], [0.3333333333333333, \"#9c179e\"], [0.4444444444444444, \"#bd3786\"], [0.5555555555555556, \"#d8576b\"], [0.6666666666666666, \"#ed7953\"], [0.7777777777777778, \"#fb9f3a\"], [0.8888888888888888, \"#fdca26\"], [1.0, \"#f0f921\"]]}, \"colorway\": [\"#636efa\", \"#EF553B\", \"#00cc96\", \"#ab63fa\", \"#FFA15A\", \"#19d3f3\", \"#FF6692\", \"#B6E880\", \"#FF97FF\", \"#FECB52\"], \"font\": {\"color\": \"#2a3f5f\"}, \"geo\": {\"bgcolor\": \"white\", \"lakecolor\": \"white\", \"landcolor\": \"#E5ECF6\", \"showlakes\": true, \"showland\": true, \"subunitcolor\": \"white\"}, \"hoverlabel\": {\"align\": \"left\"}, \"hovermode\": \"closest\", \"mapbox\": {\"style\": \"light\"}, \"paper_bgcolor\": \"white\", \"plot_bgcolor\": \"#E5ECF6\", \"polar\": {\"angularaxis\": {\"gridcolor\": \"white\", \"linecolor\": \"white\", \"ticks\": \"\"}, \"bgcolor\": \"#E5ECF6\", \"radialaxis\": {\"gridcolor\": \"white\", \"linecolor\": \"white\", \"ticks\": \"\"}}, \"scene\": {\"xaxis\": {\"backgroundcolor\": \"#E5ECF6\", \"gridcolor\": \"white\", \"gridwidth\": 2, \"linecolor\": \"white\", \"showbackground\": true, \"ticks\": \"\", \"zerolinecolor\": \"white\"}, \"yaxis\": {\"backgroundcolor\": \"#E5ECF6\", \"gridcolor\": \"white\", \"gridwidth\": 2, \"linecolor\": \"white\", \"showbackground\": true, \"ticks\": \"\", \"zerolinecolor\": \"white\"}, \"zaxis\": {\"backgroundcolor\": \"#E5ECF6\", \"gridcolor\": \"white\", \"gridwidth\": 2, \"linecolor\": \"white\", \"showbackground\": true, \"ticks\": \"\", \"zerolinecolor\": \"white\"}}, \"shapedefaults\": {\"line\": {\"color\": \"#2a3f5f\"}}, \"ternary\": {\"aaxis\": {\"gridcolor\": \"white\", \"linecolor\": \"white\", \"ticks\": \"\"}, \"baxis\": {\"gridcolor\": \"white\", \"linecolor\": \"white\", \"ticks\": \"\"}, \"bgcolor\": \"#E5ECF6\", \"caxis\": {\"gridcolor\": \"white\", \"linecolor\": \"white\", \"ticks\": \"\"}}, \"title\": {\"x\": 0.05}, \"xaxis\": {\"automargin\": true, \"gridcolor\": \"white\", \"linecolor\": \"white\", \"ticks\": \"\", \"title\": {\"standoff\": 15}, \"zerolinecolor\": \"white\", \"zerolinewidth\": 2}, \"yaxis\": {\"automargin\": true, \"gridcolor\": \"white\", \"linecolor\": \"white\", \"ticks\": \"\", \"title\": {\"standoff\": 15}, \"zerolinecolor\": \"white\", \"zerolinewidth\": 2}}}, \"title\": {\"font\": {\"color\": \"#4D5663\"}}, \"xaxis\": {\"gridcolor\": \"#E1E5ED\", \"showgrid\": true, \"tickfont\": {\"color\": \"#4D5663\"}, \"title\": {\"font\": {\"color\": \"#4D5663\"}, \"text\": \"\"}, \"zerolinecolor\": \"#E1E5ED\"}, \"yaxis\": {\"gridcolor\": \"#E1E5ED\", \"showgrid\": true, \"tickfont\": {\"color\": \"#4D5663\"}, \"title\": {\"font\": {\"color\": \"#4D5663\"}, \"text\": \"\"}, \"zerolinecolor\": \"#E1E5ED\"}},                        {\"showLink\": true, \"linkText\": \"Export to plot.ly\", \"plotlyServerURL\": \"https://plot.ly\", \"responsive\": true}                    ).then(function(){\n",
       "                            \n",
       "var gd = document.getElementById('5395ae56-92f9-4304-aaee-8f1228be387e');\n",
       "var x = new MutationObserver(function (mutations, observer) {{\n",
       "        var display = window.getComputedStyle(gd).display;\n",
       "        if (!display || display === 'none') {{\n",
       "            console.log([gd, 'removed!']);\n",
       "            Plotly.purge(gd);\n",
       "            observer.disconnect();\n",
       "        }}\n",
       "}});\n",
       "\n",
       "// Listen for the removal of the full notebook cells\n",
       "var notebookContainer = gd.closest('#notebook-container');\n",
       "if (notebookContainer) {{\n",
       "    x.observe(notebookContainer, {childList: true});\n",
       "}}\n",
       "\n",
       "// Listen for the clearing of the current output cell\n",
       "var outputEl = gd.closest('.output');\n",
       "if (outputEl) {{\n",
       "    x.observe(outputEl, {childList: true});\n",
       "}}\n",
       "\n",
       "                        })                };                });            </script>        </div>"
      ]
     },
     "metadata": {},
     "output_type": "display_data"
    }
   ],
   "source": [
    "df.iplot(kind='box')"
   ]
  },
  {
   "cell_type": "code",
   "execution_count": 43,
   "metadata": {},
   "outputs": [
    {
     "data": {
      "application/vnd.plotly.v1+json": {
       "config": {
        "linkText": "Export to plot.ly",
        "plotlyServerURL": "https://plot.ly",
        "showLink": true
       },
       "data": [
        {
         "colorscale": [
          [
           0,
           "rgb(165,0,38)"
          ],
          [
           0.1,
           "rgb(215,48,39)"
          ],
          [
           0.2,
           "rgb(244,109,67)"
          ],
          [
           0.3,
           "rgb(253,174,97)"
          ],
          [
           0.4,
           "rgb(254,224,144)"
          ],
          [
           0.5,
           "rgb(255,255,191)"
          ],
          [
           0.6,
           "rgb(224,243,248)"
          ],
          [
           0.7,
           "rgb(171,217,233)"
          ],
          [
           0.8,
           "rgb(116,173,209)"
          ],
          [
           0.9,
           "rgb(69,117,180)"
          ],
          [
           1,
           "rgb(49,54,149)"
          ]
         ],
         "type": "surface",
         "x": [
          0,
          1,
          2,
          3,
          4
         ],
         "y": [
          "x",
          "y",
          "z"
         ],
         "z": [
          [
           1,
           2,
           3,
           4,
           5
          ],
          [
           10,
           20,
           30,
           40,
           10
          ],
          [
           500,
           400,
           300,
           200,
           100
          ]
         ]
        }
       ],
       "layout": {
        "legend": {
         "bgcolor": "#F5F6F9",
         "font": {
          "color": "#4D5663"
         }
        },
        "paper_bgcolor": "#F5F6F9",
        "plot_bgcolor": "#F5F6F9",
        "template": {
         "data": {
          "bar": [
           {
            "error_x": {
             "color": "#2a3f5f"
            },
            "error_y": {
             "color": "#2a3f5f"
            },
            "marker": {
             "line": {
              "color": "#E5ECF6",
              "width": 0.5
             }
            },
            "type": "bar"
           }
          ],
          "barpolar": [
           {
            "marker": {
             "line": {
              "color": "#E5ECF6",
              "width": 0.5
             }
            },
            "type": "barpolar"
           }
          ],
          "carpet": [
           {
            "aaxis": {
             "endlinecolor": "#2a3f5f",
             "gridcolor": "white",
             "linecolor": "white",
             "minorgridcolor": "white",
             "startlinecolor": "#2a3f5f"
            },
            "baxis": {
             "endlinecolor": "#2a3f5f",
             "gridcolor": "white",
             "linecolor": "white",
             "minorgridcolor": "white",
             "startlinecolor": "#2a3f5f"
            },
            "type": "carpet"
           }
          ],
          "choropleth": [
           {
            "colorbar": {
             "outlinewidth": 0,
             "ticks": ""
            },
            "type": "choropleth"
           }
          ],
          "contour": [
           {
            "colorbar": {
             "outlinewidth": 0,
             "ticks": ""
            },
            "colorscale": [
             [
              0,
              "#0d0887"
             ],
             [
              0.1111111111111111,
              "#46039f"
             ],
             [
              0.2222222222222222,
              "#7201a8"
             ],
             [
              0.3333333333333333,
              "#9c179e"
             ],
             [
              0.4444444444444444,
              "#bd3786"
             ],
             [
              0.5555555555555556,
              "#d8576b"
             ],
             [
              0.6666666666666666,
              "#ed7953"
             ],
             [
              0.7777777777777778,
              "#fb9f3a"
             ],
             [
              0.8888888888888888,
              "#fdca26"
             ],
             [
              1,
              "#f0f921"
             ]
            ],
            "type": "contour"
           }
          ],
          "contourcarpet": [
           {
            "colorbar": {
             "outlinewidth": 0,
             "ticks": ""
            },
            "type": "contourcarpet"
           }
          ],
          "heatmap": [
           {
            "colorbar": {
             "outlinewidth": 0,
             "ticks": ""
            },
            "colorscale": [
             [
              0,
              "#0d0887"
             ],
             [
              0.1111111111111111,
              "#46039f"
             ],
             [
              0.2222222222222222,
              "#7201a8"
             ],
             [
              0.3333333333333333,
              "#9c179e"
             ],
             [
              0.4444444444444444,
              "#bd3786"
             ],
             [
              0.5555555555555556,
              "#d8576b"
             ],
             [
              0.6666666666666666,
              "#ed7953"
             ],
             [
              0.7777777777777778,
              "#fb9f3a"
             ],
             [
              0.8888888888888888,
              "#fdca26"
             ],
             [
              1,
              "#f0f921"
             ]
            ],
            "type": "heatmap"
           }
          ],
          "heatmapgl": [
           {
            "colorbar": {
             "outlinewidth": 0,
             "ticks": ""
            },
            "colorscale": [
             [
              0,
              "#0d0887"
             ],
             [
              0.1111111111111111,
              "#46039f"
             ],
             [
              0.2222222222222222,
              "#7201a8"
             ],
             [
              0.3333333333333333,
              "#9c179e"
             ],
             [
              0.4444444444444444,
              "#bd3786"
             ],
             [
              0.5555555555555556,
              "#d8576b"
             ],
             [
              0.6666666666666666,
              "#ed7953"
             ],
             [
              0.7777777777777778,
              "#fb9f3a"
             ],
             [
              0.8888888888888888,
              "#fdca26"
             ],
             [
              1,
              "#f0f921"
             ]
            ],
            "type": "heatmapgl"
           }
          ],
          "histogram": [
           {
            "marker": {
             "colorbar": {
              "outlinewidth": 0,
              "ticks": ""
             }
            },
            "type": "histogram"
           }
          ],
          "histogram2d": [
           {
            "colorbar": {
             "outlinewidth": 0,
             "ticks": ""
            },
            "colorscale": [
             [
              0,
              "#0d0887"
             ],
             [
              0.1111111111111111,
              "#46039f"
             ],
             [
              0.2222222222222222,
              "#7201a8"
             ],
             [
              0.3333333333333333,
              "#9c179e"
             ],
             [
              0.4444444444444444,
              "#bd3786"
             ],
             [
              0.5555555555555556,
              "#d8576b"
             ],
             [
              0.6666666666666666,
              "#ed7953"
             ],
             [
              0.7777777777777778,
              "#fb9f3a"
             ],
             [
              0.8888888888888888,
              "#fdca26"
             ],
             [
              1,
              "#f0f921"
             ]
            ],
            "type": "histogram2d"
           }
          ],
          "histogram2dcontour": [
           {
            "colorbar": {
             "outlinewidth": 0,
             "ticks": ""
            },
            "colorscale": [
             [
              0,
              "#0d0887"
             ],
             [
              0.1111111111111111,
              "#46039f"
             ],
             [
              0.2222222222222222,
              "#7201a8"
             ],
             [
              0.3333333333333333,
              "#9c179e"
             ],
             [
              0.4444444444444444,
              "#bd3786"
             ],
             [
              0.5555555555555556,
              "#d8576b"
             ],
             [
              0.6666666666666666,
              "#ed7953"
             ],
             [
              0.7777777777777778,
              "#fb9f3a"
             ],
             [
              0.8888888888888888,
              "#fdca26"
             ],
             [
              1,
              "#f0f921"
             ]
            ],
            "type": "histogram2dcontour"
           }
          ],
          "mesh3d": [
           {
            "colorbar": {
             "outlinewidth": 0,
             "ticks": ""
            },
            "type": "mesh3d"
           }
          ],
          "parcoords": [
           {
            "line": {
             "colorbar": {
              "outlinewidth": 0,
              "ticks": ""
             }
            },
            "type": "parcoords"
           }
          ],
          "pie": [
           {
            "automargin": true,
            "type": "pie"
           }
          ],
          "scatter": [
           {
            "marker": {
             "colorbar": {
              "outlinewidth": 0,
              "ticks": ""
             }
            },
            "type": "scatter"
           }
          ],
          "scatter3d": [
           {
            "line": {
             "colorbar": {
              "outlinewidth": 0,
              "ticks": ""
             }
            },
            "marker": {
             "colorbar": {
              "outlinewidth": 0,
              "ticks": ""
             }
            },
            "type": "scatter3d"
           }
          ],
          "scattercarpet": [
           {
            "marker": {
             "colorbar": {
              "outlinewidth": 0,
              "ticks": ""
             }
            },
            "type": "scattercarpet"
           }
          ],
          "scattergeo": [
           {
            "marker": {
             "colorbar": {
              "outlinewidth": 0,
              "ticks": ""
             }
            },
            "type": "scattergeo"
           }
          ],
          "scattergl": [
           {
            "marker": {
             "colorbar": {
              "outlinewidth": 0,
              "ticks": ""
             }
            },
            "type": "scattergl"
           }
          ],
          "scattermapbox": [
           {
            "marker": {
             "colorbar": {
              "outlinewidth": 0,
              "ticks": ""
             }
            },
            "type": "scattermapbox"
           }
          ],
          "scatterpolar": [
           {
            "marker": {
             "colorbar": {
              "outlinewidth": 0,
              "ticks": ""
             }
            },
            "type": "scatterpolar"
           }
          ],
          "scatterpolargl": [
           {
            "marker": {
             "colorbar": {
              "outlinewidth": 0,
              "ticks": ""
             }
            },
            "type": "scatterpolargl"
           }
          ],
          "scatterternary": [
           {
            "marker": {
             "colorbar": {
              "outlinewidth": 0,
              "ticks": ""
             }
            },
            "type": "scatterternary"
           }
          ],
          "surface": [
           {
            "colorbar": {
             "outlinewidth": 0,
             "ticks": ""
            },
            "colorscale": [
             [
              0,
              "#0d0887"
             ],
             [
              0.1111111111111111,
              "#46039f"
             ],
             [
              0.2222222222222222,
              "#7201a8"
             ],
             [
              0.3333333333333333,
              "#9c179e"
             ],
             [
              0.4444444444444444,
              "#bd3786"
             ],
             [
              0.5555555555555556,
              "#d8576b"
             ],
             [
              0.6666666666666666,
              "#ed7953"
             ],
             [
              0.7777777777777778,
              "#fb9f3a"
             ],
             [
              0.8888888888888888,
              "#fdca26"
             ],
             [
              1,
              "#f0f921"
             ]
            ],
            "type": "surface"
           }
          ],
          "table": [
           {
            "cells": {
             "fill": {
              "color": "#EBF0F8"
             },
             "line": {
              "color": "white"
             }
            },
            "header": {
             "fill": {
              "color": "#C8D4E3"
             },
             "line": {
              "color": "white"
             }
            },
            "type": "table"
           }
          ]
         },
         "layout": {
          "annotationdefaults": {
           "arrowcolor": "#2a3f5f",
           "arrowhead": 0,
           "arrowwidth": 1
          },
          "autotypenumbers": "strict",
          "coloraxis": {
           "colorbar": {
            "outlinewidth": 0,
            "ticks": ""
           }
          },
          "colorscale": {
           "diverging": [
            [
             0,
             "#8e0152"
            ],
            [
             0.1,
             "#c51b7d"
            ],
            [
             0.2,
             "#de77ae"
            ],
            [
             0.3,
             "#f1b6da"
            ],
            [
             0.4,
             "#fde0ef"
            ],
            [
             0.5,
             "#f7f7f7"
            ],
            [
             0.6,
             "#e6f5d0"
            ],
            [
             0.7,
             "#b8e186"
            ],
            [
             0.8,
             "#7fbc41"
            ],
            [
             0.9,
             "#4d9221"
            ],
            [
             1,
             "#276419"
            ]
           ],
           "sequential": [
            [
             0,
             "#0d0887"
            ],
            [
             0.1111111111111111,
             "#46039f"
            ],
            [
             0.2222222222222222,
             "#7201a8"
            ],
            [
             0.3333333333333333,
             "#9c179e"
            ],
            [
             0.4444444444444444,
             "#bd3786"
            ],
            [
             0.5555555555555556,
             "#d8576b"
            ],
            [
             0.6666666666666666,
             "#ed7953"
            ],
            [
             0.7777777777777778,
             "#fb9f3a"
            ],
            [
             0.8888888888888888,
             "#fdca26"
            ],
            [
             1,
             "#f0f921"
            ]
           ],
           "sequentialminus": [
            [
             0,
             "#0d0887"
            ],
            [
             0.1111111111111111,
             "#46039f"
            ],
            [
             0.2222222222222222,
             "#7201a8"
            ],
            [
             0.3333333333333333,
             "#9c179e"
            ],
            [
             0.4444444444444444,
             "#bd3786"
            ],
            [
             0.5555555555555556,
             "#d8576b"
            ],
            [
             0.6666666666666666,
             "#ed7953"
            ],
            [
             0.7777777777777778,
             "#fb9f3a"
            ],
            [
             0.8888888888888888,
             "#fdca26"
            ],
            [
             1,
             "#f0f921"
            ]
           ]
          },
          "colorway": [
           "#636efa",
           "#EF553B",
           "#00cc96",
           "#ab63fa",
           "#FFA15A",
           "#19d3f3",
           "#FF6692",
           "#B6E880",
           "#FF97FF",
           "#FECB52"
          ],
          "font": {
           "color": "#2a3f5f"
          },
          "geo": {
           "bgcolor": "white",
           "lakecolor": "white",
           "landcolor": "#E5ECF6",
           "showlakes": true,
           "showland": true,
           "subunitcolor": "white"
          },
          "hoverlabel": {
           "align": "left"
          },
          "hovermode": "closest",
          "mapbox": {
           "style": "light"
          },
          "paper_bgcolor": "white",
          "plot_bgcolor": "#E5ECF6",
          "polar": {
           "angularaxis": {
            "gridcolor": "white",
            "linecolor": "white",
            "ticks": ""
           },
           "bgcolor": "#E5ECF6",
           "radialaxis": {
            "gridcolor": "white",
            "linecolor": "white",
            "ticks": ""
           }
          },
          "scene": {
           "xaxis": {
            "backgroundcolor": "#E5ECF6",
            "gridcolor": "white",
            "gridwidth": 2,
            "linecolor": "white",
            "showbackground": true,
            "ticks": "",
            "zerolinecolor": "white"
           },
           "yaxis": {
            "backgroundcolor": "#E5ECF6",
            "gridcolor": "white",
            "gridwidth": 2,
            "linecolor": "white",
            "showbackground": true,
            "ticks": "",
            "zerolinecolor": "white"
           },
           "zaxis": {
            "backgroundcolor": "#E5ECF6",
            "gridcolor": "white",
            "gridwidth": 2,
            "linecolor": "white",
            "showbackground": true,
            "ticks": "",
            "zerolinecolor": "white"
           }
          },
          "shapedefaults": {
           "line": {
            "color": "#2a3f5f"
           }
          },
          "ternary": {
           "aaxis": {
            "gridcolor": "white",
            "linecolor": "white",
            "ticks": ""
           },
           "baxis": {
            "gridcolor": "white",
            "linecolor": "white",
            "ticks": ""
           },
           "bgcolor": "#E5ECF6",
           "caxis": {
            "gridcolor": "white",
            "linecolor": "white",
            "ticks": ""
           }
          },
          "title": {
           "x": 0.05
          },
          "xaxis": {
           "automargin": true,
           "gridcolor": "white",
           "linecolor": "white",
           "ticks": "",
           "title": {
            "standoff": 15
           },
           "zerolinecolor": "white",
           "zerolinewidth": 2
          },
          "yaxis": {
           "automargin": true,
           "gridcolor": "white",
           "linecolor": "white",
           "ticks": "",
           "title": {
            "standoff": 15
           },
           "zerolinecolor": "white",
           "zerolinewidth": 2
          }
         }
        },
        "title": {
         "font": {
          "color": "#4D5663"
         }
        },
        "xaxis": {
         "gridcolor": "#E1E5ED",
         "showgrid": true,
         "tickfont": {
          "color": "#4D5663"
         },
         "title": {
          "font": {
           "color": "#4D5663"
          },
          "text": ""
         },
         "zerolinecolor": "#E1E5ED"
        },
        "yaxis": {
         "gridcolor": "#E1E5ED",
         "showgrid": true,
         "tickfont": {
          "color": "#4D5663"
         },
         "title": {
          "font": {
           "color": "#4D5663"
          },
          "text": ""
         },
         "zerolinecolor": "#E1E5ED"
        }
       }
      },
      "text/html": [
       "<div>                            <div id=\"a59d4b5f-fabc-4c1f-9bc8-16899b2e7b65\" class=\"plotly-graph-div\" style=\"height:525px; width:100%;\"></div>            <script type=\"text/javascript\">                require([\"plotly\"], function(Plotly) {                    window.PLOTLYENV=window.PLOTLYENV || {};\n",
       "                    window.PLOTLYENV.BASE_URL='https://plot.ly';                                    if (document.getElementById(\"a59d4b5f-fabc-4c1f-9bc8-16899b2e7b65\")) {                    Plotly.newPlot(                        \"a59d4b5f-fabc-4c1f-9bc8-16899b2e7b65\",                        [{\"colorscale\": [[0.0, \"rgb(165,0,38)\"], [0.1, \"rgb(215,48,39)\"], [0.2, \"rgb(244,109,67)\"], [0.3, \"rgb(253,174,97)\"], [0.4, \"rgb(254,224,144)\"], [0.5, \"rgb(255,255,191)\"], [0.6, \"rgb(224,243,248)\"], [0.7, \"rgb(171,217,233)\"], [0.8, \"rgb(116,173,209)\"], [0.9, \"rgb(69,117,180)\"], [1.0, \"rgb(49,54,149)\"]], \"type\": \"surface\", \"x\": [0, 1, 2, 3, 4], \"y\": [\"x\", \"y\", \"z\"], \"z\": [[1, 2, 3, 4, 5], [10, 20, 30, 40, 10], [500, 400, 300, 200, 100]]}],                        {\"legend\": {\"bgcolor\": \"#F5F6F9\", \"font\": {\"color\": \"#4D5663\"}}, \"paper_bgcolor\": \"#F5F6F9\", \"plot_bgcolor\": \"#F5F6F9\", \"template\": {\"data\": {\"bar\": [{\"error_x\": {\"color\": \"#2a3f5f\"}, \"error_y\": {\"color\": \"#2a3f5f\"}, \"marker\": {\"line\": {\"color\": \"#E5ECF6\", \"width\": 0.5}}, \"type\": \"bar\"}], \"barpolar\": [{\"marker\": {\"line\": {\"color\": \"#E5ECF6\", \"width\": 0.5}}, \"type\": \"barpolar\"}], \"carpet\": [{\"aaxis\": {\"endlinecolor\": \"#2a3f5f\", \"gridcolor\": \"white\", \"linecolor\": \"white\", \"minorgridcolor\": \"white\", \"startlinecolor\": \"#2a3f5f\"}, \"baxis\": {\"endlinecolor\": \"#2a3f5f\", \"gridcolor\": \"white\", \"linecolor\": \"white\", \"minorgridcolor\": \"white\", \"startlinecolor\": \"#2a3f5f\"}, \"type\": \"carpet\"}], \"choropleth\": [{\"colorbar\": {\"outlinewidth\": 0, \"ticks\": \"\"}, \"type\": \"choropleth\"}], \"contour\": [{\"colorbar\": {\"outlinewidth\": 0, \"ticks\": \"\"}, \"colorscale\": [[0.0, \"#0d0887\"], [0.1111111111111111, \"#46039f\"], [0.2222222222222222, \"#7201a8\"], [0.3333333333333333, \"#9c179e\"], [0.4444444444444444, \"#bd3786\"], [0.5555555555555556, \"#d8576b\"], [0.6666666666666666, \"#ed7953\"], [0.7777777777777778, \"#fb9f3a\"], [0.8888888888888888, \"#fdca26\"], [1.0, \"#f0f921\"]], \"type\": \"contour\"}], \"contourcarpet\": [{\"colorbar\": {\"outlinewidth\": 0, \"ticks\": \"\"}, \"type\": \"contourcarpet\"}], \"heatmap\": [{\"colorbar\": {\"outlinewidth\": 0, \"ticks\": \"\"}, \"colorscale\": [[0.0, \"#0d0887\"], [0.1111111111111111, \"#46039f\"], [0.2222222222222222, \"#7201a8\"], [0.3333333333333333, \"#9c179e\"], [0.4444444444444444, \"#bd3786\"], [0.5555555555555556, \"#d8576b\"], [0.6666666666666666, \"#ed7953\"], [0.7777777777777778, \"#fb9f3a\"], [0.8888888888888888, \"#fdca26\"], [1.0, \"#f0f921\"]], \"type\": \"heatmap\"}], \"heatmapgl\": [{\"colorbar\": {\"outlinewidth\": 0, \"ticks\": \"\"}, \"colorscale\": [[0.0, \"#0d0887\"], [0.1111111111111111, \"#46039f\"], [0.2222222222222222, \"#7201a8\"], [0.3333333333333333, \"#9c179e\"], [0.4444444444444444, \"#bd3786\"], [0.5555555555555556, \"#d8576b\"], [0.6666666666666666, \"#ed7953\"], [0.7777777777777778, \"#fb9f3a\"], [0.8888888888888888, \"#fdca26\"], [1.0, \"#f0f921\"]], \"type\": \"heatmapgl\"}], \"histogram\": [{\"marker\": {\"colorbar\": {\"outlinewidth\": 0, \"ticks\": \"\"}}, \"type\": \"histogram\"}], \"histogram2d\": [{\"colorbar\": {\"outlinewidth\": 0, \"ticks\": \"\"}, \"colorscale\": [[0.0, \"#0d0887\"], [0.1111111111111111, \"#46039f\"], [0.2222222222222222, \"#7201a8\"], [0.3333333333333333, \"#9c179e\"], [0.4444444444444444, \"#bd3786\"], [0.5555555555555556, \"#d8576b\"], [0.6666666666666666, \"#ed7953\"], [0.7777777777777778, \"#fb9f3a\"], [0.8888888888888888, \"#fdca26\"], [1.0, \"#f0f921\"]], \"type\": \"histogram2d\"}], \"histogram2dcontour\": [{\"colorbar\": {\"outlinewidth\": 0, \"ticks\": \"\"}, \"colorscale\": [[0.0, \"#0d0887\"], [0.1111111111111111, \"#46039f\"], [0.2222222222222222, \"#7201a8\"], [0.3333333333333333, \"#9c179e\"], [0.4444444444444444, \"#bd3786\"], [0.5555555555555556, \"#d8576b\"], [0.6666666666666666, \"#ed7953\"], [0.7777777777777778, \"#fb9f3a\"], [0.8888888888888888, \"#fdca26\"], [1.0, \"#f0f921\"]], \"type\": \"histogram2dcontour\"}], \"mesh3d\": [{\"colorbar\": {\"outlinewidth\": 0, \"ticks\": \"\"}, \"type\": \"mesh3d\"}], \"parcoords\": [{\"line\": {\"colorbar\": {\"outlinewidth\": 0, \"ticks\": \"\"}}, \"type\": \"parcoords\"}], \"pie\": [{\"automargin\": true, \"type\": \"pie\"}], \"scatter\": [{\"marker\": {\"colorbar\": {\"outlinewidth\": 0, \"ticks\": \"\"}}, \"type\": \"scatter\"}], \"scatter3d\": [{\"line\": {\"colorbar\": {\"outlinewidth\": 0, \"ticks\": \"\"}}, \"marker\": {\"colorbar\": {\"outlinewidth\": 0, \"ticks\": \"\"}}, \"type\": \"scatter3d\"}], \"scattercarpet\": [{\"marker\": {\"colorbar\": {\"outlinewidth\": 0, \"ticks\": \"\"}}, \"type\": \"scattercarpet\"}], \"scattergeo\": [{\"marker\": {\"colorbar\": {\"outlinewidth\": 0, \"ticks\": \"\"}}, \"type\": \"scattergeo\"}], \"scattergl\": [{\"marker\": {\"colorbar\": {\"outlinewidth\": 0, \"ticks\": \"\"}}, \"type\": \"scattergl\"}], \"scattermapbox\": [{\"marker\": {\"colorbar\": {\"outlinewidth\": 0, \"ticks\": \"\"}}, \"type\": \"scattermapbox\"}], \"scatterpolar\": [{\"marker\": {\"colorbar\": {\"outlinewidth\": 0, \"ticks\": \"\"}}, \"type\": \"scatterpolar\"}], \"scatterpolargl\": [{\"marker\": {\"colorbar\": {\"outlinewidth\": 0, \"ticks\": \"\"}}, \"type\": \"scatterpolargl\"}], \"scatterternary\": [{\"marker\": {\"colorbar\": {\"outlinewidth\": 0, \"ticks\": \"\"}}, \"type\": \"scatterternary\"}], \"surface\": [{\"colorbar\": {\"outlinewidth\": 0, \"ticks\": \"\"}, \"colorscale\": [[0.0, \"#0d0887\"], [0.1111111111111111, \"#46039f\"], [0.2222222222222222, \"#7201a8\"], [0.3333333333333333, \"#9c179e\"], [0.4444444444444444, \"#bd3786\"], [0.5555555555555556, \"#d8576b\"], [0.6666666666666666, \"#ed7953\"], [0.7777777777777778, \"#fb9f3a\"], [0.8888888888888888, \"#fdca26\"], [1.0, \"#f0f921\"]], \"type\": \"surface\"}], \"table\": [{\"cells\": {\"fill\": {\"color\": \"#EBF0F8\"}, \"line\": {\"color\": \"white\"}}, \"header\": {\"fill\": {\"color\": \"#C8D4E3\"}, \"line\": {\"color\": \"white\"}}, \"type\": \"table\"}]}, \"layout\": {\"annotationdefaults\": {\"arrowcolor\": \"#2a3f5f\", \"arrowhead\": 0, \"arrowwidth\": 1}, \"autotypenumbers\": \"strict\", \"coloraxis\": {\"colorbar\": {\"outlinewidth\": 0, \"ticks\": \"\"}}, \"colorscale\": {\"diverging\": [[0, \"#8e0152\"], [0.1, \"#c51b7d\"], [0.2, \"#de77ae\"], [0.3, \"#f1b6da\"], [0.4, \"#fde0ef\"], [0.5, \"#f7f7f7\"], [0.6, \"#e6f5d0\"], [0.7, \"#b8e186\"], [0.8, \"#7fbc41\"], [0.9, \"#4d9221\"], [1, \"#276419\"]], \"sequential\": [[0.0, \"#0d0887\"], [0.1111111111111111, \"#46039f\"], [0.2222222222222222, \"#7201a8\"], [0.3333333333333333, \"#9c179e\"], [0.4444444444444444, \"#bd3786\"], [0.5555555555555556, \"#d8576b\"], [0.6666666666666666, \"#ed7953\"], [0.7777777777777778, \"#fb9f3a\"], [0.8888888888888888, \"#fdca26\"], [1.0, \"#f0f921\"]], \"sequentialminus\": [[0.0, \"#0d0887\"], [0.1111111111111111, \"#46039f\"], [0.2222222222222222, \"#7201a8\"], [0.3333333333333333, \"#9c179e\"], [0.4444444444444444, \"#bd3786\"], [0.5555555555555556, \"#d8576b\"], [0.6666666666666666, \"#ed7953\"], [0.7777777777777778, \"#fb9f3a\"], [0.8888888888888888, \"#fdca26\"], [1.0, \"#f0f921\"]]}, \"colorway\": [\"#636efa\", \"#EF553B\", \"#00cc96\", \"#ab63fa\", \"#FFA15A\", \"#19d3f3\", \"#FF6692\", \"#B6E880\", \"#FF97FF\", \"#FECB52\"], \"font\": {\"color\": \"#2a3f5f\"}, \"geo\": {\"bgcolor\": \"white\", \"lakecolor\": \"white\", \"landcolor\": \"#E5ECF6\", \"showlakes\": true, \"showland\": true, \"subunitcolor\": \"white\"}, \"hoverlabel\": {\"align\": \"left\"}, \"hovermode\": \"closest\", \"mapbox\": {\"style\": \"light\"}, \"paper_bgcolor\": \"white\", \"plot_bgcolor\": \"#E5ECF6\", \"polar\": {\"angularaxis\": {\"gridcolor\": \"white\", \"linecolor\": \"white\", \"ticks\": \"\"}, \"bgcolor\": \"#E5ECF6\", \"radialaxis\": {\"gridcolor\": \"white\", \"linecolor\": \"white\", \"ticks\": \"\"}}, \"scene\": {\"xaxis\": {\"backgroundcolor\": \"#E5ECF6\", \"gridcolor\": \"white\", \"gridwidth\": 2, \"linecolor\": \"white\", \"showbackground\": true, \"ticks\": \"\", \"zerolinecolor\": \"white\"}, \"yaxis\": {\"backgroundcolor\": \"#E5ECF6\", \"gridcolor\": \"white\", \"gridwidth\": 2, \"linecolor\": \"white\", \"showbackground\": true, \"ticks\": \"\", \"zerolinecolor\": \"white\"}, \"zaxis\": {\"backgroundcolor\": \"#E5ECF6\", \"gridcolor\": \"white\", \"gridwidth\": 2, \"linecolor\": \"white\", \"showbackground\": true, \"ticks\": \"\", \"zerolinecolor\": \"white\"}}, \"shapedefaults\": {\"line\": {\"color\": \"#2a3f5f\"}}, \"ternary\": {\"aaxis\": {\"gridcolor\": \"white\", \"linecolor\": \"white\", \"ticks\": \"\"}, \"baxis\": {\"gridcolor\": \"white\", \"linecolor\": \"white\", \"ticks\": \"\"}, \"bgcolor\": \"#E5ECF6\", \"caxis\": {\"gridcolor\": \"white\", \"linecolor\": \"white\", \"ticks\": \"\"}}, \"title\": {\"x\": 0.05}, \"xaxis\": {\"automargin\": true, \"gridcolor\": \"white\", \"linecolor\": \"white\", \"ticks\": \"\", \"title\": {\"standoff\": 15}, \"zerolinecolor\": \"white\", \"zerolinewidth\": 2}, \"yaxis\": {\"automargin\": true, \"gridcolor\": \"white\", \"linecolor\": \"white\", \"ticks\": \"\", \"title\": {\"standoff\": 15}, \"zerolinecolor\": \"white\", \"zerolinewidth\": 2}}}, \"title\": {\"font\": {\"color\": \"#4D5663\"}}, \"xaxis\": {\"gridcolor\": \"#E1E5ED\", \"showgrid\": true, \"tickfont\": {\"color\": \"#4D5663\"}, \"title\": {\"font\": {\"color\": \"#4D5663\"}, \"text\": \"\"}, \"zerolinecolor\": \"#E1E5ED\"}, \"yaxis\": {\"gridcolor\": \"#E1E5ED\", \"showgrid\": true, \"tickfont\": {\"color\": \"#4D5663\"}, \"title\": {\"font\": {\"color\": \"#4D5663\"}, \"text\": \"\"}, \"zerolinecolor\": \"#E1E5ED\"}},                        {\"showLink\": true, \"linkText\": \"Export to plot.ly\", \"plotlyServerURL\": \"https://plot.ly\", \"responsive\": true}                    ).then(function(){\n",
       "                            \n",
       "var gd = document.getElementById('a59d4b5f-fabc-4c1f-9bc8-16899b2e7b65');\n",
       "var x = new MutationObserver(function (mutations, observer) {{\n",
       "        var display = window.getComputedStyle(gd).display;\n",
       "        if (!display || display === 'none') {{\n",
       "            console.log([gd, 'removed!']);\n",
       "            Plotly.purge(gd);\n",
       "            observer.disconnect();\n",
       "        }}\n",
       "}});\n",
       "\n",
       "// Listen for the removal of the full notebook cells\n",
       "var notebookContainer = gd.closest('#notebook-container');\n",
       "if (notebookContainer) {{\n",
       "    x.observe(notebookContainer, {childList: true});\n",
       "}}\n",
       "\n",
       "// Listen for the clearing of the current output cell\n",
       "var outputEl = gd.closest('.output');\n",
       "if (outputEl) {{\n",
       "    x.observe(outputEl, {childList: true});\n",
       "}}\n",
       "\n",
       "                        })                };                });            </script>        </div>"
      ]
     },
     "metadata": {},
     "output_type": "display_data"
    }
   ],
   "source": [
    "df3 = pd.DataFrame({'x':[1,2,3,4,5],'y':[10,20,30,40,10],'z':[500,400,300,200,100]})\n",
    "df3.iplot(kind='surface',colorscale='rdylbu')"
   ]
  },
  {
   "cell_type": "code",
   "execution_count": 45,
   "metadata": {},
   "outputs": [
    {
     "data": {
      "application/vnd.plotly.v1+json": {
       "config": {
        "linkText": "Export to plot.ly",
        "plotlyServerURL": "https://plot.ly",
        "showLink": true
       },
       "data": [
        {
         "histfunc": "count",
         "histnorm": "",
         "marker": {
          "color": "rgba(255, 153, 51, 1.0)",
          "line": {
           "color": "#4D5663",
           "width": 1.3
          }
         },
         "name": "A",
         "nbinsx": 25,
         "opacity": 0.8,
         "orientation": "v",
         "type": "histogram",
         "x": [
          -0.3743792182439242,
          -1.6197326287777765,
          -1.6694241693284275,
          -0.8234720676448699,
          0.13693934194800925,
          -0.7786890259731041,
          1.2425205537238309,
          0.23661461195068445,
          0.4427518671054902,
          2.0602492413190627,
          0.17347553754917663,
          0.5272904974803029,
          1.0501036685459912,
          0.27964168711265713,
          -0.7272118486201753,
          -0.22172121217961174,
          -1.4066185696758435,
          0.14943198489384765,
          1.9432086736456875,
          2.5220657307651355,
          -1.575145667869044,
          2.106775558992982,
          0.10174098248546284,
          1.7396932489191501,
          2.074786533983352,
          -1.1987093179807613,
          -0.7165329207174465,
          2.606548254803393,
          -0.1731233457547235,
          1.0190282826591162,
          -0.8462404362171113,
          -0.013844020914462261,
          0.03325819160101085,
          1.7785315479135524,
          -0.845672667552957,
          1.2601128671438402,
          -1.8143044052327248,
          0.5970279618887205,
          -0.5769416532706793,
          -0.32364036863083556,
          0.03374636130467711,
          1.1262235526047673,
          -0.8835399735809639,
          0.06711967156865234,
          -1.4139271342518789,
          -0.6575777307138329,
          0.46229213676974534,
          1.0313703525873301,
          -0.493699775953662,
          0.7661403815389104,
          -0.17056924610476254,
          0.1903867851538594,
          -0.5971541790764131,
          1.241771128939705,
          -0.0983027365076231,
          0.09160084021308144,
          -1.9601710782173678,
          0.037315681418766455,
          0.8821219685238391,
          -0.7375779940391467,
          0.19254111855709474,
          0.6924571147549479,
          0.16154451786586277,
          -1.0727850115023716,
          -0.01649775264774975,
          -0.8049803974922969,
          -0.8398704184601684,
          0.8505246844046274,
          -0.5200062488807476,
          0.014739737631221722,
          0.12869943874606232,
          -1.392960388914175,
          0.20609619106358215,
          -0.10679886929113508,
          0.8973824818566172,
          -0.2730155117429203,
          0.7207158467228036,
          -0.43694692713810984,
          1.0219884648429,
          -0.108800476161582,
          1.165329073668084,
          -0.16302070112148123,
          0.5891703252134486,
          0.11281410046037657,
          0.4284575251522544,
          -1.9219006979808662,
          -0.6563995509383275,
          -1.43950547963843,
          -0.2762985778717633,
          3.010485863448667,
          -0.12036745273155926,
          -0.20020535022170713,
          0.31097193170068255,
          1.0109448623739885,
          -0.17848199577529572,
          0.2846917936792169,
          -0.6808365819892909,
          -1.0071421584201592,
          2.283632305623987,
          -2.1543573610817393
         ]
        }
       ],
       "layout": {
        "barmode": "overlay",
        "legend": {
         "bgcolor": "#F5F6F9",
         "font": {
          "color": "#4D5663"
         }
        },
        "paper_bgcolor": "#F5F6F9",
        "plot_bgcolor": "#F5F6F9",
        "template": {
         "data": {
          "bar": [
           {
            "error_x": {
             "color": "#2a3f5f"
            },
            "error_y": {
             "color": "#2a3f5f"
            },
            "marker": {
             "line": {
              "color": "#E5ECF6",
              "width": 0.5
             }
            },
            "type": "bar"
           }
          ],
          "barpolar": [
           {
            "marker": {
             "line": {
              "color": "#E5ECF6",
              "width": 0.5
             }
            },
            "type": "barpolar"
           }
          ],
          "carpet": [
           {
            "aaxis": {
             "endlinecolor": "#2a3f5f",
             "gridcolor": "white",
             "linecolor": "white",
             "minorgridcolor": "white",
             "startlinecolor": "#2a3f5f"
            },
            "baxis": {
             "endlinecolor": "#2a3f5f",
             "gridcolor": "white",
             "linecolor": "white",
             "minorgridcolor": "white",
             "startlinecolor": "#2a3f5f"
            },
            "type": "carpet"
           }
          ],
          "choropleth": [
           {
            "colorbar": {
             "outlinewidth": 0,
             "ticks": ""
            },
            "type": "choropleth"
           }
          ],
          "contour": [
           {
            "colorbar": {
             "outlinewidth": 0,
             "ticks": ""
            },
            "colorscale": [
             [
              0,
              "#0d0887"
             ],
             [
              0.1111111111111111,
              "#46039f"
             ],
             [
              0.2222222222222222,
              "#7201a8"
             ],
             [
              0.3333333333333333,
              "#9c179e"
             ],
             [
              0.4444444444444444,
              "#bd3786"
             ],
             [
              0.5555555555555556,
              "#d8576b"
             ],
             [
              0.6666666666666666,
              "#ed7953"
             ],
             [
              0.7777777777777778,
              "#fb9f3a"
             ],
             [
              0.8888888888888888,
              "#fdca26"
             ],
             [
              1,
              "#f0f921"
             ]
            ],
            "type": "contour"
           }
          ],
          "contourcarpet": [
           {
            "colorbar": {
             "outlinewidth": 0,
             "ticks": ""
            },
            "type": "contourcarpet"
           }
          ],
          "heatmap": [
           {
            "colorbar": {
             "outlinewidth": 0,
             "ticks": ""
            },
            "colorscale": [
             [
              0,
              "#0d0887"
             ],
             [
              0.1111111111111111,
              "#46039f"
             ],
             [
              0.2222222222222222,
              "#7201a8"
             ],
             [
              0.3333333333333333,
              "#9c179e"
             ],
             [
              0.4444444444444444,
              "#bd3786"
             ],
             [
              0.5555555555555556,
              "#d8576b"
             ],
             [
              0.6666666666666666,
              "#ed7953"
             ],
             [
              0.7777777777777778,
              "#fb9f3a"
             ],
             [
              0.8888888888888888,
              "#fdca26"
             ],
             [
              1,
              "#f0f921"
             ]
            ],
            "type": "heatmap"
           }
          ],
          "heatmapgl": [
           {
            "colorbar": {
             "outlinewidth": 0,
             "ticks": ""
            },
            "colorscale": [
             [
              0,
              "#0d0887"
             ],
             [
              0.1111111111111111,
              "#46039f"
             ],
             [
              0.2222222222222222,
              "#7201a8"
             ],
             [
              0.3333333333333333,
              "#9c179e"
             ],
             [
              0.4444444444444444,
              "#bd3786"
             ],
             [
              0.5555555555555556,
              "#d8576b"
             ],
             [
              0.6666666666666666,
              "#ed7953"
             ],
             [
              0.7777777777777778,
              "#fb9f3a"
             ],
             [
              0.8888888888888888,
              "#fdca26"
             ],
             [
              1,
              "#f0f921"
             ]
            ],
            "type": "heatmapgl"
           }
          ],
          "histogram": [
           {
            "marker": {
             "colorbar": {
              "outlinewidth": 0,
              "ticks": ""
             }
            },
            "type": "histogram"
           }
          ],
          "histogram2d": [
           {
            "colorbar": {
             "outlinewidth": 0,
             "ticks": ""
            },
            "colorscale": [
             [
              0,
              "#0d0887"
             ],
             [
              0.1111111111111111,
              "#46039f"
             ],
             [
              0.2222222222222222,
              "#7201a8"
             ],
             [
              0.3333333333333333,
              "#9c179e"
             ],
             [
              0.4444444444444444,
              "#bd3786"
             ],
             [
              0.5555555555555556,
              "#d8576b"
             ],
             [
              0.6666666666666666,
              "#ed7953"
             ],
             [
              0.7777777777777778,
              "#fb9f3a"
             ],
             [
              0.8888888888888888,
              "#fdca26"
             ],
             [
              1,
              "#f0f921"
             ]
            ],
            "type": "histogram2d"
           }
          ],
          "histogram2dcontour": [
           {
            "colorbar": {
             "outlinewidth": 0,
             "ticks": ""
            },
            "colorscale": [
             [
              0,
              "#0d0887"
             ],
             [
              0.1111111111111111,
              "#46039f"
             ],
             [
              0.2222222222222222,
              "#7201a8"
             ],
             [
              0.3333333333333333,
              "#9c179e"
             ],
             [
              0.4444444444444444,
              "#bd3786"
             ],
             [
              0.5555555555555556,
              "#d8576b"
             ],
             [
              0.6666666666666666,
              "#ed7953"
             ],
             [
              0.7777777777777778,
              "#fb9f3a"
             ],
             [
              0.8888888888888888,
              "#fdca26"
             ],
             [
              1,
              "#f0f921"
             ]
            ],
            "type": "histogram2dcontour"
           }
          ],
          "mesh3d": [
           {
            "colorbar": {
             "outlinewidth": 0,
             "ticks": ""
            },
            "type": "mesh3d"
           }
          ],
          "parcoords": [
           {
            "line": {
             "colorbar": {
              "outlinewidth": 0,
              "ticks": ""
             }
            },
            "type": "parcoords"
           }
          ],
          "pie": [
           {
            "automargin": true,
            "type": "pie"
           }
          ],
          "scatter": [
           {
            "marker": {
             "colorbar": {
              "outlinewidth": 0,
              "ticks": ""
             }
            },
            "type": "scatter"
           }
          ],
          "scatter3d": [
           {
            "line": {
             "colorbar": {
              "outlinewidth": 0,
              "ticks": ""
             }
            },
            "marker": {
             "colorbar": {
              "outlinewidth": 0,
              "ticks": ""
             }
            },
            "type": "scatter3d"
           }
          ],
          "scattercarpet": [
           {
            "marker": {
             "colorbar": {
              "outlinewidth": 0,
              "ticks": ""
             }
            },
            "type": "scattercarpet"
           }
          ],
          "scattergeo": [
           {
            "marker": {
             "colorbar": {
              "outlinewidth": 0,
              "ticks": ""
             }
            },
            "type": "scattergeo"
           }
          ],
          "scattergl": [
           {
            "marker": {
             "colorbar": {
              "outlinewidth": 0,
              "ticks": ""
             }
            },
            "type": "scattergl"
           }
          ],
          "scattermapbox": [
           {
            "marker": {
             "colorbar": {
              "outlinewidth": 0,
              "ticks": ""
             }
            },
            "type": "scattermapbox"
           }
          ],
          "scatterpolar": [
           {
            "marker": {
             "colorbar": {
              "outlinewidth": 0,
              "ticks": ""
             }
            },
            "type": "scatterpolar"
           }
          ],
          "scatterpolargl": [
           {
            "marker": {
             "colorbar": {
              "outlinewidth": 0,
              "ticks": ""
             }
            },
            "type": "scatterpolargl"
           }
          ],
          "scatterternary": [
           {
            "marker": {
             "colorbar": {
              "outlinewidth": 0,
              "ticks": ""
             }
            },
            "type": "scatterternary"
           }
          ],
          "surface": [
           {
            "colorbar": {
             "outlinewidth": 0,
             "ticks": ""
            },
            "colorscale": [
             [
              0,
              "#0d0887"
             ],
             [
              0.1111111111111111,
              "#46039f"
             ],
             [
              0.2222222222222222,
              "#7201a8"
             ],
             [
              0.3333333333333333,
              "#9c179e"
             ],
             [
              0.4444444444444444,
              "#bd3786"
             ],
             [
              0.5555555555555556,
              "#d8576b"
             ],
             [
              0.6666666666666666,
              "#ed7953"
             ],
             [
              0.7777777777777778,
              "#fb9f3a"
             ],
             [
              0.8888888888888888,
              "#fdca26"
             ],
             [
              1,
              "#f0f921"
             ]
            ],
            "type": "surface"
           }
          ],
          "table": [
           {
            "cells": {
             "fill": {
              "color": "#EBF0F8"
             },
             "line": {
              "color": "white"
             }
            },
            "header": {
             "fill": {
              "color": "#C8D4E3"
             },
             "line": {
              "color": "white"
             }
            },
            "type": "table"
           }
          ]
         },
         "layout": {
          "annotationdefaults": {
           "arrowcolor": "#2a3f5f",
           "arrowhead": 0,
           "arrowwidth": 1
          },
          "autotypenumbers": "strict",
          "coloraxis": {
           "colorbar": {
            "outlinewidth": 0,
            "ticks": ""
           }
          },
          "colorscale": {
           "diverging": [
            [
             0,
             "#8e0152"
            ],
            [
             0.1,
             "#c51b7d"
            ],
            [
             0.2,
             "#de77ae"
            ],
            [
             0.3,
             "#f1b6da"
            ],
            [
             0.4,
             "#fde0ef"
            ],
            [
             0.5,
             "#f7f7f7"
            ],
            [
             0.6,
             "#e6f5d0"
            ],
            [
             0.7,
             "#b8e186"
            ],
            [
             0.8,
             "#7fbc41"
            ],
            [
             0.9,
             "#4d9221"
            ],
            [
             1,
             "#276419"
            ]
           ],
           "sequential": [
            [
             0,
             "#0d0887"
            ],
            [
             0.1111111111111111,
             "#46039f"
            ],
            [
             0.2222222222222222,
             "#7201a8"
            ],
            [
             0.3333333333333333,
             "#9c179e"
            ],
            [
             0.4444444444444444,
             "#bd3786"
            ],
            [
             0.5555555555555556,
             "#d8576b"
            ],
            [
             0.6666666666666666,
             "#ed7953"
            ],
            [
             0.7777777777777778,
             "#fb9f3a"
            ],
            [
             0.8888888888888888,
             "#fdca26"
            ],
            [
             1,
             "#f0f921"
            ]
           ],
           "sequentialminus": [
            [
             0,
             "#0d0887"
            ],
            [
             0.1111111111111111,
             "#46039f"
            ],
            [
             0.2222222222222222,
             "#7201a8"
            ],
            [
             0.3333333333333333,
             "#9c179e"
            ],
            [
             0.4444444444444444,
             "#bd3786"
            ],
            [
             0.5555555555555556,
             "#d8576b"
            ],
            [
             0.6666666666666666,
             "#ed7953"
            ],
            [
             0.7777777777777778,
             "#fb9f3a"
            ],
            [
             0.8888888888888888,
             "#fdca26"
            ],
            [
             1,
             "#f0f921"
            ]
           ]
          },
          "colorway": [
           "#636efa",
           "#EF553B",
           "#00cc96",
           "#ab63fa",
           "#FFA15A",
           "#19d3f3",
           "#FF6692",
           "#B6E880",
           "#FF97FF",
           "#FECB52"
          ],
          "font": {
           "color": "#2a3f5f"
          },
          "geo": {
           "bgcolor": "white",
           "lakecolor": "white",
           "landcolor": "#E5ECF6",
           "showlakes": true,
           "showland": true,
           "subunitcolor": "white"
          },
          "hoverlabel": {
           "align": "left"
          },
          "hovermode": "closest",
          "mapbox": {
           "style": "light"
          },
          "paper_bgcolor": "white",
          "plot_bgcolor": "#E5ECF6",
          "polar": {
           "angularaxis": {
            "gridcolor": "white",
            "linecolor": "white",
            "ticks": ""
           },
           "bgcolor": "#E5ECF6",
           "radialaxis": {
            "gridcolor": "white",
            "linecolor": "white",
            "ticks": ""
           }
          },
          "scene": {
           "xaxis": {
            "backgroundcolor": "#E5ECF6",
            "gridcolor": "white",
            "gridwidth": 2,
            "linecolor": "white",
            "showbackground": true,
            "ticks": "",
            "zerolinecolor": "white"
           },
           "yaxis": {
            "backgroundcolor": "#E5ECF6",
            "gridcolor": "white",
            "gridwidth": 2,
            "linecolor": "white",
            "showbackground": true,
            "ticks": "",
            "zerolinecolor": "white"
           },
           "zaxis": {
            "backgroundcolor": "#E5ECF6",
            "gridcolor": "white",
            "gridwidth": 2,
            "linecolor": "white",
            "showbackground": true,
            "ticks": "",
            "zerolinecolor": "white"
           }
          },
          "shapedefaults": {
           "line": {
            "color": "#2a3f5f"
           }
          },
          "ternary": {
           "aaxis": {
            "gridcolor": "white",
            "linecolor": "white",
            "ticks": ""
           },
           "baxis": {
            "gridcolor": "white",
            "linecolor": "white",
            "ticks": ""
           },
           "bgcolor": "#E5ECF6",
           "caxis": {
            "gridcolor": "white",
            "linecolor": "white",
            "ticks": ""
           }
          },
          "title": {
           "x": 0.05
          },
          "xaxis": {
           "automargin": true,
           "gridcolor": "white",
           "linecolor": "white",
           "ticks": "",
           "title": {
            "standoff": 15
           },
           "zerolinecolor": "white",
           "zerolinewidth": 2
          },
          "yaxis": {
           "automargin": true,
           "gridcolor": "white",
           "linecolor": "white",
           "ticks": "",
           "title": {
            "standoff": 15
           },
           "zerolinecolor": "white",
           "zerolinewidth": 2
          }
         }
        },
        "title": {
         "font": {
          "color": "#4D5663"
         }
        },
        "xaxis": {
         "gridcolor": "#E1E5ED",
         "showgrid": true,
         "tickfont": {
          "color": "#4D5663"
         },
         "title": {
          "font": {
           "color": "#4D5663"
          },
          "text": ""
         },
         "zerolinecolor": "#E1E5ED"
        },
        "yaxis": {
         "gridcolor": "#E1E5ED",
         "showgrid": true,
         "tickfont": {
          "color": "#4D5663"
         },
         "title": {
          "font": {
           "color": "#4D5663"
          },
          "text": ""
         },
         "zerolinecolor": "#E1E5ED"
        }
       }
      },
      "text/html": [
       "<div>                            <div id=\"4078874a-62c4-47fd-9760-1f6457d7f8ef\" class=\"plotly-graph-div\" style=\"height:525px; width:100%;\"></div>            <script type=\"text/javascript\">                require([\"plotly\"], function(Plotly) {                    window.PLOTLYENV=window.PLOTLYENV || {};\n",
       "                    window.PLOTLYENV.BASE_URL='https://plot.ly';                                    if (document.getElementById(\"4078874a-62c4-47fd-9760-1f6457d7f8ef\")) {                    Plotly.newPlot(                        \"4078874a-62c4-47fd-9760-1f6457d7f8ef\",                        [{\"histfunc\": \"count\", \"histnorm\": \"\", \"marker\": {\"color\": \"rgba(255, 153, 51, 1.0)\", \"line\": {\"color\": \"#4D5663\", \"width\": 1.3}}, \"name\": \"A\", \"nbinsx\": 25, \"opacity\": 0.8, \"orientation\": \"v\", \"type\": \"histogram\", \"x\": [-0.3743792182439242, -1.6197326287777765, -1.6694241693284275, -0.8234720676448699, 0.13693934194800925, -0.7786890259731041, 1.2425205537238309, 0.23661461195068445, 0.4427518671054902, 2.0602492413190627, 0.17347553754917663, 0.5272904974803029, 1.0501036685459912, 0.27964168711265713, -0.7272118486201753, -0.22172121217961174, -1.4066185696758435, 0.14943198489384765, 1.9432086736456875, 2.5220657307651355, -1.575145667869044, 2.106775558992982, 0.10174098248546284, 1.7396932489191501, 2.074786533983352, -1.1987093179807613, -0.7165329207174465, 2.606548254803393, -0.1731233457547235, 1.0190282826591162, -0.8462404362171113, -0.013844020914462261, 0.03325819160101085, 1.7785315479135524, -0.845672667552957, 1.2601128671438402, -1.8143044052327248, 0.5970279618887205, -0.5769416532706793, -0.32364036863083556, 0.03374636130467711, 1.1262235526047673, -0.8835399735809639, 0.06711967156865234, -1.4139271342518789, -0.6575777307138329, 0.46229213676974534, 1.0313703525873301, -0.493699775953662, 0.7661403815389104, -0.17056924610476254, 0.1903867851538594, -0.5971541790764131, 1.241771128939705, -0.0983027365076231, 0.09160084021308144, -1.9601710782173678, 0.037315681418766455, 0.8821219685238391, -0.7375779940391467, 0.19254111855709474, 0.6924571147549479, 0.16154451786586277, -1.0727850115023716, -0.01649775264774975, -0.8049803974922969, -0.8398704184601684, 0.8505246844046274, -0.5200062488807476, 0.014739737631221722, 0.12869943874606232, -1.392960388914175, 0.20609619106358215, -0.10679886929113508, 0.8973824818566172, -0.2730155117429203, 0.7207158467228036, -0.43694692713810984, 1.0219884648429, -0.108800476161582, 1.165329073668084, -0.16302070112148123, 0.5891703252134486, 0.11281410046037657, 0.4284575251522544, -1.9219006979808662, -0.6563995509383275, -1.43950547963843, -0.2762985778717633, 3.010485863448667, -0.12036745273155926, -0.20020535022170713, 0.31097193170068255, 1.0109448623739885, -0.17848199577529572, 0.2846917936792169, -0.6808365819892909, -1.0071421584201592, 2.283632305623987, -2.1543573610817393]}],                        {\"barmode\": \"overlay\", \"legend\": {\"bgcolor\": \"#F5F6F9\", \"font\": {\"color\": \"#4D5663\"}}, \"paper_bgcolor\": \"#F5F6F9\", \"plot_bgcolor\": \"#F5F6F9\", \"template\": {\"data\": {\"bar\": [{\"error_x\": {\"color\": \"#2a3f5f\"}, \"error_y\": {\"color\": \"#2a3f5f\"}, \"marker\": {\"line\": {\"color\": \"#E5ECF6\", \"width\": 0.5}}, \"type\": \"bar\"}], \"barpolar\": [{\"marker\": {\"line\": {\"color\": \"#E5ECF6\", \"width\": 0.5}}, \"type\": \"barpolar\"}], \"carpet\": [{\"aaxis\": {\"endlinecolor\": \"#2a3f5f\", \"gridcolor\": \"white\", \"linecolor\": \"white\", \"minorgridcolor\": \"white\", \"startlinecolor\": \"#2a3f5f\"}, \"baxis\": {\"endlinecolor\": \"#2a3f5f\", \"gridcolor\": \"white\", \"linecolor\": \"white\", \"minorgridcolor\": \"white\", \"startlinecolor\": \"#2a3f5f\"}, \"type\": \"carpet\"}], \"choropleth\": [{\"colorbar\": {\"outlinewidth\": 0, \"ticks\": \"\"}, \"type\": \"choropleth\"}], \"contour\": [{\"colorbar\": {\"outlinewidth\": 0, \"ticks\": \"\"}, \"colorscale\": [[0.0, \"#0d0887\"], [0.1111111111111111, \"#46039f\"], [0.2222222222222222, \"#7201a8\"], [0.3333333333333333, \"#9c179e\"], [0.4444444444444444, \"#bd3786\"], [0.5555555555555556, \"#d8576b\"], [0.6666666666666666, \"#ed7953\"], [0.7777777777777778, \"#fb9f3a\"], [0.8888888888888888, \"#fdca26\"], [1.0, \"#f0f921\"]], \"type\": \"contour\"}], \"contourcarpet\": [{\"colorbar\": {\"outlinewidth\": 0, \"ticks\": \"\"}, \"type\": \"contourcarpet\"}], \"heatmap\": [{\"colorbar\": {\"outlinewidth\": 0, \"ticks\": \"\"}, \"colorscale\": [[0.0, \"#0d0887\"], [0.1111111111111111, \"#46039f\"], [0.2222222222222222, \"#7201a8\"], [0.3333333333333333, \"#9c179e\"], [0.4444444444444444, \"#bd3786\"], [0.5555555555555556, \"#d8576b\"], [0.6666666666666666, \"#ed7953\"], [0.7777777777777778, \"#fb9f3a\"], [0.8888888888888888, \"#fdca26\"], [1.0, \"#f0f921\"]], \"type\": \"heatmap\"}], \"heatmapgl\": [{\"colorbar\": {\"outlinewidth\": 0, \"ticks\": \"\"}, \"colorscale\": [[0.0, \"#0d0887\"], [0.1111111111111111, \"#46039f\"], [0.2222222222222222, \"#7201a8\"], [0.3333333333333333, \"#9c179e\"], [0.4444444444444444, \"#bd3786\"], [0.5555555555555556, \"#d8576b\"], [0.6666666666666666, \"#ed7953\"], [0.7777777777777778, \"#fb9f3a\"], [0.8888888888888888, \"#fdca26\"], [1.0, \"#f0f921\"]], \"type\": \"heatmapgl\"}], \"histogram\": [{\"marker\": {\"colorbar\": {\"outlinewidth\": 0, \"ticks\": \"\"}}, \"type\": \"histogram\"}], \"histogram2d\": [{\"colorbar\": {\"outlinewidth\": 0, \"ticks\": \"\"}, \"colorscale\": [[0.0, \"#0d0887\"], [0.1111111111111111, \"#46039f\"], [0.2222222222222222, \"#7201a8\"], [0.3333333333333333, \"#9c179e\"], [0.4444444444444444, \"#bd3786\"], [0.5555555555555556, \"#d8576b\"], [0.6666666666666666, \"#ed7953\"], [0.7777777777777778, \"#fb9f3a\"], [0.8888888888888888, \"#fdca26\"], [1.0, \"#f0f921\"]], \"type\": \"histogram2d\"}], \"histogram2dcontour\": [{\"colorbar\": {\"outlinewidth\": 0, \"ticks\": \"\"}, \"colorscale\": [[0.0, \"#0d0887\"], [0.1111111111111111, \"#46039f\"], [0.2222222222222222, \"#7201a8\"], [0.3333333333333333, \"#9c179e\"], [0.4444444444444444, \"#bd3786\"], [0.5555555555555556, \"#d8576b\"], [0.6666666666666666, \"#ed7953\"], [0.7777777777777778, \"#fb9f3a\"], [0.8888888888888888, \"#fdca26\"], [1.0, \"#f0f921\"]], \"type\": \"histogram2dcontour\"}], \"mesh3d\": [{\"colorbar\": {\"outlinewidth\": 0, \"ticks\": \"\"}, \"type\": \"mesh3d\"}], \"parcoords\": [{\"line\": {\"colorbar\": {\"outlinewidth\": 0, \"ticks\": \"\"}}, \"type\": \"parcoords\"}], \"pie\": [{\"automargin\": true, \"type\": \"pie\"}], \"scatter\": [{\"marker\": {\"colorbar\": {\"outlinewidth\": 0, \"ticks\": \"\"}}, \"type\": \"scatter\"}], \"scatter3d\": [{\"line\": {\"colorbar\": {\"outlinewidth\": 0, \"ticks\": \"\"}}, \"marker\": {\"colorbar\": {\"outlinewidth\": 0, \"ticks\": \"\"}}, \"type\": \"scatter3d\"}], \"scattercarpet\": [{\"marker\": {\"colorbar\": {\"outlinewidth\": 0, \"ticks\": \"\"}}, \"type\": \"scattercarpet\"}], \"scattergeo\": [{\"marker\": {\"colorbar\": {\"outlinewidth\": 0, \"ticks\": \"\"}}, \"type\": \"scattergeo\"}], \"scattergl\": [{\"marker\": {\"colorbar\": {\"outlinewidth\": 0, \"ticks\": \"\"}}, \"type\": \"scattergl\"}], \"scattermapbox\": [{\"marker\": {\"colorbar\": {\"outlinewidth\": 0, \"ticks\": \"\"}}, \"type\": \"scattermapbox\"}], \"scatterpolar\": [{\"marker\": {\"colorbar\": {\"outlinewidth\": 0, \"ticks\": \"\"}}, \"type\": \"scatterpolar\"}], \"scatterpolargl\": [{\"marker\": {\"colorbar\": {\"outlinewidth\": 0, \"ticks\": \"\"}}, \"type\": \"scatterpolargl\"}], \"scatterternary\": [{\"marker\": {\"colorbar\": {\"outlinewidth\": 0, \"ticks\": \"\"}}, \"type\": \"scatterternary\"}], \"surface\": [{\"colorbar\": {\"outlinewidth\": 0, \"ticks\": \"\"}, \"colorscale\": [[0.0, \"#0d0887\"], [0.1111111111111111, \"#46039f\"], [0.2222222222222222, \"#7201a8\"], [0.3333333333333333, \"#9c179e\"], [0.4444444444444444, \"#bd3786\"], [0.5555555555555556, \"#d8576b\"], [0.6666666666666666, \"#ed7953\"], [0.7777777777777778, \"#fb9f3a\"], [0.8888888888888888, \"#fdca26\"], [1.0, \"#f0f921\"]], \"type\": \"surface\"}], \"table\": [{\"cells\": {\"fill\": {\"color\": \"#EBF0F8\"}, \"line\": {\"color\": \"white\"}}, \"header\": {\"fill\": {\"color\": \"#C8D4E3\"}, \"line\": {\"color\": \"white\"}}, \"type\": \"table\"}]}, \"layout\": {\"annotationdefaults\": {\"arrowcolor\": \"#2a3f5f\", \"arrowhead\": 0, \"arrowwidth\": 1}, \"autotypenumbers\": \"strict\", \"coloraxis\": {\"colorbar\": {\"outlinewidth\": 0, \"ticks\": \"\"}}, \"colorscale\": {\"diverging\": [[0, \"#8e0152\"], [0.1, \"#c51b7d\"], [0.2, \"#de77ae\"], [0.3, \"#f1b6da\"], [0.4, \"#fde0ef\"], [0.5, \"#f7f7f7\"], [0.6, \"#e6f5d0\"], [0.7, \"#b8e186\"], [0.8, \"#7fbc41\"], [0.9, \"#4d9221\"], [1, \"#276419\"]], \"sequential\": [[0.0, \"#0d0887\"], [0.1111111111111111, \"#46039f\"], [0.2222222222222222, \"#7201a8\"], [0.3333333333333333, \"#9c179e\"], [0.4444444444444444, \"#bd3786\"], [0.5555555555555556, \"#d8576b\"], [0.6666666666666666, \"#ed7953\"], [0.7777777777777778, \"#fb9f3a\"], [0.8888888888888888, \"#fdca26\"], [1.0, \"#f0f921\"]], \"sequentialminus\": [[0.0, \"#0d0887\"], [0.1111111111111111, \"#46039f\"], [0.2222222222222222, \"#7201a8\"], [0.3333333333333333, \"#9c179e\"], [0.4444444444444444, \"#bd3786\"], [0.5555555555555556, \"#d8576b\"], [0.6666666666666666, \"#ed7953\"], [0.7777777777777778, \"#fb9f3a\"], [0.8888888888888888, \"#fdca26\"], [1.0, \"#f0f921\"]]}, \"colorway\": [\"#636efa\", \"#EF553B\", \"#00cc96\", \"#ab63fa\", \"#FFA15A\", \"#19d3f3\", \"#FF6692\", \"#B6E880\", \"#FF97FF\", \"#FECB52\"], \"font\": {\"color\": \"#2a3f5f\"}, \"geo\": {\"bgcolor\": \"white\", \"lakecolor\": \"white\", \"landcolor\": \"#E5ECF6\", \"showlakes\": true, \"showland\": true, \"subunitcolor\": \"white\"}, \"hoverlabel\": {\"align\": \"left\"}, \"hovermode\": \"closest\", \"mapbox\": {\"style\": \"light\"}, \"paper_bgcolor\": \"white\", \"plot_bgcolor\": \"#E5ECF6\", \"polar\": {\"angularaxis\": {\"gridcolor\": \"white\", \"linecolor\": \"white\", \"ticks\": \"\"}, \"bgcolor\": \"#E5ECF6\", \"radialaxis\": {\"gridcolor\": \"white\", \"linecolor\": \"white\", \"ticks\": \"\"}}, \"scene\": {\"xaxis\": {\"backgroundcolor\": \"#E5ECF6\", \"gridcolor\": \"white\", \"gridwidth\": 2, \"linecolor\": \"white\", \"showbackground\": true, \"ticks\": \"\", \"zerolinecolor\": \"white\"}, \"yaxis\": {\"backgroundcolor\": \"#E5ECF6\", \"gridcolor\": \"white\", \"gridwidth\": 2, \"linecolor\": \"white\", \"showbackground\": true, \"ticks\": \"\", \"zerolinecolor\": \"white\"}, \"zaxis\": {\"backgroundcolor\": \"#E5ECF6\", \"gridcolor\": \"white\", \"gridwidth\": 2, \"linecolor\": \"white\", \"showbackground\": true, \"ticks\": \"\", \"zerolinecolor\": \"white\"}}, \"shapedefaults\": {\"line\": {\"color\": \"#2a3f5f\"}}, \"ternary\": {\"aaxis\": {\"gridcolor\": \"white\", \"linecolor\": \"white\", \"ticks\": \"\"}, \"baxis\": {\"gridcolor\": \"white\", \"linecolor\": \"white\", \"ticks\": \"\"}, \"bgcolor\": \"#E5ECF6\", \"caxis\": {\"gridcolor\": \"white\", \"linecolor\": \"white\", \"ticks\": \"\"}}, \"title\": {\"x\": 0.05}, \"xaxis\": {\"automargin\": true, \"gridcolor\": \"white\", \"linecolor\": \"white\", \"ticks\": \"\", \"title\": {\"standoff\": 15}, \"zerolinecolor\": \"white\", \"zerolinewidth\": 2}, \"yaxis\": {\"automargin\": true, \"gridcolor\": \"white\", \"linecolor\": \"white\", \"ticks\": \"\", \"title\": {\"standoff\": 15}, \"zerolinecolor\": \"white\", \"zerolinewidth\": 2}}}, \"title\": {\"font\": {\"color\": \"#4D5663\"}}, \"xaxis\": {\"gridcolor\": \"#E1E5ED\", \"showgrid\": true, \"tickfont\": {\"color\": \"#4D5663\"}, \"title\": {\"font\": {\"color\": \"#4D5663\"}, \"text\": \"\"}, \"zerolinecolor\": \"#E1E5ED\"}, \"yaxis\": {\"gridcolor\": \"#E1E5ED\", \"showgrid\": true, \"tickfont\": {\"color\": \"#4D5663\"}, \"title\": {\"font\": {\"color\": \"#4D5663\"}, \"text\": \"\"}, \"zerolinecolor\": \"#E1E5ED\"}},                        {\"showLink\": true, \"linkText\": \"Export to plot.ly\", \"plotlyServerURL\": \"https://plot.ly\", \"responsive\": true}                    ).then(function(){\n",
       "                            \n",
       "var gd = document.getElementById('4078874a-62c4-47fd-9760-1f6457d7f8ef');\n",
       "var x = new MutationObserver(function (mutations, observer) {{\n",
       "        var display = window.getComputedStyle(gd).display;\n",
       "        if (!display || display === 'none') {{\n",
       "            console.log([gd, 'removed!']);\n",
       "            Plotly.purge(gd);\n",
       "            observer.disconnect();\n",
       "        }}\n",
       "}});\n",
       "\n",
       "// Listen for the removal of the full notebook cells\n",
       "var notebookContainer = gd.closest('#notebook-container');\n",
       "if (notebookContainer) {{\n",
       "    x.observe(notebookContainer, {childList: true});\n",
       "}}\n",
       "\n",
       "// Listen for the clearing of the current output cell\n",
       "var outputEl = gd.closest('.output');\n",
       "if (outputEl) {{\n",
       "    x.observe(outputEl, {childList: true});\n",
       "}}\n",
       "\n",
       "                        })                };                });            </script>        </div>"
      ]
     },
     "metadata": {},
     "output_type": "display_data"
    }
   ],
   "source": [
    "df['A'].iplot(kind='hist',bins=25)"
   ]
  },
  {
   "cell_type": "code",
   "execution_count": 46,
   "metadata": {},
   "outputs": [
    {
     "data": {
      "application/vnd.plotly.v1+json": {
       "config": {
        "linkText": "Export to plot.ly",
        "plotlyServerURL": "https://plot.ly",
        "showLink": true
       },
       "data": [
        {
         "histfunc": "count",
         "histnorm": "",
         "marker": {
          "color": "rgba(255, 153, 51, 1.0)",
          "line": {
           "color": "#4D5663",
           "width": 1.3
          }
         },
         "name": "A",
         "opacity": 0.8,
         "orientation": "v",
         "type": "histogram",
         "x": [
          -0.3743792182439242,
          -1.6197326287777765,
          -1.6694241693284275,
          -0.8234720676448699,
          0.13693934194800925,
          -0.7786890259731041,
          1.2425205537238309,
          0.23661461195068445,
          0.4427518671054902,
          2.0602492413190627,
          0.17347553754917663,
          0.5272904974803029,
          1.0501036685459912,
          0.27964168711265713,
          -0.7272118486201753,
          -0.22172121217961174,
          -1.4066185696758435,
          0.14943198489384765,
          1.9432086736456875,
          2.5220657307651355,
          -1.575145667869044,
          2.106775558992982,
          0.10174098248546284,
          1.7396932489191501,
          2.074786533983352,
          -1.1987093179807613,
          -0.7165329207174465,
          2.606548254803393,
          -0.1731233457547235,
          1.0190282826591162,
          -0.8462404362171113,
          -0.013844020914462261,
          0.03325819160101085,
          1.7785315479135524,
          -0.845672667552957,
          1.2601128671438402,
          -1.8143044052327248,
          0.5970279618887205,
          -0.5769416532706793,
          -0.32364036863083556,
          0.03374636130467711,
          1.1262235526047673,
          -0.8835399735809639,
          0.06711967156865234,
          -1.4139271342518789,
          -0.6575777307138329,
          0.46229213676974534,
          1.0313703525873301,
          -0.493699775953662,
          0.7661403815389104,
          -0.17056924610476254,
          0.1903867851538594,
          -0.5971541790764131,
          1.241771128939705,
          -0.0983027365076231,
          0.09160084021308144,
          -1.9601710782173678,
          0.037315681418766455,
          0.8821219685238391,
          -0.7375779940391467,
          0.19254111855709474,
          0.6924571147549479,
          0.16154451786586277,
          -1.0727850115023716,
          -0.01649775264774975,
          -0.8049803974922969,
          -0.8398704184601684,
          0.8505246844046274,
          -0.5200062488807476,
          0.014739737631221722,
          0.12869943874606232,
          -1.392960388914175,
          0.20609619106358215,
          -0.10679886929113508,
          0.8973824818566172,
          -0.2730155117429203,
          0.7207158467228036,
          -0.43694692713810984,
          1.0219884648429,
          -0.108800476161582,
          1.165329073668084,
          -0.16302070112148123,
          0.5891703252134486,
          0.11281410046037657,
          0.4284575251522544,
          -1.9219006979808662,
          -0.6563995509383275,
          -1.43950547963843,
          -0.2762985778717633,
          3.010485863448667,
          -0.12036745273155926,
          -0.20020535022170713,
          0.31097193170068255,
          1.0109448623739885,
          -0.17848199577529572,
          0.2846917936792169,
          -0.6808365819892909,
          -1.0071421584201592,
          2.283632305623987,
          -2.1543573610817393
         ]
        },
        {
         "histfunc": "count",
         "histnorm": "",
         "marker": {
          "color": "rgba(55, 128, 191, 1.0)",
          "line": {
           "color": "#4D5663",
           "width": 1.3
          }
         },
         "name": "B",
         "opacity": 0.8,
         "orientation": "v",
         "type": "histogram",
         "x": [
          -1.1027785660551868,
          0.29740020489597846,
          -0.43253294240382856,
          -1.1084269652229717,
          -1.6373655590184417,
          -1.0725117618110998,
          -1.9099100685608439,
          -2.0689122733051275,
          0.077918987078293,
          0.5024584203750352,
          -1.3926796764698834,
          0.3717509242747525,
          -0.8474458229363676,
          0.08737683711031544,
          -0.33133430972182576,
          -2.733316055785719,
          -0.6928824100740675,
          0.5250323944129693,
          -1.6067781687815792,
          -0.7287202006257252,
          -1.6918012487369385,
          0.3542738500682554,
          -0.1915179367997926,
          -0.29403482375669315,
          -1.4559887425614062,
          -0.45946662861286863,
          -1.0573702753899408,
          -0.13034922297969953,
          -1.5699117976686348,
          0.5481499873171011,
          -1.4685830306254732,
          -1.1806385665913264,
          -1.4156796963696252,
          1.3605077053581722,
          1.9811380136832317,
          -0.16316712319178428,
          -0.6983529403698392,
          1.1203194633607836,
          -0.378838594956958,
          2.0486437782810403,
          0.5192196076632097,
          -0.8777252263888996,
          -0.38206113714898843,
          0.012992185416119843,
          1.2929317353034275,
          0.3907851507983996,
          -1.3572897634254169,
          -0.870575384725658,
          -0.0027188992621641167,
          0.49670782282570086,
          -0.7091516270566384,
          -0.40752396773946536,
          0.5777273937905538,
          -0.028583879645875804,
          -0.686415398165249,
          -0.6632303830207483,
          0.3611285698868993,
          -1.4150766880023653,
          -0.5355969336730079,
          0.15148844935688743,
          1.4809758774301216,
          0.1341776189245072,
          2.039413314544158,
          -0.03243372323009276,
          0.022831173707126735,
          -0.841240189670404,
          -0.49541889751084567,
          0.8183400775505387,
          0.7488401406486337,
          -0.17193420847758445,
          -0.45187359053888715,
          -0.19881883509728254,
          -1.50152229425189,
          -0.35828183450124146,
          1.9630368930993207,
          1.1964489103975489,
          -0.1435270860047802,
          -0.3308275681612723,
          0.8659755734970961,
          -0.26379834794677504,
          -0.46684150154116616,
          0.4345934611912318,
          0.9143039934710501,
          -0.06561570356948355,
          -0.6767256650340361,
          -1.0259488290832,
          -0.2727313264750364,
          1.0195015218583527,
          -0.1125709709711396,
          -0.0992052156509772,
          -0.10038565402562996,
          1.182259921569917,
          0.6201037680164574,
          0.00065696719603261,
          0.4556208055782743,
          -0.9502790546247901,
          -1.0978368547782833,
          0.3992300601573083,
          0.3982763109978748,
          0.14618132688760946
         ]
        },
        {
         "histfunc": "count",
         "histnorm": "",
         "marker": {
          "color": "rgba(50, 171, 96, 1.0)",
          "line": {
           "color": "#4D5663",
           "width": 1.3
          }
         },
         "name": "C",
         "opacity": 0.8,
         "orientation": "v",
         "type": "histogram",
         "x": [
          0.6305086408405335,
          0.2573929741581128,
          1.2002509871699105,
          1.8249813489097186,
          0.3918002396090246,
          2.045502634431302,
          -0.12255302335727361,
          -0.14328856625676092,
          -0.20748786540499695,
          -0.3064262606826834,
          -1.1379840810055082,
          0.1673648590728652,
          0.37699394164743627,
          -0.6962736680079707,
          -0.6586427335574921,
          1.026882387486378,
          -0.13961200892487075,
          0.13493393701558787,
          -0.21222692847029387,
          -0.629736224541587,
          1.4735661632735562,
          -1.0104870058846744,
          0.8366005276015587,
          -0.33702113005301576,
          0.39797885431417157,
          -0.16811043462184252,
          -0.6197407303272026,
          0.10336820541209946,
          0.9429313960623031,
          0.7907388100117877,
          -0.7702545298597853,
          1.8824678262475079,
          0.3764093764765518,
          -0.31741290339867323,
          -0.4080431921994537,
          0.8524436320243046,
          -0.8874432210963202,
          1.278318444357705,
          1.400387427082184,
          0.5164502436081181,
          0.5260515938763501,
          -1.516843418418446,
          -1.2296490295672757,
          -0.3030387528649891,
          -0.8673602866550375,
          1.2577169602465843,
          -0.17664278745729972,
          -0.8011024909016581,
          -1.2709067509118592,
          2.600574336866944,
          1.7026407853872678,
          1.188257856928726,
          1.470492384903625,
          -1.4246726210313863,
          -0.5822627018194775,
          0.37354771607816406,
          -0.5340206493997645,
          0.04376725425074439,
          -0.47645358851481984,
          1.5597252552643888,
          -1.2000497575023026,
          -0.6258442258992837,
          -0.793624442495925,
          0.1898625339161362,
          0.20876742846720092,
          1.3709461458575776,
          0.8634147134772215,
          -0.48704667145588254,
          -1.6763341999764252,
          0.645748787049174,
          -1.2776430496406737,
          0.8424179571291159,
          -1.8479145390147624,
          0.9343548341121494,
          -0.003951426835194898,
          0.570119633366993,
          -1.0825526928291904,
          -0.17270588345420862,
          1.4225521073363245,
          -0.9250108836454827,
          -0.5242086646505019,
          -0.9144328597996433,
          -0.9510490339648087,
          -0.5511617558446993,
          0.7727258199523624,
          2.1177556445538634,
          1.5414102237779639,
          0.10267936984726589,
          -0.5582221230138756,
          0.15764762924658451,
          -0.0043885162080275625,
          -1.3373114196927731,
          0.10633748756502394,
          -0.4647282500767246,
          -0.026345456157078864,
          0.138687004546556,
          0.012902495730874639,
          1.1639536789822604,
          -0.534311955025553,
          -0.5622879971904758
         ]
        },
        {
         "histfunc": "count",
         "histnorm": "",
         "marker": {
          "color": "rgba(128, 0, 128, 1.0)",
          "line": {
           "color": "#4D5663",
           "width": 1.3
          }
         },
         "name": "D",
         "opacity": 0.8,
         "orientation": "v",
         "type": "histogram",
         "x": [
          -0.9775540867952446,
          0.5125419768385915,
          -0.294908048965335,
          0.6561049172570194,
          -0.948655669014669,
          0.38826492530369056,
          -1.051515798800067,
          1.0916810700420954,
          -0.7698443127541724,
          -0.9044517115380162,
          0.30475023729635403,
          1.539858983273998,
          1.226919733553733,
          0.42749343772456005,
          0.04433626310293226,
          -1.943719051879809,
          1.2463238062234774,
          -1.2104794780278358,
          2.2434389335917615,
          -0.7046858778536157,
          -1.4554723150616735,
          1.0941988942748302,
          -0.02952503436206944,
          -0.33924093843015646,
          0.2044200372012253,
          0.2685291939229705,
          -1.5299696422235398,
          0.6581448336938301,
          0.39454019984961214,
          -0.29532382509339766,
          -0.7754927189028199,
          -0.7517249288087523,
          1.1662456581357885,
          0.47100641399697557,
          0.18091632997000087,
          -0.8680521122835154,
          0.34188638195693616,
          -0.6395572104363515,
          1.7607211883492682,
          -0.5427324119660141,
          0.6094134787515665,
          -0.3228406532113041,
          -1.240984117694116,
          0.9476958531796474,
          -1.566799508736097,
          -1.3693967159456835,
          -1.002806751796895,
          -0.6290596720219408,
          -0.9665578288157056,
          0.9840878963356897,
          -0.4843673241245268,
          1.0518601552732783,
          -1.1491433046014432,
          -0.6095902338712633,
          1.9231102218474039,
          0.9376082791295621,
          0.10526475977098643,
          0.4989098099237765,
          -0.5043174075431105,
          2.1408461247925024,
          0.1352941400065242,
          -0.27473495827988226,
          -0.2889957842311569,
          -0.03266538710690525,
          -0.0157904210532621,
          0.08899841220396364,
          -1.2285876409947754,
          1.9089716125433318,
          -0.672817717516103,
          -0.9991552089496202,
          0.7787563460737548,
          -0.012740471268385447,
          -2.479165537636401,
          1.40143034536203,
          -1.729474372047749,
          -0.21787372323390702,
          0.7980485729437748,
          0.3776094257046723,
          -0.4760637243601897,
          -2.3832051413841637,
          -1.7099159788344809,
          0.4827711017041606,
          0.8620357645975364,
          0.17453108335633685,
          0.7443925303551422,
          0.6903132193598274,
          -0.5627408036346566,
          -0.4518178996632333,
          -0.9368981301966262,
          0.05061874383989501,
          -0.6922640658095132,
          -0.5280750185783809,
          -1.2947751095368296,
          -0.870662429879271,
          -0.298108580253174,
          0.037387968557037854,
          -1.1207278026636471,
          -1.9113339857999854,
          -0.007295497555885252,
          0.9171993947582978
         ]
        }
       ],
       "layout": {
        "barmode": "overlay",
        "legend": {
         "bgcolor": "#F5F6F9",
         "font": {
          "color": "#4D5663"
         }
        },
        "paper_bgcolor": "#F5F6F9",
        "plot_bgcolor": "#F5F6F9",
        "template": {
         "data": {
          "bar": [
           {
            "error_x": {
             "color": "#2a3f5f"
            },
            "error_y": {
             "color": "#2a3f5f"
            },
            "marker": {
             "line": {
              "color": "#E5ECF6",
              "width": 0.5
             }
            },
            "type": "bar"
           }
          ],
          "barpolar": [
           {
            "marker": {
             "line": {
              "color": "#E5ECF6",
              "width": 0.5
             }
            },
            "type": "barpolar"
           }
          ],
          "carpet": [
           {
            "aaxis": {
             "endlinecolor": "#2a3f5f",
             "gridcolor": "white",
             "linecolor": "white",
             "minorgridcolor": "white",
             "startlinecolor": "#2a3f5f"
            },
            "baxis": {
             "endlinecolor": "#2a3f5f",
             "gridcolor": "white",
             "linecolor": "white",
             "minorgridcolor": "white",
             "startlinecolor": "#2a3f5f"
            },
            "type": "carpet"
           }
          ],
          "choropleth": [
           {
            "colorbar": {
             "outlinewidth": 0,
             "ticks": ""
            },
            "type": "choropleth"
           }
          ],
          "contour": [
           {
            "colorbar": {
             "outlinewidth": 0,
             "ticks": ""
            },
            "colorscale": [
             [
              0,
              "#0d0887"
             ],
             [
              0.1111111111111111,
              "#46039f"
             ],
             [
              0.2222222222222222,
              "#7201a8"
             ],
             [
              0.3333333333333333,
              "#9c179e"
             ],
             [
              0.4444444444444444,
              "#bd3786"
             ],
             [
              0.5555555555555556,
              "#d8576b"
             ],
             [
              0.6666666666666666,
              "#ed7953"
             ],
             [
              0.7777777777777778,
              "#fb9f3a"
             ],
             [
              0.8888888888888888,
              "#fdca26"
             ],
             [
              1,
              "#f0f921"
             ]
            ],
            "type": "contour"
           }
          ],
          "contourcarpet": [
           {
            "colorbar": {
             "outlinewidth": 0,
             "ticks": ""
            },
            "type": "contourcarpet"
           }
          ],
          "heatmap": [
           {
            "colorbar": {
             "outlinewidth": 0,
             "ticks": ""
            },
            "colorscale": [
             [
              0,
              "#0d0887"
             ],
             [
              0.1111111111111111,
              "#46039f"
             ],
             [
              0.2222222222222222,
              "#7201a8"
             ],
             [
              0.3333333333333333,
              "#9c179e"
             ],
             [
              0.4444444444444444,
              "#bd3786"
             ],
             [
              0.5555555555555556,
              "#d8576b"
             ],
             [
              0.6666666666666666,
              "#ed7953"
             ],
             [
              0.7777777777777778,
              "#fb9f3a"
             ],
             [
              0.8888888888888888,
              "#fdca26"
             ],
             [
              1,
              "#f0f921"
             ]
            ],
            "type": "heatmap"
           }
          ],
          "heatmapgl": [
           {
            "colorbar": {
             "outlinewidth": 0,
             "ticks": ""
            },
            "colorscale": [
             [
              0,
              "#0d0887"
             ],
             [
              0.1111111111111111,
              "#46039f"
             ],
             [
              0.2222222222222222,
              "#7201a8"
             ],
             [
              0.3333333333333333,
              "#9c179e"
             ],
             [
              0.4444444444444444,
              "#bd3786"
             ],
             [
              0.5555555555555556,
              "#d8576b"
             ],
             [
              0.6666666666666666,
              "#ed7953"
             ],
             [
              0.7777777777777778,
              "#fb9f3a"
             ],
             [
              0.8888888888888888,
              "#fdca26"
             ],
             [
              1,
              "#f0f921"
             ]
            ],
            "type": "heatmapgl"
           }
          ],
          "histogram": [
           {
            "marker": {
             "colorbar": {
              "outlinewidth": 0,
              "ticks": ""
             }
            },
            "type": "histogram"
           }
          ],
          "histogram2d": [
           {
            "colorbar": {
             "outlinewidth": 0,
             "ticks": ""
            },
            "colorscale": [
             [
              0,
              "#0d0887"
             ],
             [
              0.1111111111111111,
              "#46039f"
             ],
             [
              0.2222222222222222,
              "#7201a8"
             ],
             [
              0.3333333333333333,
              "#9c179e"
             ],
             [
              0.4444444444444444,
              "#bd3786"
             ],
             [
              0.5555555555555556,
              "#d8576b"
             ],
             [
              0.6666666666666666,
              "#ed7953"
             ],
             [
              0.7777777777777778,
              "#fb9f3a"
             ],
             [
              0.8888888888888888,
              "#fdca26"
             ],
             [
              1,
              "#f0f921"
             ]
            ],
            "type": "histogram2d"
           }
          ],
          "histogram2dcontour": [
           {
            "colorbar": {
             "outlinewidth": 0,
             "ticks": ""
            },
            "colorscale": [
             [
              0,
              "#0d0887"
             ],
             [
              0.1111111111111111,
              "#46039f"
             ],
             [
              0.2222222222222222,
              "#7201a8"
             ],
             [
              0.3333333333333333,
              "#9c179e"
             ],
             [
              0.4444444444444444,
              "#bd3786"
             ],
             [
              0.5555555555555556,
              "#d8576b"
             ],
             [
              0.6666666666666666,
              "#ed7953"
             ],
             [
              0.7777777777777778,
              "#fb9f3a"
             ],
             [
              0.8888888888888888,
              "#fdca26"
             ],
             [
              1,
              "#f0f921"
             ]
            ],
            "type": "histogram2dcontour"
           }
          ],
          "mesh3d": [
           {
            "colorbar": {
             "outlinewidth": 0,
             "ticks": ""
            },
            "type": "mesh3d"
           }
          ],
          "parcoords": [
           {
            "line": {
             "colorbar": {
              "outlinewidth": 0,
              "ticks": ""
             }
            },
            "type": "parcoords"
           }
          ],
          "pie": [
           {
            "automargin": true,
            "type": "pie"
           }
          ],
          "scatter": [
           {
            "marker": {
             "colorbar": {
              "outlinewidth": 0,
              "ticks": ""
             }
            },
            "type": "scatter"
           }
          ],
          "scatter3d": [
           {
            "line": {
             "colorbar": {
              "outlinewidth": 0,
              "ticks": ""
             }
            },
            "marker": {
             "colorbar": {
              "outlinewidth": 0,
              "ticks": ""
             }
            },
            "type": "scatter3d"
           }
          ],
          "scattercarpet": [
           {
            "marker": {
             "colorbar": {
              "outlinewidth": 0,
              "ticks": ""
             }
            },
            "type": "scattercarpet"
           }
          ],
          "scattergeo": [
           {
            "marker": {
             "colorbar": {
              "outlinewidth": 0,
              "ticks": ""
             }
            },
            "type": "scattergeo"
           }
          ],
          "scattergl": [
           {
            "marker": {
             "colorbar": {
              "outlinewidth": 0,
              "ticks": ""
             }
            },
            "type": "scattergl"
           }
          ],
          "scattermapbox": [
           {
            "marker": {
             "colorbar": {
              "outlinewidth": 0,
              "ticks": ""
             }
            },
            "type": "scattermapbox"
           }
          ],
          "scatterpolar": [
           {
            "marker": {
             "colorbar": {
              "outlinewidth": 0,
              "ticks": ""
             }
            },
            "type": "scatterpolar"
           }
          ],
          "scatterpolargl": [
           {
            "marker": {
             "colorbar": {
              "outlinewidth": 0,
              "ticks": ""
             }
            },
            "type": "scatterpolargl"
           }
          ],
          "scatterternary": [
           {
            "marker": {
             "colorbar": {
              "outlinewidth": 0,
              "ticks": ""
             }
            },
            "type": "scatterternary"
           }
          ],
          "surface": [
           {
            "colorbar": {
             "outlinewidth": 0,
             "ticks": ""
            },
            "colorscale": [
             [
              0,
              "#0d0887"
             ],
             [
              0.1111111111111111,
              "#46039f"
             ],
             [
              0.2222222222222222,
              "#7201a8"
             ],
             [
              0.3333333333333333,
              "#9c179e"
             ],
             [
              0.4444444444444444,
              "#bd3786"
             ],
             [
              0.5555555555555556,
              "#d8576b"
             ],
             [
              0.6666666666666666,
              "#ed7953"
             ],
             [
              0.7777777777777778,
              "#fb9f3a"
             ],
             [
              0.8888888888888888,
              "#fdca26"
             ],
             [
              1,
              "#f0f921"
             ]
            ],
            "type": "surface"
           }
          ],
          "table": [
           {
            "cells": {
             "fill": {
              "color": "#EBF0F8"
             },
             "line": {
              "color": "white"
             }
            },
            "header": {
             "fill": {
              "color": "#C8D4E3"
             },
             "line": {
              "color": "white"
             }
            },
            "type": "table"
           }
          ]
         },
         "layout": {
          "annotationdefaults": {
           "arrowcolor": "#2a3f5f",
           "arrowhead": 0,
           "arrowwidth": 1
          },
          "autotypenumbers": "strict",
          "coloraxis": {
           "colorbar": {
            "outlinewidth": 0,
            "ticks": ""
           }
          },
          "colorscale": {
           "diverging": [
            [
             0,
             "#8e0152"
            ],
            [
             0.1,
             "#c51b7d"
            ],
            [
             0.2,
             "#de77ae"
            ],
            [
             0.3,
             "#f1b6da"
            ],
            [
             0.4,
             "#fde0ef"
            ],
            [
             0.5,
             "#f7f7f7"
            ],
            [
             0.6,
             "#e6f5d0"
            ],
            [
             0.7,
             "#b8e186"
            ],
            [
             0.8,
             "#7fbc41"
            ],
            [
             0.9,
             "#4d9221"
            ],
            [
             1,
             "#276419"
            ]
           ],
           "sequential": [
            [
             0,
             "#0d0887"
            ],
            [
             0.1111111111111111,
             "#46039f"
            ],
            [
             0.2222222222222222,
             "#7201a8"
            ],
            [
             0.3333333333333333,
             "#9c179e"
            ],
            [
             0.4444444444444444,
             "#bd3786"
            ],
            [
             0.5555555555555556,
             "#d8576b"
            ],
            [
             0.6666666666666666,
             "#ed7953"
            ],
            [
             0.7777777777777778,
             "#fb9f3a"
            ],
            [
             0.8888888888888888,
             "#fdca26"
            ],
            [
             1,
             "#f0f921"
            ]
           ],
           "sequentialminus": [
            [
             0,
             "#0d0887"
            ],
            [
             0.1111111111111111,
             "#46039f"
            ],
            [
             0.2222222222222222,
             "#7201a8"
            ],
            [
             0.3333333333333333,
             "#9c179e"
            ],
            [
             0.4444444444444444,
             "#bd3786"
            ],
            [
             0.5555555555555556,
             "#d8576b"
            ],
            [
             0.6666666666666666,
             "#ed7953"
            ],
            [
             0.7777777777777778,
             "#fb9f3a"
            ],
            [
             0.8888888888888888,
             "#fdca26"
            ],
            [
             1,
             "#f0f921"
            ]
           ]
          },
          "colorway": [
           "#636efa",
           "#EF553B",
           "#00cc96",
           "#ab63fa",
           "#FFA15A",
           "#19d3f3",
           "#FF6692",
           "#B6E880",
           "#FF97FF",
           "#FECB52"
          ],
          "font": {
           "color": "#2a3f5f"
          },
          "geo": {
           "bgcolor": "white",
           "lakecolor": "white",
           "landcolor": "#E5ECF6",
           "showlakes": true,
           "showland": true,
           "subunitcolor": "white"
          },
          "hoverlabel": {
           "align": "left"
          },
          "hovermode": "closest",
          "mapbox": {
           "style": "light"
          },
          "paper_bgcolor": "white",
          "plot_bgcolor": "#E5ECF6",
          "polar": {
           "angularaxis": {
            "gridcolor": "white",
            "linecolor": "white",
            "ticks": ""
           },
           "bgcolor": "#E5ECF6",
           "radialaxis": {
            "gridcolor": "white",
            "linecolor": "white",
            "ticks": ""
           }
          },
          "scene": {
           "xaxis": {
            "backgroundcolor": "#E5ECF6",
            "gridcolor": "white",
            "gridwidth": 2,
            "linecolor": "white",
            "showbackground": true,
            "ticks": "",
            "zerolinecolor": "white"
           },
           "yaxis": {
            "backgroundcolor": "#E5ECF6",
            "gridcolor": "white",
            "gridwidth": 2,
            "linecolor": "white",
            "showbackground": true,
            "ticks": "",
            "zerolinecolor": "white"
           },
           "zaxis": {
            "backgroundcolor": "#E5ECF6",
            "gridcolor": "white",
            "gridwidth": 2,
            "linecolor": "white",
            "showbackground": true,
            "ticks": "",
            "zerolinecolor": "white"
           }
          },
          "shapedefaults": {
           "line": {
            "color": "#2a3f5f"
           }
          },
          "ternary": {
           "aaxis": {
            "gridcolor": "white",
            "linecolor": "white",
            "ticks": ""
           },
           "baxis": {
            "gridcolor": "white",
            "linecolor": "white",
            "ticks": ""
           },
           "bgcolor": "#E5ECF6",
           "caxis": {
            "gridcolor": "white",
            "linecolor": "white",
            "ticks": ""
           }
          },
          "title": {
           "x": 0.05
          },
          "xaxis": {
           "automargin": true,
           "gridcolor": "white",
           "linecolor": "white",
           "ticks": "",
           "title": {
            "standoff": 15
           },
           "zerolinecolor": "white",
           "zerolinewidth": 2
          },
          "yaxis": {
           "automargin": true,
           "gridcolor": "white",
           "linecolor": "white",
           "ticks": "",
           "title": {
            "standoff": 15
           },
           "zerolinecolor": "white",
           "zerolinewidth": 2
          }
         }
        },
        "title": {
         "font": {
          "color": "#4D5663"
         }
        },
        "xaxis": {
         "gridcolor": "#E1E5ED",
         "showgrid": true,
         "tickfont": {
          "color": "#4D5663"
         },
         "title": {
          "font": {
           "color": "#4D5663"
          },
          "text": ""
         },
         "zerolinecolor": "#E1E5ED"
        },
        "yaxis": {
         "gridcolor": "#E1E5ED",
         "showgrid": true,
         "tickfont": {
          "color": "#4D5663"
         },
         "title": {
          "font": {
           "color": "#4D5663"
          },
          "text": ""
         },
         "zerolinecolor": "#E1E5ED"
        }
       }
      },
      "text/html": [
       "<div>                            <div id=\"c6549afa-8129-4427-b0bd-432c13987d66\" class=\"plotly-graph-div\" style=\"height:525px; width:100%;\"></div>            <script type=\"text/javascript\">                require([\"plotly\"], function(Plotly) {                    window.PLOTLYENV=window.PLOTLYENV || {};\n",
       "                    window.PLOTLYENV.BASE_URL='https://plot.ly';                                    if (document.getElementById(\"c6549afa-8129-4427-b0bd-432c13987d66\")) {                    Plotly.newPlot(                        \"c6549afa-8129-4427-b0bd-432c13987d66\",                        [{\"histfunc\": \"count\", \"histnorm\": \"\", \"marker\": {\"color\": \"rgba(255, 153, 51, 1.0)\", \"line\": {\"color\": \"#4D5663\", \"width\": 1.3}}, \"name\": \"A\", \"opacity\": 0.8, \"orientation\": \"v\", \"type\": \"histogram\", \"x\": [-0.3743792182439242, -1.6197326287777765, -1.6694241693284275, -0.8234720676448699, 0.13693934194800925, -0.7786890259731041, 1.2425205537238309, 0.23661461195068445, 0.4427518671054902, 2.0602492413190627, 0.17347553754917663, 0.5272904974803029, 1.0501036685459912, 0.27964168711265713, -0.7272118486201753, -0.22172121217961174, -1.4066185696758435, 0.14943198489384765, 1.9432086736456875, 2.5220657307651355, -1.575145667869044, 2.106775558992982, 0.10174098248546284, 1.7396932489191501, 2.074786533983352, -1.1987093179807613, -0.7165329207174465, 2.606548254803393, -0.1731233457547235, 1.0190282826591162, -0.8462404362171113, -0.013844020914462261, 0.03325819160101085, 1.7785315479135524, -0.845672667552957, 1.2601128671438402, -1.8143044052327248, 0.5970279618887205, -0.5769416532706793, -0.32364036863083556, 0.03374636130467711, 1.1262235526047673, -0.8835399735809639, 0.06711967156865234, -1.4139271342518789, -0.6575777307138329, 0.46229213676974534, 1.0313703525873301, -0.493699775953662, 0.7661403815389104, -0.17056924610476254, 0.1903867851538594, -0.5971541790764131, 1.241771128939705, -0.0983027365076231, 0.09160084021308144, -1.9601710782173678, 0.037315681418766455, 0.8821219685238391, -0.7375779940391467, 0.19254111855709474, 0.6924571147549479, 0.16154451786586277, -1.0727850115023716, -0.01649775264774975, -0.8049803974922969, -0.8398704184601684, 0.8505246844046274, -0.5200062488807476, 0.014739737631221722, 0.12869943874606232, -1.392960388914175, 0.20609619106358215, -0.10679886929113508, 0.8973824818566172, -0.2730155117429203, 0.7207158467228036, -0.43694692713810984, 1.0219884648429, -0.108800476161582, 1.165329073668084, -0.16302070112148123, 0.5891703252134486, 0.11281410046037657, 0.4284575251522544, -1.9219006979808662, -0.6563995509383275, -1.43950547963843, -0.2762985778717633, 3.010485863448667, -0.12036745273155926, -0.20020535022170713, 0.31097193170068255, 1.0109448623739885, -0.17848199577529572, 0.2846917936792169, -0.6808365819892909, -1.0071421584201592, 2.283632305623987, -2.1543573610817393]}, {\"histfunc\": \"count\", \"histnorm\": \"\", \"marker\": {\"color\": \"rgba(55, 128, 191, 1.0)\", \"line\": {\"color\": \"#4D5663\", \"width\": 1.3}}, \"name\": \"B\", \"opacity\": 0.8, \"orientation\": \"v\", \"type\": \"histogram\", \"x\": [-1.1027785660551868, 0.29740020489597846, -0.43253294240382856, -1.1084269652229717, -1.6373655590184417, -1.0725117618110998, -1.9099100685608439, -2.0689122733051275, 0.077918987078293, 0.5024584203750352, -1.3926796764698834, 0.3717509242747525, -0.8474458229363676, 0.08737683711031544, -0.33133430972182576, -2.733316055785719, -0.6928824100740675, 0.5250323944129693, -1.6067781687815792, -0.7287202006257252, -1.6918012487369385, 0.3542738500682554, -0.1915179367997926, -0.29403482375669315, -1.4559887425614062, -0.45946662861286863, -1.0573702753899408, -0.13034922297969953, -1.5699117976686348, 0.5481499873171011, -1.4685830306254732, -1.1806385665913264, -1.4156796963696252, 1.3605077053581722, 1.9811380136832317, -0.16316712319178428, -0.6983529403698392, 1.1203194633607836, -0.378838594956958, 2.0486437782810403, 0.5192196076632097, -0.8777252263888996, -0.38206113714898843, 0.012992185416119843, 1.2929317353034275, 0.3907851507983996, -1.3572897634254169, -0.870575384725658, -0.0027188992621641167, 0.49670782282570086, -0.7091516270566384, -0.40752396773946536, 0.5777273937905538, -0.028583879645875804, -0.686415398165249, -0.6632303830207483, 0.3611285698868993, -1.4150766880023653, -0.5355969336730079, 0.15148844935688743, 1.4809758774301216, 0.1341776189245072, 2.039413314544158, -0.03243372323009276, 0.022831173707126735, -0.841240189670404, -0.49541889751084567, 0.8183400775505387, 0.7488401406486337, -0.17193420847758445, -0.45187359053888715, -0.19881883509728254, -1.50152229425189, -0.35828183450124146, 1.9630368930993207, 1.1964489103975489, -0.1435270860047802, -0.3308275681612723, 0.8659755734970961, -0.26379834794677504, -0.46684150154116616, 0.4345934611912318, 0.9143039934710501, -0.06561570356948355, -0.6767256650340361, -1.0259488290832, -0.2727313264750364, 1.0195015218583527, -0.1125709709711396, -0.0992052156509772, -0.10038565402562996, 1.182259921569917, 0.6201037680164574, 0.00065696719603261, 0.4556208055782743, -0.9502790546247901, -1.0978368547782833, 0.3992300601573083, 0.3982763109978748, 0.14618132688760946]}, {\"histfunc\": \"count\", \"histnorm\": \"\", \"marker\": {\"color\": \"rgba(50, 171, 96, 1.0)\", \"line\": {\"color\": \"#4D5663\", \"width\": 1.3}}, \"name\": \"C\", \"opacity\": 0.8, \"orientation\": \"v\", \"type\": \"histogram\", \"x\": [0.6305086408405335, 0.2573929741581128, 1.2002509871699105, 1.8249813489097186, 0.3918002396090246, 2.045502634431302, -0.12255302335727361, -0.14328856625676092, -0.20748786540499695, -0.3064262606826834, -1.1379840810055082, 0.1673648590728652, 0.37699394164743627, -0.6962736680079707, -0.6586427335574921, 1.026882387486378, -0.13961200892487075, 0.13493393701558787, -0.21222692847029387, -0.629736224541587, 1.4735661632735562, -1.0104870058846744, 0.8366005276015587, -0.33702113005301576, 0.39797885431417157, -0.16811043462184252, -0.6197407303272026, 0.10336820541209946, 0.9429313960623031, 0.7907388100117877, -0.7702545298597853, 1.8824678262475079, 0.3764093764765518, -0.31741290339867323, -0.4080431921994537, 0.8524436320243046, -0.8874432210963202, 1.278318444357705, 1.400387427082184, 0.5164502436081181, 0.5260515938763501, -1.516843418418446, -1.2296490295672757, -0.3030387528649891, -0.8673602866550375, 1.2577169602465843, -0.17664278745729972, -0.8011024909016581, -1.2709067509118592, 2.600574336866944, 1.7026407853872678, 1.188257856928726, 1.470492384903625, -1.4246726210313863, -0.5822627018194775, 0.37354771607816406, -0.5340206493997645, 0.04376725425074439, -0.47645358851481984, 1.5597252552643888, -1.2000497575023026, -0.6258442258992837, -0.793624442495925, 0.1898625339161362, 0.20876742846720092, 1.3709461458575776, 0.8634147134772215, -0.48704667145588254, -1.6763341999764252, 0.645748787049174, -1.2776430496406737, 0.8424179571291159, -1.8479145390147624, 0.9343548341121494, -0.003951426835194898, 0.570119633366993, -1.0825526928291904, -0.17270588345420862, 1.4225521073363245, -0.9250108836454827, -0.5242086646505019, -0.9144328597996433, -0.9510490339648087, -0.5511617558446993, 0.7727258199523624, 2.1177556445538634, 1.5414102237779639, 0.10267936984726589, -0.5582221230138756, 0.15764762924658451, -0.0043885162080275625, -1.3373114196927731, 0.10633748756502394, -0.4647282500767246, -0.026345456157078864, 0.138687004546556, 0.012902495730874639, 1.1639536789822604, -0.534311955025553, -0.5622879971904758]}, {\"histfunc\": \"count\", \"histnorm\": \"\", \"marker\": {\"color\": \"rgba(128, 0, 128, 1.0)\", \"line\": {\"color\": \"#4D5663\", \"width\": 1.3}}, \"name\": \"D\", \"opacity\": 0.8, \"orientation\": \"v\", \"type\": \"histogram\", \"x\": [-0.9775540867952446, 0.5125419768385915, -0.294908048965335, 0.6561049172570194, -0.948655669014669, 0.38826492530369056, -1.051515798800067, 1.0916810700420954, -0.7698443127541724, -0.9044517115380162, 0.30475023729635403, 1.539858983273998, 1.226919733553733, 0.42749343772456005, 0.04433626310293226, -1.943719051879809, 1.2463238062234774, -1.2104794780278358, 2.2434389335917615, -0.7046858778536157, -1.4554723150616735, 1.0941988942748302, -0.02952503436206944, -0.33924093843015646, 0.2044200372012253, 0.2685291939229705, -1.5299696422235398, 0.6581448336938301, 0.39454019984961214, -0.29532382509339766, -0.7754927189028199, -0.7517249288087523, 1.1662456581357885, 0.47100641399697557, 0.18091632997000087, -0.8680521122835154, 0.34188638195693616, -0.6395572104363515, 1.7607211883492682, -0.5427324119660141, 0.6094134787515665, -0.3228406532113041, -1.240984117694116, 0.9476958531796474, -1.566799508736097, -1.3693967159456835, -1.002806751796895, -0.6290596720219408, -0.9665578288157056, 0.9840878963356897, -0.4843673241245268, 1.0518601552732783, -1.1491433046014432, -0.6095902338712633, 1.9231102218474039, 0.9376082791295621, 0.10526475977098643, 0.4989098099237765, -0.5043174075431105, 2.1408461247925024, 0.1352941400065242, -0.27473495827988226, -0.2889957842311569, -0.03266538710690525, -0.0157904210532621, 0.08899841220396364, -1.2285876409947754, 1.9089716125433318, -0.672817717516103, -0.9991552089496202, 0.7787563460737548, -0.012740471268385447, -2.479165537636401, 1.40143034536203, -1.729474372047749, -0.21787372323390702, 0.7980485729437748, 0.3776094257046723, -0.4760637243601897, -2.3832051413841637, -1.7099159788344809, 0.4827711017041606, 0.8620357645975364, 0.17453108335633685, 0.7443925303551422, 0.6903132193598274, -0.5627408036346566, -0.4518178996632333, -0.9368981301966262, 0.05061874383989501, -0.6922640658095132, -0.5280750185783809, -1.2947751095368296, -0.870662429879271, -0.298108580253174, 0.037387968557037854, -1.1207278026636471, -1.9113339857999854, -0.007295497555885252, 0.9171993947582978]}],                        {\"barmode\": \"overlay\", \"legend\": {\"bgcolor\": \"#F5F6F9\", \"font\": {\"color\": \"#4D5663\"}}, \"paper_bgcolor\": \"#F5F6F9\", \"plot_bgcolor\": \"#F5F6F9\", \"template\": {\"data\": {\"bar\": [{\"error_x\": {\"color\": \"#2a3f5f\"}, \"error_y\": {\"color\": \"#2a3f5f\"}, \"marker\": {\"line\": {\"color\": \"#E5ECF6\", \"width\": 0.5}}, \"type\": \"bar\"}], \"barpolar\": [{\"marker\": {\"line\": {\"color\": \"#E5ECF6\", \"width\": 0.5}}, \"type\": \"barpolar\"}], \"carpet\": [{\"aaxis\": {\"endlinecolor\": \"#2a3f5f\", \"gridcolor\": \"white\", \"linecolor\": \"white\", \"minorgridcolor\": \"white\", \"startlinecolor\": \"#2a3f5f\"}, \"baxis\": {\"endlinecolor\": \"#2a3f5f\", \"gridcolor\": \"white\", \"linecolor\": \"white\", \"minorgridcolor\": \"white\", \"startlinecolor\": \"#2a3f5f\"}, \"type\": \"carpet\"}], \"choropleth\": [{\"colorbar\": {\"outlinewidth\": 0, \"ticks\": \"\"}, \"type\": \"choropleth\"}], \"contour\": [{\"colorbar\": {\"outlinewidth\": 0, \"ticks\": \"\"}, \"colorscale\": [[0.0, \"#0d0887\"], [0.1111111111111111, \"#46039f\"], [0.2222222222222222, \"#7201a8\"], [0.3333333333333333, \"#9c179e\"], [0.4444444444444444, \"#bd3786\"], [0.5555555555555556, \"#d8576b\"], [0.6666666666666666, \"#ed7953\"], [0.7777777777777778, \"#fb9f3a\"], [0.8888888888888888, \"#fdca26\"], [1.0, \"#f0f921\"]], \"type\": \"contour\"}], \"contourcarpet\": [{\"colorbar\": {\"outlinewidth\": 0, \"ticks\": \"\"}, \"type\": \"contourcarpet\"}], \"heatmap\": [{\"colorbar\": {\"outlinewidth\": 0, \"ticks\": \"\"}, \"colorscale\": [[0.0, \"#0d0887\"], [0.1111111111111111, \"#46039f\"], [0.2222222222222222, \"#7201a8\"], [0.3333333333333333, \"#9c179e\"], [0.4444444444444444, \"#bd3786\"], [0.5555555555555556, \"#d8576b\"], [0.6666666666666666, \"#ed7953\"], [0.7777777777777778, \"#fb9f3a\"], [0.8888888888888888, \"#fdca26\"], [1.0, \"#f0f921\"]], \"type\": \"heatmap\"}], \"heatmapgl\": [{\"colorbar\": {\"outlinewidth\": 0, \"ticks\": \"\"}, \"colorscale\": [[0.0, \"#0d0887\"], [0.1111111111111111, \"#46039f\"], [0.2222222222222222, \"#7201a8\"], [0.3333333333333333, \"#9c179e\"], [0.4444444444444444, \"#bd3786\"], [0.5555555555555556, \"#d8576b\"], [0.6666666666666666, \"#ed7953\"], [0.7777777777777778, \"#fb9f3a\"], [0.8888888888888888, \"#fdca26\"], [1.0, \"#f0f921\"]], \"type\": \"heatmapgl\"}], \"histogram\": [{\"marker\": {\"colorbar\": {\"outlinewidth\": 0, \"ticks\": \"\"}}, \"type\": \"histogram\"}], \"histogram2d\": [{\"colorbar\": {\"outlinewidth\": 0, \"ticks\": \"\"}, \"colorscale\": [[0.0, \"#0d0887\"], [0.1111111111111111, \"#46039f\"], [0.2222222222222222, \"#7201a8\"], [0.3333333333333333, \"#9c179e\"], [0.4444444444444444, \"#bd3786\"], [0.5555555555555556, \"#d8576b\"], [0.6666666666666666, \"#ed7953\"], [0.7777777777777778, \"#fb9f3a\"], [0.8888888888888888, \"#fdca26\"], [1.0, \"#f0f921\"]], \"type\": \"histogram2d\"}], \"histogram2dcontour\": [{\"colorbar\": {\"outlinewidth\": 0, \"ticks\": \"\"}, \"colorscale\": [[0.0, \"#0d0887\"], [0.1111111111111111, \"#46039f\"], [0.2222222222222222, \"#7201a8\"], [0.3333333333333333, \"#9c179e\"], [0.4444444444444444, \"#bd3786\"], [0.5555555555555556, \"#d8576b\"], [0.6666666666666666, \"#ed7953\"], [0.7777777777777778, \"#fb9f3a\"], [0.8888888888888888, \"#fdca26\"], [1.0, \"#f0f921\"]], \"type\": \"histogram2dcontour\"}], \"mesh3d\": [{\"colorbar\": {\"outlinewidth\": 0, \"ticks\": \"\"}, \"type\": \"mesh3d\"}], \"parcoords\": [{\"line\": {\"colorbar\": {\"outlinewidth\": 0, \"ticks\": \"\"}}, \"type\": \"parcoords\"}], \"pie\": [{\"automargin\": true, \"type\": \"pie\"}], \"scatter\": [{\"marker\": {\"colorbar\": {\"outlinewidth\": 0, \"ticks\": \"\"}}, \"type\": \"scatter\"}], \"scatter3d\": [{\"line\": {\"colorbar\": {\"outlinewidth\": 0, \"ticks\": \"\"}}, \"marker\": {\"colorbar\": {\"outlinewidth\": 0, \"ticks\": \"\"}}, \"type\": \"scatter3d\"}], \"scattercarpet\": [{\"marker\": {\"colorbar\": {\"outlinewidth\": 0, \"ticks\": \"\"}}, \"type\": \"scattercarpet\"}], \"scattergeo\": [{\"marker\": {\"colorbar\": {\"outlinewidth\": 0, \"ticks\": \"\"}}, \"type\": \"scattergeo\"}], \"scattergl\": [{\"marker\": {\"colorbar\": {\"outlinewidth\": 0, \"ticks\": \"\"}}, \"type\": \"scattergl\"}], \"scattermapbox\": [{\"marker\": {\"colorbar\": {\"outlinewidth\": 0, \"ticks\": \"\"}}, \"type\": \"scattermapbox\"}], \"scatterpolar\": [{\"marker\": {\"colorbar\": {\"outlinewidth\": 0, \"ticks\": \"\"}}, \"type\": \"scatterpolar\"}], \"scatterpolargl\": [{\"marker\": {\"colorbar\": {\"outlinewidth\": 0, \"ticks\": \"\"}}, \"type\": \"scatterpolargl\"}], \"scatterternary\": [{\"marker\": {\"colorbar\": {\"outlinewidth\": 0, \"ticks\": \"\"}}, \"type\": \"scatterternary\"}], \"surface\": [{\"colorbar\": {\"outlinewidth\": 0, \"ticks\": \"\"}, \"colorscale\": [[0.0, \"#0d0887\"], [0.1111111111111111, \"#46039f\"], [0.2222222222222222, \"#7201a8\"], [0.3333333333333333, \"#9c179e\"], [0.4444444444444444, \"#bd3786\"], [0.5555555555555556, \"#d8576b\"], [0.6666666666666666, \"#ed7953\"], [0.7777777777777778, \"#fb9f3a\"], [0.8888888888888888, \"#fdca26\"], [1.0, \"#f0f921\"]], \"type\": \"surface\"}], \"table\": [{\"cells\": {\"fill\": {\"color\": \"#EBF0F8\"}, \"line\": {\"color\": \"white\"}}, \"header\": {\"fill\": {\"color\": \"#C8D4E3\"}, \"line\": {\"color\": \"white\"}}, \"type\": \"table\"}]}, \"layout\": {\"annotationdefaults\": {\"arrowcolor\": \"#2a3f5f\", \"arrowhead\": 0, \"arrowwidth\": 1}, \"autotypenumbers\": \"strict\", \"coloraxis\": {\"colorbar\": {\"outlinewidth\": 0, \"ticks\": \"\"}}, \"colorscale\": {\"diverging\": [[0, \"#8e0152\"], [0.1, \"#c51b7d\"], [0.2, \"#de77ae\"], [0.3, \"#f1b6da\"], [0.4, \"#fde0ef\"], [0.5, \"#f7f7f7\"], [0.6, \"#e6f5d0\"], [0.7, \"#b8e186\"], [0.8, \"#7fbc41\"], [0.9, \"#4d9221\"], [1, \"#276419\"]], \"sequential\": [[0.0, \"#0d0887\"], [0.1111111111111111, \"#46039f\"], [0.2222222222222222, \"#7201a8\"], [0.3333333333333333, \"#9c179e\"], [0.4444444444444444, \"#bd3786\"], [0.5555555555555556, \"#d8576b\"], [0.6666666666666666, \"#ed7953\"], [0.7777777777777778, \"#fb9f3a\"], [0.8888888888888888, \"#fdca26\"], [1.0, \"#f0f921\"]], \"sequentialminus\": [[0.0, \"#0d0887\"], [0.1111111111111111, \"#46039f\"], [0.2222222222222222, \"#7201a8\"], [0.3333333333333333, \"#9c179e\"], [0.4444444444444444, \"#bd3786\"], [0.5555555555555556, \"#d8576b\"], [0.6666666666666666, \"#ed7953\"], [0.7777777777777778, \"#fb9f3a\"], [0.8888888888888888, \"#fdca26\"], [1.0, \"#f0f921\"]]}, \"colorway\": [\"#636efa\", \"#EF553B\", \"#00cc96\", \"#ab63fa\", \"#FFA15A\", \"#19d3f3\", \"#FF6692\", \"#B6E880\", \"#FF97FF\", \"#FECB52\"], \"font\": {\"color\": \"#2a3f5f\"}, \"geo\": {\"bgcolor\": \"white\", \"lakecolor\": \"white\", \"landcolor\": \"#E5ECF6\", \"showlakes\": true, \"showland\": true, \"subunitcolor\": \"white\"}, \"hoverlabel\": {\"align\": \"left\"}, \"hovermode\": \"closest\", \"mapbox\": {\"style\": \"light\"}, \"paper_bgcolor\": \"white\", \"plot_bgcolor\": \"#E5ECF6\", \"polar\": {\"angularaxis\": {\"gridcolor\": \"white\", \"linecolor\": \"white\", \"ticks\": \"\"}, \"bgcolor\": \"#E5ECF6\", \"radialaxis\": {\"gridcolor\": \"white\", \"linecolor\": \"white\", \"ticks\": \"\"}}, \"scene\": {\"xaxis\": {\"backgroundcolor\": \"#E5ECF6\", \"gridcolor\": \"white\", \"gridwidth\": 2, \"linecolor\": \"white\", \"showbackground\": true, \"ticks\": \"\", \"zerolinecolor\": \"white\"}, \"yaxis\": {\"backgroundcolor\": \"#E5ECF6\", \"gridcolor\": \"white\", \"gridwidth\": 2, \"linecolor\": \"white\", \"showbackground\": true, \"ticks\": \"\", \"zerolinecolor\": \"white\"}, \"zaxis\": {\"backgroundcolor\": \"#E5ECF6\", \"gridcolor\": \"white\", \"gridwidth\": 2, \"linecolor\": \"white\", \"showbackground\": true, \"ticks\": \"\", \"zerolinecolor\": \"white\"}}, \"shapedefaults\": {\"line\": {\"color\": \"#2a3f5f\"}}, \"ternary\": {\"aaxis\": {\"gridcolor\": \"white\", \"linecolor\": \"white\", \"ticks\": \"\"}, \"baxis\": {\"gridcolor\": \"white\", \"linecolor\": \"white\", \"ticks\": \"\"}, \"bgcolor\": \"#E5ECF6\", \"caxis\": {\"gridcolor\": \"white\", \"linecolor\": \"white\", \"ticks\": \"\"}}, \"title\": {\"x\": 0.05}, \"xaxis\": {\"automargin\": true, \"gridcolor\": \"white\", \"linecolor\": \"white\", \"ticks\": \"\", \"title\": {\"standoff\": 15}, \"zerolinecolor\": \"white\", \"zerolinewidth\": 2}, \"yaxis\": {\"automargin\": true, \"gridcolor\": \"white\", \"linecolor\": \"white\", \"ticks\": \"\", \"title\": {\"standoff\": 15}, \"zerolinecolor\": \"white\", \"zerolinewidth\": 2}}}, \"title\": {\"font\": {\"color\": \"#4D5663\"}}, \"xaxis\": {\"gridcolor\": \"#E1E5ED\", \"showgrid\": true, \"tickfont\": {\"color\": \"#4D5663\"}, \"title\": {\"font\": {\"color\": \"#4D5663\"}, \"text\": \"\"}, \"zerolinecolor\": \"#E1E5ED\"}, \"yaxis\": {\"gridcolor\": \"#E1E5ED\", \"showgrid\": true, \"tickfont\": {\"color\": \"#4D5663\"}, \"title\": {\"font\": {\"color\": \"#4D5663\"}, \"text\": \"\"}, \"zerolinecolor\": \"#E1E5ED\"}},                        {\"showLink\": true, \"linkText\": \"Export to plot.ly\", \"plotlyServerURL\": \"https://plot.ly\", \"responsive\": true}                    ).then(function(){\n",
       "                            \n",
       "var gd = document.getElementById('c6549afa-8129-4427-b0bd-432c13987d66');\n",
       "var x = new MutationObserver(function (mutations, observer) {{\n",
       "        var display = window.getComputedStyle(gd).display;\n",
       "        if (!display || display === 'none') {{\n",
       "            console.log([gd, 'removed!']);\n",
       "            Plotly.purge(gd);\n",
       "            observer.disconnect();\n",
       "        }}\n",
       "}});\n",
       "\n",
       "// Listen for the removal of the full notebook cells\n",
       "var notebookContainer = gd.closest('#notebook-container');\n",
       "if (notebookContainer) {{\n",
       "    x.observe(notebookContainer, {childList: true});\n",
       "}}\n",
       "\n",
       "// Listen for the clearing of the current output cell\n",
       "var outputEl = gd.closest('.output');\n",
       "if (outputEl) {{\n",
       "    x.observe(outputEl, {childList: true});\n",
       "}}\n",
       "\n",
       "                        })                };                });            </script>        </div>"
      ]
     },
     "metadata": {},
     "output_type": "display_data"
    }
   ],
   "source": [
    "df.iplot(kind='hist')"
   ]
  },
  {
   "cell_type": "code",
   "execution_count": 48,
   "metadata": {},
   "outputs": [
    {
     "name": "stderr",
     "output_type": "stream",
     "text": [
      "/Users/self/opt/anaconda3/lib/python3.7/site-packages/cufflinks/plotlytools.py:849: FutureWarning:\n",
      "\n",
      "The pandas.np module is deprecated and will be removed from pandas in a future version. Import numpy directly instead\n",
      "\n",
      "/Users/self/opt/anaconda3/lib/python3.7/site-packages/cufflinks/plotlytools.py:850: FutureWarning:\n",
      "\n",
      "The pandas.np module is deprecated and will be removed from pandas in a future version. Import numpy directly instead\n",
      "\n"
     ]
    },
    {
     "data": {
      "application/vnd.plotly.v1+json": {
       "config": {
        "linkText": "Export to plot.ly",
        "plotlyServerURL": "https://plot.ly",
        "showLink": true
       },
       "data": [
        {
         "line": {
          "color": "rgba(255, 153, 51, 1.0)",
          "dash": "solid",
          "shape": "linear",
          "width": 1.3
         },
         "mode": "lines",
         "name": "A",
         "text": "",
         "type": "scatter",
         "x": [
          0,
          1,
          2,
          3,
          4,
          5,
          6,
          7,
          8,
          9,
          10,
          11,
          12,
          13,
          14,
          15,
          16,
          17,
          18,
          19,
          20,
          21,
          22,
          23,
          24,
          25,
          26,
          27,
          28,
          29,
          30,
          31,
          32,
          33,
          34,
          35,
          36,
          37,
          38,
          39,
          40,
          41,
          42,
          43,
          44,
          45,
          46,
          47,
          48,
          49,
          50,
          51,
          52,
          53,
          54,
          55,
          56,
          57,
          58,
          59,
          60,
          61,
          62,
          63,
          64,
          65,
          66,
          67,
          68,
          69,
          70,
          71,
          72,
          73,
          74,
          75,
          76,
          77,
          78,
          79,
          80,
          81,
          82,
          83,
          84,
          85,
          86,
          87,
          88,
          89,
          90,
          91,
          92,
          93,
          94,
          95,
          96,
          97,
          98,
          99
         ],
         "y": [
          -0.3743792182439242,
          -1.6197326287777765,
          -1.6694241693284275,
          -0.8234720676448699,
          0.13693934194800925,
          -0.7786890259731041,
          1.2425205537238309,
          0.23661461195068445,
          0.4427518671054902,
          2.0602492413190627,
          0.17347553754917663,
          0.5272904974803029,
          1.0501036685459912,
          0.27964168711265713,
          -0.7272118486201753,
          -0.22172121217961174,
          -1.4066185696758435,
          0.14943198489384765,
          1.9432086736456875,
          2.5220657307651355,
          -1.575145667869044,
          2.106775558992982,
          0.10174098248546284,
          1.7396932489191501,
          2.074786533983352,
          -1.1987093179807613,
          -0.7165329207174465,
          2.606548254803393,
          -0.1731233457547235,
          1.0190282826591162,
          -0.8462404362171113,
          -0.013844020914462261,
          0.03325819160101085,
          1.7785315479135524,
          -0.845672667552957,
          1.2601128671438402,
          -1.8143044052327248,
          0.5970279618887205,
          -0.5769416532706793,
          -0.32364036863083556,
          0.03374636130467711,
          1.1262235526047673,
          -0.8835399735809639,
          0.06711967156865234,
          -1.4139271342518789,
          -0.6575777307138329,
          0.46229213676974534,
          1.0313703525873301,
          -0.493699775953662,
          0.7661403815389104,
          -0.17056924610476254,
          0.1903867851538594,
          -0.5971541790764131,
          1.241771128939705,
          -0.0983027365076231,
          0.09160084021308144,
          -1.9601710782173678,
          0.037315681418766455,
          0.8821219685238391,
          -0.7375779940391467,
          0.19254111855709474,
          0.6924571147549479,
          0.16154451786586277,
          -1.0727850115023716,
          -0.01649775264774975,
          -0.8049803974922969,
          -0.8398704184601684,
          0.8505246844046274,
          -0.5200062488807476,
          0.014739737631221722,
          0.12869943874606232,
          -1.392960388914175,
          0.20609619106358215,
          -0.10679886929113508,
          0.8973824818566172,
          -0.2730155117429203,
          0.7207158467228036,
          -0.43694692713810984,
          1.0219884648429,
          -0.108800476161582,
          1.165329073668084,
          -0.16302070112148123,
          0.5891703252134486,
          0.11281410046037657,
          0.4284575251522544,
          -1.9219006979808662,
          -0.6563995509383275,
          -1.43950547963843,
          -0.2762985778717633,
          3.010485863448667,
          -0.12036745273155926,
          -0.20020535022170713,
          0.31097193170068255,
          1.0109448623739885,
          -0.17848199577529572,
          0.2846917936792169,
          -0.6808365819892909,
          -1.0071421584201592,
          2.283632305623987,
          -2.1543573610817393
         ]
        },
        {
         "line": {
          "color": "rgba(55, 128, 191, 1.0)",
          "dash": "solid",
          "shape": "linear",
          "width": 1.3
         },
         "mode": "lines",
         "name": "B",
         "text": "",
         "type": "scatter",
         "x": [
          0,
          1,
          2,
          3,
          4,
          5,
          6,
          7,
          8,
          9,
          10,
          11,
          12,
          13,
          14,
          15,
          16,
          17,
          18,
          19,
          20,
          21,
          22,
          23,
          24,
          25,
          26,
          27,
          28,
          29,
          30,
          31,
          32,
          33,
          34,
          35,
          36,
          37,
          38,
          39,
          40,
          41,
          42,
          43,
          44,
          45,
          46,
          47,
          48,
          49,
          50,
          51,
          52,
          53,
          54,
          55,
          56,
          57,
          58,
          59,
          60,
          61,
          62,
          63,
          64,
          65,
          66,
          67,
          68,
          69,
          70,
          71,
          72,
          73,
          74,
          75,
          76,
          77,
          78,
          79,
          80,
          81,
          82,
          83,
          84,
          85,
          86,
          87,
          88,
          89,
          90,
          91,
          92,
          93,
          94,
          95,
          96,
          97,
          98,
          99
         ],
         "y": [
          -1.1027785660551868,
          0.29740020489597846,
          -0.43253294240382856,
          -1.1084269652229717,
          -1.6373655590184417,
          -1.0725117618110998,
          -1.9099100685608439,
          -2.0689122733051275,
          0.077918987078293,
          0.5024584203750352,
          -1.3926796764698834,
          0.3717509242747525,
          -0.8474458229363676,
          0.08737683711031544,
          -0.33133430972182576,
          -2.733316055785719,
          -0.6928824100740675,
          0.5250323944129693,
          -1.6067781687815792,
          -0.7287202006257252,
          -1.6918012487369385,
          0.3542738500682554,
          -0.1915179367997926,
          -0.29403482375669315,
          -1.4559887425614062,
          -0.45946662861286863,
          -1.0573702753899408,
          -0.13034922297969953,
          -1.5699117976686348,
          0.5481499873171011,
          -1.4685830306254732,
          -1.1806385665913264,
          -1.4156796963696252,
          1.3605077053581722,
          1.9811380136832317,
          -0.16316712319178428,
          -0.6983529403698392,
          1.1203194633607836,
          -0.378838594956958,
          2.0486437782810403,
          0.5192196076632097,
          -0.8777252263888996,
          -0.38206113714898843,
          0.012992185416119843,
          1.2929317353034275,
          0.3907851507983996,
          -1.3572897634254169,
          -0.870575384725658,
          -0.0027188992621641167,
          0.49670782282570086,
          -0.7091516270566384,
          -0.40752396773946536,
          0.5777273937905538,
          -0.028583879645875804,
          -0.686415398165249,
          -0.6632303830207483,
          0.3611285698868993,
          -1.4150766880023653,
          -0.5355969336730079,
          0.15148844935688743,
          1.4809758774301216,
          0.1341776189245072,
          2.039413314544158,
          -0.03243372323009276,
          0.022831173707126735,
          -0.841240189670404,
          -0.49541889751084567,
          0.8183400775505387,
          0.7488401406486337,
          -0.17193420847758445,
          -0.45187359053888715,
          -0.19881883509728254,
          -1.50152229425189,
          -0.35828183450124146,
          1.9630368930993207,
          1.1964489103975489,
          -0.1435270860047802,
          -0.3308275681612723,
          0.8659755734970961,
          -0.26379834794677504,
          -0.46684150154116616,
          0.4345934611912318,
          0.9143039934710501,
          -0.06561570356948355,
          -0.6767256650340361,
          -1.0259488290832,
          -0.2727313264750364,
          1.0195015218583527,
          -0.1125709709711396,
          -0.0992052156509772,
          -0.10038565402562996,
          1.182259921569917,
          0.6201037680164574,
          0.00065696719603261,
          0.4556208055782743,
          -0.9502790546247901,
          -1.0978368547782833,
          0.3992300601573083,
          0.3982763109978748,
          0.14618132688760946
         ]
        },
        {
         "connectgaps": false,
         "fill": "tozeroy",
         "line": {
          "color": "green",
          "dash": "solid",
          "shape": "linear",
          "width": 0.5
         },
         "mode": "lines",
         "name": "Spread",
         "showlegend": false,
         "type": "scatter",
         "x": [
          0,
          1,
          2,
          3,
          4,
          5,
          6,
          7,
          8,
          9,
          10,
          11,
          12,
          13,
          14,
          15,
          16,
          17,
          18,
          19,
          20,
          21,
          22,
          23,
          24,
          25,
          26,
          27,
          28,
          29,
          30,
          31,
          32,
          33,
          34,
          35,
          36,
          37,
          38,
          39,
          40,
          41,
          42,
          43,
          44,
          45,
          46,
          47,
          48,
          49,
          50,
          51,
          52,
          53,
          54,
          55,
          56,
          57,
          58,
          59,
          60,
          61,
          62,
          63,
          64,
          65,
          66,
          67,
          68,
          69,
          70,
          71,
          72,
          73,
          74,
          75,
          76,
          77,
          78,
          79,
          80,
          81,
          82,
          83,
          84,
          85,
          86,
          87,
          88,
          89,
          90,
          91,
          92,
          93,
          94,
          95,
          96,
          97,
          98,
          99
         ],
         "xaxis": "x2",
         "y": [
          0.7283993478112626,
          "",
          "",
          0.2849548975781018,
          1.7743049009664509,
          0.2938227358379957,
          3.1524306222846747,
          2.305526885255812,
          0.36483288002719716,
          1.5577908209440277,
          1.56615521401906,
          0.1555395732055504,
          1.897549491482359,
          0.1922648500023417,
          "",
          2.5115948436061073,
          "",
          "",
          3.5499868424272667,
          3.250785931390861,
          0.1166555808678944,
          1.7525017089247266,
          0.29325891928525544,
          2.033728072675843,
          3.5307752765447584,
          "",
          0.3408373546724943,
          2.7368974777830926,
          1.3967884519139113,
          0.4708782953420151,
          0.6223425944083619,
          1.166794545676864,
          1.448937887970636,
          0.41802384255538017,
          "",
          1.4232799903356246,
          "",
          "",
          "",
          "",
          "",
          2.0039487789936667,
          "",
          0.054127486152532496,
          "",
          "",
          1.8195819001951623,
          1.901945737312988,
          "",
          0.26943255871320954,
          0.5385823809518758,
          0.5979107528933247,
          "",
          1.2703550085855808,
          0.5881126616576259,
          0.7548312232338298,
          "",
          1.4523923694211318,
          1.4177189021968468,
          "",
          "",
          0.5582794958304407,
          "",
          "",
          "",
          0.03625979217810715,
          "",
          0.03218460685408864,
          "",
          0.18667394610880617,
          0.5805730292849495,
          "",
          1.7076184853154721,
          0.2514829652101064,
          "",
          "",
          0.8642429327275838,
          "",
          0.15601289134580398,
          0.15499787178519303,
          1.6321705752092501,
          "",
          "",
          0.17842980402986014,
          1.1051831901862905,
          "",
          "",
          "",
          "",
          3.109691079099644,
          "",
          "",
          "",
          1.010287895177956,
          "",
          1.234970848304007,
          0.41700027278899243,
          "",
          1.885355994626112,
          ""
         ],
         "yaxis": "y2"
        },
        {
         "connectgaps": false,
         "fill": "tozeroy",
         "line": {
          "color": "red",
          "dash": "solid",
          "shape": "linear",
          "width": 0.5
         },
         "mode": "lines",
         "name": "Spread",
         "showlegend": false,
         "type": "scatter",
         "x": [
          0,
          1,
          2,
          3,
          4,
          5,
          6,
          7,
          8,
          9,
          10,
          11,
          12,
          13,
          14,
          15,
          16,
          17,
          18,
          19,
          20,
          21,
          22,
          23,
          24,
          25,
          26,
          27,
          28,
          29,
          30,
          31,
          32,
          33,
          34,
          35,
          36,
          37,
          38,
          39,
          40,
          41,
          42,
          43,
          44,
          45,
          46,
          47,
          48,
          49,
          50,
          51,
          52,
          53,
          54,
          55,
          56,
          57,
          58,
          59,
          60,
          61,
          62,
          63,
          64,
          65,
          66,
          67,
          68,
          69,
          70,
          71,
          72,
          73,
          74,
          75,
          76,
          77,
          78,
          79,
          80,
          81,
          82,
          83,
          84,
          85,
          86,
          87,
          88,
          89,
          90,
          91,
          92,
          93,
          94,
          95,
          96,
          97,
          98,
          99
         ],
         "xaxis": "x2",
         "y": [
          "",
          -1.917132833673755,
          -1.236891226924599,
          "",
          "",
          "",
          "",
          "",
          "",
          "",
          "",
          "",
          "",
          "",
          -0.39587753889834953,
          "",
          -0.713736159601776,
          -0.37560040951912166,
          "",
          "",
          "",
          "",
          "",
          "",
          "",
          -0.7392426893678927,
          "",
          "",
          "",
          "",
          "",
          "",
          "",
          "",
          -2.826810681236189,
          "",
          -1.1159514648628857,
          -0.523291501472063,
          -0.19810305831372127,
          -2.372284146911876,
          -0.4854732463585326,
          "",
          -0.5014788364319755,
          "",
          -2.7068588695553064,
          -1.0483628815122326,
          "",
          "",
          -0.49098087669149787,
          "",
          "",
          "",
          -1.1748815728669668,
          "",
          "",
          "",
          -2.321299648104267,
          "",
          "",
          -0.8890664433960341,
          -1.288434758873027,
          "",
          -1.8778687966782952,
          -1.0403512882722787,
          -0.03932892635487649,
          "",
          -0.34445152094932274,
          "",
          -1.2688463895293813,
          "",
          "",
          -1.1941415538168925,
          "",
          "",
          -1.0656544112427035,
          -1.4694644221404691,
          "",
          -0.10611935897683755,
          "",
          "",
          "",
          -0.597614162312713,
          -0.3251336682576015,
          "",
          "",
          -0.8959518688976662,
          -0.3836682244632911,
          -2.459007001496783,
          -0.1637276069006237,
          "",
          -0.019981798705929296,
          -1.3824652717916242,
          -0.30913183631577484,
          "",
          -0.63410280135357,
          "",
          "",
          -1.4063722185774674,
          "",
          -2.3005386879693486
         ],
         "yaxis": "y2"
        }
       ],
       "layout": {
        "hovermode": "x",
        "legend": {
         "bgcolor": "#F5F6F9",
         "font": {
          "color": "#4D5663"
         }
        },
        "paper_bgcolor": "#F5F6F9",
        "plot_bgcolor": "#F5F6F9",
        "template": {
         "data": {
          "bar": [
           {
            "error_x": {
             "color": "#2a3f5f"
            },
            "error_y": {
             "color": "#2a3f5f"
            },
            "marker": {
             "line": {
              "color": "#E5ECF6",
              "width": 0.5
             }
            },
            "type": "bar"
           }
          ],
          "barpolar": [
           {
            "marker": {
             "line": {
              "color": "#E5ECF6",
              "width": 0.5
             }
            },
            "type": "barpolar"
           }
          ],
          "carpet": [
           {
            "aaxis": {
             "endlinecolor": "#2a3f5f",
             "gridcolor": "white",
             "linecolor": "white",
             "minorgridcolor": "white",
             "startlinecolor": "#2a3f5f"
            },
            "baxis": {
             "endlinecolor": "#2a3f5f",
             "gridcolor": "white",
             "linecolor": "white",
             "minorgridcolor": "white",
             "startlinecolor": "#2a3f5f"
            },
            "type": "carpet"
           }
          ],
          "choropleth": [
           {
            "colorbar": {
             "outlinewidth": 0,
             "ticks": ""
            },
            "type": "choropleth"
           }
          ],
          "contour": [
           {
            "colorbar": {
             "outlinewidth": 0,
             "ticks": ""
            },
            "colorscale": [
             [
              0,
              "#0d0887"
             ],
             [
              0.1111111111111111,
              "#46039f"
             ],
             [
              0.2222222222222222,
              "#7201a8"
             ],
             [
              0.3333333333333333,
              "#9c179e"
             ],
             [
              0.4444444444444444,
              "#bd3786"
             ],
             [
              0.5555555555555556,
              "#d8576b"
             ],
             [
              0.6666666666666666,
              "#ed7953"
             ],
             [
              0.7777777777777778,
              "#fb9f3a"
             ],
             [
              0.8888888888888888,
              "#fdca26"
             ],
             [
              1,
              "#f0f921"
             ]
            ],
            "type": "contour"
           }
          ],
          "contourcarpet": [
           {
            "colorbar": {
             "outlinewidth": 0,
             "ticks": ""
            },
            "type": "contourcarpet"
           }
          ],
          "heatmap": [
           {
            "colorbar": {
             "outlinewidth": 0,
             "ticks": ""
            },
            "colorscale": [
             [
              0,
              "#0d0887"
             ],
             [
              0.1111111111111111,
              "#46039f"
             ],
             [
              0.2222222222222222,
              "#7201a8"
             ],
             [
              0.3333333333333333,
              "#9c179e"
             ],
             [
              0.4444444444444444,
              "#bd3786"
             ],
             [
              0.5555555555555556,
              "#d8576b"
             ],
             [
              0.6666666666666666,
              "#ed7953"
             ],
             [
              0.7777777777777778,
              "#fb9f3a"
             ],
             [
              0.8888888888888888,
              "#fdca26"
             ],
             [
              1,
              "#f0f921"
             ]
            ],
            "type": "heatmap"
           }
          ],
          "heatmapgl": [
           {
            "colorbar": {
             "outlinewidth": 0,
             "ticks": ""
            },
            "colorscale": [
             [
              0,
              "#0d0887"
             ],
             [
              0.1111111111111111,
              "#46039f"
             ],
             [
              0.2222222222222222,
              "#7201a8"
             ],
             [
              0.3333333333333333,
              "#9c179e"
             ],
             [
              0.4444444444444444,
              "#bd3786"
             ],
             [
              0.5555555555555556,
              "#d8576b"
             ],
             [
              0.6666666666666666,
              "#ed7953"
             ],
             [
              0.7777777777777778,
              "#fb9f3a"
             ],
             [
              0.8888888888888888,
              "#fdca26"
             ],
             [
              1,
              "#f0f921"
             ]
            ],
            "type": "heatmapgl"
           }
          ],
          "histogram": [
           {
            "marker": {
             "colorbar": {
              "outlinewidth": 0,
              "ticks": ""
             }
            },
            "type": "histogram"
           }
          ],
          "histogram2d": [
           {
            "colorbar": {
             "outlinewidth": 0,
             "ticks": ""
            },
            "colorscale": [
             [
              0,
              "#0d0887"
             ],
             [
              0.1111111111111111,
              "#46039f"
             ],
             [
              0.2222222222222222,
              "#7201a8"
             ],
             [
              0.3333333333333333,
              "#9c179e"
             ],
             [
              0.4444444444444444,
              "#bd3786"
             ],
             [
              0.5555555555555556,
              "#d8576b"
             ],
             [
              0.6666666666666666,
              "#ed7953"
             ],
             [
              0.7777777777777778,
              "#fb9f3a"
             ],
             [
              0.8888888888888888,
              "#fdca26"
             ],
             [
              1,
              "#f0f921"
             ]
            ],
            "type": "histogram2d"
           }
          ],
          "histogram2dcontour": [
           {
            "colorbar": {
             "outlinewidth": 0,
             "ticks": ""
            },
            "colorscale": [
             [
              0,
              "#0d0887"
             ],
             [
              0.1111111111111111,
              "#46039f"
             ],
             [
              0.2222222222222222,
              "#7201a8"
             ],
             [
              0.3333333333333333,
              "#9c179e"
             ],
             [
              0.4444444444444444,
              "#bd3786"
             ],
             [
              0.5555555555555556,
              "#d8576b"
             ],
             [
              0.6666666666666666,
              "#ed7953"
             ],
             [
              0.7777777777777778,
              "#fb9f3a"
             ],
             [
              0.8888888888888888,
              "#fdca26"
             ],
             [
              1,
              "#f0f921"
             ]
            ],
            "type": "histogram2dcontour"
           }
          ],
          "mesh3d": [
           {
            "colorbar": {
             "outlinewidth": 0,
             "ticks": ""
            },
            "type": "mesh3d"
           }
          ],
          "parcoords": [
           {
            "line": {
             "colorbar": {
              "outlinewidth": 0,
              "ticks": ""
             }
            },
            "type": "parcoords"
           }
          ],
          "pie": [
           {
            "automargin": true,
            "type": "pie"
           }
          ],
          "scatter": [
           {
            "marker": {
             "colorbar": {
              "outlinewidth": 0,
              "ticks": ""
             }
            },
            "type": "scatter"
           }
          ],
          "scatter3d": [
           {
            "line": {
             "colorbar": {
              "outlinewidth": 0,
              "ticks": ""
             }
            },
            "marker": {
             "colorbar": {
              "outlinewidth": 0,
              "ticks": ""
             }
            },
            "type": "scatter3d"
           }
          ],
          "scattercarpet": [
           {
            "marker": {
             "colorbar": {
              "outlinewidth": 0,
              "ticks": ""
             }
            },
            "type": "scattercarpet"
           }
          ],
          "scattergeo": [
           {
            "marker": {
             "colorbar": {
              "outlinewidth": 0,
              "ticks": ""
             }
            },
            "type": "scattergeo"
           }
          ],
          "scattergl": [
           {
            "marker": {
             "colorbar": {
              "outlinewidth": 0,
              "ticks": ""
             }
            },
            "type": "scattergl"
           }
          ],
          "scattermapbox": [
           {
            "marker": {
             "colorbar": {
              "outlinewidth": 0,
              "ticks": ""
             }
            },
            "type": "scattermapbox"
           }
          ],
          "scatterpolar": [
           {
            "marker": {
             "colorbar": {
              "outlinewidth": 0,
              "ticks": ""
             }
            },
            "type": "scatterpolar"
           }
          ],
          "scatterpolargl": [
           {
            "marker": {
             "colorbar": {
              "outlinewidth": 0,
              "ticks": ""
             }
            },
            "type": "scatterpolargl"
           }
          ],
          "scatterternary": [
           {
            "marker": {
             "colorbar": {
              "outlinewidth": 0,
              "ticks": ""
             }
            },
            "type": "scatterternary"
           }
          ],
          "surface": [
           {
            "colorbar": {
             "outlinewidth": 0,
             "ticks": ""
            },
            "colorscale": [
             [
              0,
              "#0d0887"
             ],
             [
              0.1111111111111111,
              "#46039f"
             ],
             [
              0.2222222222222222,
              "#7201a8"
             ],
             [
              0.3333333333333333,
              "#9c179e"
             ],
             [
              0.4444444444444444,
              "#bd3786"
             ],
             [
              0.5555555555555556,
              "#d8576b"
             ],
             [
              0.6666666666666666,
              "#ed7953"
             ],
             [
              0.7777777777777778,
              "#fb9f3a"
             ],
             [
              0.8888888888888888,
              "#fdca26"
             ],
             [
              1,
              "#f0f921"
             ]
            ],
            "type": "surface"
           }
          ],
          "table": [
           {
            "cells": {
             "fill": {
              "color": "#EBF0F8"
             },
             "line": {
              "color": "white"
             }
            },
            "header": {
             "fill": {
              "color": "#C8D4E3"
             },
             "line": {
              "color": "white"
             }
            },
            "type": "table"
           }
          ]
         },
         "layout": {
          "annotationdefaults": {
           "arrowcolor": "#2a3f5f",
           "arrowhead": 0,
           "arrowwidth": 1
          },
          "autotypenumbers": "strict",
          "coloraxis": {
           "colorbar": {
            "outlinewidth": 0,
            "ticks": ""
           }
          },
          "colorscale": {
           "diverging": [
            [
             0,
             "#8e0152"
            ],
            [
             0.1,
             "#c51b7d"
            ],
            [
             0.2,
             "#de77ae"
            ],
            [
             0.3,
             "#f1b6da"
            ],
            [
             0.4,
             "#fde0ef"
            ],
            [
             0.5,
             "#f7f7f7"
            ],
            [
             0.6,
             "#e6f5d0"
            ],
            [
             0.7,
             "#b8e186"
            ],
            [
             0.8,
             "#7fbc41"
            ],
            [
             0.9,
             "#4d9221"
            ],
            [
             1,
             "#276419"
            ]
           ],
           "sequential": [
            [
             0,
             "#0d0887"
            ],
            [
             0.1111111111111111,
             "#46039f"
            ],
            [
             0.2222222222222222,
             "#7201a8"
            ],
            [
             0.3333333333333333,
             "#9c179e"
            ],
            [
             0.4444444444444444,
             "#bd3786"
            ],
            [
             0.5555555555555556,
             "#d8576b"
            ],
            [
             0.6666666666666666,
             "#ed7953"
            ],
            [
             0.7777777777777778,
             "#fb9f3a"
            ],
            [
             0.8888888888888888,
             "#fdca26"
            ],
            [
             1,
             "#f0f921"
            ]
           ],
           "sequentialminus": [
            [
             0,
             "#0d0887"
            ],
            [
             0.1111111111111111,
             "#46039f"
            ],
            [
             0.2222222222222222,
             "#7201a8"
            ],
            [
             0.3333333333333333,
             "#9c179e"
            ],
            [
             0.4444444444444444,
             "#bd3786"
            ],
            [
             0.5555555555555556,
             "#d8576b"
            ],
            [
             0.6666666666666666,
             "#ed7953"
            ],
            [
             0.7777777777777778,
             "#fb9f3a"
            ],
            [
             0.8888888888888888,
             "#fdca26"
            ],
            [
             1,
             "#f0f921"
            ]
           ]
          },
          "colorway": [
           "#636efa",
           "#EF553B",
           "#00cc96",
           "#ab63fa",
           "#FFA15A",
           "#19d3f3",
           "#FF6692",
           "#B6E880",
           "#FF97FF",
           "#FECB52"
          ],
          "font": {
           "color": "#2a3f5f"
          },
          "geo": {
           "bgcolor": "white",
           "lakecolor": "white",
           "landcolor": "#E5ECF6",
           "showlakes": true,
           "showland": true,
           "subunitcolor": "white"
          },
          "hoverlabel": {
           "align": "left"
          },
          "hovermode": "closest",
          "mapbox": {
           "style": "light"
          },
          "paper_bgcolor": "white",
          "plot_bgcolor": "#E5ECF6",
          "polar": {
           "angularaxis": {
            "gridcolor": "white",
            "linecolor": "white",
            "ticks": ""
           },
           "bgcolor": "#E5ECF6",
           "radialaxis": {
            "gridcolor": "white",
            "linecolor": "white",
            "ticks": ""
           }
          },
          "scene": {
           "xaxis": {
            "backgroundcolor": "#E5ECF6",
            "gridcolor": "white",
            "gridwidth": 2,
            "linecolor": "white",
            "showbackground": true,
            "ticks": "",
            "zerolinecolor": "white"
           },
           "yaxis": {
            "backgroundcolor": "#E5ECF6",
            "gridcolor": "white",
            "gridwidth": 2,
            "linecolor": "white",
            "showbackground": true,
            "ticks": "",
            "zerolinecolor": "white"
           },
           "zaxis": {
            "backgroundcolor": "#E5ECF6",
            "gridcolor": "white",
            "gridwidth": 2,
            "linecolor": "white",
            "showbackground": true,
            "ticks": "",
            "zerolinecolor": "white"
           }
          },
          "shapedefaults": {
           "line": {
            "color": "#2a3f5f"
           }
          },
          "ternary": {
           "aaxis": {
            "gridcolor": "white",
            "linecolor": "white",
            "ticks": ""
           },
           "baxis": {
            "gridcolor": "white",
            "linecolor": "white",
            "ticks": ""
           },
           "bgcolor": "#E5ECF6",
           "caxis": {
            "gridcolor": "white",
            "linecolor": "white",
            "ticks": ""
           }
          },
          "title": {
           "x": 0.05
          },
          "xaxis": {
           "automargin": true,
           "gridcolor": "white",
           "linecolor": "white",
           "ticks": "",
           "title": {
            "standoff": 15
           },
           "zerolinecolor": "white",
           "zerolinewidth": 2
          },
          "yaxis": {
           "automargin": true,
           "gridcolor": "white",
           "linecolor": "white",
           "ticks": "",
           "title": {
            "standoff": 15
           },
           "zerolinecolor": "white",
           "zerolinewidth": 2
          }
         }
        },
        "title": {
         "font": {
          "color": "#4D5663"
         }
        },
        "xaxis": {
         "gridcolor": "#E1E5ED",
         "showgrid": true,
         "tickfont": {
          "color": "#4D5663"
         },
         "title": {
          "font": {
           "color": "#4D5663"
          },
          "text": ""
         },
         "zerolinecolor": "#E1E5ED"
        },
        "xaxis2": {
         "anchor": "y2",
         "gridcolor": "#E1E5ED",
         "showgrid": true,
         "showticklabels": false,
         "tickfont": {
          "color": "#4D5663"
         },
         "title": {
          "font": {
           "color": "#4D5663"
          },
          "text": ""
         },
         "zerolinecolor": "#E1E5ED"
        },
        "yaxis": {
         "domain": [
          0.3,
          1
         ],
         "gridcolor": "#E1E5ED",
         "showgrid": true,
         "tickfont": {
          "color": "#4D5663"
         },
         "title": {
          "font": {
           "color": "#4D5663"
          },
          "text": ""
         },
         "zerolinecolor": "#E1E5ED"
        },
        "yaxis2": {
         "domain": [
          0,
          0.25
         ],
         "gridcolor": "#E1E5ED",
         "showgrid": true,
         "tickfont": {
          "color": "#4D5663"
         },
         "title": {
          "font": {
           "color": "#4D5663"
          },
          "text": "Spread"
         },
         "zerolinecolor": "#E1E5ED"
        }
       }
      },
      "text/html": [
       "<div>                            <div id=\"46970fc3-4171-4973-a3a3-385ac9b645c8\" class=\"plotly-graph-div\" style=\"height:525px; width:100%;\"></div>            <script type=\"text/javascript\">                require([\"plotly\"], function(Plotly) {                    window.PLOTLYENV=window.PLOTLYENV || {};\n",
       "                    window.PLOTLYENV.BASE_URL='https://plot.ly';                                    if (document.getElementById(\"46970fc3-4171-4973-a3a3-385ac9b645c8\")) {                    Plotly.newPlot(                        \"46970fc3-4171-4973-a3a3-385ac9b645c8\",                        [{\"line\": {\"color\": \"rgba(255, 153, 51, 1.0)\", \"dash\": \"solid\", \"shape\": \"linear\", \"width\": 1.3}, \"mode\": \"lines\", \"name\": \"A\", \"text\": \"\", \"type\": \"scatter\", \"x\": [0, 1, 2, 3, 4, 5, 6, 7, 8, 9, 10, 11, 12, 13, 14, 15, 16, 17, 18, 19, 20, 21, 22, 23, 24, 25, 26, 27, 28, 29, 30, 31, 32, 33, 34, 35, 36, 37, 38, 39, 40, 41, 42, 43, 44, 45, 46, 47, 48, 49, 50, 51, 52, 53, 54, 55, 56, 57, 58, 59, 60, 61, 62, 63, 64, 65, 66, 67, 68, 69, 70, 71, 72, 73, 74, 75, 76, 77, 78, 79, 80, 81, 82, 83, 84, 85, 86, 87, 88, 89, 90, 91, 92, 93, 94, 95, 96, 97, 98, 99], \"y\": [-0.3743792182439242, -1.6197326287777765, -1.6694241693284275, -0.8234720676448699, 0.13693934194800925, -0.7786890259731041, 1.2425205537238309, 0.23661461195068445, 0.4427518671054902, 2.0602492413190627, 0.17347553754917663, 0.5272904974803029, 1.0501036685459912, 0.27964168711265713, -0.7272118486201753, -0.22172121217961174, -1.4066185696758435, 0.14943198489384765, 1.9432086736456875, 2.5220657307651355, -1.575145667869044, 2.106775558992982, 0.10174098248546284, 1.7396932489191501, 2.074786533983352, -1.1987093179807613, -0.7165329207174465, 2.606548254803393, -0.1731233457547235, 1.0190282826591162, -0.8462404362171113, -0.013844020914462261, 0.03325819160101085, 1.7785315479135524, -0.845672667552957, 1.2601128671438402, -1.8143044052327248, 0.5970279618887205, -0.5769416532706793, -0.32364036863083556, 0.03374636130467711, 1.1262235526047673, -0.8835399735809639, 0.06711967156865234, -1.4139271342518789, -0.6575777307138329, 0.46229213676974534, 1.0313703525873301, -0.493699775953662, 0.7661403815389104, -0.17056924610476254, 0.1903867851538594, -0.5971541790764131, 1.241771128939705, -0.0983027365076231, 0.09160084021308144, -1.9601710782173678, 0.037315681418766455, 0.8821219685238391, -0.7375779940391467, 0.19254111855709474, 0.6924571147549479, 0.16154451786586277, -1.0727850115023716, -0.01649775264774975, -0.8049803974922969, -0.8398704184601684, 0.8505246844046274, -0.5200062488807476, 0.014739737631221722, 0.12869943874606232, -1.392960388914175, 0.20609619106358215, -0.10679886929113508, 0.8973824818566172, -0.2730155117429203, 0.7207158467228036, -0.43694692713810984, 1.0219884648429, -0.108800476161582, 1.165329073668084, -0.16302070112148123, 0.5891703252134486, 0.11281410046037657, 0.4284575251522544, -1.9219006979808662, -0.6563995509383275, -1.43950547963843, -0.2762985778717633, 3.010485863448667, -0.12036745273155926, -0.20020535022170713, 0.31097193170068255, 1.0109448623739885, -0.17848199577529572, 0.2846917936792169, -0.6808365819892909, -1.0071421584201592, 2.283632305623987, -2.1543573610817393]}, {\"line\": {\"color\": \"rgba(55, 128, 191, 1.0)\", \"dash\": \"solid\", \"shape\": \"linear\", \"width\": 1.3}, \"mode\": \"lines\", \"name\": \"B\", \"text\": \"\", \"type\": \"scatter\", \"x\": [0, 1, 2, 3, 4, 5, 6, 7, 8, 9, 10, 11, 12, 13, 14, 15, 16, 17, 18, 19, 20, 21, 22, 23, 24, 25, 26, 27, 28, 29, 30, 31, 32, 33, 34, 35, 36, 37, 38, 39, 40, 41, 42, 43, 44, 45, 46, 47, 48, 49, 50, 51, 52, 53, 54, 55, 56, 57, 58, 59, 60, 61, 62, 63, 64, 65, 66, 67, 68, 69, 70, 71, 72, 73, 74, 75, 76, 77, 78, 79, 80, 81, 82, 83, 84, 85, 86, 87, 88, 89, 90, 91, 92, 93, 94, 95, 96, 97, 98, 99], \"y\": [-1.1027785660551868, 0.29740020489597846, -0.43253294240382856, -1.1084269652229717, -1.6373655590184417, -1.0725117618110998, -1.9099100685608439, -2.0689122733051275, 0.077918987078293, 0.5024584203750352, -1.3926796764698834, 0.3717509242747525, -0.8474458229363676, 0.08737683711031544, -0.33133430972182576, -2.733316055785719, -0.6928824100740675, 0.5250323944129693, -1.6067781687815792, -0.7287202006257252, -1.6918012487369385, 0.3542738500682554, -0.1915179367997926, -0.29403482375669315, -1.4559887425614062, -0.45946662861286863, -1.0573702753899408, -0.13034922297969953, -1.5699117976686348, 0.5481499873171011, -1.4685830306254732, -1.1806385665913264, -1.4156796963696252, 1.3605077053581722, 1.9811380136832317, -0.16316712319178428, -0.6983529403698392, 1.1203194633607836, -0.378838594956958, 2.0486437782810403, 0.5192196076632097, -0.8777252263888996, -0.38206113714898843, 0.012992185416119843, 1.2929317353034275, 0.3907851507983996, -1.3572897634254169, -0.870575384725658, -0.0027188992621641167, 0.49670782282570086, -0.7091516270566384, -0.40752396773946536, 0.5777273937905538, -0.028583879645875804, -0.686415398165249, -0.6632303830207483, 0.3611285698868993, -1.4150766880023653, -0.5355969336730079, 0.15148844935688743, 1.4809758774301216, 0.1341776189245072, 2.039413314544158, -0.03243372323009276, 0.022831173707126735, -0.841240189670404, -0.49541889751084567, 0.8183400775505387, 0.7488401406486337, -0.17193420847758445, -0.45187359053888715, -0.19881883509728254, -1.50152229425189, -0.35828183450124146, 1.9630368930993207, 1.1964489103975489, -0.1435270860047802, -0.3308275681612723, 0.8659755734970961, -0.26379834794677504, -0.46684150154116616, 0.4345934611912318, 0.9143039934710501, -0.06561570356948355, -0.6767256650340361, -1.0259488290832, -0.2727313264750364, 1.0195015218583527, -0.1125709709711396, -0.0992052156509772, -0.10038565402562996, 1.182259921569917, 0.6201037680164574, 0.00065696719603261, 0.4556208055782743, -0.9502790546247901, -1.0978368547782833, 0.3992300601573083, 0.3982763109978748, 0.14618132688760946]}, {\"connectgaps\": false, \"fill\": \"tozeroy\", \"line\": {\"color\": \"green\", \"dash\": \"solid\", \"shape\": \"linear\", \"width\": 0.5}, \"mode\": \"lines\", \"name\": \"Spread\", \"showlegend\": false, \"type\": \"scatter\", \"x\": [0, 1, 2, 3, 4, 5, 6, 7, 8, 9, 10, 11, 12, 13, 14, 15, 16, 17, 18, 19, 20, 21, 22, 23, 24, 25, 26, 27, 28, 29, 30, 31, 32, 33, 34, 35, 36, 37, 38, 39, 40, 41, 42, 43, 44, 45, 46, 47, 48, 49, 50, 51, 52, 53, 54, 55, 56, 57, 58, 59, 60, 61, 62, 63, 64, 65, 66, 67, 68, 69, 70, 71, 72, 73, 74, 75, 76, 77, 78, 79, 80, 81, 82, 83, 84, 85, 86, 87, 88, 89, 90, 91, 92, 93, 94, 95, 96, 97, 98, 99], \"xaxis\": \"x2\", \"y\": [0.7283993478112626, \"\", \"\", 0.2849548975781018, 1.7743049009664509, 0.2938227358379957, 3.1524306222846747, 2.305526885255812, 0.36483288002719716, 1.5577908209440277, 1.56615521401906, 0.1555395732055504, 1.897549491482359, 0.1922648500023417, \"\", 2.5115948436061073, \"\", \"\", 3.5499868424272667, 3.250785931390861, 0.1166555808678944, 1.7525017089247266, 0.29325891928525544, 2.033728072675843, 3.5307752765447584, \"\", 0.3408373546724943, 2.7368974777830926, 1.3967884519139113, 0.4708782953420151, 0.6223425944083619, 1.166794545676864, 1.448937887970636, 0.41802384255538017, \"\", 1.4232799903356246, \"\", \"\", \"\", \"\", \"\", 2.0039487789936667, \"\", 0.054127486152532496, \"\", \"\", 1.8195819001951623, 1.901945737312988, \"\", 0.26943255871320954, 0.5385823809518758, 0.5979107528933247, \"\", 1.2703550085855808, 0.5881126616576259, 0.7548312232338298, \"\", 1.4523923694211318, 1.4177189021968468, \"\", \"\", 0.5582794958304407, \"\", \"\", \"\", 0.03625979217810715, \"\", 0.03218460685408864, \"\", 0.18667394610880617, 0.5805730292849495, \"\", 1.7076184853154721, 0.2514829652101064, \"\", \"\", 0.8642429327275838, \"\", 0.15601289134580398, 0.15499787178519303, 1.6321705752092501, \"\", \"\", 0.17842980402986014, 1.1051831901862905, \"\", \"\", \"\", \"\", 3.109691079099644, \"\", \"\", \"\", 1.010287895177956, \"\", 1.234970848304007, 0.41700027278899243, \"\", 1.885355994626112, \"\"], \"yaxis\": \"y2\"}, {\"connectgaps\": false, \"fill\": \"tozeroy\", \"line\": {\"color\": \"red\", \"dash\": \"solid\", \"shape\": \"linear\", \"width\": 0.5}, \"mode\": \"lines\", \"name\": \"Spread\", \"showlegend\": false, \"type\": \"scatter\", \"x\": [0, 1, 2, 3, 4, 5, 6, 7, 8, 9, 10, 11, 12, 13, 14, 15, 16, 17, 18, 19, 20, 21, 22, 23, 24, 25, 26, 27, 28, 29, 30, 31, 32, 33, 34, 35, 36, 37, 38, 39, 40, 41, 42, 43, 44, 45, 46, 47, 48, 49, 50, 51, 52, 53, 54, 55, 56, 57, 58, 59, 60, 61, 62, 63, 64, 65, 66, 67, 68, 69, 70, 71, 72, 73, 74, 75, 76, 77, 78, 79, 80, 81, 82, 83, 84, 85, 86, 87, 88, 89, 90, 91, 92, 93, 94, 95, 96, 97, 98, 99], \"xaxis\": \"x2\", \"y\": [\"\", -1.917132833673755, -1.236891226924599, \"\", \"\", \"\", \"\", \"\", \"\", \"\", \"\", \"\", \"\", \"\", -0.39587753889834953, \"\", -0.713736159601776, -0.37560040951912166, \"\", \"\", \"\", \"\", \"\", \"\", \"\", -0.7392426893678927, \"\", \"\", \"\", \"\", \"\", \"\", \"\", \"\", -2.826810681236189, \"\", -1.1159514648628857, -0.523291501472063, -0.19810305831372127, -2.372284146911876, -0.4854732463585326, \"\", -0.5014788364319755, \"\", -2.7068588695553064, -1.0483628815122326, \"\", \"\", -0.49098087669149787, \"\", \"\", \"\", -1.1748815728669668, \"\", \"\", \"\", -2.321299648104267, \"\", \"\", -0.8890664433960341, -1.288434758873027, \"\", -1.8778687966782952, -1.0403512882722787, -0.03932892635487649, \"\", -0.34445152094932274, \"\", -1.2688463895293813, \"\", \"\", -1.1941415538168925, \"\", \"\", -1.0656544112427035, -1.4694644221404691, \"\", -0.10611935897683755, \"\", \"\", \"\", -0.597614162312713, -0.3251336682576015, \"\", \"\", -0.8959518688976662, -0.3836682244632911, -2.459007001496783, -0.1637276069006237, \"\", -0.019981798705929296, -1.3824652717916242, -0.30913183631577484, \"\", -0.63410280135357, \"\", \"\", -1.4063722185774674, \"\", -2.3005386879693486], \"yaxis\": \"y2\"}],                        {\"hovermode\": \"x\", \"legend\": {\"bgcolor\": \"#F5F6F9\", \"font\": {\"color\": \"#4D5663\"}}, \"paper_bgcolor\": \"#F5F6F9\", \"plot_bgcolor\": \"#F5F6F9\", \"template\": {\"data\": {\"bar\": [{\"error_x\": {\"color\": \"#2a3f5f\"}, \"error_y\": {\"color\": \"#2a3f5f\"}, \"marker\": {\"line\": {\"color\": \"#E5ECF6\", \"width\": 0.5}}, \"type\": \"bar\"}], \"barpolar\": [{\"marker\": {\"line\": {\"color\": \"#E5ECF6\", \"width\": 0.5}}, \"type\": \"barpolar\"}], \"carpet\": [{\"aaxis\": {\"endlinecolor\": \"#2a3f5f\", \"gridcolor\": \"white\", \"linecolor\": \"white\", \"minorgridcolor\": \"white\", \"startlinecolor\": \"#2a3f5f\"}, \"baxis\": {\"endlinecolor\": \"#2a3f5f\", \"gridcolor\": \"white\", \"linecolor\": \"white\", \"minorgridcolor\": \"white\", \"startlinecolor\": \"#2a3f5f\"}, \"type\": \"carpet\"}], \"choropleth\": [{\"colorbar\": {\"outlinewidth\": 0, \"ticks\": \"\"}, \"type\": \"choropleth\"}], \"contour\": [{\"colorbar\": {\"outlinewidth\": 0, \"ticks\": \"\"}, \"colorscale\": [[0.0, \"#0d0887\"], [0.1111111111111111, \"#46039f\"], [0.2222222222222222, \"#7201a8\"], [0.3333333333333333, \"#9c179e\"], [0.4444444444444444, \"#bd3786\"], [0.5555555555555556, \"#d8576b\"], [0.6666666666666666, \"#ed7953\"], [0.7777777777777778, \"#fb9f3a\"], [0.8888888888888888, \"#fdca26\"], [1.0, \"#f0f921\"]], \"type\": \"contour\"}], \"contourcarpet\": [{\"colorbar\": {\"outlinewidth\": 0, \"ticks\": \"\"}, \"type\": \"contourcarpet\"}], \"heatmap\": [{\"colorbar\": {\"outlinewidth\": 0, \"ticks\": \"\"}, \"colorscale\": [[0.0, \"#0d0887\"], [0.1111111111111111, \"#46039f\"], [0.2222222222222222, \"#7201a8\"], [0.3333333333333333, \"#9c179e\"], [0.4444444444444444, \"#bd3786\"], [0.5555555555555556, \"#d8576b\"], [0.6666666666666666, \"#ed7953\"], [0.7777777777777778, \"#fb9f3a\"], [0.8888888888888888, \"#fdca26\"], [1.0, \"#f0f921\"]], \"type\": \"heatmap\"}], \"heatmapgl\": [{\"colorbar\": {\"outlinewidth\": 0, \"ticks\": \"\"}, \"colorscale\": [[0.0, \"#0d0887\"], [0.1111111111111111, \"#46039f\"], [0.2222222222222222, \"#7201a8\"], [0.3333333333333333, \"#9c179e\"], [0.4444444444444444, \"#bd3786\"], [0.5555555555555556, \"#d8576b\"], [0.6666666666666666, \"#ed7953\"], [0.7777777777777778, \"#fb9f3a\"], [0.8888888888888888, \"#fdca26\"], [1.0, \"#f0f921\"]], \"type\": \"heatmapgl\"}], \"histogram\": [{\"marker\": {\"colorbar\": {\"outlinewidth\": 0, \"ticks\": \"\"}}, \"type\": \"histogram\"}], \"histogram2d\": [{\"colorbar\": {\"outlinewidth\": 0, \"ticks\": \"\"}, \"colorscale\": [[0.0, \"#0d0887\"], [0.1111111111111111, \"#46039f\"], [0.2222222222222222, \"#7201a8\"], [0.3333333333333333, \"#9c179e\"], [0.4444444444444444, \"#bd3786\"], [0.5555555555555556, \"#d8576b\"], [0.6666666666666666, \"#ed7953\"], [0.7777777777777778, \"#fb9f3a\"], [0.8888888888888888, \"#fdca26\"], [1.0, \"#f0f921\"]], \"type\": \"histogram2d\"}], \"histogram2dcontour\": [{\"colorbar\": {\"outlinewidth\": 0, \"ticks\": \"\"}, \"colorscale\": [[0.0, \"#0d0887\"], [0.1111111111111111, \"#46039f\"], [0.2222222222222222, \"#7201a8\"], [0.3333333333333333, \"#9c179e\"], [0.4444444444444444, \"#bd3786\"], [0.5555555555555556, \"#d8576b\"], [0.6666666666666666, \"#ed7953\"], [0.7777777777777778, \"#fb9f3a\"], [0.8888888888888888, \"#fdca26\"], [1.0, \"#f0f921\"]], \"type\": \"histogram2dcontour\"}], \"mesh3d\": [{\"colorbar\": {\"outlinewidth\": 0, \"ticks\": \"\"}, \"type\": \"mesh3d\"}], \"parcoords\": [{\"line\": {\"colorbar\": {\"outlinewidth\": 0, \"ticks\": \"\"}}, \"type\": \"parcoords\"}], \"pie\": [{\"automargin\": true, \"type\": \"pie\"}], \"scatter\": [{\"marker\": {\"colorbar\": {\"outlinewidth\": 0, \"ticks\": \"\"}}, \"type\": \"scatter\"}], \"scatter3d\": [{\"line\": {\"colorbar\": {\"outlinewidth\": 0, \"ticks\": \"\"}}, \"marker\": {\"colorbar\": {\"outlinewidth\": 0, \"ticks\": \"\"}}, \"type\": \"scatter3d\"}], \"scattercarpet\": [{\"marker\": {\"colorbar\": {\"outlinewidth\": 0, \"ticks\": \"\"}}, \"type\": \"scattercarpet\"}], \"scattergeo\": [{\"marker\": {\"colorbar\": {\"outlinewidth\": 0, \"ticks\": \"\"}}, \"type\": \"scattergeo\"}], \"scattergl\": [{\"marker\": {\"colorbar\": {\"outlinewidth\": 0, \"ticks\": \"\"}}, \"type\": \"scattergl\"}], \"scattermapbox\": [{\"marker\": {\"colorbar\": {\"outlinewidth\": 0, \"ticks\": \"\"}}, \"type\": \"scattermapbox\"}], \"scatterpolar\": [{\"marker\": {\"colorbar\": {\"outlinewidth\": 0, \"ticks\": \"\"}}, \"type\": \"scatterpolar\"}], \"scatterpolargl\": [{\"marker\": {\"colorbar\": {\"outlinewidth\": 0, \"ticks\": \"\"}}, \"type\": \"scatterpolargl\"}], \"scatterternary\": [{\"marker\": {\"colorbar\": {\"outlinewidth\": 0, \"ticks\": \"\"}}, \"type\": \"scatterternary\"}], \"surface\": [{\"colorbar\": {\"outlinewidth\": 0, \"ticks\": \"\"}, \"colorscale\": [[0.0, \"#0d0887\"], [0.1111111111111111, \"#46039f\"], [0.2222222222222222, \"#7201a8\"], [0.3333333333333333, \"#9c179e\"], [0.4444444444444444, \"#bd3786\"], [0.5555555555555556, \"#d8576b\"], [0.6666666666666666, \"#ed7953\"], [0.7777777777777778, \"#fb9f3a\"], [0.8888888888888888, \"#fdca26\"], [1.0, \"#f0f921\"]], \"type\": \"surface\"}], \"table\": [{\"cells\": {\"fill\": {\"color\": \"#EBF0F8\"}, \"line\": {\"color\": \"white\"}}, \"header\": {\"fill\": {\"color\": \"#C8D4E3\"}, \"line\": {\"color\": \"white\"}}, \"type\": \"table\"}]}, \"layout\": {\"annotationdefaults\": {\"arrowcolor\": \"#2a3f5f\", \"arrowhead\": 0, \"arrowwidth\": 1}, \"autotypenumbers\": \"strict\", \"coloraxis\": {\"colorbar\": {\"outlinewidth\": 0, \"ticks\": \"\"}}, \"colorscale\": {\"diverging\": [[0, \"#8e0152\"], [0.1, \"#c51b7d\"], [0.2, \"#de77ae\"], [0.3, \"#f1b6da\"], [0.4, \"#fde0ef\"], [0.5, \"#f7f7f7\"], [0.6, \"#e6f5d0\"], [0.7, \"#b8e186\"], [0.8, \"#7fbc41\"], [0.9, \"#4d9221\"], [1, \"#276419\"]], \"sequential\": [[0.0, \"#0d0887\"], [0.1111111111111111, \"#46039f\"], [0.2222222222222222, \"#7201a8\"], [0.3333333333333333, \"#9c179e\"], [0.4444444444444444, \"#bd3786\"], [0.5555555555555556, \"#d8576b\"], [0.6666666666666666, \"#ed7953\"], [0.7777777777777778, \"#fb9f3a\"], [0.8888888888888888, \"#fdca26\"], [1.0, \"#f0f921\"]], \"sequentialminus\": [[0.0, \"#0d0887\"], [0.1111111111111111, \"#46039f\"], [0.2222222222222222, \"#7201a8\"], [0.3333333333333333, \"#9c179e\"], [0.4444444444444444, \"#bd3786\"], [0.5555555555555556, \"#d8576b\"], [0.6666666666666666, \"#ed7953\"], [0.7777777777777778, \"#fb9f3a\"], [0.8888888888888888, \"#fdca26\"], [1.0, \"#f0f921\"]]}, \"colorway\": [\"#636efa\", \"#EF553B\", \"#00cc96\", \"#ab63fa\", \"#FFA15A\", \"#19d3f3\", \"#FF6692\", \"#B6E880\", \"#FF97FF\", \"#FECB52\"], \"font\": {\"color\": \"#2a3f5f\"}, \"geo\": {\"bgcolor\": \"white\", \"lakecolor\": \"white\", \"landcolor\": \"#E5ECF6\", \"showlakes\": true, \"showland\": true, \"subunitcolor\": \"white\"}, \"hoverlabel\": {\"align\": \"left\"}, \"hovermode\": \"closest\", \"mapbox\": {\"style\": \"light\"}, \"paper_bgcolor\": \"white\", \"plot_bgcolor\": \"#E5ECF6\", \"polar\": {\"angularaxis\": {\"gridcolor\": \"white\", \"linecolor\": \"white\", \"ticks\": \"\"}, \"bgcolor\": \"#E5ECF6\", \"radialaxis\": {\"gridcolor\": \"white\", \"linecolor\": \"white\", \"ticks\": \"\"}}, \"scene\": {\"xaxis\": {\"backgroundcolor\": \"#E5ECF6\", \"gridcolor\": \"white\", \"gridwidth\": 2, \"linecolor\": \"white\", \"showbackground\": true, \"ticks\": \"\", \"zerolinecolor\": \"white\"}, \"yaxis\": {\"backgroundcolor\": \"#E5ECF6\", \"gridcolor\": \"white\", \"gridwidth\": 2, \"linecolor\": \"white\", \"showbackground\": true, \"ticks\": \"\", \"zerolinecolor\": \"white\"}, \"zaxis\": {\"backgroundcolor\": \"#E5ECF6\", \"gridcolor\": \"white\", \"gridwidth\": 2, \"linecolor\": \"white\", \"showbackground\": true, \"ticks\": \"\", \"zerolinecolor\": \"white\"}}, \"shapedefaults\": {\"line\": {\"color\": \"#2a3f5f\"}}, \"ternary\": {\"aaxis\": {\"gridcolor\": \"white\", \"linecolor\": \"white\", \"ticks\": \"\"}, \"baxis\": {\"gridcolor\": \"white\", \"linecolor\": \"white\", \"ticks\": \"\"}, \"bgcolor\": \"#E5ECF6\", \"caxis\": {\"gridcolor\": \"white\", \"linecolor\": \"white\", \"ticks\": \"\"}}, \"title\": {\"x\": 0.05}, \"xaxis\": {\"automargin\": true, \"gridcolor\": \"white\", \"linecolor\": \"white\", \"ticks\": \"\", \"title\": {\"standoff\": 15}, \"zerolinecolor\": \"white\", \"zerolinewidth\": 2}, \"yaxis\": {\"automargin\": true, \"gridcolor\": \"white\", \"linecolor\": \"white\", \"ticks\": \"\", \"title\": {\"standoff\": 15}, \"zerolinecolor\": \"white\", \"zerolinewidth\": 2}}}, \"title\": {\"font\": {\"color\": \"#4D5663\"}}, \"xaxis\": {\"gridcolor\": \"#E1E5ED\", \"showgrid\": true, \"tickfont\": {\"color\": \"#4D5663\"}, \"title\": {\"font\": {\"color\": \"#4D5663\"}, \"text\": \"\"}, \"zerolinecolor\": \"#E1E5ED\"}, \"xaxis2\": {\"anchor\": \"y2\", \"gridcolor\": \"#E1E5ED\", \"showgrid\": true, \"showticklabels\": false, \"tickfont\": {\"color\": \"#4D5663\"}, \"title\": {\"font\": {\"color\": \"#4D5663\"}, \"text\": \"\"}, \"zerolinecolor\": \"#E1E5ED\"}, \"yaxis\": {\"domain\": [0.3, 1], \"gridcolor\": \"#E1E5ED\", \"showgrid\": true, \"tickfont\": {\"color\": \"#4D5663\"}, \"title\": {\"font\": {\"color\": \"#4D5663\"}, \"text\": \"\"}, \"zerolinecolor\": \"#E1E5ED\"}, \"yaxis2\": {\"domain\": [0, 0.25], \"gridcolor\": \"#E1E5ED\", \"showgrid\": true, \"tickfont\": {\"color\": \"#4D5663\"}, \"title\": {\"font\": {\"color\": \"#4D5663\"}, \"text\": \"Spread\"}, \"zerolinecolor\": \"#E1E5ED\"}},                        {\"showLink\": true, \"linkText\": \"Export to plot.ly\", \"plotlyServerURL\": \"https://plot.ly\", \"responsive\": true}                    ).then(function(){\n",
       "                            \n",
       "var gd = document.getElementById('46970fc3-4171-4973-a3a3-385ac9b645c8');\n",
       "var x = new MutationObserver(function (mutations, observer) {{\n",
       "        var display = window.getComputedStyle(gd).display;\n",
       "        if (!display || display === 'none') {{\n",
       "            console.log([gd, 'removed!']);\n",
       "            Plotly.purge(gd);\n",
       "            observer.disconnect();\n",
       "        }}\n",
       "}});\n",
       "\n",
       "// Listen for the removal of the full notebook cells\n",
       "var notebookContainer = gd.closest('#notebook-container');\n",
       "if (notebookContainer) {{\n",
       "    x.observe(notebookContainer, {childList: true});\n",
       "}}\n",
       "\n",
       "// Listen for the clearing of the current output cell\n",
       "var outputEl = gd.closest('.output');\n",
       "if (outputEl) {{\n",
       "    x.observe(outputEl, {childList: true});\n",
       "}}\n",
       "\n",
       "                        })                };                });            </script>        </div>"
      ]
     },
     "metadata": {},
     "output_type": "display_data"
    }
   ],
   "source": [
    "df[['A','B']].iplot(kind='spread')"
   ]
  },
  {
   "cell_type": "code",
   "execution_count": 52,
   "metadata": {},
   "outputs": [
    {
     "data": {
      "application/vnd.plotly.v1+json": {
       "config": {
        "linkText": "Export to plot.ly",
        "plotlyServerURL": "https://plot.ly",
        "showLink": true
       },
       "data": [
        {
         "marker": {
          "color": [
           "rgb(255, 153, 51)",
           "rgb(55, 128, 191)",
           "rgb(50, 171, 96)",
           "rgb(128, 0, 128)",
           "rgb(219, 64, 82)",
           "rgb(0, 128, 128)",
           "rgb(255, 255, 51)",
           "rgb(128, 128, 0)",
           "rgb(251, 128, 114)",
           "rgb(128, 177, 211)"
          ],
          "line": {
           "width": 1.3
          },
          "size": [
           67,
           59,
           80,
           94,
           62,
           99,
           50,
           50,
           48,
           46,
           27,
           57,
           62,
           37,
           38,
           76,
           50,
           56,
           48,
           39,
           86,
           30,
           72,
           45,
           62,
           49,
           39,
           55,
           74,
           71,
           36,
           95,
           62,
           46,
           44,
           72,
           33,
           82,
           85,
           65,
           65,
           19,
           25,
           46,
           34,
           81,
           49,
           35,
           24,
           112,
           91,
           80,
           86,
           21,
           40,
           61,
           41,
           54,
           42,
           88,
           26,
           39,
           35,
           57,
           58,
           84,
           72,
           42,
           15,
           68,
           24,
           72,
           12,
           74,
           53,
           66,
           29,
           49,
           85,
           32,
           41,
           32,
           32,
           41,
           70,
           101,
           88,
           55,
           40,
           57,
           53,
           23,
           55,
           43,
           52,
           56,
           53,
           79,
           41,
           40
          ],
          "symbol": "circle"
         },
         "mode": "markers",
         "text": "",
         "type": "scatter",
         "x": [
          -0.3743792182439242,
          -1.6197326287777765,
          -1.6694241693284275,
          -0.8234720676448699,
          0.13693934194800925,
          -0.7786890259731041,
          1.2425205537238309,
          0.23661461195068445,
          0.4427518671054902,
          2.0602492413190627,
          0.17347553754917663,
          0.5272904974803029,
          1.0501036685459912,
          0.27964168711265713,
          -0.7272118486201753,
          -0.22172121217961174,
          -1.4066185696758435,
          0.14943198489384765,
          1.9432086736456875,
          2.5220657307651355,
          -1.575145667869044,
          2.106775558992982,
          0.10174098248546284,
          1.7396932489191501,
          2.074786533983352,
          -1.1987093179807613,
          -0.7165329207174465,
          2.606548254803393,
          -0.1731233457547235,
          1.0190282826591162,
          -0.8462404362171113,
          -0.013844020914462261,
          0.03325819160101085,
          1.7785315479135524,
          -0.845672667552957,
          1.2601128671438402,
          -1.8143044052327248,
          0.5970279618887205,
          -0.5769416532706793,
          -0.32364036863083556,
          0.03374636130467711,
          1.1262235526047673,
          -0.8835399735809639,
          0.06711967156865234,
          -1.4139271342518789,
          -0.6575777307138329,
          0.46229213676974534,
          1.0313703525873301,
          -0.493699775953662,
          0.7661403815389104,
          -0.17056924610476254,
          0.1903867851538594,
          -0.5971541790764131,
          1.241771128939705,
          -0.0983027365076231,
          0.09160084021308144,
          -1.9601710782173678,
          0.037315681418766455,
          0.8821219685238391,
          -0.7375779940391467,
          0.19254111855709474,
          0.6924571147549479,
          0.16154451786586277,
          -1.0727850115023716,
          -0.01649775264774975,
          -0.8049803974922969,
          -0.8398704184601684,
          0.8505246844046274,
          -0.5200062488807476,
          0.014739737631221722,
          0.12869943874606232,
          -1.392960388914175,
          0.20609619106358215,
          -0.10679886929113508,
          0.8973824818566172,
          -0.2730155117429203,
          0.7207158467228036,
          -0.43694692713810984,
          1.0219884648429,
          -0.108800476161582,
          1.165329073668084,
          -0.16302070112148123,
          0.5891703252134486,
          0.11281410046037657,
          0.4284575251522544,
          -1.9219006979808662,
          -0.6563995509383275,
          -1.43950547963843,
          -0.2762985778717633,
          3.010485863448667,
          -0.12036745273155926,
          -0.20020535022170713,
          0.31097193170068255,
          1.0109448623739885,
          -0.17848199577529572,
          0.2846917936792169,
          -0.6808365819892909,
          -1.0071421584201592,
          2.283632305623987,
          -2.1543573610817393
         ],
         "y": [
          -1.1027785660551868,
          0.29740020489597846,
          -0.43253294240382856,
          -1.1084269652229717,
          -1.6373655590184417,
          -1.0725117618110998,
          -1.9099100685608439,
          -2.0689122733051275,
          0.077918987078293,
          0.5024584203750352,
          -1.3926796764698834,
          0.3717509242747525,
          -0.8474458229363676,
          0.08737683711031544,
          -0.33133430972182576,
          -2.733316055785719,
          -0.6928824100740675,
          0.5250323944129693,
          -1.6067781687815792,
          -0.7287202006257252,
          -1.6918012487369385,
          0.3542738500682554,
          -0.1915179367997926,
          -0.29403482375669315,
          -1.4559887425614062,
          -0.45946662861286863,
          -1.0573702753899408,
          -0.13034922297969953,
          -1.5699117976686348,
          0.5481499873171011,
          -1.4685830306254732,
          -1.1806385665913264,
          -1.4156796963696252,
          1.3605077053581722,
          1.9811380136832317,
          -0.16316712319178428,
          -0.6983529403698392,
          1.1203194633607836,
          -0.378838594956958,
          2.0486437782810403,
          0.5192196076632097,
          -0.8777252263888996,
          -0.38206113714898843,
          0.012992185416119843,
          1.2929317353034275,
          0.3907851507983996,
          -1.3572897634254169,
          -0.870575384725658,
          -0.0027188992621641167,
          0.49670782282570086,
          -0.7091516270566384,
          -0.40752396773946536,
          0.5777273937905538,
          -0.028583879645875804,
          -0.686415398165249,
          -0.6632303830207483,
          0.3611285698868993,
          -1.4150766880023653,
          -0.5355969336730079,
          0.15148844935688743,
          1.4809758774301216,
          0.1341776189245072,
          2.039413314544158,
          -0.03243372323009276,
          0.022831173707126735,
          -0.841240189670404,
          -0.49541889751084567,
          0.8183400775505387,
          0.7488401406486337,
          -0.17193420847758445,
          -0.45187359053888715,
          -0.19881883509728254,
          -1.50152229425189,
          -0.35828183450124146,
          1.9630368930993207,
          1.1964489103975489,
          -0.1435270860047802,
          -0.3308275681612723,
          0.8659755734970961,
          -0.26379834794677504,
          -0.46684150154116616,
          0.4345934611912318,
          0.9143039934710501,
          -0.06561570356948355,
          -0.6767256650340361,
          -1.0259488290832,
          -0.2727313264750364,
          1.0195015218583527,
          -0.1125709709711396,
          -0.0992052156509772,
          -0.10038565402562996,
          1.182259921569917,
          0.6201037680164574,
          0.00065696719603261,
          0.4556208055782743,
          -0.9502790546247901,
          -1.0978368547782833,
          0.3992300601573083,
          0.3982763109978748,
          0.14618132688760946
         ]
        }
       ],
       "layout": {
        "legend": {
         "bgcolor": "#F5F6F9",
         "font": {
          "color": "#4D5663"
         }
        },
        "paper_bgcolor": "#F5F6F9",
        "plot_bgcolor": "#F5F6F9",
        "template": {
         "data": {
          "bar": [
           {
            "error_x": {
             "color": "#2a3f5f"
            },
            "error_y": {
             "color": "#2a3f5f"
            },
            "marker": {
             "line": {
              "color": "#E5ECF6",
              "width": 0.5
             }
            },
            "type": "bar"
           }
          ],
          "barpolar": [
           {
            "marker": {
             "line": {
              "color": "#E5ECF6",
              "width": 0.5
             }
            },
            "type": "barpolar"
           }
          ],
          "carpet": [
           {
            "aaxis": {
             "endlinecolor": "#2a3f5f",
             "gridcolor": "white",
             "linecolor": "white",
             "minorgridcolor": "white",
             "startlinecolor": "#2a3f5f"
            },
            "baxis": {
             "endlinecolor": "#2a3f5f",
             "gridcolor": "white",
             "linecolor": "white",
             "minorgridcolor": "white",
             "startlinecolor": "#2a3f5f"
            },
            "type": "carpet"
           }
          ],
          "choropleth": [
           {
            "colorbar": {
             "outlinewidth": 0,
             "ticks": ""
            },
            "type": "choropleth"
           }
          ],
          "contour": [
           {
            "colorbar": {
             "outlinewidth": 0,
             "ticks": ""
            },
            "colorscale": [
             [
              0,
              "#0d0887"
             ],
             [
              0.1111111111111111,
              "#46039f"
             ],
             [
              0.2222222222222222,
              "#7201a8"
             ],
             [
              0.3333333333333333,
              "#9c179e"
             ],
             [
              0.4444444444444444,
              "#bd3786"
             ],
             [
              0.5555555555555556,
              "#d8576b"
             ],
             [
              0.6666666666666666,
              "#ed7953"
             ],
             [
              0.7777777777777778,
              "#fb9f3a"
             ],
             [
              0.8888888888888888,
              "#fdca26"
             ],
             [
              1,
              "#f0f921"
             ]
            ],
            "type": "contour"
           }
          ],
          "contourcarpet": [
           {
            "colorbar": {
             "outlinewidth": 0,
             "ticks": ""
            },
            "type": "contourcarpet"
           }
          ],
          "heatmap": [
           {
            "colorbar": {
             "outlinewidth": 0,
             "ticks": ""
            },
            "colorscale": [
             [
              0,
              "#0d0887"
             ],
             [
              0.1111111111111111,
              "#46039f"
             ],
             [
              0.2222222222222222,
              "#7201a8"
             ],
             [
              0.3333333333333333,
              "#9c179e"
             ],
             [
              0.4444444444444444,
              "#bd3786"
             ],
             [
              0.5555555555555556,
              "#d8576b"
             ],
             [
              0.6666666666666666,
              "#ed7953"
             ],
             [
              0.7777777777777778,
              "#fb9f3a"
             ],
             [
              0.8888888888888888,
              "#fdca26"
             ],
             [
              1,
              "#f0f921"
             ]
            ],
            "type": "heatmap"
           }
          ],
          "heatmapgl": [
           {
            "colorbar": {
             "outlinewidth": 0,
             "ticks": ""
            },
            "colorscale": [
             [
              0,
              "#0d0887"
             ],
             [
              0.1111111111111111,
              "#46039f"
             ],
             [
              0.2222222222222222,
              "#7201a8"
             ],
             [
              0.3333333333333333,
              "#9c179e"
             ],
             [
              0.4444444444444444,
              "#bd3786"
             ],
             [
              0.5555555555555556,
              "#d8576b"
             ],
             [
              0.6666666666666666,
              "#ed7953"
             ],
             [
              0.7777777777777778,
              "#fb9f3a"
             ],
             [
              0.8888888888888888,
              "#fdca26"
             ],
             [
              1,
              "#f0f921"
             ]
            ],
            "type": "heatmapgl"
           }
          ],
          "histogram": [
           {
            "marker": {
             "colorbar": {
              "outlinewidth": 0,
              "ticks": ""
             }
            },
            "type": "histogram"
           }
          ],
          "histogram2d": [
           {
            "colorbar": {
             "outlinewidth": 0,
             "ticks": ""
            },
            "colorscale": [
             [
              0,
              "#0d0887"
             ],
             [
              0.1111111111111111,
              "#46039f"
             ],
             [
              0.2222222222222222,
              "#7201a8"
             ],
             [
              0.3333333333333333,
              "#9c179e"
             ],
             [
              0.4444444444444444,
              "#bd3786"
             ],
             [
              0.5555555555555556,
              "#d8576b"
             ],
             [
              0.6666666666666666,
              "#ed7953"
             ],
             [
              0.7777777777777778,
              "#fb9f3a"
             ],
             [
              0.8888888888888888,
              "#fdca26"
             ],
             [
              1,
              "#f0f921"
             ]
            ],
            "type": "histogram2d"
           }
          ],
          "histogram2dcontour": [
           {
            "colorbar": {
             "outlinewidth": 0,
             "ticks": ""
            },
            "colorscale": [
             [
              0,
              "#0d0887"
             ],
             [
              0.1111111111111111,
              "#46039f"
             ],
             [
              0.2222222222222222,
              "#7201a8"
             ],
             [
              0.3333333333333333,
              "#9c179e"
             ],
             [
              0.4444444444444444,
              "#bd3786"
             ],
             [
              0.5555555555555556,
              "#d8576b"
             ],
             [
              0.6666666666666666,
              "#ed7953"
             ],
             [
              0.7777777777777778,
              "#fb9f3a"
             ],
             [
              0.8888888888888888,
              "#fdca26"
             ],
             [
              1,
              "#f0f921"
             ]
            ],
            "type": "histogram2dcontour"
           }
          ],
          "mesh3d": [
           {
            "colorbar": {
             "outlinewidth": 0,
             "ticks": ""
            },
            "type": "mesh3d"
           }
          ],
          "parcoords": [
           {
            "line": {
             "colorbar": {
              "outlinewidth": 0,
              "ticks": ""
             }
            },
            "type": "parcoords"
           }
          ],
          "pie": [
           {
            "automargin": true,
            "type": "pie"
           }
          ],
          "scatter": [
           {
            "marker": {
             "colorbar": {
              "outlinewidth": 0,
              "ticks": ""
             }
            },
            "type": "scatter"
           }
          ],
          "scatter3d": [
           {
            "line": {
             "colorbar": {
              "outlinewidth": 0,
              "ticks": ""
             }
            },
            "marker": {
             "colorbar": {
              "outlinewidth": 0,
              "ticks": ""
             }
            },
            "type": "scatter3d"
           }
          ],
          "scattercarpet": [
           {
            "marker": {
             "colorbar": {
              "outlinewidth": 0,
              "ticks": ""
             }
            },
            "type": "scattercarpet"
           }
          ],
          "scattergeo": [
           {
            "marker": {
             "colorbar": {
              "outlinewidth": 0,
              "ticks": ""
             }
            },
            "type": "scattergeo"
           }
          ],
          "scattergl": [
           {
            "marker": {
             "colorbar": {
              "outlinewidth": 0,
              "ticks": ""
             }
            },
            "type": "scattergl"
           }
          ],
          "scattermapbox": [
           {
            "marker": {
             "colorbar": {
              "outlinewidth": 0,
              "ticks": ""
             }
            },
            "type": "scattermapbox"
           }
          ],
          "scatterpolar": [
           {
            "marker": {
             "colorbar": {
              "outlinewidth": 0,
              "ticks": ""
             }
            },
            "type": "scatterpolar"
           }
          ],
          "scatterpolargl": [
           {
            "marker": {
             "colorbar": {
              "outlinewidth": 0,
              "ticks": ""
             }
            },
            "type": "scatterpolargl"
           }
          ],
          "scatterternary": [
           {
            "marker": {
             "colorbar": {
              "outlinewidth": 0,
              "ticks": ""
             }
            },
            "type": "scatterternary"
           }
          ],
          "surface": [
           {
            "colorbar": {
             "outlinewidth": 0,
             "ticks": ""
            },
            "colorscale": [
             [
              0,
              "#0d0887"
             ],
             [
              0.1111111111111111,
              "#46039f"
             ],
             [
              0.2222222222222222,
              "#7201a8"
             ],
             [
              0.3333333333333333,
              "#9c179e"
             ],
             [
              0.4444444444444444,
              "#bd3786"
             ],
             [
              0.5555555555555556,
              "#d8576b"
             ],
             [
              0.6666666666666666,
              "#ed7953"
             ],
             [
              0.7777777777777778,
              "#fb9f3a"
             ],
             [
              0.8888888888888888,
              "#fdca26"
             ],
             [
              1,
              "#f0f921"
             ]
            ],
            "type": "surface"
           }
          ],
          "table": [
           {
            "cells": {
             "fill": {
              "color": "#EBF0F8"
             },
             "line": {
              "color": "white"
             }
            },
            "header": {
             "fill": {
              "color": "#C8D4E3"
             },
             "line": {
              "color": "white"
             }
            },
            "type": "table"
           }
          ]
         },
         "layout": {
          "annotationdefaults": {
           "arrowcolor": "#2a3f5f",
           "arrowhead": 0,
           "arrowwidth": 1
          },
          "autotypenumbers": "strict",
          "coloraxis": {
           "colorbar": {
            "outlinewidth": 0,
            "ticks": ""
           }
          },
          "colorscale": {
           "diverging": [
            [
             0,
             "#8e0152"
            ],
            [
             0.1,
             "#c51b7d"
            ],
            [
             0.2,
             "#de77ae"
            ],
            [
             0.3,
             "#f1b6da"
            ],
            [
             0.4,
             "#fde0ef"
            ],
            [
             0.5,
             "#f7f7f7"
            ],
            [
             0.6,
             "#e6f5d0"
            ],
            [
             0.7,
             "#b8e186"
            ],
            [
             0.8,
             "#7fbc41"
            ],
            [
             0.9,
             "#4d9221"
            ],
            [
             1,
             "#276419"
            ]
           ],
           "sequential": [
            [
             0,
             "#0d0887"
            ],
            [
             0.1111111111111111,
             "#46039f"
            ],
            [
             0.2222222222222222,
             "#7201a8"
            ],
            [
             0.3333333333333333,
             "#9c179e"
            ],
            [
             0.4444444444444444,
             "#bd3786"
            ],
            [
             0.5555555555555556,
             "#d8576b"
            ],
            [
             0.6666666666666666,
             "#ed7953"
            ],
            [
             0.7777777777777778,
             "#fb9f3a"
            ],
            [
             0.8888888888888888,
             "#fdca26"
            ],
            [
             1,
             "#f0f921"
            ]
           ],
           "sequentialminus": [
            [
             0,
             "#0d0887"
            ],
            [
             0.1111111111111111,
             "#46039f"
            ],
            [
             0.2222222222222222,
             "#7201a8"
            ],
            [
             0.3333333333333333,
             "#9c179e"
            ],
            [
             0.4444444444444444,
             "#bd3786"
            ],
            [
             0.5555555555555556,
             "#d8576b"
            ],
            [
             0.6666666666666666,
             "#ed7953"
            ],
            [
             0.7777777777777778,
             "#fb9f3a"
            ],
            [
             0.8888888888888888,
             "#fdca26"
            ],
            [
             1,
             "#f0f921"
            ]
           ]
          },
          "colorway": [
           "#636efa",
           "#EF553B",
           "#00cc96",
           "#ab63fa",
           "#FFA15A",
           "#19d3f3",
           "#FF6692",
           "#B6E880",
           "#FF97FF",
           "#FECB52"
          ],
          "font": {
           "color": "#2a3f5f"
          },
          "geo": {
           "bgcolor": "white",
           "lakecolor": "white",
           "landcolor": "#E5ECF6",
           "showlakes": true,
           "showland": true,
           "subunitcolor": "white"
          },
          "hoverlabel": {
           "align": "left"
          },
          "hovermode": "closest",
          "mapbox": {
           "style": "light"
          },
          "paper_bgcolor": "white",
          "plot_bgcolor": "#E5ECF6",
          "polar": {
           "angularaxis": {
            "gridcolor": "white",
            "linecolor": "white",
            "ticks": ""
           },
           "bgcolor": "#E5ECF6",
           "radialaxis": {
            "gridcolor": "white",
            "linecolor": "white",
            "ticks": ""
           }
          },
          "scene": {
           "xaxis": {
            "backgroundcolor": "#E5ECF6",
            "gridcolor": "white",
            "gridwidth": 2,
            "linecolor": "white",
            "showbackground": true,
            "ticks": "",
            "zerolinecolor": "white"
           },
           "yaxis": {
            "backgroundcolor": "#E5ECF6",
            "gridcolor": "white",
            "gridwidth": 2,
            "linecolor": "white",
            "showbackground": true,
            "ticks": "",
            "zerolinecolor": "white"
           },
           "zaxis": {
            "backgroundcolor": "#E5ECF6",
            "gridcolor": "white",
            "gridwidth": 2,
            "linecolor": "white",
            "showbackground": true,
            "ticks": "",
            "zerolinecolor": "white"
           }
          },
          "shapedefaults": {
           "line": {
            "color": "#2a3f5f"
           }
          },
          "ternary": {
           "aaxis": {
            "gridcolor": "white",
            "linecolor": "white",
            "ticks": ""
           },
           "baxis": {
            "gridcolor": "white",
            "linecolor": "white",
            "ticks": ""
           },
           "bgcolor": "#E5ECF6",
           "caxis": {
            "gridcolor": "white",
            "linecolor": "white",
            "ticks": ""
           }
          },
          "title": {
           "x": 0.05
          },
          "xaxis": {
           "automargin": true,
           "gridcolor": "white",
           "linecolor": "white",
           "ticks": "",
           "title": {
            "standoff": 15
           },
           "zerolinecolor": "white",
           "zerolinewidth": 2
          },
          "yaxis": {
           "automargin": true,
           "gridcolor": "white",
           "linecolor": "white",
           "ticks": "",
           "title": {
            "standoff": 15
           },
           "zerolinecolor": "white",
           "zerolinewidth": 2
          }
         }
        },
        "title": {
         "font": {
          "color": "#4D5663"
         }
        },
        "xaxis": {
         "gridcolor": "#E1E5ED",
         "showgrid": true,
         "tickfont": {
          "color": "#4D5663"
         },
         "title": {
          "font": {
           "color": "#4D5663"
          },
          "text": ""
         },
         "zerolinecolor": "#E1E5ED"
        },
        "yaxis": {
         "gridcolor": "#E1E5ED",
         "showgrid": true,
         "tickfont": {
          "color": "#4D5663"
         },
         "title": {
          "font": {
           "color": "#4D5663"
          },
          "text": ""
         },
         "zerolinecolor": "#E1E5ED"
        }
       }
      },
      "text/html": [
       "<div>                            <div id=\"5b600692-58f9-4fa0-a130-6cfbff254299\" class=\"plotly-graph-div\" style=\"height:525px; width:100%;\"></div>            <script type=\"text/javascript\">                require([\"plotly\"], function(Plotly) {                    window.PLOTLYENV=window.PLOTLYENV || {};\n",
       "                    window.PLOTLYENV.BASE_URL='https://plot.ly';                                    if (document.getElementById(\"5b600692-58f9-4fa0-a130-6cfbff254299\")) {                    Plotly.newPlot(                        \"5b600692-58f9-4fa0-a130-6cfbff254299\",                        [{\"marker\": {\"color\": [\"rgb(255, 153, 51)\", \"rgb(55, 128, 191)\", \"rgb(50, 171, 96)\", \"rgb(128, 0, 128)\", \"rgb(219, 64, 82)\", \"rgb(0, 128, 128)\", \"rgb(255, 255, 51)\", \"rgb(128, 128, 0)\", \"rgb(251, 128, 114)\", \"rgb(128, 177, 211)\"], \"line\": {\"width\": 1.3}, \"size\": [67, 59, 80, 94, 62, 99, 50, 50, 48, 46, 27, 57, 62, 37, 38, 76, 50, 56, 48, 39, 86, 30, 72, 45, 62, 49, 39, 55, 74, 71, 36, 95, 62, 46, 44, 72, 33, 82, 85, 65, 65, 19, 25, 46, 34, 81, 49, 35, 24, 112, 91, 80, 86, 21, 40, 61, 41, 54, 42, 88, 26, 39, 35, 57, 58, 84, 72, 42, 15, 68, 24, 72, 12, 74, 53, 66, 29, 49, 85, 32, 41, 32, 32, 41, 70, 101, 88, 55, 40, 57, 53, 23, 55, 43, 52, 56, 53, 79, 41, 40], \"symbol\": \"circle\"}, \"mode\": \"markers\", \"text\": \"\", \"type\": \"scatter\", \"x\": [-0.3743792182439242, -1.6197326287777765, -1.6694241693284275, -0.8234720676448699, 0.13693934194800925, -0.7786890259731041, 1.2425205537238309, 0.23661461195068445, 0.4427518671054902, 2.0602492413190627, 0.17347553754917663, 0.5272904974803029, 1.0501036685459912, 0.27964168711265713, -0.7272118486201753, -0.22172121217961174, -1.4066185696758435, 0.14943198489384765, 1.9432086736456875, 2.5220657307651355, -1.575145667869044, 2.106775558992982, 0.10174098248546284, 1.7396932489191501, 2.074786533983352, -1.1987093179807613, -0.7165329207174465, 2.606548254803393, -0.1731233457547235, 1.0190282826591162, -0.8462404362171113, -0.013844020914462261, 0.03325819160101085, 1.7785315479135524, -0.845672667552957, 1.2601128671438402, -1.8143044052327248, 0.5970279618887205, -0.5769416532706793, -0.32364036863083556, 0.03374636130467711, 1.1262235526047673, -0.8835399735809639, 0.06711967156865234, -1.4139271342518789, -0.6575777307138329, 0.46229213676974534, 1.0313703525873301, -0.493699775953662, 0.7661403815389104, -0.17056924610476254, 0.1903867851538594, -0.5971541790764131, 1.241771128939705, -0.0983027365076231, 0.09160084021308144, -1.9601710782173678, 0.037315681418766455, 0.8821219685238391, -0.7375779940391467, 0.19254111855709474, 0.6924571147549479, 0.16154451786586277, -1.0727850115023716, -0.01649775264774975, -0.8049803974922969, -0.8398704184601684, 0.8505246844046274, -0.5200062488807476, 0.014739737631221722, 0.12869943874606232, -1.392960388914175, 0.20609619106358215, -0.10679886929113508, 0.8973824818566172, -0.2730155117429203, 0.7207158467228036, -0.43694692713810984, 1.0219884648429, -0.108800476161582, 1.165329073668084, -0.16302070112148123, 0.5891703252134486, 0.11281410046037657, 0.4284575251522544, -1.9219006979808662, -0.6563995509383275, -1.43950547963843, -0.2762985778717633, 3.010485863448667, -0.12036745273155926, -0.20020535022170713, 0.31097193170068255, 1.0109448623739885, -0.17848199577529572, 0.2846917936792169, -0.6808365819892909, -1.0071421584201592, 2.283632305623987, -2.1543573610817393], \"y\": [-1.1027785660551868, 0.29740020489597846, -0.43253294240382856, -1.1084269652229717, -1.6373655590184417, -1.0725117618110998, -1.9099100685608439, -2.0689122733051275, 0.077918987078293, 0.5024584203750352, -1.3926796764698834, 0.3717509242747525, -0.8474458229363676, 0.08737683711031544, -0.33133430972182576, -2.733316055785719, -0.6928824100740675, 0.5250323944129693, -1.6067781687815792, -0.7287202006257252, -1.6918012487369385, 0.3542738500682554, -0.1915179367997926, -0.29403482375669315, -1.4559887425614062, -0.45946662861286863, -1.0573702753899408, -0.13034922297969953, -1.5699117976686348, 0.5481499873171011, -1.4685830306254732, -1.1806385665913264, -1.4156796963696252, 1.3605077053581722, 1.9811380136832317, -0.16316712319178428, -0.6983529403698392, 1.1203194633607836, -0.378838594956958, 2.0486437782810403, 0.5192196076632097, -0.8777252263888996, -0.38206113714898843, 0.012992185416119843, 1.2929317353034275, 0.3907851507983996, -1.3572897634254169, -0.870575384725658, -0.0027188992621641167, 0.49670782282570086, -0.7091516270566384, -0.40752396773946536, 0.5777273937905538, -0.028583879645875804, -0.686415398165249, -0.6632303830207483, 0.3611285698868993, -1.4150766880023653, -0.5355969336730079, 0.15148844935688743, 1.4809758774301216, 0.1341776189245072, 2.039413314544158, -0.03243372323009276, 0.022831173707126735, -0.841240189670404, -0.49541889751084567, 0.8183400775505387, 0.7488401406486337, -0.17193420847758445, -0.45187359053888715, -0.19881883509728254, -1.50152229425189, -0.35828183450124146, 1.9630368930993207, 1.1964489103975489, -0.1435270860047802, -0.3308275681612723, 0.8659755734970961, -0.26379834794677504, -0.46684150154116616, 0.4345934611912318, 0.9143039934710501, -0.06561570356948355, -0.6767256650340361, -1.0259488290832, -0.2727313264750364, 1.0195015218583527, -0.1125709709711396, -0.0992052156509772, -0.10038565402562996, 1.182259921569917, 0.6201037680164574, 0.00065696719603261, 0.4556208055782743, -0.9502790546247901, -1.0978368547782833, 0.3992300601573083, 0.3982763109978748, 0.14618132688760946]}],                        {\"legend\": {\"bgcolor\": \"#F5F6F9\", \"font\": {\"color\": \"#4D5663\"}}, \"paper_bgcolor\": \"#F5F6F9\", \"plot_bgcolor\": \"#F5F6F9\", \"template\": {\"data\": {\"bar\": [{\"error_x\": {\"color\": \"#2a3f5f\"}, \"error_y\": {\"color\": \"#2a3f5f\"}, \"marker\": {\"line\": {\"color\": \"#E5ECF6\", \"width\": 0.5}}, \"type\": \"bar\"}], \"barpolar\": [{\"marker\": {\"line\": {\"color\": \"#E5ECF6\", \"width\": 0.5}}, \"type\": \"barpolar\"}], \"carpet\": [{\"aaxis\": {\"endlinecolor\": \"#2a3f5f\", \"gridcolor\": \"white\", \"linecolor\": \"white\", \"minorgridcolor\": \"white\", \"startlinecolor\": \"#2a3f5f\"}, \"baxis\": {\"endlinecolor\": \"#2a3f5f\", \"gridcolor\": \"white\", \"linecolor\": \"white\", \"minorgridcolor\": \"white\", \"startlinecolor\": \"#2a3f5f\"}, \"type\": \"carpet\"}], \"choropleth\": [{\"colorbar\": {\"outlinewidth\": 0, \"ticks\": \"\"}, \"type\": \"choropleth\"}], \"contour\": [{\"colorbar\": {\"outlinewidth\": 0, \"ticks\": \"\"}, \"colorscale\": [[0.0, \"#0d0887\"], [0.1111111111111111, \"#46039f\"], [0.2222222222222222, \"#7201a8\"], [0.3333333333333333, \"#9c179e\"], [0.4444444444444444, \"#bd3786\"], [0.5555555555555556, \"#d8576b\"], [0.6666666666666666, \"#ed7953\"], [0.7777777777777778, \"#fb9f3a\"], [0.8888888888888888, \"#fdca26\"], [1.0, \"#f0f921\"]], \"type\": \"contour\"}], \"contourcarpet\": [{\"colorbar\": {\"outlinewidth\": 0, \"ticks\": \"\"}, \"type\": \"contourcarpet\"}], \"heatmap\": [{\"colorbar\": {\"outlinewidth\": 0, \"ticks\": \"\"}, \"colorscale\": [[0.0, \"#0d0887\"], [0.1111111111111111, \"#46039f\"], [0.2222222222222222, \"#7201a8\"], [0.3333333333333333, \"#9c179e\"], [0.4444444444444444, \"#bd3786\"], [0.5555555555555556, \"#d8576b\"], [0.6666666666666666, \"#ed7953\"], [0.7777777777777778, \"#fb9f3a\"], [0.8888888888888888, \"#fdca26\"], [1.0, \"#f0f921\"]], \"type\": \"heatmap\"}], \"heatmapgl\": [{\"colorbar\": {\"outlinewidth\": 0, \"ticks\": \"\"}, \"colorscale\": [[0.0, \"#0d0887\"], [0.1111111111111111, \"#46039f\"], [0.2222222222222222, \"#7201a8\"], [0.3333333333333333, \"#9c179e\"], [0.4444444444444444, \"#bd3786\"], [0.5555555555555556, \"#d8576b\"], [0.6666666666666666, \"#ed7953\"], [0.7777777777777778, \"#fb9f3a\"], [0.8888888888888888, \"#fdca26\"], [1.0, \"#f0f921\"]], \"type\": \"heatmapgl\"}], \"histogram\": [{\"marker\": {\"colorbar\": {\"outlinewidth\": 0, \"ticks\": \"\"}}, \"type\": \"histogram\"}], \"histogram2d\": [{\"colorbar\": {\"outlinewidth\": 0, \"ticks\": \"\"}, \"colorscale\": [[0.0, \"#0d0887\"], [0.1111111111111111, \"#46039f\"], [0.2222222222222222, \"#7201a8\"], [0.3333333333333333, \"#9c179e\"], [0.4444444444444444, \"#bd3786\"], [0.5555555555555556, \"#d8576b\"], [0.6666666666666666, \"#ed7953\"], [0.7777777777777778, \"#fb9f3a\"], [0.8888888888888888, \"#fdca26\"], [1.0, \"#f0f921\"]], \"type\": \"histogram2d\"}], \"histogram2dcontour\": [{\"colorbar\": {\"outlinewidth\": 0, \"ticks\": \"\"}, \"colorscale\": [[0.0, \"#0d0887\"], [0.1111111111111111, \"#46039f\"], [0.2222222222222222, \"#7201a8\"], [0.3333333333333333, \"#9c179e\"], [0.4444444444444444, \"#bd3786\"], [0.5555555555555556, \"#d8576b\"], [0.6666666666666666, \"#ed7953\"], [0.7777777777777778, \"#fb9f3a\"], [0.8888888888888888, \"#fdca26\"], [1.0, \"#f0f921\"]], \"type\": \"histogram2dcontour\"}], \"mesh3d\": [{\"colorbar\": {\"outlinewidth\": 0, \"ticks\": \"\"}, \"type\": \"mesh3d\"}], \"parcoords\": [{\"line\": {\"colorbar\": {\"outlinewidth\": 0, \"ticks\": \"\"}}, \"type\": \"parcoords\"}], \"pie\": [{\"automargin\": true, \"type\": \"pie\"}], \"scatter\": [{\"marker\": {\"colorbar\": {\"outlinewidth\": 0, \"ticks\": \"\"}}, \"type\": \"scatter\"}], \"scatter3d\": [{\"line\": {\"colorbar\": {\"outlinewidth\": 0, \"ticks\": \"\"}}, \"marker\": {\"colorbar\": {\"outlinewidth\": 0, \"ticks\": \"\"}}, \"type\": \"scatter3d\"}], \"scattercarpet\": [{\"marker\": {\"colorbar\": {\"outlinewidth\": 0, \"ticks\": \"\"}}, \"type\": \"scattercarpet\"}], \"scattergeo\": [{\"marker\": {\"colorbar\": {\"outlinewidth\": 0, \"ticks\": \"\"}}, \"type\": \"scattergeo\"}], \"scattergl\": [{\"marker\": {\"colorbar\": {\"outlinewidth\": 0, \"ticks\": \"\"}}, \"type\": \"scattergl\"}], \"scattermapbox\": [{\"marker\": {\"colorbar\": {\"outlinewidth\": 0, \"ticks\": \"\"}}, \"type\": \"scattermapbox\"}], \"scatterpolar\": [{\"marker\": {\"colorbar\": {\"outlinewidth\": 0, \"ticks\": \"\"}}, \"type\": \"scatterpolar\"}], \"scatterpolargl\": [{\"marker\": {\"colorbar\": {\"outlinewidth\": 0, \"ticks\": \"\"}}, \"type\": \"scatterpolargl\"}], \"scatterternary\": [{\"marker\": {\"colorbar\": {\"outlinewidth\": 0, \"ticks\": \"\"}}, \"type\": \"scatterternary\"}], \"surface\": [{\"colorbar\": {\"outlinewidth\": 0, \"ticks\": \"\"}, \"colorscale\": [[0.0, \"#0d0887\"], [0.1111111111111111, \"#46039f\"], [0.2222222222222222, \"#7201a8\"], [0.3333333333333333, \"#9c179e\"], [0.4444444444444444, \"#bd3786\"], [0.5555555555555556, \"#d8576b\"], [0.6666666666666666, \"#ed7953\"], [0.7777777777777778, \"#fb9f3a\"], [0.8888888888888888, \"#fdca26\"], [1.0, \"#f0f921\"]], \"type\": \"surface\"}], \"table\": [{\"cells\": {\"fill\": {\"color\": \"#EBF0F8\"}, \"line\": {\"color\": \"white\"}}, \"header\": {\"fill\": {\"color\": \"#C8D4E3\"}, \"line\": {\"color\": \"white\"}}, \"type\": \"table\"}]}, \"layout\": {\"annotationdefaults\": {\"arrowcolor\": \"#2a3f5f\", \"arrowhead\": 0, \"arrowwidth\": 1}, \"autotypenumbers\": \"strict\", \"coloraxis\": {\"colorbar\": {\"outlinewidth\": 0, \"ticks\": \"\"}}, \"colorscale\": {\"diverging\": [[0, \"#8e0152\"], [0.1, \"#c51b7d\"], [0.2, \"#de77ae\"], [0.3, \"#f1b6da\"], [0.4, \"#fde0ef\"], [0.5, \"#f7f7f7\"], [0.6, \"#e6f5d0\"], [0.7, \"#b8e186\"], [0.8, \"#7fbc41\"], [0.9, \"#4d9221\"], [1, \"#276419\"]], \"sequential\": [[0.0, \"#0d0887\"], [0.1111111111111111, \"#46039f\"], [0.2222222222222222, \"#7201a8\"], [0.3333333333333333, \"#9c179e\"], [0.4444444444444444, \"#bd3786\"], [0.5555555555555556, \"#d8576b\"], [0.6666666666666666, \"#ed7953\"], [0.7777777777777778, \"#fb9f3a\"], [0.8888888888888888, \"#fdca26\"], [1.0, \"#f0f921\"]], \"sequentialminus\": [[0.0, \"#0d0887\"], [0.1111111111111111, \"#46039f\"], [0.2222222222222222, \"#7201a8\"], [0.3333333333333333, \"#9c179e\"], [0.4444444444444444, \"#bd3786\"], [0.5555555555555556, \"#d8576b\"], [0.6666666666666666, \"#ed7953\"], [0.7777777777777778, \"#fb9f3a\"], [0.8888888888888888, \"#fdca26\"], [1.0, \"#f0f921\"]]}, \"colorway\": [\"#636efa\", \"#EF553B\", \"#00cc96\", \"#ab63fa\", \"#FFA15A\", \"#19d3f3\", \"#FF6692\", \"#B6E880\", \"#FF97FF\", \"#FECB52\"], \"font\": {\"color\": \"#2a3f5f\"}, \"geo\": {\"bgcolor\": \"white\", \"lakecolor\": \"white\", \"landcolor\": \"#E5ECF6\", \"showlakes\": true, \"showland\": true, \"subunitcolor\": \"white\"}, \"hoverlabel\": {\"align\": \"left\"}, \"hovermode\": \"closest\", \"mapbox\": {\"style\": \"light\"}, \"paper_bgcolor\": \"white\", \"plot_bgcolor\": \"#E5ECF6\", \"polar\": {\"angularaxis\": {\"gridcolor\": \"white\", \"linecolor\": \"white\", \"ticks\": \"\"}, \"bgcolor\": \"#E5ECF6\", \"radialaxis\": {\"gridcolor\": \"white\", \"linecolor\": \"white\", \"ticks\": \"\"}}, \"scene\": {\"xaxis\": {\"backgroundcolor\": \"#E5ECF6\", \"gridcolor\": \"white\", \"gridwidth\": 2, \"linecolor\": \"white\", \"showbackground\": true, \"ticks\": \"\", \"zerolinecolor\": \"white\"}, \"yaxis\": {\"backgroundcolor\": \"#E5ECF6\", \"gridcolor\": \"white\", \"gridwidth\": 2, \"linecolor\": \"white\", \"showbackground\": true, \"ticks\": \"\", \"zerolinecolor\": \"white\"}, \"zaxis\": {\"backgroundcolor\": \"#E5ECF6\", \"gridcolor\": \"white\", \"gridwidth\": 2, \"linecolor\": \"white\", \"showbackground\": true, \"ticks\": \"\", \"zerolinecolor\": \"white\"}}, \"shapedefaults\": {\"line\": {\"color\": \"#2a3f5f\"}}, \"ternary\": {\"aaxis\": {\"gridcolor\": \"white\", \"linecolor\": \"white\", \"ticks\": \"\"}, \"baxis\": {\"gridcolor\": \"white\", \"linecolor\": \"white\", \"ticks\": \"\"}, \"bgcolor\": \"#E5ECF6\", \"caxis\": {\"gridcolor\": \"white\", \"linecolor\": \"white\", \"ticks\": \"\"}}, \"title\": {\"x\": 0.05}, \"xaxis\": {\"automargin\": true, \"gridcolor\": \"white\", \"linecolor\": \"white\", \"ticks\": \"\", \"title\": {\"standoff\": 15}, \"zerolinecolor\": \"white\", \"zerolinewidth\": 2}, \"yaxis\": {\"automargin\": true, \"gridcolor\": \"white\", \"linecolor\": \"white\", \"ticks\": \"\", \"title\": {\"standoff\": 15}, \"zerolinecolor\": \"white\", \"zerolinewidth\": 2}}}, \"title\": {\"font\": {\"color\": \"#4D5663\"}}, \"xaxis\": {\"gridcolor\": \"#E1E5ED\", \"showgrid\": true, \"tickfont\": {\"color\": \"#4D5663\"}, \"title\": {\"font\": {\"color\": \"#4D5663\"}, \"text\": \"\"}, \"zerolinecolor\": \"#E1E5ED\"}, \"yaxis\": {\"gridcolor\": \"#E1E5ED\", \"showgrid\": true, \"tickfont\": {\"color\": \"#4D5663\"}, \"title\": {\"font\": {\"color\": \"#4D5663\"}, \"text\": \"\"}, \"zerolinecolor\": \"#E1E5ED\"}},                        {\"showLink\": true, \"linkText\": \"Export to plot.ly\", \"plotlyServerURL\": \"https://plot.ly\", \"responsive\": true}                    ).then(function(){\n",
       "                            \n",
       "var gd = document.getElementById('5b600692-58f9-4fa0-a130-6cfbff254299');\n",
       "var x = new MutationObserver(function (mutations, observer) {{\n",
       "        var display = window.getComputedStyle(gd).display;\n",
       "        if (!display || display === 'none') {{\n",
       "            console.log([gd, 'removed!']);\n",
       "            Plotly.purge(gd);\n",
       "            observer.disconnect();\n",
       "        }}\n",
       "}});\n",
       "\n",
       "// Listen for the removal of the full notebook cells\n",
       "var notebookContainer = gd.closest('#notebook-container');\n",
       "if (notebookContainer) {{\n",
       "    x.observe(notebookContainer, {childList: true});\n",
       "}}\n",
       "\n",
       "// Listen for the clearing of the current output cell\n",
       "var outputEl = gd.closest('.output');\n",
       "if (outputEl) {{\n",
       "    x.observe(outputEl, {childList: true});\n",
       "}}\n",
       "\n",
       "                        })                };                });            </script>        </div>"
      ]
     },
     "metadata": {},
     "output_type": "display_data"
    }
   ],
   "source": [
    "df.iplot(kind='bubble',x='A',y='B',size='C')"
   ]
  },
  {
   "cell_type": "code",
   "execution_count": 53,
   "metadata": {},
   "outputs": [
    {
     "data": {
      "application/vnd.plotly.v1+json": {
       "config": {
        "linkText": "Export to plot.ly",
        "plotlyServerURL": "https://plot.ly",
        "showLink": true
       },
       "data": [
        {
         "histfunc": "count",
         "histnorm": "",
         "marker": {
          "color": "rgba(255, 153, 51, 1.0)",
          "line": {
           "color": "#4D5663",
           "width": 1.3
          }
         },
         "name": "A",
         "nbinsx": 10,
         "opacity": 0.8,
         "orientation": "v",
         "type": "histogram",
         "x": [
          -0.3743792182439242,
          -1.6197326287777765,
          -1.6694241693284275,
          -0.8234720676448699,
          0.13693934194800925,
          -0.7786890259731041,
          1.2425205537238309,
          0.23661461195068445,
          0.4427518671054902,
          2.0602492413190627,
          0.17347553754917663,
          0.5272904974803029,
          1.0501036685459912,
          0.27964168711265713,
          -0.7272118486201753,
          -0.22172121217961174,
          -1.4066185696758435,
          0.14943198489384765,
          1.9432086736456875,
          2.5220657307651355,
          -1.575145667869044,
          2.106775558992982,
          0.10174098248546284,
          1.7396932489191501,
          2.074786533983352,
          -1.1987093179807613,
          -0.7165329207174465,
          2.606548254803393,
          -0.1731233457547235,
          1.0190282826591162,
          -0.8462404362171113,
          -0.013844020914462261,
          0.03325819160101085,
          1.7785315479135524,
          -0.845672667552957,
          1.2601128671438402,
          -1.8143044052327248,
          0.5970279618887205,
          -0.5769416532706793,
          -0.32364036863083556,
          0.03374636130467711,
          1.1262235526047673,
          -0.8835399735809639,
          0.06711967156865234,
          -1.4139271342518789,
          -0.6575777307138329,
          0.46229213676974534,
          1.0313703525873301,
          -0.493699775953662,
          0.7661403815389104,
          -0.17056924610476254,
          0.1903867851538594,
          -0.5971541790764131,
          1.241771128939705,
          -0.0983027365076231,
          0.09160084021308144,
          -1.9601710782173678,
          0.037315681418766455,
          0.8821219685238391,
          -0.7375779940391467,
          0.19254111855709474,
          0.6924571147549479,
          0.16154451786586277,
          -1.0727850115023716,
          -0.01649775264774975,
          -0.8049803974922969,
          -0.8398704184601684,
          0.8505246844046274,
          -0.5200062488807476,
          0.014739737631221722,
          0.12869943874606232,
          -1.392960388914175,
          0.20609619106358215,
          -0.10679886929113508,
          0.8973824818566172,
          -0.2730155117429203,
          0.7207158467228036,
          -0.43694692713810984,
          1.0219884648429,
          -0.108800476161582,
          1.165329073668084,
          -0.16302070112148123,
          0.5891703252134486,
          0.11281410046037657,
          0.4284575251522544,
          -1.9219006979808662,
          -0.6563995509383275,
          -1.43950547963843,
          -0.2762985778717633,
          3.010485863448667,
          -0.12036745273155926,
          -0.20020535022170713,
          0.31097193170068255,
          1.0109448623739885,
          -0.17848199577529572,
          0.2846917936792169,
          -0.6808365819892909,
          -1.0071421584201592,
          2.283632305623987,
          -2.1543573610817393
         ],
         "xaxis": "x",
         "yaxis": "y"
        },
        {
         "line": {
          "color": "rgba(128, 128, 128, 1.0)",
          "dash": "solid",
          "shape": "linear",
          "width": 1.3
         },
         "marker": {
          "size": 2,
          "symbol": "circle"
         },
         "mode": "markers",
         "name": "A",
         "text": "",
         "type": "scatter",
         "x": [
          -1.1027785660551868,
          0.29740020489597846,
          -0.43253294240382856,
          -1.1084269652229717,
          -1.6373655590184417,
          -1.0725117618110998,
          -1.9099100685608439,
          -2.0689122733051275,
          0.077918987078293,
          0.5024584203750352,
          -1.3926796764698834,
          0.3717509242747525,
          -0.8474458229363676,
          0.08737683711031544,
          -0.33133430972182576,
          -2.733316055785719,
          -0.6928824100740675,
          0.5250323944129693,
          -1.6067781687815792,
          -0.7287202006257252,
          -1.6918012487369385,
          0.3542738500682554,
          -0.1915179367997926,
          -0.29403482375669315,
          -1.4559887425614062,
          -0.45946662861286863,
          -1.0573702753899408,
          -0.13034922297969953,
          -1.5699117976686348,
          0.5481499873171011,
          -1.4685830306254732,
          -1.1806385665913264,
          -1.4156796963696252,
          1.3605077053581722,
          1.9811380136832317,
          -0.16316712319178428,
          -0.6983529403698392,
          1.1203194633607836,
          -0.378838594956958,
          2.0486437782810403,
          0.5192196076632097,
          -0.8777252263888996,
          -0.38206113714898843,
          0.012992185416119843,
          1.2929317353034275,
          0.3907851507983996,
          -1.3572897634254169,
          -0.870575384725658,
          -0.0027188992621641167,
          0.49670782282570086,
          -0.7091516270566384,
          -0.40752396773946536,
          0.5777273937905538,
          -0.028583879645875804,
          -0.686415398165249,
          -0.6632303830207483,
          0.3611285698868993,
          -1.4150766880023653,
          -0.5355969336730079,
          0.15148844935688743,
          1.4809758774301216,
          0.1341776189245072,
          2.039413314544158,
          -0.03243372323009276,
          0.022831173707126735,
          -0.841240189670404,
          -0.49541889751084567,
          0.8183400775505387,
          0.7488401406486337,
          -0.17193420847758445,
          -0.45187359053888715,
          -0.19881883509728254,
          -1.50152229425189,
          -0.35828183450124146,
          1.9630368930993207,
          1.1964489103975489,
          -0.1435270860047802,
          -0.3308275681612723,
          0.8659755734970961,
          -0.26379834794677504,
          -0.46684150154116616,
          0.4345934611912318,
          0.9143039934710501,
          -0.06561570356948355,
          -0.6767256650340361,
          -1.0259488290832,
          -0.2727313264750364,
          1.0195015218583527,
          -0.1125709709711396,
          -0.0992052156509772,
          -0.10038565402562996,
          1.182259921569917,
          0.6201037680164574,
          0.00065696719603261,
          0.4556208055782743,
          -0.9502790546247901,
          -1.0978368547782833,
          0.3992300601573083,
          0.3982763109978748,
          0.14618132688760946
         ],
         "xaxis": "x2",
         "y": [
          -0.3743792182439242,
          -1.6197326287777765,
          -1.6694241693284275,
          -0.8234720676448699,
          0.13693934194800925,
          -0.7786890259731041,
          1.2425205537238309,
          0.23661461195068445,
          0.4427518671054902,
          2.0602492413190627,
          0.17347553754917663,
          0.5272904974803029,
          1.0501036685459912,
          0.27964168711265713,
          -0.7272118486201753,
          -0.22172121217961174,
          -1.4066185696758435,
          0.14943198489384765,
          1.9432086736456875,
          2.5220657307651355,
          -1.575145667869044,
          2.106775558992982,
          0.10174098248546284,
          1.7396932489191501,
          2.074786533983352,
          -1.1987093179807613,
          -0.7165329207174465,
          2.606548254803393,
          -0.1731233457547235,
          1.0190282826591162,
          -0.8462404362171113,
          -0.013844020914462261,
          0.03325819160101085,
          1.7785315479135524,
          -0.845672667552957,
          1.2601128671438402,
          -1.8143044052327248,
          0.5970279618887205,
          -0.5769416532706793,
          -0.32364036863083556,
          0.03374636130467711,
          1.1262235526047673,
          -0.8835399735809639,
          0.06711967156865234,
          -1.4139271342518789,
          -0.6575777307138329,
          0.46229213676974534,
          1.0313703525873301,
          -0.493699775953662,
          0.7661403815389104,
          -0.17056924610476254,
          0.1903867851538594,
          -0.5971541790764131,
          1.241771128939705,
          -0.0983027365076231,
          0.09160084021308144,
          -1.9601710782173678,
          0.037315681418766455,
          0.8821219685238391,
          -0.7375779940391467,
          0.19254111855709474,
          0.6924571147549479,
          0.16154451786586277,
          -1.0727850115023716,
          -0.01649775264774975,
          -0.8049803974922969,
          -0.8398704184601684,
          0.8505246844046274,
          -0.5200062488807476,
          0.014739737631221722,
          0.12869943874606232,
          -1.392960388914175,
          0.20609619106358215,
          -0.10679886929113508,
          0.8973824818566172,
          -0.2730155117429203,
          0.7207158467228036,
          -0.43694692713810984,
          1.0219884648429,
          -0.108800476161582,
          1.165329073668084,
          -0.16302070112148123,
          0.5891703252134486,
          0.11281410046037657,
          0.4284575251522544,
          -1.9219006979808662,
          -0.6563995509383275,
          -1.43950547963843,
          -0.2762985778717633,
          3.010485863448667,
          -0.12036745273155926,
          -0.20020535022170713,
          0.31097193170068255,
          1.0109448623739885,
          -0.17848199577529572,
          0.2846917936792169,
          -0.6808365819892909,
          -1.0071421584201592,
          2.283632305623987,
          -2.1543573610817393
         ],
         "yaxis": "y2"
        },
        {
         "line": {
          "color": "rgba(128, 128, 128, 1.0)",
          "dash": "solid",
          "shape": "linear",
          "width": 1.3
         },
         "marker": {
          "size": 2,
          "symbol": "circle"
         },
         "mode": "markers",
         "name": "A",
         "text": "",
         "type": "scatter",
         "x": [
          0.6305086408405335,
          0.2573929741581128,
          1.2002509871699105,
          1.8249813489097186,
          0.3918002396090246,
          2.045502634431302,
          -0.12255302335727361,
          -0.14328856625676092,
          -0.20748786540499695,
          -0.3064262606826834,
          -1.1379840810055082,
          0.1673648590728652,
          0.37699394164743627,
          -0.6962736680079707,
          -0.6586427335574921,
          1.026882387486378,
          -0.13961200892487075,
          0.13493393701558787,
          -0.21222692847029387,
          -0.629736224541587,
          1.4735661632735562,
          -1.0104870058846744,
          0.8366005276015587,
          -0.33702113005301576,
          0.39797885431417157,
          -0.16811043462184252,
          -0.6197407303272026,
          0.10336820541209946,
          0.9429313960623031,
          0.7907388100117877,
          -0.7702545298597853,
          1.8824678262475079,
          0.3764093764765518,
          -0.31741290339867323,
          -0.4080431921994537,
          0.8524436320243046,
          -0.8874432210963202,
          1.278318444357705,
          1.400387427082184,
          0.5164502436081181,
          0.5260515938763501,
          -1.516843418418446,
          -1.2296490295672757,
          -0.3030387528649891,
          -0.8673602866550375,
          1.2577169602465843,
          -0.17664278745729972,
          -0.8011024909016581,
          -1.2709067509118592,
          2.600574336866944,
          1.7026407853872678,
          1.188257856928726,
          1.470492384903625,
          -1.4246726210313863,
          -0.5822627018194775,
          0.37354771607816406,
          -0.5340206493997645,
          0.04376725425074439,
          -0.47645358851481984,
          1.5597252552643888,
          -1.2000497575023026,
          -0.6258442258992837,
          -0.793624442495925,
          0.1898625339161362,
          0.20876742846720092,
          1.3709461458575776,
          0.8634147134772215,
          -0.48704667145588254,
          -1.6763341999764252,
          0.645748787049174,
          -1.2776430496406737,
          0.8424179571291159,
          -1.8479145390147624,
          0.9343548341121494,
          -0.003951426835194898,
          0.570119633366993,
          -1.0825526928291904,
          -0.17270588345420862,
          1.4225521073363245,
          -0.9250108836454827,
          -0.5242086646505019,
          -0.9144328597996433,
          -0.9510490339648087,
          -0.5511617558446993,
          0.7727258199523624,
          2.1177556445538634,
          1.5414102237779639,
          0.10267936984726589,
          -0.5582221230138756,
          0.15764762924658451,
          -0.0043885162080275625,
          -1.3373114196927731,
          0.10633748756502394,
          -0.4647282500767246,
          -0.026345456157078864,
          0.138687004546556,
          0.012902495730874639,
          1.1639536789822604,
          -0.534311955025553,
          -0.5622879971904758
         ],
         "xaxis": "x3",
         "y": [
          -0.3743792182439242,
          -1.6197326287777765,
          -1.6694241693284275,
          -0.8234720676448699,
          0.13693934194800925,
          -0.7786890259731041,
          1.2425205537238309,
          0.23661461195068445,
          0.4427518671054902,
          2.0602492413190627,
          0.17347553754917663,
          0.5272904974803029,
          1.0501036685459912,
          0.27964168711265713,
          -0.7272118486201753,
          -0.22172121217961174,
          -1.4066185696758435,
          0.14943198489384765,
          1.9432086736456875,
          2.5220657307651355,
          -1.575145667869044,
          2.106775558992982,
          0.10174098248546284,
          1.7396932489191501,
          2.074786533983352,
          -1.1987093179807613,
          -0.7165329207174465,
          2.606548254803393,
          -0.1731233457547235,
          1.0190282826591162,
          -0.8462404362171113,
          -0.013844020914462261,
          0.03325819160101085,
          1.7785315479135524,
          -0.845672667552957,
          1.2601128671438402,
          -1.8143044052327248,
          0.5970279618887205,
          -0.5769416532706793,
          -0.32364036863083556,
          0.03374636130467711,
          1.1262235526047673,
          -0.8835399735809639,
          0.06711967156865234,
          -1.4139271342518789,
          -0.6575777307138329,
          0.46229213676974534,
          1.0313703525873301,
          -0.493699775953662,
          0.7661403815389104,
          -0.17056924610476254,
          0.1903867851538594,
          -0.5971541790764131,
          1.241771128939705,
          -0.0983027365076231,
          0.09160084021308144,
          -1.9601710782173678,
          0.037315681418766455,
          0.8821219685238391,
          -0.7375779940391467,
          0.19254111855709474,
          0.6924571147549479,
          0.16154451786586277,
          -1.0727850115023716,
          -0.01649775264774975,
          -0.8049803974922969,
          -0.8398704184601684,
          0.8505246844046274,
          -0.5200062488807476,
          0.014739737631221722,
          0.12869943874606232,
          -1.392960388914175,
          0.20609619106358215,
          -0.10679886929113508,
          0.8973824818566172,
          -0.2730155117429203,
          0.7207158467228036,
          -0.43694692713810984,
          1.0219884648429,
          -0.108800476161582,
          1.165329073668084,
          -0.16302070112148123,
          0.5891703252134486,
          0.11281410046037657,
          0.4284575251522544,
          -1.9219006979808662,
          -0.6563995509383275,
          -1.43950547963843,
          -0.2762985778717633,
          3.010485863448667,
          -0.12036745273155926,
          -0.20020535022170713,
          0.31097193170068255,
          1.0109448623739885,
          -0.17848199577529572,
          0.2846917936792169,
          -0.6808365819892909,
          -1.0071421584201592,
          2.283632305623987,
          -2.1543573610817393
         ],
         "yaxis": "y3"
        },
        {
         "line": {
          "color": "rgba(128, 128, 128, 1.0)",
          "dash": "solid",
          "shape": "linear",
          "width": 1.3
         },
         "marker": {
          "size": 2,
          "symbol": "circle"
         },
         "mode": "markers",
         "name": "A",
         "text": "",
         "type": "scatter",
         "x": [
          -0.9775540867952446,
          0.5125419768385915,
          -0.294908048965335,
          0.6561049172570194,
          -0.948655669014669,
          0.38826492530369056,
          -1.051515798800067,
          1.0916810700420954,
          -0.7698443127541724,
          -0.9044517115380162,
          0.30475023729635403,
          1.539858983273998,
          1.226919733553733,
          0.42749343772456005,
          0.04433626310293226,
          -1.943719051879809,
          1.2463238062234774,
          -1.2104794780278358,
          2.2434389335917615,
          -0.7046858778536157,
          -1.4554723150616735,
          1.0941988942748302,
          -0.02952503436206944,
          -0.33924093843015646,
          0.2044200372012253,
          0.2685291939229705,
          -1.5299696422235398,
          0.6581448336938301,
          0.39454019984961214,
          -0.29532382509339766,
          -0.7754927189028199,
          -0.7517249288087523,
          1.1662456581357885,
          0.47100641399697557,
          0.18091632997000087,
          -0.8680521122835154,
          0.34188638195693616,
          -0.6395572104363515,
          1.7607211883492682,
          -0.5427324119660141,
          0.6094134787515665,
          -0.3228406532113041,
          -1.240984117694116,
          0.9476958531796474,
          -1.566799508736097,
          -1.3693967159456835,
          -1.002806751796895,
          -0.6290596720219408,
          -0.9665578288157056,
          0.9840878963356897,
          -0.4843673241245268,
          1.0518601552732783,
          -1.1491433046014432,
          -0.6095902338712633,
          1.9231102218474039,
          0.9376082791295621,
          0.10526475977098643,
          0.4989098099237765,
          -0.5043174075431105,
          2.1408461247925024,
          0.1352941400065242,
          -0.27473495827988226,
          -0.2889957842311569,
          -0.03266538710690525,
          -0.0157904210532621,
          0.08899841220396364,
          -1.2285876409947754,
          1.9089716125433318,
          -0.672817717516103,
          -0.9991552089496202,
          0.7787563460737548,
          -0.012740471268385447,
          -2.479165537636401,
          1.40143034536203,
          -1.729474372047749,
          -0.21787372323390702,
          0.7980485729437748,
          0.3776094257046723,
          -0.4760637243601897,
          -2.3832051413841637,
          -1.7099159788344809,
          0.4827711017041606,
          0.8620357645975364,
          0.17453108335633685,
          0.7443925303551422,
          0.6903132193598274,
          -0.5627408036346566,
          -0.4518178996632333,
          -0.9368981301966262,
          0.05061874383989501,
          -0.6922640658095132,
          -0.5280750185783809,
          -1.2947751095368296,
          -0.870662429879271,
          -0.298108580253174,
          0.037387968557037854,
          -1.1207278026636471,
          -1.9113339857999854,
          -0.007295497555885252,
          0.9171993947582978
         ],
         "xaxis": "x4",
         "y": [
          -0.3743792182439242,
          -1.6197326287777765,
          -1.6694241693284275,
          -0.8234720676448699,
          0.13693934194800925,
          -0.7786890259731041,
          1.2425205537238309,
          0.23661461195068445,
          0.4427518671054902,
          2.0602492413190627,
          0.17347553754917663,
          0.5272904974803029,
          1.0501036685459912,
          0.27964168711265713,
          -0.7272118486201753,
          -0.22172121217961174,
          -1.4066185696758435,
          0.14943198489384765,
          1.9432086736456875,
          2.5220657307651355,
          -1.575145667869044,
          2.106775558992982,
          0.10174098248546284,
          1.7396932489191501,
          2.074786533983352,
          -1.1987093179807613,
          -0.7165329207174465,
          2.606548254803393,
          -0.1731233457547235,
          1.0190282826591162,
          -0.8462404362171113,
          -0.013844020914462261,
          0.03325819160101085,
          1.7785315479135524,
          -0.845672667552957,
          1.2601128671438402,
          -1.8143044052327248,
          0.5970279618887205,
          -0.5769416532706793,
          -0.32364036863083556,
          0.03374636130467711,
          1.1262235526047673,
          -0.8835399735809639,
          0.06711967156865234,
          -1.4139271342518789,
          -0.6575777307138329,
          0.46229213676974534,
          1.0313703525873301,
          -0.493699775953662,
          0.7661403815389104,
          -0.17056924610476254,
          0.1903867851538594,
          -0.5971541790764131,
          1.241771128939705,
          -0.0983027365076231,
          0.09160084021308144,
          -1.9601710782173678,
          0.037315681418766455,
          0.8821219685238391,
          -0.7375779940391467,
          0.19254111855709474,
          0.6924571147549479,
          0.16154451786586277,
          -1.0727850115023716,
          -0.01649775264774975,
          -0.8049803974922969,
          -0.8398704184601684,
          0.8505246844046274,
          -0.5200062488807476,
          0.014739737631221722,
          0.12869943874606232,
          -1.392960388914175,
          0.20609619106358215,
          -0.10679886929113508,
          0.8973824818566172,
          -0.2730155117429203,
          0.7207158467228036,
          -0.43694692713810984,
          1.0219884648429,
          -0.108800476161582,
          1.165329073668084,
          -0.16302070112148123,
          0.5891703252134486,
          0.11281410046037657,
          0.4284575251522544,
          -1.9219006979808662,
          -0.6563995509383275,
          -1.43950547963843,
          -0.2762985778717633,
          3.010485863448667,
          -0.12036745273155926,
          -0.20020535022170713,
          0.31097193170068255,
          1.0109448623739885,
          -0.17848199577529572,
          0.2846917936792169,
          -0.6808365819892909,
          -1.0071421584201592,
          2.283632305623987,
          -2.1543573610817393
         ],
         "yaxis": "y4"
        },
        {
         "line": {
          "color": "rgba(128, 128, 128, 1.0)",
          "dash": "solid",
          "shape": "linear",
          "width": 1.3
         },
         "marker": {
          "size": 2,
          "symbol": "circle"
         },
         "mode": "markers",
         "name": "B",
         "text": "",
         "type": "scatter",
         "x": [
          -0.3743792182439242,
          -1.6197326287777765,
          -1.6694241693284275,
          -0.8234720676448699,
          0.13693934194800925,
          -0.7786890259731041,
          1.2425205537238309,
          0.23661461195068445,
          0.4427518671054902,
          2.0602492413190627,
          0.17347553754917663,
          0.5272904974803029,
          1.0501036685459912,
          0.27964168711265713,
          -0.7272118486201753,
          -0.22172121217961174,
          -1.4066185696758435,
          0.14943198489384765,
          1.9432086736456875,
          2.5220657307651355,
          -1.575145667869044,
          2.106775558992982,
          0.10174098248546284,
          1.7396932489191501,
          2.074786533983352,
          -1.1987093179807613,
          -0.7165329207174465,
          2.606548254803393,
          -0.1731233457547235,
          1.0190282826591162,
          -0.8462404362171113,
          -0.013844020914462261,
          0.03325819160101085,
          1.7785315479135524,
          -0.845672667552957,
          1.2601128671438402,
          -1.8143044052327248,
          0.5970279618887205,
          -0.5769416532706793,
          -0.32364036863083556,
          0.03374636130467711,
          1.1262235526047673,
          -0.8835399735809639,
          0.06711967156865234,
          -1.4139271342518789,
          -0.6575777307138329,
          0.46229213676974534,
          1.0313703525873301,
          -0.493699775953662,
          0.7661403815389104,
          -0.17056924610476254,
          0.1903867851538594,
          -0.5971541790764131,
          1.241771128939705,
          -0.0983027365076231,
          0.09160084021308144,
          -1.9601710782173678,
          0.037315681418766455,
          0.8821219685238391,
          -0.7375779940391467,
          0.19254111855709474,
          0.6924571147549479,
          0.16154451786586277,
          -1.0727850115023716,
          -0.01649775264774975,
          -0.8049803974922969,
          -0.8398704184601684,
          0.8505246844046274,
          -0.5200062488807476,
          0.014739737631221722,
          0.12869943874606232,
          -1.392960388914175,
          0.20609619106358215,
          -0.10679886929113508,
          0.8973824818566172,
          -0.2730155117429203,
          0.7207158467228036,
          -0.43694692713810984,
          1.0219884648429,
          -0.108800476161582,
          1.165329073668084,
          -0.16302070112148123,
          0.5891703252134486,
          0.11281410046037657,
          0.4284575251522544,
          -1.9219006979808662,
          -0.6563995509383275,
          -1.43950547963843,
          -0.2762985778717633,
          3.010485863448667,
          -0.12036745273155926,
          -0.20020535022170713,
          0.31097193170068255,
          1.0109448623739885,
          -0.17848199577529572,
          0.2846917936792169,
          -0.6808365819892909,
          -1.0071421584201592,
          2.283632305623987,
          -2.1543573610817393
         ],
         "xaxis": "x5",
         "y": [
          -1.1027785660551868,
          0.29740020489597846,
          -0.43253294240382856,
          -1.1084269652229717,
          -1.6373655590184417,
          -1.0725117618110998,
          -1.9099100685608439,
          -2.0689122733051275,
          0.077918987078293,
          0.5024584203750352,
          -1.3926796764698834,
          0.3717509242747525,
          -0.8474458229363676,
          0.08737683711031544,
          -0.33133430972182576,
          -2.733316055785719,
          -0.6928824100740675,
          0.5250323944129693,
          -1.6067781687815792,
          -0.7287202006257252,
          -1.6918012487369385,
          0.3542738500682554,
          -0.1915179367997926,
          -0.29403482375669315,
          -1.4559887425614062,
          -0.45946662861286863,
          -1.0573702753899408,
          -0.13034922297969953,
          -1.5699117976686348,
          0.5481499873171011,
          -1.4685830306254732,
          -1.1806385665913264,
          -1.4156796963696252,
          1.3605077053581722,
          1.9811380136832317,
          -0.16316712319178428,
          -0.6983529403698392,
          1.1203194633607836,
          -0.378838594956958,
          2.0486437782810403,
          0.5192196076632097,
          -0.8777252263888996,
          -0.38206113714898843,
          0.012992185416119843,
          1.2929317353034275,
          0.3907851507983996,
          -1.3572897634254169,
          -0.870575384725658,
          -0.0027188992621641167,
          0.49670782282570086,
          -0.7091516270566384,
          -0.40752396773946536,
          0.5777273937905538,
          -0.028583879645875804,
          -0.686415398165249,
          -0.6632303830207483,
          0.3611285698868993,
          -1.4150766880023653,
          -0.5355969336730079,
          0.15148844935688743,
          1.4809758774301216,
          0.1341776189245072,
          2.039413314544158,
          -0.03243372323009276,
          0.022831173707126735,
          -0.841240189670404,
          -0.49541889751084567,
          0.8183400775505387,
          0.7488401406486337,
          -0.17193420847758445,
          -0.45187359053888715,
          -0.19881883509728254,
          -1.50152229425189,
          -0.35828183450124146,
          1.9630368930993207,
          1.1964489103975489,
          -0.1435270860047802,
          -0.3308275681612723,
          0.8659755734970961,
          -0.26379834794677504,
          -0.46684150154116616,
          0.4345934611912318,
          0.9143039934710501,
          -0.06561570356948355,
          -0.6767256650340361,
          -1.0259488290832,
          -0.2727313264750364,
          1.0195015218583527,
          -0.1125709709711396,
          -0.0992052156509772,
          -0.10038565402562996,
          1.182259921569917,
          0.6201037680164574,
          0.00065696719603261,
          0.4556208055782743,
          -0.9502790546247901,
          -1.0978368547782833,
          0.3992300601573083,
          0.3982763109978748,
          0.14618132688760946
         ],
         "yaxis": "y5"
        },
        {
         "histfunc": "count",
         "histnorm": "",
         "marker": {
          "color": "rgba(55, 128, 191, 1.0)",
          "line": {
           "color": "#4D5663",
           "width": 1.3
          }
         },
         "name": "B",
         "nbinsx": 10,
         "opacity": 0.8,
         "orientation": "v",
         "type": "histogram",
         "x": [
          -1.1027785660551868,
          0.29740020489597846,
          -0.43253294240382856,
          -1.1084269652229717,
          -1.6373655590184417,
          -1.0725117618110998,
          -1.9099100685608439,
          -2.0689122733051275,
          0.077918987078293,
          0.5024584203750352,
          -1.3926796764698834,
          0.3717509242747525,
          -0.8474458229363676,
          0.08737683711031544,
          -0.33133430972182576,
          -2.733316055785719,
          -0.6928824100740675,
          0.5250323944129693,
          -1.6067781687815792,
          -0.7287202006257252,
          -1.6918012487369385,
          0.3542738500682554,
          -0.1915179367997926,
          -0.29403482375669315,
          -1.4559887425614062,
          -0.45946662861286863,
          -1.0573702753899408,
          -0.13034922297969953,
          -1.5699117976686348,
          0.5481499873171011,
          -1.4685830306254732,
          -1.1806385665913264,
          -1.4156796963696252,
          1.3605077053581722,
          1.9811380136832317,
          -0.16316712319178428,
          -0.6983529403698392,
          1.1203194633607836,
          -0.378838594956958,
          2.0486437782810403,
          0.5192196076632097,
          -0.8777252263888996,
          -0.38206113714898843,
          0.012992185416119843,
          1.2929317353034275,
          0.3907851507983996,
          -1.3572897634254169,
          -0.870575384725658,
          -0.0027188992621641167,
          0.49670782282570086,
          -0.7091516270566384,
          -0.40752396773946536,
          0.5777273937905538,
          -0.028583879645875804,
          -0.686415398165249,
          -0.6632303830207483,
          0.3611285698868993,
          -1.4150766880023653,
          -0.5355969336730079,
          0.15148844935688743,
          1.4809758774301216,
          0.1341776189245072,
          2.039413314544158,
          -0.03243372323009276,
          0.022831173707126735,
          -0.841240189670404,
          -0.49541889751084567,
          0.8183400775505387,
          0.7488401406486337,
          -0.17193420847758445,
          -0.45187359053888715,
          -0.19881883509728254,
          -1.50152229425189,
          -0.35828183450124146,
          1.9630368930993207,
          1.1964489103975489,
          -0.1435270860047802,
          -0.3308275681612723,
          0.8659755734970961,
          -0.26379834794677504,
          -0.46684150154116616,
          0.4345934611912318,
          0.9143039934710501,
          -0.06561570356948355,
          -0.6767256650340361,
          -1.0259488290832,
          -0.2727313264750364,
          1.0195015218583527,
          -0.1125709709711396,
          -0.0992052156509772,
          -0.10038565402562996,
          1.182259921569917,
          0.6201037680164574,
          0.00065696719603261,
          0.4556208055782743,
          -0.9502790546247901,
          -1.0978368547782833,
          0.3992300601573083,
          0.3982763109978748,
          0.14618132688760946
         ],
         "xaxis": "x6",
         "yaxis": "y6"
        },
        {
         "line": {
          "color": "rgba(128, 128, 128, 1.0)",
          "dash": "solid",
          "shape": "linear",
          "width": 1.3
         },
         "marker": {
          "size": 2,
          "symbol": "circle"
         },
         "mode": "markers",
         "name": "B",
         "text": "",
         "type": "scatter",
         "x": [
          0.6305086408405335,
          0.2573929741581128,
          1.2002509871699105,
          1.8249813489097186,
          0.3918002396090246,
          2.045502634431302,
          -0.12255302335727361,
          -0.14328856625676092,
          -0.20748786540499695,
          -0.3064262606826834,
          -1.1379840810055082,
          0.1673648590728652,
          0.37699394164743627,
          -0.6962736680079707,
          -0.6586427335574921,
          1.026882387486378,
          -0.13961200892487075,
          0.13493393701558787,
          -0.21222692847029387,
          -0.629736224541587,
          1.4735661632735562,
          -1.0104870058846744,
          0.8366005276015587,
          -0.33702113005301576,
          0.39797885431417157,
          -0.16811043462184252,
          -0.6197407303272026,
          0.10336820541209946,
          0.9429313960623031,
          0.7907388100117877,
          -0.7702545298597853,
          1.8824678262475079,
          0.3764093764765518,
          -0.31741290339867323,
          -0.4080431921994537,
          0.8524436320243046,
          -0.8874432210963202,
          1.278318444357705,
          1.400387427082184,
          0.5164502436081181,
          0.5260515938763501,
          -1.516843418418446,
          -1.2296490295672757,
          -0.3030387528649891,
          -0.8673602866550375,
          1.2577169602465843,
          -0.17664278745729972,
          -0.8011024909016581,
          -1.2709067509118592,
          2.600574336866944,
          1.7026407853872678,
          1.188257856928726,
          1.470492384903625,
          -1.4246726210313863,
          -0.5822627018194775,
          0.37354771607816406,
          -0.5340206493997645,
          0.04376725425074439,
          -0.47645358851481984,
          1.5597252552643888,
          -1.2000497575023026,
          -0.6258442258992837,
          -0.793624442495925,
          0.1898625339161362,
          0.20876742846720092,
          1.3709461458575776,
          0.8634147134772215,
          -0.48704667145588254,
          -1.6763341999764252,
          0.645748787049174,
          -1.2776430496406737,
          0.8424179571291159,
          -1.8479145390147624,
          0.9343548341121494,
          -0.003951426835194898,
          0.570119633366993,
          -1.0825526928291904,
          -0.17270588345420862,
          1.4225521073363245,
          -0.9250108836454827,
          -0.5242086646505019,
          -0.9144328597996433,
          -0.9510490339648087,
          -0.5511617558446993,
          0.7727258199523624,
          2.1177556445538634,
          1.5414102237779639,
          0.10267936984726589,
          -0.5582221230138756,
          0.15764762924658451,
          -0.0043885162080275625,
          -1.3373114196927731,
          0.10633748756502394,
          -0.4647282500767246,
          -0.026345456157078864,
          0.138687004546556,
          0.012902495730874639,
          1.1639536789822604,
          -0.534311955025553,
          -0.5622879971904758
         ],
         "xaxis": "x7",
         "y": [
          -1.1027785660551868,
          0.29740020489597846,
          -0.43253294240382856,
          -1.1084269652229717,
          -1.6373655590184417,
          -1.0725117618110998,
          -1.9099100685608439,
          -2.0689122733051275,
          0.077918987078293,
          0.5024584203750352,
          -1.3926796764698834,
          0.3717509242747525,
          -0.8474458229363676,
          0.08737683711031544,
          -0.33133430972182576,
          -2.733316055785719,
          -0.6928824100740675,
          0.5250323944129693,
          -1.6067781687815792,
          -0.7287202006257252,
          -1.6918012487369385,
          0.3542738500682554,
          -0.1915179367997926,
          -0.29403482375669315,
          -1.4559887425614062,
          -0.45946662861286863,
          -1.0573702753899408,
          -0.13034922297969953,
          -1.5699117976686348,
          0.5481499873171011,
          -1.4685830306254732,
          -1.1806385665913264,
          -1.4156796963696252,
          1.3605077053581722,
          1.9811380136832317,
          -0.16316712319178428,
          -0.6983529403698392,
          1.1203194633607836,
          -0.378838594956958,
          2.0486437782810403,
          0.5192196076632097,
          -0.8777252263888996,
          -0.38206113714898843,
          0.012992185416119843,
          1.2929317353034275,
          0.3907851507983996,
          -1.3572897634254169,
          -0.870575384725658,
          -0.0027188992621641167,
          0.49670782282570086,
          -0.7091516270566384,
          -0.40752396773946536,
          0.5777273937905538,
          -0.028583879645875804,
          -0.686415398165249,
          -0.6632303830207483,
          0.3611285698868993,
          -1.4150766880023653,
          -0.5355969336730079,
          0.15148844935688743,
          1.4809758774301216,
          0.1341776189245072,
          2.039413314544158,
          -0.03243372323009276,
          0.022831173707126735,
          -0.841240189670404,
          -0.49541889751084567,
          0.8183400775505387,
          0.7488401406486337,
          -0.17193420847758445,
          -0.45187359053888715,
          -0.19881883509728254,
          -1.50152229425189,
          -0.35828183450124146,
          1.9630368930993207,
          1.1964489103975489,
          -0.1435270860047802,
          -0.3308275681612723,
          0.8659755734970961,
          -0.26379834794677504,
          -0.46684150154116616,
          0.4345934611912318,
          0.9143039934710501,
          -0.06561570356948355,
          -0.6767256650340361,
          -1.0259488290832,
          -0.2727313264750364,
          1.0195015218583527,
          -0.1125709709711396,
          -0.0992052156509772,
          -0.10038565402562996,
          1.182259921569917,
          0.6201037680164574,
          0.00065696719603261,
          0.4556208055782743,
          -0.9502790546247901,
          -1.0978368547782833,
          0.3992300601573083,
          0.3982763109978748,
          0.14618132688760946
         ],
         "yaxis": "y7"
        },
        {
         "line": {
          "color": "rgba(128, 128, 128, 1.0)",
          "dash": "solid",
          "shape": "linear",
          "width": 1.3
         },
         "marker": {
          "size": 2,
          "symbol": "circle"
         },
         "mode": "markers",
         "name": "B",
         "text": "",
         "type": "scatter",
         "x": [
          -0.9775540867952446,
          0.5125419768385915,
          -0.294908048965335,
          0.6561049172570194,
          -0.948655669014669,
          0.38826492530369056,
          -1.051515798800067,
          1.0916810700420954,
          -0.7698443127541724,
          -0.9044517115380162,
          0.30475023729635403,
          1.539858983273998,
          1.226919733553733,
          0.42749343772456005,
          0.04433626310293226,
          -1.943719051879809,
          1.2463238062234774,
          -1.2104794780278358,
          2.2434389335917615,
          -0.7046858778536157,
          -1.4554723150616735,
          1.0941988942748302,
          -0.02952503436206944,
          -0.33924093843015646,
          0.2044200372012253,
          0.2685291939229705,
          -1.5299696422235398,
          0.6581448336938301,
          0.39454019984961214,
          -0.29532382509339766,
          -0.7754927189028199,
          -0.7517249288087523,
          1.1662456581357885,
          0.47100641399697557,
          0.18091632997000087,
          -0.8680521122835154,
          0.34188638195693616,
          -0.6395572104363515,
          1.7607211883492682,
          -0.5427324119660141,
          0.6094134787515665,
          -0.3228406532113041,
          -1.240984117694116,
          0.9476958531796474,
          -1.566799508736097,
          -1.3693967159456835,
          -1.002806751796895,
          -0.6290596720219408,
          -0.9665578288157056,
          0.9840878963356897,
          -0.4843673241245268,
          1.0518601552732783,
          -1.1491433046014432,
          -0.6095902338712633,
          1.9231102218474039,
          0.9376082791295621,
          0.10526475977098643,
          0.4989098099237765,
          -0.5043174075431105,
          2.1408461247925024,
          0.1352941400065242,
          -0.27473495827988226,
          -0.2889957842311569,
          -0.03266538710690525,
          -0.0157904210532621,
          0.08899841220396364,
          -1.2285876409947754,
          1.9089716125433318,
          -0.672817717516103,
          -0.9991552089496202,
          0.7787563460737548,
          -0.012740471268385447,
          -2.479165537636401,
          1.40143034536203,
          -1.729474372047749,
          -0.21787372323390702,
          0.7980485729437748,
          0.3776094257046723,
          -0.4760637243601897,
          -2.3832051413841637,
          -1.7099159788344809,
          0.4827711017041606,
          0.8620357645975364,
          0.17453108335633685,
          0.7443925303551422,
          0.6903132193598274,
          -0.5627408036346566,
          -0.4518178996632333,
          -0.9368981301966262,
          0.05061874383989501,
          -0.6922640658095132,
          -0.5280750185783809,
          -1.2947751095368296,
          -0.870662429879271,
          -0.298108580253174,
          0.037387968557037854,
          -1.1207278026636471,
          -1.9113339857999854,
          -0.007295497555885252,
          0.9171993947582978
         ],
         "xaxis": "x8",
         "y": [
          -1.1027785660551868,
          0.29740020489597846,
          -0.43253294240382856,
          -1.1084269652229717,
          -1.6373655590184417,
          -1.0725117618110998,
          -1.9099100685608439,
          -2.0689122733051275,
          0.077918987078293,
          0.5024584203750352,
          -1.3926796764698834,
          0.3717509242747525,
          -0.8474458229363676,
          0.08737683711031544,
          -0.33133430972182576,
          -2.733316055785719,
          -0.6928824100740675,
          0.5250323944129693,
          -1.6067781687815792,
          -0.7287202006257252,
          -1.6918012487369385,
          0.3542738500682554,
          -0.1915179367997926,
          -0.29403482375669315,
          -1.4559887425614062,
          -0.45946662861286863,
          -1.0573702753899408,
          -0.13034922297969953,
          -1.5699117976686348,
          0.5481499873171011,
          -1.4685830306254732,
          -1.1806385665913264,
          -1.4156796963696252,
          1.3605077053581722,
          1.9811380136832317,
          -0.16316712319178428,
          -0.6983529403698392,
          1.1203194633607836,
          -0.378838594956958,
          2.0486437782810403,
          0.5192196076632097,
          -0.8777252263888996,
          -0.38206113714898843,
          0.012992185416119843,
          1.2929317353034275,
          0.3907851507983996,
          -1.3572897634254169,
          -0.870575384725658,
          -0.0027188992621641167,
          0.49670782282570086,
          -0.7091516270566384,
          -0.40752396773946536,
          0.5777273937905538,
          -0.028583879645875804,
          -0.686415398165249,
          -0.6632303830207483,
          0.3611285698868993,
          -1.4150766880023653,
          -0.5355969336730079,
          0.15148844935688743,
          1.4809758774301216,
          0.1341776189245072,
          2.039413314544158,
          -0.03243372323009276,
          0.022831173707126735,
          -0.841240189670404,
          -0.49541889751084567,
          0.8183400775505387,
          0.7488401406486337,
          -0.17193420847758445,
          -0.45187359053888715,
          -0.19881883509728254,
          -1.50152229425189,
          -0.35828183450124146,
          1.9630368930993207,
          1.1964489103975489,
          -0.1435270860047802,
          -0.3308275681612723,
          0.8659755734970961,
          -0.26379834794677504,
          -0.46684150154116616,
          0.4345934611912318,
          0.9143039934710501,
          -0.06561570356948355,
          -0.6767256650340361,
          -1.0259488290832,
          -0.2727313264750364,
          1.0195015218583527,
          -0.1125709709711396,
          -0.0992052156509772,
          -0.10038565402562996,
          1.182259921569917,
          0.6201037680164574,
          0.00065696719603261,
          0.4556208055782743,
          -0.9502790546247901,
          -1.0978368547782833,
          0.3992300601573083,
          0.3982763109978748,
          0.14618132688760946
         ],
         "yaxis": "y8"
        },
        {
         "line": {
          "color": "rgba(128, 128, 128, 1.0)",
          "dash": "solid",
          "shape": "linear",
          "width": 1.3
         },
         "marker": {
          "size": 2,
          "symbol": "circle"
         },
         "mode": "markers",
         "name": "C",
         "text": "",
         "type": "scatter",
         "x": [
          -0.3743792182439242,
          -1.6197326287777765,
          -1.6694241693284275,
          -0.8234720676448699,
          0.13693934194800925,
          -0.7786890259731041,
          1.2425205537238309,
          0.23661461195068445,
          0.4427518671054902,
          2.0602492413190627,
          0.17347553754917663,
          0.5272904974803029,
          1.0501036685459912,
          0.27964168711265713,
          -0.7272118486201753,
          -0.22172121217961174,
          -1.4066185696758435,
          0.14943198489384765,
          1.9432086736456875,
          2.5220657307651355,
          -1.575145667869044,
          2.106775558992982,
          0.10174098248546284,
          1.7396932489191501,
          2.074786533983352,
          -1.1987093179807613,
          -0.7165329207174465,
          2.606548254803393,
          -0.1731233457547235,
          1.0190282826591162,
          -0.8462404362171113,
          -0.013844020914462261,
          0.03325819160101085,
          1.7785315479135524,
          -0.845672667552957,
          1.2601128671438402,
          -1.8143044052327248,
          0.5970279618887205,
          -0.5769416532706793,
          -0.32364036863083556,
          0.03374636130467711,
          1.1262235526047673,
          -0.8835399735809639,
          0.06711967156865234,
          -1.4139271342518789,
          -0.6575777307138329,
          0.46229213676974534,
          1.0313703525873301,
          -0.493699775953662,
          0.7661403815389104,
          -0.17056924610476254,
          0.1903867851538594,
          -0.5971541790764131,
          1.241771128939705,
          -0.0983027365076231,
          0.09160084021308144,
          -1.9601710782173678,
          0.037315681418766455,
          0.8821219685238391,
          -0.7375779940391467,
          0.19254111855709474,
          0.6924571147549479,
          0.16154451786586277,
          -1.0727850115023716,
          -0.01649775264774975,
          -0.8049803974922969,
          -0.8398704184601684,
          0.8505246844046274,
          -0.5200062488807476,
          0.014739737631221722,
          0.12869943874606232,
          -1.392960388914175,
          0.20609619106358215,
          -0.10679886929113508,
          0.8973824818566172,
          -0.2730155117429203,
          0.7207158467228036,
          -0.43694692713810984,
          1.0219884648429,
          -0.108800476161582,
          1.165329073668084,
          -0.16302070112148123,
          0.5891703252134486,
          0.11281410046037657,
          0.4284575251522544,
          -1.9219006979808662,
          -0.6563995509383275,
          -1.43950547963843,
          -0.2762985778717633,
          3.010485863448667,
          -0.12036745273155926,
          -0.20020535022170713,
          0.31097193170068255,
          1.0109448623739885,
          -0.17848199577529572,
          0.2846917936792169,
          -0.6808365819892909,
          -1.0071421584201592,
          2.283632305623987,
          -2.1543573610817393
         ],
         "xaxis": "x9",
         "y": [
          0.6305086408405335,
          0.2573929741581128,
          1.2002509871699105,
          1.8249813489097186,
          0.3918002396090246,
          2.045502634431302,
          -0.12255302335727361,
          -0.14328856625676092,
          -0.20748786540499695,
          -0.3064262606826834,
          -1.1379840810055082,
          0.1673648590728652,
          0.37699394164743627,
          -0.6962736680079707,
          -0.6586427335574921,
          1.026882387486378,
          -0.13961200892487075,
          0.13493393701558787,
          -0.21222692847029387,
          -0.629736224541587,
          1.4735661632735562,
          -1.0104870058846744,
          0.8366005276015587,
          -0.33702113005301576,
          0.39797885431417157,
          -0.16811043462184252,
          -0.6197407303272026,
          0.10336820541209946,
          0.9429313960623031,
          0.7907388100117877,
          -0.7702545298597853,
          1.8824678262475079,
          0.3764093764765518,
          -0.31741290339867323,
          -0.4080431921994537,
          0.8524436320243046,
          -0.8874432210963202,
          1.278318444357705,
          1.400387427082184,
          0.5164502436081181,
          0.5260515938763501,
          -1.516843418418446,
          -1.2296490295672757,
          -0.3030387528649891,
          -0.8673602866550375,
          1.2577169602465843,
          -0.17664278745729972,
          -0.8011024909016581,
          -1.2709067509118592,
          2.600574336866944,
          1.7026407853872678,
          1.188257856928726,
          1.470492384903625,
          -1.4246726210313863,
          -0.5822627018194775,
          0.37354771607816406,
          -0.5340206493997645,
          0.04376725425074439,
          -0.47645358851481984,
          1.5597252552643888,
          -1.2000497575023026,
          -0.6258442258992837,
          -0.793624442495925,
          0.1898625339161362,
          0.20876742846720092,
          1.3709461458575776,
          0.8634147134772215,
          -0.48704667145588254,
          -1.6763341999764252,
          0.645748787049174,
          -1.2776430496406737,
          0.8424179571291159,
          -1.8479145390147624,
          0.9343548341121494,
          -0.003951426835194898,
          0.570119633366993,
          -1.0825526928291904,
          -0.17270588345420862,
          1.4225521073363245,
          -0.9250108836454827,
          -0.5242086646505019,
          -0.9144328597996433,
          -0.9510490339648087,
          -0.5511617558446993,
          0.7727258199523624,
          2.1177556445538634,
          1.5414102237779639,
          0.10267936984726589,
          -0.5582221230138756,
          0.15764762924658451,
          -0.0043885162080275625,
          -1.3373114196927731,
          0.10633748756502394,
          -0.4647282500767246,
          -0.026345456157078864,
          0.138687004546556,
          0.012902495730874639,
          1.1639536789822604,
          -0.534311955025553,
          -0.5622879971904758
         ],
         "yaxis": "y9"
        },
        {
         "line": {
          "color": "rgba(128, 128, 128, 1.0)",
          "dash": "solid",
          "shape": "linear",
          "width": 1.3
         },
         "marker": {
          "size": 2,
          "symbol": "circle"
         },
         "mode": "markers",
         "name": "C",
         "text": "",
         "type": "scatter",
         "x": [
          -1.1027785660551868,
          0.29740020489597846,
          -0.43253294240382856,
          -1.1084269652229717,
          -1.6373655590184417,
          -1.0725117618110998,
          -1.9099100685608439,
          -2.0689122733051275,
          0.077918987078293,
          0.5024584203750352,
          -1.3926796764698834,
          0.3717509242747525,
          -0.8474458229363676,
          0.08737683711031544,
          -0.33133430972182576,
          -2.733316055785719,
          -0.6928824100740675,
          0.5250323944129693,
          -1.6067781687815792,
          -0.7287202006257252,
          -1.6918012487369385,
          0.3542738500682554,
          -0.1915179367997926,
          -0.29403482375669315,
          -1.4559887425614062,
          -0.45946662861286863,
          -1.0573702753899408,
          -0.13034922297969953,
          -1.5699117976686348,
          0.5481499873171011,
          -1.4685830306254732,
          -1.1806385665913264,
          -1.4156796963696252,
          1.3605077053581722,
          1.9811380136832317,
          -0.16316712319178428,
          -0.6983529403698392,
          1.1203194633607836,
          -0.378838594956958,
          2.0486437782810403,
          0.5192196076632097,
          -0.8777252263888996,
          -0.38206113714898843,
          0.012992185416119843,
          1.2929317353034275,
          0.3907851507983996,
          -1.3572897634254169,
          -0.870575384725658,
          -0.0027188992621641167,
          0.49670782282570086,
          -0.7091516270566384,
          -0.40752396773946536,
          0.5777273937905538,
          -0.028583879645875804,
          -0.686415398165249,
          -0.6632303830207483,
          0.3611285698868993,
          -1.4150766880023653,
          -0.5355969336730079,
          0.15148844935688743,
          1.4809758774301216,
          0.1341776189245072,
          2.039413314544158,
          -0.03243372323009276,
          0.022831173707126735,
          -0.841240189670404,
          -0.49541889751084567,
          0.8183400775505387,
          0.7488401406486337,
          -0.17193420847758445,
          -0.45187359053888715,
          -0.19881883509728254,
          -1.50152229425189,
          -0.35828183450124146,
          1.9630368930993207,
          1.1964489103975489,
          -0.1435270860047802,
          -0.3308275681612723,
          0.8659755734970961,
          -0.26379834794677504,
          -0.46684150154116616,
          0.4345934611912318,
          0.9143039934710501,
          -0.06561570356948355,
          -0.6767256650340361,
          -1.0259488290832,
          -0.2727313264750364,
          1.0195015218583527,
          -0.1125709709711396,
          -0.0992052156509772,
          -0.10038565402562996,
          1.182259921569917,
          0.6201037680164574,
          0.00065696719603261,
          0.4556208055782743,
          -0.9502790546247901,
          -1.0978368547782833,
          0.3992300601573083,
          0.3982763109978748,
          0.14618132688760946
         ],
         "xaxis": "x10",
         "y": [
          0.6305086408405335,
          0.2573929741581128,
          1.2002509871699105,
          1.8249813489097186,
          0.3918002396090246,
          2.045502634431302,
          -0.12255302335727361,
          -0.14328856625676092,
          -0.20748786540499695,
          -0.3064262606826834,
          -1.1379840810055082,
          0.1673648590728652,
          0.37699394164743627,
          -0.6962736680079707,
          -0.6586427335574921,
          1.026882387486378,
          -0.13961200892487075,
          0.13493393701558787,
          -0.21222692847029387,
          -0.629736224541587,
          1.4735661632735562,
          -1.0104870058846744,
          0.8366005276015587,
          -0.33702113005301576,
          0.39797885431417157,
          -0.16811043462184252,
          -0.6197407303272026,
          0.10336820541209946,
          0.9429313960623031,
          0.7907388100117877,
          -0.7702545298597853,
          1.8824678262475079,
          0.3764093764765518,
          -0.31741290339867323,
          -0.4080431921994537,
          0.8524436320243046,
          -0.8874432210963202,
          1.278318444357705,
          1.400387427082184,
          0.5164502436081181,
          0.5260515938763501,
          -1.516843418418446,
          -1.2296490295672757,
          -0.3030387528649891,
          -0.8673602866550375,
          1.2577169602465843,
          -0.17664278745729972,
          -0.8011024909016581,
          -1.2709067509118592,
          2.600574336866944,
          1.7026407853872678,
          1.188257856928726,
          1.470492384903625,
          -1.4246726210313863,
          -0.5822627018194775,
          0.37354771607816406,
          -0.5340206493997645,
          0.04376725425074439,
          -0.47645358851481984,
          1.5597252552643888,
          -1.2000497575023026,
          -0.6258442258992837,
          -0.793624442495925,
          0.1898625339161362,
          0.20876742846720092,
          1.3709461458575776,
          0.8634147134772215,
          -0.48704667145588254,
          -1.6763341999764252,
          0.645748787049174,
          -1.2776430496406737,
          0.8424179571291159,
          -1.8479145390147624,
          0.9343548341121494,
          -0.003951426835194898,
          0.570119633366993,
          -1.0825526928291904,
          -0.17270588345420862,
          1.4225521073363245,
          -0.9250108836454827,
          -0.5242086646505019,
          -0.9144328597996433,
          -0.9510490339648087,
          -0.5511617558446993,
          0.7727258199523624,
          2.1177556445538634,
          1.5414102237779639,
          0.10267936984726589,
          -0.5582221230138756,
          0.15764762924658451,
          -0.0043885162080275625,
          -1.3373114196927731,
          0.10633748756502394,
          -0.4647282500767246,
          -0.026345456157078864,
          0.138687004546556,
          0.012902495730874639,
          1.1639536789822604,
          -0.534311955025553,
          -0.5622879971904758
         ],
         "yaxis": "y10"
        },
        {
         "histfunc": "count",
         "histnorm": "",
         "marker": {
          "color": "rgba(50, 171, 96, 1.0)",
          "line": {
           "color": "#4D5663",
           "width": 1.3
          }
         },
         "name": "C",
         "nbinsx": 10,
         "opacity": 0.8,
         "orientation": "v",
         "type": "histogram",
         "x": [
          0.6305086408405335,
          0.2573929741581128,
          1.2002509871699105,
          1.8249813489097186,
          0.3918002396090246,
          2.045502634431302,
          -0.12255302335727361,
          -0.14328856625676092,
          -0.20748786540499695,
          -0.3064262606826834,
          -1.1379840810055082,
          0.1673648590728652,
          0.37699394164743627,
          -0.6962736680079707,
          -0.6586427335574921,
          1.026882387486378,
          -0.13961200892487075,
          0.13493393701558787,
          -0.21222692847029387,
          -0.629736224541587,
          1.4735661632735562,
          -1.0104870058846744,
          0.8366005276015587,
          -0.33702113005301576,
          0.39797885431417157,
          -0.16811043462184252,
          -0.6197407303272026,
          0.10336820541209946,
          0.9429313960623031,
          0.7907388100117877,
          -0.7702545298597853,
          1.8824678262475079,
          0.3764093764765518,
          -0.31741290339867323,
          -0.4080431921994537,
          0.8524436320243046,
          -0.8874432210963202,
          1.278318444357705,
          1.400387427082184,
          0.5164502436081181,
          0.5260515938763501,
          -1.516843418418446,
          -1.2296490295672757,
          -0.3030387528649891,
          -0.8673602866550375,
          1.2577169602465843,
          -0.17664278745729972,
          -0.8011024909016581,
          -1.2709067509118592,
          2.600574336866944,
          1.7026407853872678,
          1.188257856928726,
          1.470492384903625,
          -1.4246726210313863,
          -0.5822627018194775,
          0.37354771607816406,
          -0.5340206493997645,
          0.04376725425074439,
          -0.47645358851481984,
          1.5597252552643888,
          -1.2000497575023026,
          -0.6258442258992837,
          -0.793624442495925,
          0.1898625339161362,
          0.20876742846720092,
          1.3709461458575776,
          0.8634147134772215,
          -0.48704667145588254,
          -1.6763341999764252,
          0.645748787049174,
          -1.2776430496406737,
          0.8424179571291159,
          -1.8479145390147624,
          0.9343548341121494,
          -0.003951426835194898,
          0.570119633366993,
          -1.0825526928291904,
          -0.17270588345420862,
          1.4225521073363245,
          -0.9250108836454827,
          -0.5242086646505019,
          -0.9144328597996433,
          -0.9510490339648087,
          -0.5511617558446993,
          0.7727258199523624,
          2.1177556445538634,
          1.5414102237779639,
          0.10267936984726589,
          -0.5582221230138756,
          0.15764762924658451,
          -0.0043885162080275625,
          -1.3373114196927731,
          0.10633748756502394,
          -0.4647282500767246,
          -0.026345456157078864,
          0.138687004546556,
          0.012902495730874639,
          1.1639536789822604,
          -0.534311955025553,
          -0.5622879971904758
         ],
         "xaxis": "x11",
         "yaxis": "y11"
        },
        {
         "line": {
          "color": "rgba(128, 128, 128, 1.0)",
          "dash": "solid",
          "shape": "linear",
          "width": 1.3
         },
         "marker": {
          "size": 2,
          "symbol": "circle"
         },
         "mode": "markers",
         "name": "C",
         "text": "",
         "type": "scatter",
         "x": [
          -0.9775540867952446,
          0.5125419768385915,
          -0.294908048965335,
          0.6561049172570194,
          -0.948655669014669,
          0.38826492530369056,
          -1.051515798800067,
          1.0916810700420954,
          -0.7698443127541724,
          -0.9044517115380162,
          0.30475023729635403,
          1.539858983273998,
          1.226919733553733,
          0.42749343772456005,
          0.04433626310293226,
          -1.943719051879809,
          1.2463238062234774,
          -1.2104794780278358,
          2.2434389335917615,
          -0.7046858778536157,
          -1.4554723150616735,
          1.0941988942748302,
          -0.02952503436206944,
          -0.33924093843015646,
          0.2044200372012253,
          0.2685291939229705,
          -1.5299696422235398,
          0.6581448336938301,
          0.39454019984961214,
          -0.29532382509339766,
          -0.7754927189028199,
          -0.7517249288087523,
          1.1662456581357885,
          0.47100641399697557,
          0.18091632997000087,
          -0.8680521122835154,
          0.34188638195693616,
          -0.6395572104363515,
          1.7607211883492682,
          -0.5427324119660141,
          0.6094134787515665,
          -0.3228406532113041,
          -1.240984117694116,
          0.9476958531796474,
          -1.566799508736097,
          -1.3693967159456835,
          -1.002806751796895,
          -0.6290596720219408,
          -0.9665578288157056,
          0.9840878963356897,
          -0.4843673241245268,
          1.0518601552732783,
          -1.1491433046014432,
          -0.6095902338712633,
          1.9231102218474039,
          0.9376082791295621,
          0.10526475977098643,
          0.4989098099237765,
          -0.5043174075431105,
          2.1408461247925024,
          0.1352941400065242,
          -0.27473495827988226,
          -0.2889957842311569,
          -0.03266538710690525,
          -0.0157904210532621,
          0.08899841220396364,
          -1.2285876409947754,
          1.9089716125433318,
          -0.672817717516103,
          -0.9991552089496202,
          0.7787563460737548,
          -0.012740471268385447,
          -2.479165537636401,
          1.40143034536203,
          -1.729474372047749,
          -0.21787372323390702,
          0.7980485729437748,
          0.3776094257046723,
          -0.4760637243601897,
          -2.3832051413841637,
          -1.7099159788344809,
          0.4827711017041606,
          0.8620357645975364,
          0.17453108335633685,
          0.7443925303551422,
          0.6903132193598274,
          -0.5627408036346566,
          -0.4518178996632333,
          -0.9368981301966262,
          0.05061874383989501,
          -0.6922640658095132,
          -0.5280750185783809,
          -1.2947751095368296,
          -0.870662429879271,
          -0.298108580253174,
          0.037387968557037854,
          -1.1207278026636471,
          -1.9113339857999854,
          -0.007295497555885252,
          0.9171993947582978
         ],
         "xaxis": "x12",
         "y": [
          0.6305086408405335,
          0.2573929741581128,
          1.2002509871699105,
          1.8249813489097186,
          0.3918002396090246,
          2.045502634431302,
          -0.12255302335727361,
          -0.14328856625676092,
          -0.20748786540499695,
          -0.3064262606826834,
          -1.1379840810055082,
          0.1673648590728652,
          0.37699394164743627,
          -0.6962736680079707,
          -0.6586427335574921,
          1.026882387486378,
          -0.13961200892487075,
          0.13493393701558787,
          -0.21222692847029387,
          -0.629736224541587,
          1.4735661632735562,
          -1.0104870058846744,
          0.8366005276015587,
          -0.33702113005301576,
          0.39797885431417157,
          -0.16811043462184252,
          -0.6197407303272026,
          0.10336820541209946,
          0.9429313960623031,
          0.7907388100117877,
          -0.7702545298597853,
          1.8824678262475079,
          0.3764093764765518,
          -0.31741290339867323,
          -0.4080431921994537,
          0.8524436320243046,
          -0.8874432210963202,
          1.278318444357705,
          1.400387427082184,
          0.5164502436081181,
          0.5260515938763501,
          -1.516843418418446,
          -1.2296490295672757,
          -0.3030387528649891,
          -0.8673602866550375,
          1.2577169602465843,
          -0.17664278745729972,
          -0.8011024909016581,
          -1.2709067509118592,
          2.600574336866944,
          1.7026407853872678,
          1.188257856928726,
          1.470492384903625,
          -1.4246726210313863,
          -0.5822627018194775,
          0.37354771607816406,
          -0.5340206493997645,
          0.04376725425074439,
          -0.47645358851481984,
          1.5597252552643888,
          -1.2000497575023026,
          -0.6258442258992837,
          -0.793624442495925,
          0.1898625339161362,
          0.20876742846720092,
          1.3709461458575776,
          0.8634147134772215,
          -0.48704667145588254,
          -1.6763341999764252,
          0.645748787049174,
          -1.2776430496406737,
          0.8424179571291159,
          -1.8479145390147624,
          0.9343548341121494,
          -0.003951426835194898,
          0.570119633366993,
          -1.0825526928291904,
          -0.17270588345420862,
          1.4225521073363245,
          -0.9250108836454827,
          -0.5242086646505019,
          -0.9144328597996433,
          -0.9510490339648087,
          -0.5511617558446993,
          0.7727258199523624,
          2.1177556445538634,
          1.5414102237779639,
          0.10267936984726589,
          -0.5582221230138756,
          0.15764762924658451,
          -0.0043885162080275625,
          -1.3373114196927731,
          0.10633748756502394,
          -0.4647282500767246,
          -0.026345456157078864,
          0.138687004546556,
          0.012902495730874639,
          1.1639536789822604,
          -0.534311955025553,
          -0.5622879971904758
         ],
         "yaxis": "y12"
        },
        {
         "line": {
          "color": "rgba(128, 128, 128, 1.0)",
          "dash": "solid",
          "shape": "linear",
          "width": 1.3
         },
         "marker": {
          "size": 2,
          "symbol": "circle"
         },
         "mode": "markers",
         "name": "D",
         "text": "",
         "type": "scatter",
         "x": [
          -0.3743792182439242,
          -1.6197326287777765,
          -1.6694241693284275,
          -0.8234720676448699,
          0.13693934194800925,
          -0.7786890259731041,
          1.2425205537238309,
          0.23661461195068445,
          0.4427518671054902,
          2.0602492413190627,
          0.17347553754917663,
          0.5272904974803029,
          1.0501036685459912,
          0.27964168711265713,
          -0.7272118486201753,
          -0.22172121217961174,
          -1.4066185696758435,
          0.14943198489384765,
          1.9432086736456875,
          2.5220657307651355,
          -1.575145667869044,
          2.106775558992982,
          0.10174098248546284,
          1.7396932489191501,
          2.074786533983352,
          -1.1987093179807613,
          -0.7165329207174465,
          2.606548254803393,
          -0.1731233457547235,
          1.0190282826591162,
          -0.8462404362171113,
          -0.013844020914462261,
          0.03325819160101085,
          1.7785315479135524,
          -0.845672667552957,
          1.2601128671438402,
          -1.8143044052327248,
          0.5970279618887205,
          -0.5769416532706793,
          -0.32364036863083556,
          0.03374636130467711,
          1.1262235526047673,
          -0.8835399735809639,
          0.06711967156865234,
          -1.4139271342518789,
          -0.6575777307138329,
          0.46229213676974534,
          1.0313703525873301,
          -0.493699775953662,
          0.7661403815389104,
          -0.17056924610476254,
          0.1903867851538594,
          -0.5971541790764131,
          1.241771128939705,
          -0.0983027365076231,
          0.09160084021308144,
          -1.9601710782173678,
          0.037315681418766455,
          0.8821219685238391,
          -0.7375779940391467,
          0.19254111855709474,
          0.6924571147549479,
          0.16154451786586277,
          -1.0727850115023716,
          -0.01649775264774975,
          -0.8049803974922969,
          -0.8398704184601684,
          0.8505246844046274,
          -0.5200062488807476,
          0.014739737631221722,
          0.12869943874606232,
          -1.392960388914175,
          0.20609619106358215,
          -0.10679886929113508,
          0.8973824818566172,
          -0.2730155117429203,
          0.7207158467228036,
          -0.43694692713810984,
          1.0219884648429,
          -0.108800476161582,
          1.165329073668084,
          -0.16302070112148123,
          0.5891703252134486,
          0.11281410046037657,
          0.4284575251522544,
          -1.9219006979808662,
          -0.6563995509383275,
          -1.43950547963843,
          -0.2762985778717633,
          3.010485863448667,
          -0.12036745273155926,
          -0.20020535022170713,
          0.31097193170068255,
          1.0109448623739885,
          -0.17848199577529572,
          0.2846917936792169,
          -0.6808365819892909,
          -1.0071421584201592,
          2.283632305623987,
          -2.1543573610817393
         ],
         "xaxis": "x13",
         "y": [
          -0.9775540867952446,
          0.5125419768385915,
          -0.294908048965335,
          0.6561049172570194,
          -0.948655669014669,
          0.38826492530369056,
          -1.051515798800067,
          1.0916810700420954,
          -0.7698443127541724,
          -0.9044517115380162,
          0.30475023729635403,
          1.539858983273998,
          1.226919733553733,
          0.42749343772456005,
          0.04433626310293226,
          -1.943719051879809,
          1.2463238062234774,
          -1.2104794780278358,
          2.2434389335917615,
          -0.7046858778536157,
          -1.4554723150616735,
          1.0941988942748302,
          -0.02952503436206944,
          -0.33924093843015646,
          0.2044200372012253,
          0.2685291939229705,
          -1.5299696422235398,
          0.6581448336938301,
          0.39454019984961214,
          -0.29532382509339766,
          -0.7754927189028199,
          -0.7517249288087523,
          1.1662456581357885,
          0.47100641399697557,
          0.18091632997000087,
          -0.8680521122835154,
          0.34188638195693616,
          -0.6395572104363515,
          1.7607211883492682,
          -0.5427324119660141,
          0.6094134787515665,
          -0.3228406532113041,
          -1.240984117694116,
          0.9476958531796474,
          -1.566799508736097,
          -1.3693967159456835,
          -1.002806751796895,
          -0.6290596720219408,
          -0.9665578288157056,
          0.9840878963356897,
          -0.4843673241245268,
          1.0518601552732783,
          -1.1491433046014432,
          -0.6095902338712633,
          1.9231102218474039,
          0.9376082791295621,
          0.10526475977098643,
          0.4989098099237765,
          -0.5043174075431105,
          2.1408461247925024,
          0.1352941400065242,
          -0.27473495827988226,
          -0.2889957842311569,
          -0.03266538710690525,
          -0.0157904210532621,
          0.08899841220396364,
          -1.2285876409947754,
          1.9089716125433318,
          -0.672817717516103,
          -0.9991552089496202,
          0.7787563460737548,
          -0.012740471268385447,
          -2.479165537636401,
          1.40143034536203,
          -1.729474372047749,
          -0.21787372323390702,
          0.7980485729437748,
          0.3776094257046723,
          -0.4760637243601897,
          -2.3832051413841637,
          -1.7099159788344809,
          0.4827711017041606,
          0.8620357645975364,
          0.17453108335633685,
          0.7443925303551422,
          0.6903132193598274,
          -0.5627408036346566,
          -0.4518178996632333,
          -0.9368981301966262,
          0.05061874383989501,
          -0.6922640658095132,
          -0.5280750185783809,
          -1.2947751095368296,
          -0.870662429879271,
          -0.298108580253174,
          0.037387968557037854,
          -1.1207278026636471,
          -1.9113339857999854,
          -0.007295497555885252,
          0.9171993947582978
         ],
         "yaxis": "y13"
        },
        {
         "line": {
          "color": "rgba(128, 128, 128, 1.0)",
          "dash": "solid",
          "shape": "linear",
          "width": 1.3
         },
         "marker": {
          "size": 2,
          "symbol": "circle"
         },
         "mode": "markers",
         "name": "D",
         "text": "",
         "type": "scatter",
         "x": [
          -1.1027785660551868,
          0.29740020489597846,
          -0.43253294240382856,
          -1.1084269652229717,
          -1.6373655590184417,
          -1.0725117618110998,
          -1.9099100685608439,
          -2.0689122733051275,
          0.077918987078293,
          0.5024584203750352,
          -1.3926796764698834,
          0.3717509242747525,
          -0.8474458229363676,
          0.08737683711031544,
          -0.33133430972182576,
          -2.733316055785719,
          -0.6928824100740675,
          0.5250323944129693,
          -1.6067781687815792,
          -0.7287202006257252,
          -1.6918012487369385,
          0.3542738500682554,
          -0.1915179367997926,
          -0.29403482375669315,
          -1.4559887425614062,
          -0.45946662861286863,
          -1.0573702753899408,
          -0.13034922297969953,
          -1.5699117976686348,
          0.5481499873171011,
          -1.4685830306254732,
          -1.1806385665913264,
          -1.4156796963696252,
          1.3605077053581722,
          1.9811380136832317,
          -0.16316712319178428,
          -0.6983529403698392,
          1.1203194633607836,
          -0.378838594956958,
          2.0486437782810403,
          0.5192196076632097,
          -0.8777252263888996,
          -0.38206113714898843,
          0.012992185416119843,
          1.2929317353034275,
          0.3907851507983996,
          -1.3572897634254169,
          -0.870575384725658,
          -0.0027188992621641167,
          0.49670782282570086,
          -0.7091516270566384,
          -0.40752396773946536,
          0.5777273937905538,
          -0.028583879645875804,
          -0.686415398165249,
          -0.6632303830207483,
          0.3611285698868993,
          -1.4150766880023653,
          -0.5355969336730079,
          0.15148844935688743,
          1.4809758774301216,
          0.1341776189245072,
          2.039413314544158,
          -0.03243372323009276,
          0.022831173707126735,
          -0.841240189670404,
          -0.49541889751084567,
          0.8183400775505387,
          0.7488401406486337,
          -0.17193420847758445,
          -0.45187359053888715,
          -0.19881883509728254,
          -1.50152229425189,
          -0.35828183450124146,
          1.9630368930993207,
          1.1964489103975489,
          -0.1435270860047802,
          -0.3308275681612723,
          0.8659755734970961,
          -0.26379834794677504,
          -0.46684150154116616,
          0.4345934611912318,
          0.9143039934710501,
          -0.06561570356948355,
          -0.6767256650340361,
          -1.0259488290832,
          -0.2727313264750364,
          1.0195015218583527,
          -0.1125709709711396,
          -0.0992052156509772,
          -0.10038565402562996,
          1.182259921569917,
          0.6201037680164574,
          0.00065696719603261,
          0.4556208055782743,
          -0.9502790546247901,
          -1.0978368547782833,
          0.3992300601573083,
          0.3982763109978748,
          0.14618132688760946
         ],
         "xaxis": "x14",
         "y": [
          -0.9775540867952446,
          0.5125419768385915,
          -0.294908048965335,
          0.6561049172570194,
          -0.948655669014669,
          0.38826492530369056,
          -1.051515798800067,
          1.0916810700420954,
          -0.7698443127541724,
          -0.9044517115380162,
          0.30475023729635403,
          1.539858983273998,
          1.226919733553733,
          0.42749343772456005,
          0.04433626310293226,
          -1.943719051879809,
          1.2463238062234774,
          -1.2104794780278358,
          2.2434389335917615,
          -0.7046858778536157,
          -1.4554723150616735,
          1.0941988942748302,
          -0.02952503436206944,
          -0.33924093843015646,
          0.2044200372012253,
          0.2685291939229705,
          -1.5299696422235398,
          0.6581448336938301,
          0.39454019984961214,
          -0.29532382509339766,
          -0.7754927189028199,
          -0.7517249288087523,
          1.1662456581357885,
          0.47100641399697557,
          0.18091632997000087,
          -0.8680521122835154,
          0.34188638195693616,
          -0.6395572104363515,
          1.7607211883492682,
          -0.5427324119660141,
          0.6094134787515665,
          -0.3228406532113041,
          -1.240984117694116,
          0.9476958531796474,
          -1.566799508736097,
          -1.3693967159456835,
          -1.002806751796895,
          -0.6290596720219408,
          -0.9665578288157056,
          0.9840878963356897,
          -0.4843673241245268,
          1.0518601552732783,
          -1.1491433046014432,
          -0.6095902338712633,
          1.9231102218474039,
          0.9376082791295621,
          0.10526475977098643,
          0.4989098099237765,
          -0.5043174075431105,
          2.1408461247925024,
          0.1352941400065242,
          -0.27473495827988226,
          -0.2889957842311569,
          -0.03266538710690525,
          -0.0157904210532621,
          0.08899841220396364,
          -1.2285876409947754,
          1.9089716125433318,
          -0.672817717516103,
          -0.9991552089496202,
          0.7787563460737548,
          -0.012740471268385447,
          -2.479165537636401,
          1.40143034536203,
          -1.729474372047749,
          -0.21787372323390702,
          0.7980485729437748,
          0.3776094257046723,
          -0.4760637243601897,
          -2.3832051413841637,
          -1.7099159788344809,
          0.4827711017041606,
          0.8620357645975364,
          0.17453108335633685,
          0.7443925303551422,
          0.6903132193598274,
          -0.5627408036346566,
          -0.4518178996632333,
          -0.9368981301966262,
          0.05061874383989501,
          -0.6922640658095132,
          -0.5280750185783809,
          -1.2947751095368296,
          -0.870662429879271,
          -0.298108580253174,
          0.037387968557037854,
          -1.1207278026636471,
          -1.9113339857999854,
          -0.007295497555885252,
          0.9171993947582978
         ],
         "yaxis": "y14"
        },
        {
         "line": {
          "color": "rgba(128, 128, 128, 1.0)",
          "dash": "solid",
          "shape": "linear",
          "width": 1.3
         },
         "marker": {
          "size": 2,
          "symbol": "circle"
         },
         "mode": "markers",
         "name": "D",
         "text": "",
         "type": "scatter",
         "x": [
          0.6305086408405335,
          0.2573929741581128,
          1.2002509871699105,
          1.8249813489097186,
          0.3918002396090246,
          2.045502634431302,
          -0.12255302335727361,
          -0.14328856625676092,
          -0.20748786540499695,
          -0.3064262606826834,
          -1.1379840810055082,
          0.1673648590728652,
          0.37699394164743627,
          -0.6962736680079707,
          -0.6586427335574921,
          1.026882387486378,
          -0.13961200892487075,
          0.13493393701558787,
          -0.21222692847029387,
          -0.629736224541587,
          1.4735661632735562,
          -1.0104870058846744,
          0.8366005276015587,
          -0.33702113005301576,
          0.39797885431417157,
          -0.16811043462184252,
          -0.6197407303272026,
          0.10336820541209946,
          0.9429313960623031,
          0.7907388100117877,
          -0.7702545298597853,
          1.8824678262475079,
          0.3764093764765518,
          -0.31741290339867323,
          -0.4080431921994537,
          0.8524436320243046,
          -0.8874432210963202,
          1.278318444357705,
          1.400387427082184,
          0.5164502436081181,
          0.5260515938763501,
          -1.516843418418446,
          -1.2296490295672757,
          -0.3030387528649891,
          -0.8673602866550375,
          1.2577169602465843,
          -0.17664278745729972,
          -0.8011024909016581,
          -1.2709067509118592,
          2.600574336866944,
          1.7026407853872678,
          1.188257856928726,
          1.470492384903625,
          -1.4246726210313863,
          -0.5822627018194775,
          0.37354771607816406,
          -0.5340206493997645,
          0.04376725425074439,
          -0.47645358851481984,
          1.5597252552643888,
          -1.2000497575023026,
          -0.6258442258992837,
          -0.793624442495925,
          0.1898625339161362,
          0.20876742846720092,
          1.3709461458575776,
          0.8634147134772215,
          -0.48704667145588254,
          -1.6763341999764252,
          0.645748787049174,
          -1.2776430496406737,
          0.8424179571291159,
          -1.8479145390147624,
          0.9343548341121494,
          -0.003951426835194898,
          0.570119633366993,
          -1.0825526928291904,
          -0.17270588345420862,
          1.4225521073363245,
          -0.9250108836454827,
          -0.5242086646505019,
          -0.9144328597996433,
          -0.9510490339648087,
          -0.5511617558446993,
          0.7727258199523624,
          2.1177556445538634,
          1.5414102237779639,
          0.10267936984726589,
          -0.5582221230138756,
          0.15764762924658451,
          -0.0043885162080275625,
          -1.3373114196927731,
          0.10633748756502394,
          -0.4647282500767246,
          -0.026345456157078864,
          0.138687004546556,
          0.012902495730874639,
          1.1639536789822604,
          -0.534311955025553,
          -0.5622879971904758
         ],
         "xaxis": "x15",
         "y": [
          -0.9775540867952446,
          0.5125419768385915,
          -0.294908048965335,
          0.6561049172570194,
          -0.948655669014669,
          0.38826492530369056,
          -1.051515798800067,
          1.0916810700420954,
          -0.7698443127541724,
          -0.9044517115380162,
          0.30475023729635403,
          1.539858983273998,
          1.226919733553733,
          0.42749343772456005,
          0.04433626310293226,
          -1.943719051879809,
          1.2463238062234774,
          -1.2104794780278358,
          2.2434389335917615,
          -0.7046858778536157,
          -1.4554723150616735,
          1.0941988942748302,
          -0.02952503436206944,
          -0.33924093843015646,
          0.2044200372012253,
          0.2685291939229705,
          -1.5299696422235398,
          0.6581448336938301,
          0.39454019984961214,
          -0.29532382509339766,
          -0.7754927189028199,
          -0.7517249288087523,
          1.1662456581357885,
          0.47100641399697557,
          0.18091632997000087,
          -0.8680521122835154,
          0.34188638195693616,
          -0.6395572104363515,
          1.7607211883492682,
          -0.5427324119660141,
          0.6094134787515665,
          -0.3228406532113041,
          -1.240984117694116,
          0.9476958531796474,
          -1.566799508736097,
          -1.3693967159456835,
          -1.002806751796895,
          -0.6290596720219408,
          -0.9665578288157056,
          0.9840878963356897,
          -0.4843673241245268,
          1.0518601552732783,
          -1.1491433046014432,
          -0.6095902338712633,
          1.9231102218474039,
          0.9376082791295621,
          0.10526475977098643,
          0.4989098099237765,
          -0.5043174075431105,
          2.1408461247925024,
          0.1352941400065242,
          -0.27473495827988226,
          -0.2889957842311569,
          -0.03266538710690525,
          -0.0157904210532621,
          0.08899841220396364,
          -1.2285876409947754,
          1.9089716125433318,
          -0.672817717516103,
          -0.9991552089496202,
          0.7787563460737548,
          -0.012740471268385447,
          -2.479165537636401,
          1.40143034536203,
          -1.729474372047749,
          -0.21787372323390702,
          0.7980485729437748,
          0.3776094257046723,
          -0.4760637243601897,
          -2.3832051413841637,
          -1.7099159788344809,
          0.4827711017041606,
          0.8620357645975364,
          0.17453108335633685,
          0.7443925303551422,
          0.6903132193598274,
          -0.5627408036346566,
          -0.4518178996632333,
          -0.9368981301966262,
          0.05061874383989501,
          -0.6922640658095132,
          -0.5280750185783809,
          -1.2947751095368296,
          -0.870662429879271,
          -0.298108580253174,
          0.037387968557037854,
          -1.1207278026636471,
          -1.9113339857999854,
          -0.007295497555885252,
          0.9171993947582978
         ],
         "yaxis": "y15"
        },
        {
         "histfunc": "count",
         "histnorm": "",
         "marker": {
          "color": "rgba(128, 0, 128, 1.0)",
          "line": {
           "color": "#4D5663",
           "width": 1.3
          }
         },
         "name": "D",
         "nbinsx": 10,
         "opacity": 0.8,
         "orientation": "v",
         "type": "histogram",
         "x": [
          -0.9775540867952446,
          0.5125419768385915,
          -0.294908048965335,
          0.6561049172570194,
          -0.948655669014669,
          0.38826492530369056,
          -1.051515798800067,
          1.0916810700420954,
          -0.7698443127541724,
          -0.9044517115380162,
          0.30475023729635403,
          1.539858983273998,
          1.226919733553733,
          0.42749343772456005,
          0.04433626310293226,
          -1.943719051879809,
          1.2463238062234774,
          -1.2104794780278358,
          2.2434389335917615,
          -0.7046858778536157,
          -1.4554723150616735,
          1.0941988942748302,
          -0.02952503436206944,
          -0.33924093843015646,
          0.2044200372012253,
          0.2685291939229705,
          -1.5299696422235398,
          0.6581448336938301,
          0.39454019984961214,
          -0.29532382509339766,
          -0.7754927189028199,
          -0.7517249288087523,
          1.1662456581357885,
          0.47100641399697557,
          0.18091632997000087,
          -0.8680521122835154,
          0.34188638195693616,
          -0.6395572104363515,
          1.7607211883492682,
          -0.5427324119660141,
          0.6094134787515665,
          -0.3228406532113041,
          -1.240984117694116,
          0.9476958531796474,
          -1.566799508736097,
          -1.3693967159456835,
          -1.002806751796895,
          -0.6290596720219408,
          -0.9665578288157056,
          0.9840878963356897,
          -0.4843673241245268,
          1.0518601552732783,
          -1.1491433046014432,
          -0.6095902338712633,
          1.9231102218474039,
          0.9376082791295621,
          0.10526475977098643,
          0.4989098099237765,
          -0.5043174075431105,
          2.1408461247925024,
          0.1352941400065242,
          -0.27473495827988226,
          -0.2889957842311569,
          -0.03266538710690525,
          -0.0157904210532621,
          0.08899841220396364,
          -1.2285876409947754,
          1.9089716125433318,
          -0.672817717516103,
          -0.9991552089496202,
          0.7787563460737548,
          -0.012740471268385447,
          -2.479165537636401,
          1.40143034536203,
          -1.729474372047749,
          -0.21787372323390702,
          0.7980485729437748,
          0.3776094257046723,
          -0.4760637243601897,
          -2.3832051413841637,
          -1.7099159788344809,
          0.4827711017041606,
          0.8620357645975364,
          0.17453108335633685,
          0.7443925303551422,
          0.6903132193598274,
          -0.5627408036346566,
          -0.4518178996632333,
          -0.9368981301966262,
          0.05061874383989501,
          -0.6922640658095132,
          -0.5280750185783809,
          -1.2947751095368296,
          -0.870662429879271,
          -0.298108580253174,
          0.037387968557037854,
          -1.1207278026636471,
          -1.9113339857999854,
          -0.007295497555885252,
          0.9171993947582978
         ],
         "xaxis": "x16",
         "yaxis": "y16"
        }
       ],
       "layout": {
        "bargap": 0.02,
        "legend": {
         "bgcolor": "#F5F6F9",
         "font": {
          "color": "#4D5663"
         }
        },
        "paper_bgcolor": "#F5F6F9",
        "plot_bgcolor": "#F5F6F9",
        "showlegend": false,
        "template": {
         "data": {
          "bar": [
           {
            "error_x": {
             "color": "#2a3f5f"
            },
            "error_y": {
             "color": "#2a3f5f"
            },
            "marker": {
             "line": {
              "color": "#E5ECF6",
              "width": 0.5
             }
            },
            "type": "bar"
           }
          ],
          "barpolar": [
           {
            "marker": {
             "line": {
              "color": "#E5ECF6",
              "width": 0.5
             }
            },
            "type": "barpolar"
           }
          ],
          "carpet": [
           {
            "aaxis": {
             "endlinecolor": "#2a3f5f",
             "gridcolor": "white",
             "linecolor": "white",
             "minorgridcolor": "white",
             "startlinecolor": "#2a3f5f"
            },
            "baxis": {
             "endlinecolor": "#2a3f5f",
             "gridcolor": "white",
             "linecolor": "white",
             "minorgridcolor": "white",
             "startlinecolor": "#2a3f5f"
            },
            "type": "carpet"
           }
          ],
          "choropleth": [
           {
            "colorbar": {
             "outlinewidth": 0,
             "ticks": ""
            },
            "type": "choropleth"
           }
          ],
          "contour": [
           {
            "colorbar": {
             "outlinewidth": 0,
             "ticks": ""
            },
            "colorscale": [
             [
              0,
              "#0d0887"
             ],
             [
              0.1111111111111111,
              "#46039f"
             ],
             [
              0.2222222222222222,
              "#7201a8"
             ],
             [
              0.3333333333333333,
              "#9c179e"
             ],
             [
              0.4444444444444444,
              "#bd3786"
             ],
             [
              0.5555555555555556,
              "#d8576b"
             ],
             [
              0.6666666666666666,
              "#ed7953"
             ],
             [
              0.7777777777777778,
              "#fb9f3a"
             ],
             [
              0.8888888888888888,
              "#fdca26"
             ],
             [
              1,
              "#f0f921"
             ]
            ],
            "type": "contour"
           }
          ],
          "contourcarpet": [
           {
            "colorbar": {
             "outlinewidth": 0,
             "ticks": ""
            },
            "type": "contourcarpet"
           }
          ],
          "heatmap": [
           {
            "colorbar": {
             "outlinewidth": 0,
             "ticks": ""
            },
            "colorscale": [
             [
              0,
              "#0d0887"
             ],
             [
              0.1111111111111111,
              "#46039f"
             ],
             [
              0.2222222222222222,
              "#7201a8"
             ],
             [
              0.3333333333333333,
              "#9c179e"
             ],
             [
              0.4444444444444444,
              "#bd3786"
             ],
             [
              0.5555555555555556,
              "#d8576b"
             ],
             [
              0.6666666666666666,
              "#ed7953"
             ],
             [
              0.7777777777777778,
              "#fb9f3a"
             ],
             [
              0.8888888888888888,
              "#fdca26"
             ],
             [
              1,
              "#f0f921"
             ]
            ],
            "type": "heatmap"
           }
          ],
          "heatmapgl": [
           {
            "colorbar": {
             "outlinewidth": 0,
             "ticks": ""
            },
            "colorscale": [
             [
              0,
              "#0d0887"
             ],
             [
              0.1111111111111111,
              "#46039f"
             ],
             [
              0.2222222222222222,
              "#7201a8"
             ],
             [
              0.3333333333333333,
              "#9c179e"
             ],
             [
              0.4444444444444444,
              "#bd3786"
             ],
             [
              0.5555555555555556,
              "#d8576b"
             ],
             [
              0.6666666666666666,
              "#ed7953"
             ],
             [
              0.7777777777777778,
              "#fb9f3a"
             ],
             [
              0.8888888888888888,
              "#fdca26"
             ],
             [
              1,
              "#f0f921"
             ]
            ],
            "type": "heatmapgl"
           }
          ],
          "histogram": [
           {
            "marker": {
             "colorbar": {
              "outlinewidth": 0,
              "ticks": ""
             }
            },
            "type": "histogram"
           }
          ],
          "histogram2d": [
           {
            "colorbar": {
             "outlinewidth": 0,
             "ticks": ""
            },
            "colorscale": [
             [
              0,
              "#0d0887"
             ],
             [
              0.1111111111111111,
              "#46039f"
             ],
             [
              0.2222222222222222,
              "#7201a8"
             ],
             [
              0.3333333333333333,
              "#9c179e"
             ],
             [
              0.4444444444444444,
              "#bd3786"
             ],
             [
              0.5555555555555556,
              "#d8576b"
             ],
             [
              0.6666666666666666,
              "#ed7953"
             ],
             [
              0.7777777777777778,
              "#fb9f3a"
             ],
             [
              0.8888888888888888,
              "#fdca26"
             ],
             [
              1,
              "#f0f921"
             ]
            ],
            "type": "histogram2d"
           }
          ],
          "histogram2dcontour": [
           {
            "colorbar": {
             "outlinewidth": 0,
             "ticks": ""
            },
            "colorscale": [
             [
              0,
              "#0d0887"
             ],
             [
              0.1111111111111111,
              "#46039f"
             ],
             [
              0.2222222222222222,
              "#7201a8"
             ],
             [
              0.3333333333333333,
              "#9c179e"
             ],
             [
              0.4444444444444444,
              "#bd3786"
             ],
             [
              0.5555555555555556,
              "#d8576b"
             ],
             [
              0.6666666666666666,
              "#ed7953"
             ],
             [
              0.7777777777777778,
              "#fb9f3a"
             ],
             [
              0.8888888888888888,
              "#fdca26"
             ],
             [
              1,
              "#f0f921"
             ]
            ],
            "type": "histogram2dcontour"
           }
          ],
          "mesh3d": [
           {
            "colorbar": {
             "outlinewidth": 0,
             "ticks": ""
            },
            "type": "mesh3d"
           }
          ],
          "parcoords": [
           {
            "line": {
             "colorbar": {
              "outlinewidth": 0,
              "ticks": ""
             }
            },
            "type": "parcoords"
           }
          ],
          "pie": [
           {
            "automargin": true,
            "type": "pie"
           }
          ],
          "scatter": [
           {
            "marker": {
             "colorbar": {
              "outlinewidth": 0,
              "ticks": ""
             }
            },
            "type": "scatter"
           }
          ],
          "scatter3d": [
           {
            "line": {
             "colorbar": {
              "outlinewidth": 0,
              "ticks": ""
             }
            },
            "marker": {
             "colorbar": {
              "outlinewidth": 0,
              "ticks": ""
             }
            },
            "type": "scatter3d"
           }
          ],
          "scattercarpet": [
           {
            "marker": {
             "colorbar": {
              "outlinewidth": 0,
              "ticks": ""
             }
            },
            "type": "scattercarpet"
           }
          ],
          "scattergeo": [
           {
            "marker": {
             "colorbar": {
              "outlinewidth": 0,
              "ticks": ""
             }
            },
            "type": "scattergeo"
           }
          ],
          "scattergl": [
           {
            "marker": {
             "colorbar": {
              "outlinewidth": 0,
              "ticks": ""
             }
            },
            "type": "scattergl"
           }
          ],
          "scattermapbox": [
           {
            "marker": {
             "colorbar": {
              "outlinewidth": 0,
              "ticks": ""
             }
            },
            "type": "scattermapbox"
           }
          ],
          "scatterpolar": [
           {
            "marker": {
             "colorbar": {
              "outlinewidth": 0,
              "ticks": ""
             }
            },
            "type": "scatterpolar"
           }
          ],
          "scatterpolargl": [
           {
            "marker": {
             "colorbar": {
              "outlinewidth": 0,
              "ticks": ""
             }
            },
            "type": "scatterpolargl"
           }
          ],
          "scatterternary": [
           {
            "marker": {
             "colorbar": {
              "outlinewidth": 0,
              "ticks": ""
             }
            },
            "type": "scatterternary"
           }
          ],
          "surface": [
           {
            "colorbar": {
             "outlinewidth": 0,
             "ticks": ""
            },
            "colorscale": [
             [
              0,
              "#0d0887"
             ],
             [
              0.1111111111111111,
              "#46039f"
             ],
             [
              0.2222222222222222,
              "#7201a8"
             ],
             [
              0.3333333333333333,
              "#9c179e"
             ],
             [
              0.4444444444444444,
              "#bd3786"
             ],
             [
              0.5555555555555556,
              "#d8576b"
             ],
             [
              0.6666666666666666,
              "#ed7953"
             ],
             [
              0.7777777777777778,
              "#fb9f3a"
             ],
             [
              0.8888888888888888,
              "#fdca26"
             ],
             [
              1,
              "#f0f921"
             ]
            ],
            "type": "surface"
           }
          ],
          "table": [
           {
            "cells": {
             "fill": {
              "color": "#EBF0F8"
             },
             "line": {
              "color": "white"
             }
            },
            "header": {
             "fill": {
              "color": "#C8D4E3"
             },
             "line": {
              "color": "white"
             }
            },
            "type": "table"
           }
          ]
         },
         "layout": {
          "annotationdefaults": {
           "arrowcolor": "#2a3f5f",
           "arrowhead": 0,
           "arrowwidth": 1
          },
          "autotypenumbers": "strict",
          "coloraxis": {
           "colorbar": {
            "outlinewidth": 0,
            "ticks": ""
           }
          },
          "colorscale": {
           "diverging": [
            [
             0,
             "#8e0152"
            ],
            [
             0.1,
             "#c51b7d"
            ],
            [
             0.2,
             "#de77ae"
            ],
            [
             0.3,
             "#f1b6da"
            ],
            [
             0.4,
             "#fde0ef"
            ],
            [
             0.5,
             "#f7f7f7"
            ],
            [
             0.6,
             "#e6f5d0"
            ],
            [
             0.7,
             "#b8e186"
            ],
            [
             0.8,
             "#7fbc41"
            ],
            [
             0.9,
             "#4d9221"
            ],
            [
             1,
             "#276419"
            ]
           ],
           "sequential": [
            [
             0,
             "#0d0887"
            ],
            [
             0.1111111111111111,
             "#46039f"
            ],
            [
             0.2222222222222222,
             "#7201a8"
            ],
            [
             0.3333333333333333,
             "#9c179e"
            ],
            [
             0.4444444444444444,
             "#bd3786"
            ],
            [
             0.5555555555555556,
             "#d8576b"
            ],
            [
             0.6666666666666666,
             "#ed7953"
            ],
            [
             0.7777777777777778,
             "#fb9f3a"
            ],
            [
             0.8888888888888888,
             "#fdca26"
            ],
            [
             1,
             "#f0f921"
            ]
           ],
           "sequentialminus": [
            [
             0,
             "#0d0887"
            ],
            [
             0.1111111111111111,
             "#46039f"
            ],
            [
             0.2222222222222222,
             "#7201a8"
            ],
            [
             0.3333333333333333,
             "#9c179e"
            ],
            [
             0.4444444444444444,
             "#bd3786"
            ],
            [
             0.5555555555555556,
             "#d8576b"
            ],
            [
             0.6666666666666666,
             "#ed7953"
            ],
            [
             0.7777777777777778,
             "#fb9f3a"
            ],
            [
             0.8888888888888888,
             "#fdca26"
            ],
            [
             1,
             "#f0f921"
            ]
           ]
          },
          "colorway": [
           "#636efa",
           "#EF553B",
           "#00cc96",
           "#ab63fa",
           "#FFA15A",
           "#19d3f3",
           "#FF6692",
           "#B6E880",
           "#FF97FF",
           "#FECB52"
          ],
          "font": {
           "color": "#2a3f5f"
          },
          "geo": {
           "bgcolor": "white",
           "lakecolor": "white",
           "landcolor": "#E5ECF6",
           "showlakes": true,
           "showland": true,
           "subunitcolor": "white"
          },
          "hoverlabel": {
           "align": "left"
          },
          "hovermode": "closest",
          "mapbox": {
           "style": "light"
          },
          "paper_bgcolor": "white",
          "plot_bgcolor": "#E5ECF6",
          "polar": {
           "angularaxis": {
            "gridcolor": "white",
            "linecolor": "white",
            "ticks": ""
           },
           "bgcolor": "#E5ECF6",
           "radialaxis": {
            "gridcolor": "white",
            "linecolor": "white",
            "ticks": ""
           }
          },
          "scene": {
           "xaxis": {
            "backgroundcolor": "#E5ECF6",
            "gridcolor": "white",
            "gridwidth": 2,
            "linecolor": "white",
            "showbackground": true,
            "ticks": "",
            "zerolinecolor": "white"
           },
           "yaxis": {
            "backgroundcolor": "#E5ECF6",
            "gridcolor": "white",
            "gridwidth": 2,
            "linecolor": "white",
            "showbackground": true,
            "ticks": "",
            "zerolinecolor": "white"
           },
           "zaxis": {
            "backgroundcolor": "#E5ECF6",
            "gridcolor": "white",
            "gridwidth": 2,
            "linecolor": "white",
            "showbackground": true,
            "ticks": "",
            "zerolinecolor": "white"
           }
          },
          "shapedefaults": {
           "line": {
            "color": "#2a3f5f"
           }
          },
          "ternary": {
           "aaxis": {
            "gridcolor": "white",
            "linecolor": "white",
            "ticks": ""
           },
           "baxis": {
            "gridcolor": "white",
            "linecolor": "white",
            "ticks": ""
           },
           "bgcolor": "#E5ECF6",
           "caxis": {
            "gridcolor": "white",
            "linecolor": "white",
            "ticks": ""
           }
          },
          "title": {
           "x": 0.05
          },
          "xaxis": {
           "automargin": true,
           "gridcolor": "white",
           "linecolor": "white",
           "ticks": "",
           "title": {
            "standoff": 15
           },
           "zerolinecolor": "white",
           "zerolinewidth": 2
          },
          "yaxis": {
           "automargin": true,
           "gridcolor": "white",
           "linecolor": "white",
           "ticks": "",
           "title": {
            "standoff": 15
           },
           "zerolinecolor": "white",
           "zerolinewidth": 2
          }
         }
        },
        "title": {
         "font": {
          "color": "#4D5663"
         }
        },
        "xaxis": {
         "anchor": "y",
         "domain": [
          0,
          0.2125
         ],
         "gridcolor": "#E1E5ED",
         "showgrid": false,
         "tickfont": {
          "color": "#4D5663"
         },
         "title": {
          "font": {
           "color": "#4D5663"
          },
          "text": ""
         },
         "zerolinecolor": "#E1E5ED"
        },
        "xaxis10": {
         "anchor": "y10",
         "domain": [
          0.2625,
          0.475
         ],
         "gridcolor": "#E1E5ED",
         "showgrid": false,
         "tickfont": {
          "color": "#4D5663"
         },
         "title": {
          "font": {
           "color": "#4D5663"
          },
          "text": ""
         },
         "zerolinecolor": "#E1E5ED"
        },
        "xaxis11": {
         "anchor": "y11",
         "domain": [
          0.525,
          0.7375
         ],
         "gridcolor": "#E1E5ED",
         "showgrid": false,
         "tickfont": {
          "color": "#4D5663"
         },
         "title": {
          "font": {
           "color": "#4D5663"
          },
          "text": ""
         },
         "zerolinecolor": "#E1E5ED"
        },
        "xaxis12": {
         "anchor": "y12",
         "domain": [
          0.7875,
          1
         ],
         "gridcolor": "#E1E5ED",
         "showgrid": false,
         "tickfont": {
          "color": "#4D5663"
         },
         "title": {
          "font": {
           "color": "#4D5663"
          },
          "text": ""
         },
         "zerolinecolor": "#E1E5ED"
        },
        "xaxis13": {
         "anchor": "y13",
         "domain": [
          0,
          0.2125
         ],
         "gridcolor": "#E1E5ED",
         "showgrid": false,
         "tickfont": {
          "color": "#4D5663"
         },
         "title": {
          "font": {
           "color": "#4D5663"
          },
          "text": ""
         },
         "zerolinecolor": "#E1E5ED"
        },
        "xaxis14": {
         "anchor": "y14",
         "domain": [
          0.2625,
          0.475
         ],
         "gridcolor": "#E1E5ED",
         "showgrid": false,
         "tickfont": {
          "color": "#4D5663"
         },
         "title": {
          "font": {
           "color": "#4D5663"
          },
          "text": ""
         },
         "zerolinecolor": "#E1E5ED"
        },
        "xaxis15": {
         "anchor": "y15",
         "domain": [
          0.525,
          0.7375
         ],
         "gridcolor": "#E1E5ED",
         "showgrid": false,
         "tickfont": {
          "color": "#4D5663"
         },
         "title": {
          "font": {
           "color": "#4D5663"
          },
          "text": ""
         },
         "zerolinecolor": "#E1E5ED"
        },
        "xaxis16": {
         "anchor": "y16",
         "domain": [
          0.7875,
          1
         ],
         "gridcolor": "#E1E5ED",
         "showgrid": false,
         "tickfont": {
          "color": "#4D5663"
         },
         "title": {
          "font": {
           "color": "#4D5663"
          },
          "text": ""
         },
         "zerolinecolor": "#E1E5ED"
        },
        "xaxis2": {
         "anchor": "y2",
         "domain": [
          0.2625,
          0.475
         ],
         "gridcolor": "#E1E5ED",
         "showgrid": false,
         "tickfont": {
          "color": "#4D5663"
         },
         "title": {
          "font": {
           "color": "#4D5663"
          },
          "text": ""
         },
         "zerolinecolor": "#E1E5ED"
        },
        "xaxis3": {
         "anchor": "y3",
         "domain": [
          0.525,
          0.7375
         ],
         "gridcolor": "#E1E5ED",
         "showgrid": false,
         "tickfont": {
          "color": "#4D5663"
         },
         "title": {
          "font": {
           "color": "#4D5663"
          },
          "text": ""
         },
         "zerolinecolor": "#E1E5ED"
        },
        "xaxis4": {
         "anchor": "y4",
         "domain": [
          0.7875,
          1
         ],
         "gridcolor": "#E1E5ED",
         "showgrid": false,
         "tickfont": {
          "color": "#4D5663"
         },
         "title": {
          "font": {
           "color": "#4D5663"
          },
          "text": ""
         },
         "zerolinecolor": "#E1E5ED"
        },
        "xaxis5": {
         "anchor": "y5",
         "domain": [
          0,
          0.2125
         ],
         "gridcolor": "#E1E5ED",
         "showgrid": false,
         "tickfont": {
          "color": "#4D5663"
         },
         "title": {
          "font": {
           "color": "#4D5663"
          },
          "text": ""
         },
         "zerolinecolor": "#E1E5ED"
        },
        "xaxis6": {
         "anchor": "y6",
         "domain": [
          0.2625,
          0.475
         ],
         "gridcolor": "#E1E5ED",
         "showgrid": false,
         "tickfont": {
          "color": "#4D5663"
         },
         "title": {
          "font": {
           "color": "#4D5663"
          },
          "text": ""
         },
         "zerolinecolor": "#E1E5ED"
        },
        "xaxis7": {
         "anchor": "y7",
         "domain": [
          0.525,
          0.7375
         ],
         "gridcolor": "#E1E5ED",
         "showgrid": false,
         "tickfont": {
          "color": "#4D5663"
         },
         "title": {
          "font": {
           "color": "#4D5663"
          },
          "text": ""
         },
         "zerolinecolor": "#E1E5ED"
        },
        "xaxis8": {
         "anchor": "y8",
         "domain": [
          0.7875,
          1
         ],
         "gridcolor": "#E1E5ED",
         "showgrid": false,
         "tickfont": {
          "color": "#4D5663"
         },
         "title": {
          "font": {
           "color": "#4D5663"
          },
          "text": ""
         },
         "zerolinecolor": "#E1E5ED"
        },
        "xaxis9": {
         "anchor": "y9",
         "domain": [
          0,
          0.2125
         ],
         "gridcolor": "#E1E5ED",
         "showgrid": false,
         "tickfont": {
          "color": "#4D5663"
         },
         "title": {
          "font": {
           "color": "#4D5663"
          },
          "text": ""
         },
         "zerolinecolor": "#E1E5ED"
        },
        "yaxis": {
         "anchor": "x",
         "domain": [
          0.8025,
          1
         ],
         "gridcolor": "#E1E5ED",
         "showgrid": false,
         "tickfont": {
          "color": "#4D5663"
         },
         "title": {
          "font": {
           "color": "#4D5663"
          },
          "text": ""
         },
         "zerolinecolor": "#E1E5ED"
        },
        "yaxis10": {
         "anchor": "x10",
         "domain": [
          0.2675,
          0.465
         ],
         "gridcolor": "#E1E5ED",
         "showgrid": false,
         "tickfont": {
          "color": "#4D5663"
         },
         "title": {
          "font": {
           "color": "#4D5663"
          },
          "text": ""
         },
         "zerolinecolor": "#E1E5ED"
        },
        "yaxis11": {
         "anchor": "x11",
         "domain": [
          0.2675,
          0.465
         ],
         "gridcolor": "#E1E5ED",
         "showgrid": false,
         "tickfont": {
          "color": "#4D5663"
         },
         "title": {
          "font": {
           "color": "#4D5663"
          },
          "text": ""
         },
         "zerolinecolor": "#E1E5ED"
        },
        "yaxis12": {
         "anchor": "x12",
         "domain": [
          0.2675,
          0.465
         ],
         "gridcolor": "#E1E5ED",
         "showgrid": false,
         "tickfont": {
          "color": "#4D5663"
         },
         "title": {
          "font": {
           "color": "#4D5663"
          },
          "text": ""
         },
         "zerolinecolor": "#E1E5ED"
        },
        "yaxis13": {
         "anchor": "x13",
         "domain": [
          0,
          0.1975
         ],
         "gridcolor": "#E1E5ED",
         "showgrid": false,
         "tickfont": {
          "color": "#4D5663"
         },
         "title": {
          "font": {
           "color": "#4D5663"
          },
          "text": ""
         },
         "zerolinecolor": "#E1E5ED"
        },
        "yaxis14": {
         "anchor": "x14",
         "domain": [
          0,
          0.1975
         ],
         "gridcolor": "#E1E5ED",
         "showgrid": false,
         "tickfont": {
          "color": "#4D5663"
         },
         "title": {
          "font": {
           "color": "#4D5663"
          },
          "text": ""
         },
         "zerolinecolor": "#E1E5ED"
        },
        "yaxis15": {
         "anchor": "x15",
         "domain": [
          0,
          0.1975
         ],
         "gridcolor": "#E1E5ED",
         "showgrid": false,
         "tickfont": {
          "color": "#4D5663"
         },
         "title": {
          "font": {
           "color": "#4D5663"
          },
          "text": ""
         },
         "zerolinecolor": "#E1E5ED"
        },
        "yaxis16": {
         "anchor": "x16",
         "domain": [
          0,
          0.1975
         ],
         "gridcolor": "#E1E5ED",
         "showgrid": false,
         "tickfont": {
          "color": "#4D5663"
         },
         "title": {
          "font": {
           "color": "#4D5663"
          },
          "text": ""
         },
         "zerolinecolor": "#E1E5ED"
        },
        "yaxis2": {
         "anchor": "x2",
         "domain": [
          0.8025,
          1
         ],
         "gridcolor": "#E1E5ED",
         "showgrid": false,
         "tickfont": {
          "color": "#4D5663"
         },
         "title": {
          "font": {
           "color": "#4D5663"
          },
          "text": ""
         },
         "zerolinecolor": "#E1E5ED"
        },
        "yaxis3": {
         "anchor": "x3",
         "domain": [
          0.8025,
          1
         ],
         "gridcolor": "#E1E5ED",
         "showgrid": false,
         "tickfont": {
          "color": "#4D5663"
         },
         "title": {
          "font": {
           "color": "#4D5663"
          },
          "text": ""
         },
         "zerolinecolor": "#E1E5ED"
        },
        "yaxis4": {
         "anchor": "x4",
         "domain": [
          0.8025,
          1
         ],
         "gridcolor": "#E1E5ED",
         "showgrid": false,
         "tickfont": {
          "color": "#4D5663"
         },
         "title": {
          "font": {
           "color": "#4D5663"
          },
          "text": ""
         },
         "zerolinecolor": "#E1E5ED"
        },
        "yaxis5": {
         "anchor": "x5",
         "domain": [
          0.535,
          0.7325
         ],
         "gridcolor": "#E1E5ED",
         "showgrid": false,
         "tickfont": {
          "color": "#4D5663"
         },
         "title": {
          "font": {
           "color": "#4D5663"
          },
          "text": ""
         },
         "zerolinecolor": "#E1E5ED"
        },
        "yaxis6": {
         "anchor": "x6",
         "domain": [
          0.535,
          0.7325
         ],
         "gridcolor": "#E1E5ED",
         "showgrid": false,
         "tickfont": {
          "color": "#4D5663"
         },
         "title": {
          "font": {
           "color": "#4D5663"
          },
          "text": ""
         },
         "zerolinecolor": "#E1E5ED"
        },
        "yaxis7": {
         "anchor": "x7",
         "domain": [
          0.535,
          0.7325
         ],
         "gridcolor": "#E1E5ED",
         "showgrid": false,
         "tickfont": {
          "color": "#4D5663"
         },
         "title": {
          "font": {
           "color": "#4D5663"
          },
          "text": ""
         },
         "zerolinecolor": "#E1E5ED"
        },
        "yaxis8": {
         "anchor": "x8",
         "domain": [
          0.535,
          0.7325
         ],
         "gridcolor": "#E1E5ED",
         "showgrid": false,
         "tickfont": {
          "color": "#4D5663"
         },
         "title": {
          "font": {
           "color": "#4D5663"
          },
          "text": ""
         },
         "zerolinecolor": "#E1E5ED"
        },
        "yaxis9": {
         "anchor": "x9",
         "domain": [
          0.2675,
          0.465
         ],
         "gridcolor": "#E1E5ED",
         "showgrid": false,
         "tickfont": {
          "color": "#4D5663"
         },
         "title": {
          "font": {
           "color": "#4D5663"
          },
          "text": ""
         },
         "zerolinecolor": "#E1E5ED"
        }
       }
      },
      "text/html": [
       "<div>                            <div id=\"b0e3ba6e-ec67-4ecc-b5b7-bd34b65b10f2\" class=\"plotly-graph-div\" style=\"height:525px; width:100%;\"></div>            <script type=\"text/javascript\">                require([\"plotly\"], function(Plotly) {                    window.PLOTLYENV=window.PLOTLYENV || {};\n",
       "                    window.PLOTLYENV.BASE_URL='https://plot.ly';                                    if (document.getElementById(\"b0e3ba6e-ec67-4ecc-b5b7-bd34b65b10f2\")) {                    Plotly.newPlot(                        \"b0e3ba6e-ec67-4ecc-b5b7-bd34b65b10f2\",                        [{\"histfunc\": \"count\", \"histnorm\": \"\", \"marker\": {\"color\": \"rgba(255, 153, 51, 1.0)\", \"line\": {\"color\": \"#4D5663\", \"width\": 1.3}}, \"name\": \"A\", \"nbinsx\": 10, \"opacity\": 0.8, \"orientation\": \"v\", \"type\": \"histogram\", \"x\": [-0.3743792182439242, -1.6197326287777765, -1.6694241693284275, -0.8234720676448699, 0.13693934194800925, -0.7786890259731041, 1.2425205537238309, 0.23661461195068445, 0.4427518671054902, 2.0602492413190627, 0.17347553754917663, 0.5272904974803029, 1.0501036685459912, 0.27964168711265713, -0.7272118486201753, -0.22172121217961174, -1.4066185696758435, 0.14943198489384765, 1.9432086736456875, 2.5220657307651355, -1.575145667869044, 2.106775558992982, 0.10174098248546284, 1.7396932489191501, 2.074786533983352, -1.1987093179807613, -0.7165329207174465, 2.606548254803393, -0.1731233457547235, 1.0190282826591162, -0.8462404362171113, -0.013844020914462261, 0.03325819160101085, 1.7785315479135524, -0.845672667552957, 1.2601128671438402, -1.8143044052327248, 0.5970279618887205, -0.5769416532706793, -0.32364036863083556, 0.03374636130467711, 1.1262235526047673, -0.8835399735809639, 0.06711967156865234, -1.4139271342518789, -0.6575777307138329, 0.46229213676974534, 1.0313703525873301, -0.493699775953662, 0.7661403815389104, -0.17056924610476254, 0.1903867851538594, -0.5971541790764131, 1.241771128939705, -0.0983027365076231, 0.09160084021308144, -1.9601710782173678, 0.037315681418766455, 0.8821219685238391, -0.7375779940391467, 0.19254111855709474, 0.6924571147549479, 0.16154451786586277, -1.0727850115023716, -0.01649775264774975, -0.8049803974922969, -0.8398704184601684, 0.8505246844046274, -0.5200062488807476, 0.014739737631221722, 0.12869943874606232, -1.392960388914175, 0.20609619106358215, -0.10679886929113508, 0.8973824818566172, -0.2730155117429203, 0.7207158467228036, -0.43694692713810984, 1.0219884648429, -0.108800476161582, 1.165329073668084, -0.16302070112148123, 0.5891703252134486, 0.11281410046037657, 0.4284575251522544, -1.9219006979808662, -0.6563995509383275, -1.43950547963843, -0.2762985778717633, 3.010485863448667, -0.12036745273155926, -0.20020535022170713, 0.31097193170068255, 1.0109448623739885, -0.17848199577529572, 0.2846917936792169, -0.6808365819892909, -1.0071421584201592, 2.283632305623987, -2.1543573610817393], \"xaxis\": \"x\", \"yaxis\": \"y\"}, {\"line\": {\"color\": \"rgba(128, 128, 128, 1.0)\", \"dash\": \"solid\", \"shape\": \"linear\", \"width\": 1.3}, \"marker\": {\"size\": 2, \"symbol\": \"circle\"}, \"mode\": \"markers\", \"name\": \"A\", \"text\": \"\", \"type\": \"scatter\", \"x\": [-1.1027785660551868, 0.29740020489597846, -0.43253294240382856, -1.1084269652229717, -1.6373655590184417, -1.0725117618110998, -1.9099100685608439, -2.0689122733051275, 0.077918987078293, 0.5024584203750352, -1.3926796764698834, 0.3717509242747525, -0.8474458229363676, 0.08737683711031544, -0.33133430972182576, -2.733316055785719, -0.6928824100740675, 0.5250323944129693, -1.6067781687815792, -0.7287202006257252, -1.6918012487369385, 0.3542738500682554, -0.1915179367997926, -0.29403482375669315, -1.4559887425614062, -0.45946662861286863, -1.0573702753899408, -0.13034922297969953, -1.5699117976686348, 0.5481499873171011, -1.4685830306254732, -1.1806385665913264, -1.4156796963696252, 1.3605077053581722, 1.9811380136832317, -0.16316712319178428, -0.6983529403698392, 1.1203194633607836, -0.378838594956958, 2.0486437782810403, 0.5192196076632097, -0.8777252263888996, -0.38206113714898843, 0.012992185416119843, 1.2929317353034275, 0.3907851507983996, -1.3572897634254169, -0.870575384725658, -0.0027188992621641167, 0.49670782282570086, -0.7091516270566384, -0.40752396773946536, 0.5777273937905538, -0.028583879645875804, -0.686415398165249, -0.6632303830207483, 0.3611285698868993, -1.4150766880023653, -0.5355969336730079, 0.15148844935688743, 1.4809758774301216, 0.1341776189245072, 2.039413314544158, -0.03243372323009276, 0.022831173707126735, -0.841240189670404, -0.49541889751084567, 0.8183400775505387, 0.7488401406486337, -0.17193420847758445, -0.45187359053888715, -0.19881883509728254, -1.50152229425189, -0.35828183450124146, 1.9630368930993207, 1.1964489103975489, -0.1435270860047802, -0.3308275681612723, 0.8659755734970961, -0.26379834794677504, -0.46684150154116616, 0.4345934611912318, 0.9143039934710501, -0.06561570356948355, -0.6767256650340361, -1.0259488290832, -0.2727313264750364, 1.0195015218583527, -0.1125709709711396, -0.0992052156509772, -0.10038565402562996, 1.182259921569917, 0.6201037680164574, 0.00065696719603261, 0.4556208055782743, -0.9502790546247901, -1.0978368547782833, 0.3992300601573083, 0.3982763109978748, 0.14618132688760946], \"xaxis\": \"x2\", \"y\": [-0.3743792182439242, -1.6197326287777765, -1.6694241693284275, -0.8234720676448699, 0.13693934194800925, -0.7786890259731041, 1.2425205537238309, 0.23661461195068445, 0.4427518671054902, 2.0602492413190627, 0.17347553754917663, 0.5272904974803029, 1.0501036685459912, 0.27964168711265713, -0.7272118486201753, -0.22172121217961174, -1.4066185696758435, 0.14943198489384765, 1.9432086736456875, 2.5220657307651355, -1.575145667869044, 2.106775558992982, 0.10174098248546284, 1.7396932489191501, 2.074786533983352, -1.1987093179807613, -0.7165329207174465, 2.606548254803393, -0.1731233457547235, 1.0190282826591162, -0.8462404362171113, -0.013844020914462261, 0.03325819160101085, 1.7785315479135524, -0.845672667552957, 1.2601128671438402, -1.8143044052327248, 0.5970279618887205, -0.5769416532706793, -0.32364036863083556, 0.03374636130467711, 1.1262235526047673, -0.8835399735809639, 0.06711967156865234, -1.4139271342518789, -0.6575777307138329, 0.46229213676974534, 1.0313703525873301, -0.493699775953662, 0.7661403815389104, -0.17056924610476254, 0.1903867851538594, -0.5971541790764131, 1.241771128939705, -0.0983027365076231, 0.09160084021308144, -1.9601710782173678, 0.037315681418766455, 0.8821219685238391, -0.7375779940391467, 0.19254111855709474, 0.6924571147549479, 0.16154451786586277, -1.0727850115023716, -0.01649775264774975, -0.8049803974922969, -0.8398704184601684, 0.8505246844046274, -0.5200062488807476, 0.014739737631221722, 0.12869943874606232, -1.392960388914175, 0.20609619106358215, -0.10679886929113508, 0.8973824818566172, -0.2730155117429203, 0.7207158467228036, -0.43694692713810984, 1.0219884648429, -0.108800476161582, 1.165329073668084, -0.16302070112148123, 0.5891703252134486, 0.11281410046037657, 0.4284575251522544, -1.9219006979808662, -0.6563995509383275, -1.43950547963843, -0.2762985778717633, 3.010485863448667, -0.12036745273155926, -0.20020535022170713, 0.31097193170068255, 1.0109448623739885, -0.17848199577529572, 0.2846917936792169, -0.6808365819892909, -1.0071421584201592, 2.283632305623987, -2.1543573610817393], \"yaxis\": \"y2\"}, {\"line\": {\"color\": \"rgba(128, 128, 128, 1.0)\", \"dash\": \"solid\", \"shape\": \"linear\", \"width\": 1.3}, \"marker\": {\"size\": 2, \"symbol\": \"circle\"}, \"mode\": \"markers\", \"name\": \"A\", \"text\": \"\", \"type\": \"scatter\", \"x\": [0.6305086408405335, 0.2573929741581128, 1.2002509871699105, 1.8249813489097186, 0.3918002396090246, 2.045502634431302, -0.12255302335727361, -0.14328856625676092, -0.20748786540499695, -0.3064262606826834, -1.1379840810055082, 0.1673648590728652, 0.37699394164743627, -0.6962736680079707, -0.6586427335574921, 1.026882387486378, -0.13961200892487075, 0.13493393701558787, -0.21222692847029387, -0.629736224541587, 1.4735661632735562, -1.0104870058846744, 0.8366005276015587, -0.33702113005301576, 0.39797885431417157, -0.16811043462184252, -0.6197407303272026, 0.10336820541209946, 0.9429313960623031, 0.7907388100117877, -0.7702545298597853, 1.8824678262475079, 0.3764093764765518, -0.31741290339867323, -0.4080431921994537, 0.8524436320243046, -0.8874432210963202, 1.278318444357705, 1.400387427082184, 0.5164502436081181, 0.5260515938763501, -1.516843418418446, -1.2296490295672757, -0.3030387528649891, -0.8673602866550375, 1.2577169602465843, -0.17664278745729972, -0.8011024909016581, -1.2709067509118592, 2.600574336866944, 1.7026407853872678, 1.188257856928726, 1.470492384903625, -1.4246726210313863, -0.5822627018194775, 0.37354771607816406, -0.5340206493997645, 0.04376725425074439, -0.47645358851481984, 1.5597252552643888, -1.2000497575023026, -0.6258442258992837, -0.793624442495925, 0.1898625339161362, 0.20876742846720092, 1.3709461458575776, 0.8634147134772215, -0.48704667145588254, -1.6763341999764252, 0.645748787049174, -1.2776430496406737, 0.8424179571291159, -1.8479145390147624, 0.9343548341121494, -0.003951426835194898, 0.570119633366993, -1.0825526928291904, -0.17270588345420862, 1.4225521073363245, -0.9250108836454827, -0.5242086646505019, -0.9144328597996433, -0.9510490339648087, -0.5511617558446993, 0.7727258199523624, 2.1177556445538634, 1.5414102237779639, 0.10267936984726589, -0.5582221230138756, 0.15764762924658451, -0.0043885162080275625, -1.3373114196927731, 0.10633748756502394, -0.4647282500767246, -0.026345456157078864, 0.138687004546556, 0.012902495730874639, 1.1639536789822604, -0.534311955025553, -0.5622879971904758], \"xaxis\": \"x3\", \"y\": [-0.3743792182439242, -1.6197326287777765, -1.6694241693284275, -0.8234720676448699, 0.13693934194800925, -0.7786890259731041, 1.2425205537238309, 0.23661461195068445, 0.4427518671054902, 2.0602492413190627, 0.17347553754917663, 0.5272904974803029, 1.0501036685459912, 0.27964168711265713, -0.7272118486201753, -0.22172121217961174, -1.4066185696758435, 0.14943198489384765, 1.9432086736456875, 2.5220657307651355, -1.575145667869044, 2.106775558992982, 0.10174098248546284, 1.7396932489191501, 2.074786533983352, -1.1987093179807613, -0.7165329207174465, 2.606548254803393, -0.1731233457547235, 1.0190282826591162, -0.8462404362171113, -0.013844020914462261, 0.03325819160101085, 1.7785315479135524, -0.845672667552957, 1.2601128671438402, -1.8143044052327248, 0.5970279618887205, -0.5769416532706793, -0.32364036863083556, 0.03374636130467711, 1.1262235526047673, -0.8835399735809639, 0.06711967156865234, -1.4139271342518789, -0.6575777307138329, 0.46229213676974534, 1.0313703525873301, -0.493699775953662, 0.7661403815389104, -0.17056924610476254, 0.1903867851538594, -0.5971541790764131, 1.241771128939705, -0.0983027365076231, 0.09160084021308144, -1.9601710782173678, 0.037315681418766455, 0.8821219685238391, -0.7375779940391467, 0.19254111855709474, 0.6924571147549479, 0.16154451786586277, -1.0727850115023716, -0.01649775264774975, -0.8049803974922969, -0.8398704184601684, 0.8505246844046274, -0.5200062488807476, 0.014739737631221722, 0.12869943874606232, -1.392960388914175, 0.20609619106358215, -0.10679886929113508, 0.8973824818566172, -0.2730155117429203, 0.7207158467228036, -0.43694692713810984, 1.0219884648429, -0.108800476161582, 1.165329073668084, -0.16302070112148123, 0.5891703252134486, 0.11281410046037657, 0.4284575251522544, -1.9219006979808662, -0.6563995509383275, -1.43950547963843, -0.2762985778717633, 3.010485863448667, -0.12036745273155926, -0.20020535022170713, 0.31097193170068255, 1.0109448623739885, -0.17848199577529572, 0.2846917936792169, -0.6808365819892909, -1.0071421584201592, 2.283632305623987, -2.1543573610817393], \"yaxis\": \"y3\"}, {\"line\": {\"color\": \"rgba(128, 128, 128, 1.0)\", \"dash\": \"solid\", \"shape\": \"linear\", \"width\": 1.3}, \"marker\": {\"size\": 2, \"symbol\": \"circle\"}, \"mode\": \"markers\", \"name\": \"A\", \"text\": \"\", \"type\": \"scatter\", \"x\": [-0.9775540867952446, 0.5125419768385915, -0.294908048965335, 0.6561049172570194, -0.948655669014669, 0.38826492530369056, -1.051515798800067, 1.0916810700420954, -0.7698443127541724, -0.9044517115380162, 0.30475023729635403, 1.539858983273998, 1.226919733553733, 0.42749343772456005, 0.04433626310293226, -1.943719051879809, 1.2463238062234774, -1.2104794780278358, 2.2434389335917615, -0.7046858778536157, -1.4554723150616735, 1.0941988942748302, -0.02952503436206944, -0.33924093843015646, 0.2044200372012253, 0.2685291939229705, -1.5299696422235398, 0.6581448336938301, 0.39454019984961214, -0.29532382509339766, -0.7754927189028199, -0.7517249288087523, 1.1662456581357885, 0.47100641399697557, 0.18091632997000087, -0.8680521122835154, 0.34188638195693616, -0.6395572104363515, 1.7607211883492682, -0.5427324119660141, 0.6094134787515665, -0.3228406532113041, -1.240984117694116, 0.9476958531796474, -1.566799508736097, -1.3693967159456835, -1.002806751796895, -0.6290596720219408, -0.9665578288157056, 0.9840878963356897, -0.4843673241245268, 1.0518601552732783, -1.1491433046014432, -0.6095902338712633, 1.9231102218474039, 0.9376082791295621, 0.10526475977098643, 0.4989098099237765, -0.5043174075431105, 2.1408461247925024, 0.1352941400065242, -0.27473495827988226, -0.2889957842311569, -0.03266538710690525, -0.0157904210532621, 0.08899841220396364, -1.2285876409947754, 1.9089716125433318, -0.672817717516103, -0.9991552089496202, 0.7787563460737548, -0.012740471268385447, -2.479165537636401, 1.40143034536203, -1.729474372047749, -0.21787372323390702, 0.7980485729437748, 0.3776094257046723, -0.4760637243601897, -2.3832051413841637, -1.7099159788344809, 0.4827711017041606, 0.8620357645975364, 0.17453108335633685, 0.7443925303551422, 0.6903132193598274, -0.5627408036346566, -0.4518178996632333, -0.9368981301966262, 0.05061874383989501, -0.6922640658095132, -0.5280750185783809, -1.2947751095368296, -0.870662429879271, -0.298108580253174, 0.037387968557037854, -1.1207278026636471, -1.9113339857999854, -0.007295497555885252, 0.9171993947582978], \"xaxis\": \"x4\", \"y\": [-0.3743792182439242, -1.6197326287777765, -1.6694241693284275, -0.8234720676448699, 0.13693934194800925, -0.7786890259731041, 1.2425205537238309, 0.23661461195068445, 0.4427518671054902, 2.0602492413190627, 0.17347553754917663, 0.5272904974803029, 1.0501036685459912, 0.27964168711265713, -0.7272118486201753, -0.22172121217961174, -1.4066185696758435, 0.14943198489384765, 1.9432086736456875, 2.5220657307651355, -1.575145667869044, 2.106775558992982, 0.10174098248546284, 1.7396932489191501, 2.074786533983352, -1.1987093179807613, -0.7165329207174465, 2.606548254803393, -0.1731233457547235, 1.0190282826591162, -0.8462404362171113, -0.013844020914462261, 0.03325819160101085, 1.7785315479135524, -0.845672667552957, 1.2601128671438402, -1.8143044052327248, 0.5970279618887205, -0.5769416532706793, -0.32364036863083556, 0.03374636130467711, 1.1262235526047673, -0.8835399735809639, 0.06711967156865234, -1.4139271342518789, -0.6575777307138329, 0.46229213676974534, 1.0313703525873301, -0.493699775953662, 0.7661403815389104, -0.17056924610476254, 0.1903867851538594, -0.5971541790764131, 1.241771128939705, -0.0983027365076231, 0.09160084021308144, -1.9601710782173678, 0.037315681418766455, 0.8821219685238391, -0.7375779940391467, 0.19254111855709474, 0.6924571147549479, 0.16154451786586277, -1.0727850115023716, -0.01649775264774975, -0.8049803974922969, -0.8398704184601684, 0.8505246844046274, -0.5200062488807476, 0.014739737631221722, 0.12869943874606232, -1.392960388914175, 0.20609619106358215, -0.10679886929113508, 0.8973824818566172, -0.2730155117429203, 0.7207158467228036, -0.43694692713810984, 1.0219884648429, -0.108800476161582, 1.165329073668084, -0.16302070112148123, 0.5891703252134486, 0.11281410046037657, 0.4284575251522544, -1.9219006979808662, -0.6563995509383275, -1.43950547963843, -0.2762985778717633, 3.010485863448667, -0.12036745273155926, -0.20020535022170713, 0.31097193170068255, 1.0109448623739885, -0.17848199577529572, 0.2846917936792169, -0.6808365819892909, -1.0071421584201592, 2.283632305623987, -2.1543573610817393], \"yaxis\": \"y4\"}, {\"line\": {\"color\": \"rgba(128, 128, 128, 1.0)\", \"dash\": \"solid\", \"shape\": \"linear\", \"width\": 1.3}, \"marker\": {\"size\": 2, \"symbol\": \"circle\"}, \"mode\": \"markers\", \"name\": \"B\", \"text\": \"\", \"type\": \"scatter\", \"x\": [-0.3743792182439242, -1.6197326287777765, -1.6694241693284275, -0.8234720676448699, 0.13693934194800925, -0.7786890259731041, 1.2425205537238309, 0.23661461195068445, 0.4427518671054902, 2.0602492413190627, 0.17347553754917663, 0.5272904974803029, 1.0501036685459912, 0.27964168711265713, -0.7272118486201753, -0.22172121217961174, -1.4066185696758435, 0.14943198489384765, 1.9432086736456875, 2.5220657307651355, -1.575145667869044, 2.106775558992982, 0.10174098248546284, 1.7396932489191501, 2.074786533983352, -1.1987093179807613, -0.7165329207174465, 2.606548254803393, -0.1731233457547235, 1.0190282826591162, -0.8462404362171113, -0.013844020914462261, 0.03325819160101085, 1.7785315479135524, -0.845672667552957, 1.2601128671438402, -1.8143044052327248, 0.5970279618887205, -0.5769416532706793, -0.32364036863083556, 0.03374636130467711, 1.1262235526047673, -0.8835399735809639, 0.06711967156865234, -1.4139271342518789, -0.6575777307138329, 0.46229213676974534, 1.0313703525873301, -0.493699775953662, 0.7661403815389104, -0.17056924610476254, 0.1903867851538594, -0.5971541790764131, 1.241771128939705, -0.0983027365076231, 0.09160084021308144, -1.9601710782173678, 0.037315681418766455, 0.8821219685238391, -0.7375779940391467, 0.19254111855709474, 0.6924571147549479, 0.16154451786586277, -1.0727850115023716, -0.01649775264774975, -0.8049803974922969, -0.8398704184601684, 0.8505246844046274, -0.5200062488807476, 0.014739737631221722, 0.12869943874606232, -1.392960388914175, 0.20609619106358215, -0.10679886929113508, 0.8973824818566172, -0.2730155117429203, 0.7207158467228036, -0.43694692713810984, 1.0219884648429, -0.108800476161582, 1.165329073668084, -0.16302070112148123, 0.5891703252134486, 0.11281410046037657, 0.4284575251522544, -1.9219006979808662, -0.6563995509383275, -1.43950547963843, -0.2762985778717633, 3.010485863448667, -0.12036745273155926, -0.20020535022170713, 0.31097193170068255, 1.0109448623739885, -0.17848199577529572, 0.2846917936792169, -0.6808365819892909, -1.0071421584201592, 2.283632305623987, -2.1543573610817393], \"xaxis\": \"x5\", \"y\": [-1.1027785660551868, 0.29740020489597846, -0.43253294240382856, -1.1084269652229717, -1.6373655590184417, -1.0725117618110998, -1.9099100685608439, -2.0689122733051275, 0.077918987078293, 0.5024584203750352, -1.3926796764698834, 0.3717509242747525, -0.8474458229363676, 0.08737683711031544, -0.33133430972182576, -2.733316055785719, -0.6928824100740675, 0.5250323944129693, -1.6067781687815792, -0.7287202006257252, -1.6918012487369385, 0.3542738500682554, -0.1915179367997926, -0.29403482375669315, -1.4559887425614062, -0.45946662861286863, -1.0573702753899408, -0.13034922297969953, -1.5699117976686348, 0.5481499873171011, -1.4685830306254732, -1.1806385665913264, -1.4156796963696252, 1.3605077053581722, 1.9811380136832317, -0.16316712319178428, -0.6983529403698392, 1.1203194633607836, -0.378838594956958, 2.0486437782810403, 0.5192196076632097, -0.8777252263888996, -0.38206113714898843, 0.012992185416119843, 1.2929317353034275, 0.3907851507983996, -1.3572897634254169, -0.870575384725658, -0.0027188992621641167, 0.49670782282570086, -0.7091516270566384, -0.40752396773946536, 0.5777273937905538, -0.028583879645875804, -0.686415398165249, -0.6632303830207483, 0.3611285698868993, -1.4150766880023653, -0.5355969336730079, 0.15148844935688743, 1.4809758774301216, 0.1341776189245072, 2.039413314544158, -0.03243372323009276, 0.022831173707126735, -0.841240189670404, -0.49541889751084567, 0.8183400775505387, 0.7488401406486337, -0.17193420847758445, -0.45187359053888715, -0.19881883509728254, -1.50152229425189, -0.35828183450124146, 1.9630368930993207, 1.1964489103975489, -0.1435270860047802, -0.3308275681612723, 0.8659755734970961, -0.26379834794677504, -0.46684150154116616, 0.4345934611912318, 0.9143039934710501, -0.06561570356948355, -0.6767256650340361, -1.0259488290832, -0.2727313264750364, 1.0195015218583527, -0.1125709709711396, -0.0992052156509772, -0.10038565402562996, 1.182259921569917, 0.6201037680164574, 0.00065696719603261, 0.4556208055782743, -0.9502790546247901, -1.0978368547782833, 0.3992300601573083, 0.3982763109978748, 0.14618132688760946], \"yaxis\": \"y5\"}, {\"histfunc\": \"count\", \"histnorm\": \"\", \"marker\": {\"color\": \"rgba(55, 128, 191, 1.0)\", \"line\": {\"color\": \"#4D5663\", \"width\": 1.3}}, \"name\": \"B\", \"nbinsx\": 10, \"opacity\": 0.8, \"orientation\": \"v\", \"type\": \"histogram\", \"x\": [-1.1027785660551868, 0.29740020489597846, -0.43253294240382856, -1.1084269652229717, -1.6373655590184417, -1.0725117618110998, -1.9099100685608439, -2.0689122733051275, 0.077918987078293, 0.5024584203750352, -1.3926796764698834, 0.3717509242747525, -0.8474458229363676, 0.08737683711031544, -0.33133430972182576, -2.733316055785719, -0.6928824100740675, 0.5250323944129693, -1.6067781687815792, -0.7287202006257252, -1.6918012487369385, 0.3542738500682554, -0.1915179367997926, -0.29403482375669315, -1.4559887425614062, -0.45946662861286863, -1.0573702753899408, -0.13034922297969953, -1.5699117976686348, 0.5481499873171011, -1.4685830306254732, -1.1806385665913264, -1.4156796963696252, 1.3605077053581722, 1.9811380136832317, -0.16316712319178428, -0.6983529403698392, 1.1203194633607836, -0.378838594956958, 2.0486437782810403, 0.5192196076632097, -0.8777252263888996, -0.38206113714898843, 0.012992185416119843, 1.2929317353034275, 0.3907851507983996, -1.3572897634254169, -0.870575384725658, -0.0027188992621641167, 0.49670782282570086, -0.7091516270566384, -0.40752396773946536, 0.5777273937905538, -0.028583879645875804, -0.686415398165249, -0.6632303830207483, 0.3611285698868993, -1.4150766880023653, -0.5355969336730079, 0.15148844935688743, 1.4809758774301216, 0.1341776189245072, 2.039413314544158, -0.03243372323009276, 0.022831173707126735, -0.841240189670404, -0.49541889751084567, 0.8183400775505387, 0.7488401406486337, -0.17193420847758445, -0.45187359053888715, -0.19881883509728254, -1.50152229425189, -0.35828183450124146, 1.9630368930993207, 1.1964489103975489, -0.1435270860047802, -0.3308275681612723, 0.8659755734970961, -0.26379834794677504, -0.46684150154116616, 0.4345934611912318, 0.9143039934710501, -0.06561570356948355, -0.6767256650340361, -1.0259488290832, -0.2727313264750364, 1.0195015218583527, -0.1125709709711396, -0.0992052156509772, -0.10038565402562996, 1.182259921569917, 0.6201037680164574, 0.00065696719603261, 0.4556208055782743, -0.9502790546247901, -1.0978368547782833, 0.3992300601573083, 0.3982763109978748, 0.14618132688760946], \"xaxis\": \"x6\", \"yaxis\": \"y6\"}, {\"line\": {\"color\": \"rgba(128, 128, 128, 1.0)\", \"dash\": \"solid\", \"shape\": \"linear\", \"width\": 1.3}, \"marker\": {\"size\": 2, \"symbol\": \"circle\"}, \"mode\": \"markers\", \"name\": \"B\", \"text\": \"\", \"type\": \"scatter\", \"x\": [0.6305086408405335, 0.2573929741581128, 1.2002509871699105, 1.8249813489097186, 0.3918002396090246, 2.045502634431302, -0.12255302335727361, -0.14328856625676092, -0.20748786540499695, -0.3064262606826834, -1.1379840810055082, 0.1673648590728652, 0.37699394164743627, -0.6962736680079707, -0.6586427335574921, 1.026882387486378, -0.13961200892487075, 0.13493393701558787, -0.21222692847029387, -0.629736224541587, 1.4735661632735562, -1.0104870058846744, 0.8366005276015587, -0.33702113005301576, 0.39797885431417157, -0.16811043462184252, -0.6197407303272026, 0.10336820541209946, 0.9429313960623031, 0.7907388100117877, -0.7702545298597853, 1.8824678262475079, 0.3764093764765518, -0.31741290339867323, -0.4080431921994537, 0.8524436320243046, -0.8874432210963202, 1.278318444357705, 1.400387427082184, 0.5164502436081181, 0.5260515938763501, -1.516843418418446, -1.2296490295672757, -0.3030387528649891, -0.8673602866550375, 1.2577169602465843, -0.17664278745729972, -0.8011024909016581, -1.2709067509118592, 2.600574336866944, 1.7026407853872678, 1.188257856928726, 1.470492384903625, -1.4246726210313863, -0.5822627018194775, 0.37354771607816406, -0.5340206493997645, 0.04376725425074439, -0.47645358851481984, 1.5597252552643888, -1.2000497575023026, -0.6258442258992837, -0.793624442495925, 0.1898625339161362, 0.20876742846720092, 1.3709461458575776, 0.8634147134772215, -0.48704667145588254, -1.6763341999764252, 0.645748787049174, -1.2776430496406737, 0.8424179571291159, -1.8479145390147624, 0.9343548341121494, -0.003951426835194898, 0.570119633366993, -1.0825526928291904, -0.17270588345420862, 1.4225521073363245, -0.9250108836454827, -0.5242086646505019, -0.9144328597996433, -0.9510490339648087, -0.5511617558446993, 0.7727258199523624, 2.1177556445538634, 1.5414102237779639, 0.10267936984726589, -0.5582221230138756, 0.15764762924658451, -0.0043885162080275625, -1.3373114196927731, 0.10633748756502394, -0.4647282500767246, -0.026345456157078864, 0.138687004546556, 0.012902495730874639, 1.1639536789822604, -0.534311955025553, -0.5622879971904758], \"xaxis\": \"x7\", \"y\": [-1.1027785660551868, 0.29740020489597846, -0.43253294240382856, -1.1084269652229717, -1.6373655590184417, -1.0725117618110998, -1.9099100685608439, -2.0689122733051275, 0.077918987078293, 0.5024584203750352, -1.3926796764698834, 0.3717509242747525, -0.8474458229363676, 0.08737683711031544, -0.33133430972182576, -2.733316055785719, -0.6928824100740675, 0.5250323944129693, -1.6067781687815792, -0.7287202006257252, -1.6918012487369385, 0.3542738500682554, -0.1915179367997926, -0.29403482375669315, -1.4559887425614062, -0.45946662861286863, -1.0573702753899408, -0.13034922297969953, -1.5699117976686348, 0.5481499873171011, -1.4685830306254732, -1.1806385665913264, -1.4156796963696252, 1.3605077053581722, 1.9811380136832317, -0.16316712319178428, -0.6983529403698392, 1.1203194633607836, -0.378838594956958, 2.0486437782810403, 0.5192196076632097, -0.8777252263888996, -0.38206113714898843, 0.012992185416119843, 1.2929317353034275, 0.3907851507983996, -1.3572897634254169, -0.870575384725658, -0.0027188992621641167, 0.49670782282570086, -0.7091516270566384, -0.40752396773946536, 0.5777273937905538, -0.028583879645875804, -0.686415398165249, -0.6632303830207483, 0.3611285698868993, -1.4150766880023653, -0.5355969336730079, 0.15148844935688743, 1.4809758774301216, 0.1341776189245072, 2.039413314544158, -0.03243372323009276, 0.022831173707126735, -0.841240189670404, -0.49541889751084567, 0.8183400775505387, 0.7488401406486337, -0.17193420847758445, -0.45187359053888715, -0.19881883509728254, -1.50152229425189, -0.35828183450124146, 1.9630368930993207, 1.1964489103975489, -0.1435270860047802, -0.3308275681612723, 0.8659755734970961, -0.26379834794677504, -0.46684150154116616, 0.4345934611912318, 0.9143039934710501, -0.06561570356948355, -0.6767256650340361, -1.0259488290832, -0.2727313264750364, 1.0195015218583527, -0.1125709709711396, -0.0992052156509772, -0.10038565402562996, 1.182259921569917, 0.6201037680164574, 0.00065696719603261, 0.4556208055782743, -0.9502790546247901, -1.0978368547782833, 0.3992300601573083, 0.3982763109978748, 0.14618132688760946], \"yaxis\": \"y7\"}, {\"line\": {\"color\": \"rgba(128, 128, 128, 1.0)\", \"dash\": \"solid\", \"shape\": \"linear\", \"width\": 1.3}, \"marker\": {\"size\": 2, \"symbol\": \"circle\"}, \"mode\": \"markers\", \"name\": \"B\", \"text\": \"\", \"type\": \"scatter\", \"x\": [-0.9775540867952446, 0.5125419768385915, -0.294908048965335, 0.6561049172570194, -0.948655669014669, 0.38826492530369056, -1.051515798800067, 1.0916810700420954, -0.7698443127541724, -0.9044517115380162, 0.30475023729635403, 1.539858983273998, 1.226919733553733, 0.42749343772456005, 0.04433626310293226, -1.943719051879809, 1.2463238062234774, -1.2104794780278358, 2.2434389335917615, -0.7046858778536157, -1.4554723150616735, 1.0941988942748302, -0.02952503436206944, -0.33924093843015646, 0.2044200372012253, 0.2685291939229705, -1.5299696422235398, 0.6581448336938301, 0.39454019984961214, -0.29532382509339766, -0.7754927189028199, -0.7517249288087523, 1.1662456581357885, 0.47100641399697557, 0.18091632997000087, -0.8680521122835154, 0.34188638195693616, -0.6395572104363515, 1.7607211883492682, -0.5427324119660141, 0.6094134787515665, -0.3228406532113041, -1.240984117694116, 0.9476958531796474, -1.566799508736097, -1.3693967159456835, -1.002806751796895, -0.6290596720219408, -0.9665578288157056, 0.9840878963356897, -0.4843673241245268, 1.0518601552732783, -1.1491433046014432, -0.6095902338712633, 1.9231102218474039, 0.9376082791295621, 0.10526475977098643, 0.4989098099237765, -0.5043174075431105, 2.1408461247925024, 0.1352941400065242, -0.27473495827988226, -0.2889957842311569, -0.03266538710690525, -0.0157904210532621, 0.08899841220396364, -1.2285876409947754, 1.9089716125433318, -0.672817717516103, -0.9991552089496202, 0.7787563460737548, -0.012740471268385447, -2.479165537636401, 1.40143034536203, -1.729474372047749, -0.21787372323390702, 0.7980485729437748, 0.3776094257046723, -0.4760637243601897, -2.3832051413841637, -1.7099159788344809, 0.4827711017041606, 0.8620357645975364, 0.17453108335633685, 0.7443925303551422, 0.6903132193598274, -0.5627408036346566, -0.4518178996632333, -0.9368981301966262, 0.05061874383989501, -0.6922640658095132, -0.5280750185783809, -1.2947751095368296, -0.870662429879271, -0.298108580253174, 0.037387968557037854, -1.1207278026636471, -1.9113339857999854, -0.007295497555885252, 0.9171993947582978], \"xaxis\": \"x8\", \"y\": [-1.1027785660551868, 0.29740020489597846, -0.43253294240382856, -1.1084269652229717, -1.6373655590184417, -1.0725117618110998, -1.9099100685608439, -2.0689122733051275, 0.077918987078293, 0.5024584203750352, -1.3926796764698834, 0.3717509242747525, -0.8474458229363676, 0.08737683711031544, -0.33133430972182576, -2.733316055785719, -0.6928824100740675, 0.5250323944129693, -1.6067781687815792, -0.7287202006257252, -1.6918012487369385, 0.3542738500682554, -0.1915179367997926, -0.29403482375669315, -1.4559887425614062, -0.45946662861286863, -1.0573702753899408, -0.13034922297969953, -1.5699117976686348, 0.5481499873171011, -1.4685830306254732, -1.1806385665913264, -1.4156796963696252, 1.3605077053581722, 1.9811380136832317, -0.16316712319178428, -0.6983529403698392, 1.1203194633607836, -0.378838594956958, 2.0486437782810403, 0.5192196076632097, -0.8777252263888996, -0.38206113714898843, 0.012992185416119843, 1.2929317353034275, 0.3907851507983996, -1.3572897634254169, -0.870575384725658, -0.0027188992621641167, 0.49670782282570086, -0.7091516270566384, -0.40752396773946536, 0.5777273937905538, -0.028583879645875804, -0.686415398165249, -0.6632303830207483, 0.3611285698868993, -1.4150766880023653, -0.5355969336730079, 0.15148844935688743, 1.4809758774301216, 0.1341776189245072, 2.039413314544158, -0.03243372323009276, 0.022831173707126735, -0.841240189670404, -0.49541889751084567, 0.8183400775505387, 0.7488401406486337, -0.17193420847758445, -0.45187359053888715, -0.19881883509728254, -1.50152229425189, -0.35828183450124146, 1.9630368930993207, 1.1964489103975489, -0.1435270860047802, -0.3308275681612723, 0.8659755734970961, -0.26379834794677504, -0.46684150154116616, 0.4345934611912318, 0.9143039934710501, -0.06561570356948355, -0.6767256650340361, -1.0259488290832, -0.2727313264750364, 1.0195015218583527, -0.1125709709711396, -0.0992052156509772, -0.10038565402562996, 1.182259921569917, 0.6201037680164574, 0.00065696719603261, 0.4556208055782743, -0.9502790546247901, -1.0978368547782833, 0.3992300601573083, 0.3982763109978748, 0.14618132688760946], \"yaxis\": \"y8\"}, {\"line\": {\"color\": \"rgba(128, 128, 128, 1.0)\", \"dash\": \"solid\", \"shape\": \"linear\", \"width\": 1.3}, \"marker\": {\"size\": 2, \"symbol\": \"circle\"}, \"mode\": \"markers\", \"name\": \"C\", \"text\": \"\", \"type\": \"scatter\", \"x\": [-0.3743792182439242, -1.6197326287777765, -1.6694241693284275, -0.8234720676448699, 0.13693934194800925, -0.7786890259731041, 1.2425205537238309, 0.23661461195068445, 0.4427518671054902, 2.0602492413190627, 0.17347553754917663, 0.5272904974803029, 1.0501036685459912, 0.27964168711265713, -0.7272118486201753, -0.22172121217961174, -1.4066185696758435, 0.14943198489384765, 1.9432086736456875, 2.5220657307651355, -1.575145667869044, 2.106775558992982, 0.10174098248546284, 1.7396932489191501, 2.074786533983352, -1.1987093179807613, -0.7165329207174465, 2.606548254803393, -0.1731233457547235, 1.0190282826591162, -0.8462404362171113, -0.013844020914462261, 0.03325819160101085, 1.7785315479135524, -0.845672667552957, 1.2601128671438402, -1.8143044052327248, 0.5970279618887205, -0.5769416532706793, -0.32364036863083556, 0.03374636130467711, 1.1262235526047673, -0.8835399735809639, 0.06711967156865234, -1.4139271342518789, -0.6575777307138329, 0.46229213676974534, 1.0313703525873301, -0.493699775953662, 0.7661403815389104, -0.17056924610476254, 0.1903867851538594, -0.5971541790764131, 1.241771128939705, -0.0983027365076231, 0.09160084021308144, -1.9601710782173678, 0.037315681418766455, 0.8821219685238391, -0.7375779940391467, 0.19254111855709474, 0.6924571147549479, 0.16154451786586277, -1.0727850115023716, -0.01649775264774975, -0.8049803974922969, -0.8398704184601684, 0.8505246844046274, -0.5200062488807476, 0.014739737631221722, 0.12869943874606232, -1.392960388914175, 0.20609619106358215, -0.10679886929113508, 0.8973824818566172, -0.2730155117429203, 0.7207158467228036, -0.43694692713810984, 1.0219884648429, -0.108800476161582, 1.165329073668084, -0.16302070112148123, 0.5891703252134486, 0.11281410046037657, 0.4284575251522544, -1.9219006979808662, -0.6563995509383275, -1.43950547963843, -0.2762985778717633, 3.010485863448667, -0.12036745273155926, -0.20020535022170713, 0.31097193170068255, 1.0109448623739885, -0.17848199577529572, 0.2846917936792169, -0.6808365819892909, -1.0071421584201592, 2.283632305623987, -2.1543573610817393], \"xaxis\": \"x9\", \"y\": [0.6305086408405335, 0.2573929741581128, 1.2002509871699105, 1.8249813489097186, 0.3918002396090246, 2.045502634431302, -0.12255302335727361, -0.14328856625676092, -0.20748786540499695, -0.3064262606826834, -1.1379840810055082, 0.1673648590728652, 0.37699394164743627, -0.6962736680079707, -0.6586427335574921, 1.026882387486378, -0.13961200892487075, 0.13493393701558787, -0.21222692847029387, -0.629736224541587, 1.4735661632735562, -1.0104870058846744, 0.8366005276015587, -0.33702113005301576, 0.39797885431417157, -0.16811043462184252, -0.6197407303272026, 0.10336820541209946, 0.9429313960623031, 0.7907388100117877, -0.7702545298597853, 1.8824678262475079, 0.3764093764765518, -0.31741290339867323, -0.4080431921994537, 0.8524436320243046, -0.8874432210963202, 1.278318444357705, 1.400387427082184, 0.5164502436081181, 0.5260515938763501, -1.516843418418446, -1.2296490295672757, -0.3030387528649891, -0.8673602866550375, 1.2577169602465843, -0.17664278745729972, -0.8011024909016581, -1.2709067509118592, 2.600574336866944, 1.7026407853872678, 1.188257856928726, 1.470492384903625, -1.4246726210313863, -0.5822627018194775, 0.37354771607816406, -0.5340206493997645, 0.04376725425074439, -0.47645358851481984, 1.5597252552643888, -1.2000497575023026, -0.6258442258992837, -0.793624442495925, 0.1898625339161362, 0.20876742846720092, 1.3709461458575776, 0.8634147134772215, -0.48704667145588254, -1.6763341999764252, 0.645748787049174, -1.2776430496406737, 0.8424179571291159, -1.8479145390147624, 0.9343548341121494, -0.003951426835194898, 0.570119633366993, -1.0825526928291904, -0.17270588345420862, 1.4225521073363245, -0.9250108836454827, -0.5242086646505019, -0.9144328597996433, -0.9510490339648087, -0.5511617558446993, 0.7727258199523624, 2.1177556445538634, 1.5414102237779639, 0.10267936984726589, -0.5582221230138756, 0.15764762924658451, -0.0043885162080275625, -1.3373114196927731, 0.10633748756502394, -0.4647282500767246, -0.026345456157078864, 0.138687004546556, 0.012902495730874639, 1.1639536789822604, -0.534311955025553, -0.5622879971904758], \"yaxis\": \"y9\"}, {\"line\": {\"color\": \"rgba(128, 128, 128, 1.0)\", \"dash\": \"solid\", \"shape\": \"linear\", \"width\": 1.3}, \"marker\": {\"size\": 2, \"symbol\": \"circle\"}, \"mode\": \"markers\", \"name\": \"C\", \"text\": \"\", \"type\": \"scatter\", \"x\": [-1.1027785660551868, 0.29740020489597846, -0.43253294240382856, -1.1084269652229717, -1.6373655590184417, -1.0725117618110998, -1.9099100685608439, -2.0689122733051275, 0.077918987078293, 0.5024584203750352, -1.3926796764698834, 0.3717509242747525, -0.8474458229363676, 0.08737683711031544, -0.33133430972182576, -2.733316055785719, -0.6928824100740675, 0.5250323944129693, -1.6067781687815792, -0.7287202006257252, -1.6918012487369385, 0.3542738500682554, -0.1915179367997926, -0.29403482375669315, -1.4559887425614062, -0.45946662861286863, -1.0573702753899408, -0.13034922297969953, -1.5699117976686348, 0.5481499873171011, -1.4685830306254732, -1.1806385665913264, -1.4156796963696252, 1.3605077053581722, 1.9811380136832317, -0.16316712319178428, -0.6983529403698392, 1.1203194633607836, -0.378838594956958, 2.0486437782810403, 0.5192196076632097, -0.8777252263888996, -0.38206113714898843, 0.012992185416119843, 1.2929317353034275, 0.3907851507983996, -1.3572897634254169, -0.870575384725658, -0.0027188992621641167, 0.49670782282570086, -0.7091516270566384, -0.40752396773946536, 0.5777273937905538, -0.028583879645875804, -0.686415398165249, -0.6632303830207483, 0.3611285698868993, -1.4150766880023653, -0.5355969336730079, 0.15148844935688743, 1.4809758774301216, 0.1341776189245072, 2.039413314544158, -0.03243372323009276, 0.022831173707126735, -0.841240189670404, -0.49541889751084567, 0.8183400775505387, 0.7488401406486337, -0.17193420847758445, -0.45187359053888715, -0.19881883509728254, -1.50152229425189, -0.35828183450124146, 1.9630368930993207, 1.1964489103975489, -0.1435270860047802, -0.3308275681612723, 0.8659755734970961, -0.26379834794677504, -0.46684150154116616, 0.4345934611912318, 0.9143039934710501, -0.06561570356948355, -0.6767256650340361, -1.0259488290832, -0.2727313264750364, 1.0195015218583527, -0.1125709709711396, -0.0992052156509772, -0.10038565402562996, 1.182259921569917, 0.6201037680164574, 0.00065696719603261, 0.4556208055782743, -0.9502790546247901, -1.0978368547782833, 0.3992300601573083, 0.3982763109978748, 0.14618132688760946], \"xaxis\": \"x10\", \"y\": [0.6305086408405335, 0.2573929741581128, 1.2002509871699105, 1.8249813489097186, 0.3918002396090246, 2.045502634431302, -0.12255302335727361, -0.14328856625676092, -0.20748786540499695, -0.3064262606826834, -1.1379840810055082, 0.1673648590728652, 0.37699394164743627, -0.6962736680079707, -0.6586427335574921, 1.026882387486378, -0.13961200892487075, 0.13493393701558787, -0.21222692847029387, -0.629736224541587, 1.4735661632735562, -1.0104870058846744, 0.8366005276015587, -0.33702113005301576, 0.39797885431417157, -0.16811043462184252, -0.6197407303272026, 0.10336820541209946, 0.9429313960623031, 0.7907388100117877, -0.7702545298597853, 1.8824678262475079, 0.3764093764765518, -0.31741290339867323, -0.4080431921994537, 0.8524436320243046, -0.8874432210963202, 1.278318444357705, 1.400387427082184, 0.5164502436081181, 0.5260515938763501, -1.516843418418446, -1.2296490295672757, -0.3030387528649891, -0.8673602866550375, 1.2577169602465843, -0.17664278745729972, -0.8011024909016581, -1.2709067509118592, 2.600574336866944, 1.7026407853872678, 1.188257856928726, 1.470492384903625, -1.4246726210313863, -0.5822627018194775, 0.37354771607816406, -0.5340206493997645, 0.04376725425074439, -0.47645358851481984, 1.5597252552643888, -1.2000497575023026, -0.6258442258992837, -0.793624442495925, 0.1898625339161362, 0.20876742846720092, 1.3709461458575776, 0.8634147134772215, -0.48704667145588254, -1.6763341999764252, 0.645748787049174, -1.2776430496406737, 0.8424179571291159, -1.8479145390147624, 0.9343548341121494, -0.003951426835194898, 0.570119633366993, -1.0825526928291904, -0.17270588345420862, 1.4225521073363245, -0.9250108836454827, -0.5242086646505019, -0.9144328597996433, -0.9510490339648087, -0.5511617558446993, 0.7727258199523624, 2.1177556445538634, 1.5414102237779639, 0.10267936984726589, -0.5582221230138756, 0.15764762924658451, -0.0043885162080275625, -1.3373114196927731, 0.10633748756502394, -0.4647282500767246, -0.026345456157078864, 0.138687004546556, 0.012902495730874639, 1.1639536789822604, -0.534311955025553, -0.5622879971904758], \"yaxis\": \"y10\"}, {\"histfunc\": \"count\", \"histnorm\": \"\", \"marker\": {\"color\": \"rgba(50, 171, 96, 1.0)\", \"line\": {\"color\": \"#4D5663\", \"width\": 1.3}}, \"name\": \"C\", \"nbinsx\": 10, \"opacity\": 0.8, \"orientation\": \"v\", \"type\": \"histogram\", \"x\": [0.6305086408405335, 0.2573929741581128, 1.2002509871699105, 1.8249813489097186, 0.3918002396090246, 2.045502634431302, -0.12255302335727361, -0.14328856625676092, -0.20748786540499695, -0.3064262606826834, -1.1379840810055082, 0.1673648590728652, 0.37699394164743627, -0.6962736680079707, -0.6586427335574921, 1.026882387486378, -0.13961200892487075, 0.13493393701558787, -0.21222692847029387, -0.629736224541587, 1.4735661632735562, -1.0104870058846744, 0.8366005276015587, -0.33702113005301576, 0.39797885431417157, -0.16811043462184252, -0.6197407303272026, 0.10336820541209946, 0.9429313960623031, 0.7907388100117877, -0.7702545298597853, 1.8824678262475079, 0.3764093764765518, -0.31741290339867323, -0.4080431921994537, 0.8524436320243046, -0.8874432210963202, 1.278318444357705, 1.400387427082184, 0.5164502436081181, 0.5260515938763501, -1.516843418418446, -1.2296490295672757, -0.3030387528649891, -0.8673602866550375, 1.2577169602465843, -0.17664278745729972, -0.8011024909016581, -1.2709067509118592, 2.600574336866944, 1.7026407853872678, 1.188257856928726, 1.470492384903625, -1.4246726210313863, -0.5822627018194775, 0.37354771607816406, -0.5340206493997645, 0.04376725425074439, -0.47645358851481984, 1.5597252552643888, -1.2000497575023026, -0.6258442258992837, -0.793624442495925, 0.1898625339161362, 0.20876742846720092, 1.3709461458575776, 0.8634147134772215, -0.48704667145588254, -1.6763341999764252, 0.645748787049174, -1.2776430496406737, 0.8424179571291159, -1.8479145390147624, 0.9343548341121494, -0.003951426835194898, 0.570119633366993, -1.0825526928291904, -0.17270588345420862, 1.4225521073363245, -0.9250108836454827, -0.5242086646505019, -0.9144328597996433, -0.9510490339648087, -0.5511617558446993, 0.7727258199523624, 2.1177556445538634, 1.5414102237779639, 0.10267936984726589, -0.5582221230138756, 0.15764762924658451, -0.0043885162080275625, -1.3373114196927731, 0.10633748756502394, -0.4647282500767246, -0.026345456157078864, 0.138687004546556, 0.012902495730874639, 1.1639536789822604, -0.534311955025553, -0.5622879971904758], \"xaxis\": \"x11\", \"yaxis\": \"y11\"}, {\"line\": {\"color\": \"rgba(128, 128, 128, 1.0)\", \"dash\": \"solid\", \"shape\": \"linear\", \"width\": 1.3}, \"marker\": {\"size\": 2, \"symbol\": \"circle\"}, \"mode\": \"markers\", \"name\": \"C\", \"text\": \"\", \"type\": \"scatter\", \"x\": [-0.9775540867952446, 0.5125419768385915, -0.294908048965335, 0.6561049172570194, -0.948655669014669, 0.38826492530369056, -1.051515798800067, 1.0916810700420954, -0.7698443127541724, -0.9044517115380162, 0.30475023729635403, 1.539858983273998, 1.226919733553733, 0.42749343772456005, 0.04433626310293226, -1.943719051879809, 1.2463238062234774, -1.2104794780278358, 2.2434389335917615, -0.7046858778536157, -1.4554723150616735, 1.0941988942748302, -0.02952503436206944, -0.33924093843015646, 0.2044200372012253, 0.2685291939229705, -1.5299696422235398, 0.6581448336938301, 0.39454019984961214, -0.29532382509339766, -0.7754927189028199, -0.7517249288087523, 1.1662456581357885, 0.47100641399697557, 0.18091632997000087, -0.8680521122835154, 0.34188638195693616, -0.6395572104363515, 1.7607211883492682, -0.5427324119660141, 0.6094134787515665, -0.3228406532113041, -1.240984117694116, 0.9476958531796474, -1.566799508736097, -1.3693967159456835, -1.002806751796895, -0.6290596720219408, -0.9665578288157056, 0.9840878963356897, -0.4843673241245268, 1.0518601552732783, -1.1491433046014432, -0.6095902338712633, 1.9231102218474039, 0.9376082791295621, 0.10526475977098643, 0.4989098099237765, -0.5043174075431105, 2.1408461247925024, 0.1352941400065242, -0.27473495827988226, -0.2889957842311569, -0.03266538710690525, -0.0157904210532621, 0.08899841220396364, -1.2285876409947754, 1.9089716125433318, -0.672817717516103, -0.9991552089496202, 0.7787563460737548, -0.012740471268385447, -2.479165537636401, 1.40143034536203, -1.729474372047749, -0.21787372323390702, 0.7980485729437748, 0.3776094257046723, -0.4760637243601897, -2.3832051413841637, -1.7099159788344809, 0.4827711017041606, 0.8620357645975364, 0.17453108335633685, 0.7443925303551422, 0.6903132193598274, -0.5627408036346566, -0.4518178996632333, -0.9368981301966262, 0.05061874383989501, -0.6922640658095132, -0.5280750185783809, -1.2947751095368296, -0.870662429879271, -0.298108580253174, 0.037387968557037854, -1.1207278026636471, -1.9113339857999854, -0.007295497555885252, 0.9171993947582978], \"xaxis\": \"x12\", \"y\": [0.6305086408405335, 0.2573929741581128, 1.2002509871699105, 1.8249813489097186, 0.3918002396090246, 2.045502634431302, -0.12255302335727361, -0.14328856625676092, -0.20748786540499695, -0.3064262606826834, -1.1379840810055082, 0.1673648590728652, 0.37699394164743627, -0.6962736680079707, -0.6586427335574921, 1.026882387486378, -0.13961200892487075, 0.13493393701558787, -0.21222692847029387, -0.629736224541587, 1.4735661632735562, -1.0104870058846744, 0.8366005276015587, -0.33702113005301576, 0.39797885431417157, -0.16811043462184252, -0.6197407303272026, 0.10336820541209946, 0.9429313960623031, 0.7907388100117877, -0.7702545298597853, 1.8824678262475079, 0.3764093764765518, -0.31741290339867323, -0.4080431921994537, 0.8524436320243046, -0.8874432210963202, 1.278318444357705, 1.400387427082184, 0.5164502436081181, 0.5260515938763501, -1.516843418418446, -1.2296490295672757, -0.3030387528649891, -0.8673602866550375, 1.2577169602465843, -0.17664278745729972, -0.8011024909016581, -1.2709067509118592, 2.600574336866944, 1.7026407853872678, 1.188257856928726, 1.470492384903625, -1.4246726210313863, -0.5822627018194775, 0.37354771607816406, -0.5340206493997645, 0.04376725425074439, -0.47645358851481984, 1.5597252552643888, -1.2000497575023026, -0.6258442258992837, -0.793624442495925, 0.1898625339161362, 0.20876742846720092, 1.3709461458575776, 0.8634147134772215, -0.48704667145588254, -1.6763341999764252, 0.645748787049174, -1.2776430496406737, 0.8424179571291159, -1.8479145390147624, 0.9343548341121494, -0.003951426835194898, 0.570119633366993, -1.0825526928291904, -0.17270588345420862, 1.4225521073363245, -0.9250108836454827, -0.5242086646505019, -0.9144328597996433, -0.9510490339648087, -0.5511617558446993, 0.7727258199523624, 2.1177556445538634, 1.5414102237779639, 0.10267936984726589, -0.5582221230138756, 0.15764762924658451, -0.0043885162080275625, -1.3373114196927731, 0.10633748756502394, -0.4647282500767246, -0.026345456157078864, 0.138687004546556, 0.012902495730874639, 1.1639536789822604, -0.534311955025553, -0.5622879971904758], \"yaxis\": \"y12\"}, {\"line\": {\"color\": \"rgba(128, 128, 128, 1.0)\", \"dash\": \"solid\", \"shape\": \"linear\", \"width\": 1.3}, \"marker\": {\"size\": 2, \"symbol\": \"circle\"}, \"mode\": \"markers\", \"name\": \"D\", \"text\": \"\", \"type\": \"scatter\", \"x\": [-0.3743792182439242, -1.6197326287777765, -1.6694241693284275, -0.8234720676448699, 0.13693934194800925, -0.7786890259731041, 1.2425205537238309, 0.23661461195068445, 0.4427518671054902, 2.0602492413190627, 0.17347553754917663, 0.5272904974803029, 1.0501036685459912, 0.27964168711265713, -0.7272118486201753, -0.22172121217961174, -1.4066185696758435, 0.14943198489384765, 1.9432086736456875, 2.5220657307651355, -1.575145667869044, 2.106775558992982, 0.10174098248546284, 1.7396932489191501, 2.074786533983352, -1.1987093179807613, -0.7165329207174465, 2.606548254803393, -0.1731233457547235, 1.0190282826591162, -0.8462404362171113, -0.013844020914462261, 0.03325819160101085, 1.7785315479135524, -0.845672667552957, 1.2601128671438402, -1.8143044052327248, 0.5970279618887205, -0.5769416532706793, -0.32364036863083556, 0.03374636130467711, 1.1262235526047673, -0.8835399735809639, 0.06711967156865234, -1.4139271342518789, -0.6575777307138329, 0.46229213676974534, 1.0313703525873301, -0.493699775953662, 0.7661403815389104, -0.17056924610476254, 0.1903867851538594, -0.5971541790764131, 1.241771128939705, -0.0983027365076231, 0.09160084021308144, -1.9601710782173678, 0.037315681418766455, 0.8821219685238391, -0.7375779940391467, 0.19254111855709474, 0.6924571147549479, 0.16154451786586277, -1.0727850115023716, -0.01649775264774975, -0.8049803974922969, -0.8398704184601684, 0.8505246844046274, -0.5200062488807476, 0.014739737631221722, 0.12869943874606232, -1.392960388914175, 0.20609619106358215, -0.10679886929113508, 0.8973824818566172, -0.2730155117429203, 0.7207158467228036, -0.43694692713810984, 1.0219884648429, -0.108800476161582, 1.165329073668084, -0.16302070112148123, 0.5891703252134486, 0.11281410046037657, 0.4284575251522544, -1.9219006979808662, -0.6563995509383275, -1.43950547963843, -0.2762985778717633, 3.010485863448667, -0.12036745273155926, -0.20020535022170713, 0.31097193170068255, 1.0109448623739885, -0.17848199577529572, 0.2846917936792169, -0.6808365819892909, -1.0071421584201592, 2.283632305623987, -2.1543573610817393], \"xaxis\": \"x13\", \"y\": [-0.9775540867952446, 0.5125419768385915, -0.294908048965335, 0.6561049172570194, -0.948655669014669, 0.38826492530369056, -1.051515798800067, 1.0916810700420954, -0.7698443127541724, -0.9044517115380162, 0.30475023729635403, 1.539858983273998, 1.226919733553733, 0.42749343772456005, 0.04433626310293226, -1.943719051879809, 1.2463238062234774, -1.2104794780278358, 2.2434389335917615, -0.7046858778536157, -1.4554723150616735, 1.0941988942748302, -0.02952503436206944, -0.33924093843015646, 0.2044200372012253, 0.2685291939229705, -1.5299696422235398, 0.6581448336938301, 0.39454019984961214, -0.29532382509339766, -0.7754927189028199, -0.7517249288087523, 1.1662456581357885, 0.47100641399697557, 0.18091632997000087, -0.8680521122835154, 0.34188638195693616, -0.6395572104363515, 1.7607211883492682, -0.5427324119660141, 0.6094134787515665, -0.3228406532113041, -1.240984117694116, 0.9476958531796474, -1.566799508736097, -1.3693967159456835, -1.002806751796895, -0.6290596720219408, -0.9665578288157056, 0.9840878963356897, -0.4843673241245268, 1.0518601552732783, -1.1491433046014432, -0.6095902338712633, 1.9231102218474039, 0.9376082791295621, 0.10526475977098643, 0.4989098099237765, -0.5043174075431105, 2.1408461247925024, 0.1352941400065242, -0.27473495827988226, -0.2889957842311569, -0.03266538710690525, -0.0157904210532621, 0.08899841220396364, -1.2285876409947754, 1.9089716125433318, -0.672817717516103, -0.9991552089496202, 0.7787563460737548, -0.012740471268385447, -2.479165537636401, 1.40143034536203, -1.729474372047749, -0.21787372323390702, 0.7980485729437748, 0.3776094257046723, -0.4760637243601897, -2.3832051413841637, -1.7099159788344809, 0.4827711017041606, 0.8620357645975364, 0.17453108335633685, 0.7443925303551422, 0.6903132193598274, -0.5627408036346566, -0.4518178996632333, -0.9368981301966262, 0.05061874383989501, -0.6922640658095132, -0.5280750185783809, -1.2947751095368296, -0.870662429879271, -0.298108580253174, 0.037387968557037854, -1.1207278026636471, -1.9113339857999854, -0.007295497555885252, 0.9171993947582978], \"yaxis\": \"y13\"}, {\"line\": {\"color\": \"rgba(128, 128, 128, 1.0)\", \"dash\": \"solid\", \"shape\": \"linear\", \"width\": 1.3}, \"marker\": {\"size\": 2, \"symbol\": \"circle\"}, \"mode\": \"markers\", \"name\": \"D\", \"text\": \"\", \"type\": \"scatter\", \"x\": [-1.1027785660551868, 0.29740020489597846, -0.43253294240382856, -1.1084269652229717, -1.6373655590184417, -1.0725117618110998, -1.9099100685608439, -2.0689122733051275, 0.077918987078293, 0.5024584203750352, -1.3926796764698834, 0.3717509242747525, -0.8474458229363676, 0.08737683711031544, -0.33133430972182576, -2.733316055785719, -0.6928824100740675, 0.5250323944129693, -1.6067781687815792, -0.7287202006257252, -1.6918012487369385, 0.3542738500682554, -0.1915179367997926, -0.29403482375669315, -1.4559887425614062, -0.45946662861286863, -1.0573702753899408, -0.13034922297969953, -1.5699117976686348, 0.5481499873171011, -1.4685830306254732, -1.1806385665913264, -1.4156796963696252, 1.3605077053581722, 1.9811380136832317, -0.16316712319178428, -0.6983529403698392, 1.1203194633607836, -0.378838594956958, 2.0486437782810403, 0.5192196076632097, -0.8777252263888996, -0.38206113714898843, 0.012992185416119843, 1.2929317353034275, 0.3907851507983996, -1.3572897634254169, -0.870575384725658, -0.0027188992621641167, 0.49670782282570086, -0.7091516270566384, -0.40752396773946536, 0.5777273937905538, -0.028583879645875804, -0.686415398165249, -0.6632303830207483, 0.3611285698868993, -1.4150766880023653, -0.5355969336730079, 0.15148844935688743, 1.4809758774301216, 0.1341776189245072, 2.039413314544158, -0.03243372323009276, 0.022831173707126735, -0.841240189670404, -0.49541889751084567, 0.8183400775505387, 0.7488401406486337, -0.17193420847758445, -0.45187359053888715, -0.19881883509728254, -1.50152229425189, -0.35828183450124146, 1.9630368930993207, 1.1964489103975489, -0.1435270860047802, -0.3308275681612723, 0.8659755734970961, -0.26379834794677504, -0.46684150154116616, 0.4345934611912318, 0.9143039934710501, -0.06561570356948355, -0.6767256650340361, -1.0259488290832, -0.2727313264750364, 1.0195015218583527, -0.1125709709711396, -0.0992052156509772, -0.10038565402562996, 1.182259921569917, 0.6201037680164574, 0.00065696719603261, 0.4556208055782743, -0.9502790546247901, -1.0978368547782833, 0.3992300601573083, 0.3982763109978748, 0.14618132688760946], \"xaxis\": \"x14\", \"y\": [-0.9775540867952446, 0.5125419768385915, -0.294908048965335, 0.6561049172570194, -0.948655669014669, 0.38826492530369056, -1.051515798800067, 1.0916810700420954, -0.7698443127541724, -0.9044517115380162, 0.30475023729635403, 1.539858983273998, 1.226919733553733, 0.42749343772456005, 0.04433626310293226, -1.943719051879809, 1.2463238062234774, -1.2104794780278358, 2.2434389335917615, -0.7046858778536157, -1.4554723150616735, 1.0941988942748302, -0.02952503436206944, -0.33924093843015646, 0.2044200372012253, 0.2685291939229705, -1.5299696422235398, 0.6581448336938301, 0.39454019984961214, -0.29532382509339766, -0.7754927189028199, -0.7517249288087523, 1.1662456581357885, 0.47100641399697557, 0.18091632997000087, -0.8680521122835154, 0.34188638195693616, -0.6395572104363515, 1.7607211883492682, -0.5427324119660141, 0.6094134787515665, -0.3228406532113041, -1.240984117694116, 0.9476958531796474, -1.566799508736097, -1.3693967159456835, -1.002806751796895, -0.6290596720219408, -0.9665578288157056, 0.9840878963356897, -0.4843673241245268, 1.0518601552732783, -1.1491433046014432, -0.6095902338712633, 1.9231102218474039, 0.9376082791295621, 0.10526475977098643, 0.4989098099237765, -0.5043174075431105, 2.1408461247925024, 0.1352941400065242, -0.27473495827988226, -0.2889957842311569, -0.03266538710690525, -0.0157904210532621, 0.08899841220396364, -1.2285876409947754, 1.9089716125433318, -0.672817717516103, -0.9991552089496202, 0.7787563460737548, -0.012740471268385447, -2.479165537636401, 1.40143034536203, -1.729474372047749, -0.21787372323390702, 0.7980485729437748, 0.3776094257046723, -0.4760637243601897, -2.3832051413841637, -1.7099159788344809, 0.4827711017041606, 0.8620357645975364, 0.17453108335633685, 0.7443925303551422, 0.6903132193598274, -0.5627408036346566, -0.4518178996632333, -0.9368981301966262, 0.05061874383989501, -0.6922640658095132, -0.5280750185783809, -1.2947751095368296, -0.870662429879271, -0.298108580253174, 0.037387968557037854, -1.1207278026636471, -1.9113339857999854, -0.007295497555885252, 0.9171993947582978], \"yaxis\": \"y14\"}, {\"line\": {\"color\": \"rgba(128, 128, 128, 1.0)\", \"dash\": \"solid\", \"shape\": \"linear\", \"width\": 1.3}, \"marker\": {\"size\": 2, \"symbol\": \"circle\"}, \"mode\": \"markers\", \"name\": \"D\", \"text\": \"\", \"type\": \"scatter\", \"x\": [0.6305086408405335, 0.2573929741581128, 1.2002509871699105, 1.8249813489097186, 0.3918002396090246, 2.045502634431302, -0.12255302335727361, -0.14328856625676092, -0.20748786540499695, -0.3064262606826834, -1.1379840810055082, 0.1673648590728652, 0.37699394164743627, -0.6962736680079707, -0.6586427335574921, 1.026882387486378, -0.13961200892487075, 0.13493393701558787, -0.21222692847029387, -0.629736224541587, 1.4735661632735562, -1.0104870058846744, 0.8366005276015587, -0.33702113005301576, 0.39797885431417157, -0.16811043462184252, -0.6197407303272026, 0.10336820541209946, 0.9429313960623031, 0.7907388100117877, -0.7702545298597853, 1.8824678262475079, 0.3764093764765518, -0.31741290339867323, -0.4080431921994537, 0.8524436320243046, -0.8874432210963202, 1.278318444357705, 1.400387427082184, 0.5164502436081181, 0.5260515938763501, -1.516843418418446, -1.2296490295672757, -0.3030387528649891, -0.8673602866550375, 1.2577169602465843, -0.17664278745729972, -0.8011024909016581, -1.2709067509118592, 2.600574336866944, 1.7026407853872678, 1.188257856928726, 1.470492384903625, -1.4246726210313863, -0.5822627018194775, 0.37354771607816406, -0.5340206493997645, 0.04376725425074439, -0.47645358851481984, 1.5597252552643888, -1.2000497575023026, -0.6258442258992837, -0.793624442495925, 0.1898625339161362, 0.20876742846720092, 1.3709461458575776, 0.8634147134772215, -0.48704667145588254, -1.6763341999764252, 0.645748787049174, -1.2776430496406737, 0.8424179571291159, -1.8479145390147624, 0.9343548341121494, -0.003951426835194898, 0.570119633366993, -1.0825526928291904, -0.17270588345420862, 1.4225521073363245, -0.9250108836454827, -0.5242086646505019, -0.9144328597996433, -0.9510490339648087, -0.5511617558446993, 0.7727258199523624, 2.1177556445538634, 1.5414102237779639, 0.10267936984726589, -0.5582221230138756, 0.15764762924658451, -0.0043885162080275625, -1.3373114196927731, 0.10633748756502394, -0.4647282500767246, -0.026345456157078864, 0.138687004546556, 0.012902495730874639, 1.1639536789822604, -0.534311955025553, -0.5622879971904758], \"xaxis\": \"x15\", \"y\": [-0.9775540867952446, 0.5125419768385915, -0.294908048965335, 0.6561049172570194, -0.948655669014669, 0.38826492530369056, -1.051515798800067, 1.0916810700420954, -0.7698443127541724, -0.9044517115380162, 0.30475023729635403, 1.539858983273998, 1.226919733553733, 0.42749343772456005, 0.04433626310293226, -1.943719051879809, 1.2463238062234774, -1.2104794780278358, 2.2434389335917615, -0.7046858778536157, -1.4554723150616735, 1.0941988942748302, -0.02952503436206944, -0.33924093843015646, 0.2044200372012253, 0.2685291939229705, -1.5299696422235398, 0.6581448336938301, 0.39454019984961214, -0.29532382509339766, -0.7754927189028199, -0.7517249288087523, 1.1662456581357885, 0.47100641399697557, 0.18091632997000087, -0.8680521122835154, 0.34188638195693616, -0.6395572104363515, 1.7607211883492682, -0.5427324119660141, 0.6094134787515665, -0.3228406532113041, -1.240984117694116, 0.9476958531796474, -1.566799508736097, -1.3693967159456835, -1.002806751796895, -0.6290596720219408, -0.9665578288157056, 0.9840878963356897, -0.4843673241245268, 1.0518601552732783, -1.1491433046014432, -0.6095902338712633, 1.9231102218474039, 0.9376082791295621, 0.10526475977098643, 0.4989098099237765, -0.5043174075431105, 2.1408461247925024, 0.1352941400065242, -0.27473495827988226, -0.2889957842311569, -0.03266538710690525, -0.0157904210532621, 0.08899841220396364, -1.2285876409947754, 1.9089716125433318, -0.672817717516103, -0.9991552089496202, 0.7787563460737548, -0.012740471268385447, -2.479165537636401, 1.40143034536203, -1.729474372047749, -0.21787372323390702, 0.7980485729437748, 0.3776094257046723, -0.4760637243601897, -2.3832051413841637, -1.7099159788344809, 0.4827711017041606, 0.8620357645975364, 0.17453108335633685, 0.7443925303551422, 0.6903132193598274, -0.5627408036346566, -0.4518178996632333, -0.9368981301966262, 0.05061874383989501, -0.6922640658095132, -0.5280750185783809, -1.2947751095368296, -0.870662429879271, -0.298108580253174, 0.037387968557037854, -1.1207278026636471, -1.9113339857999854, -0.007295497555885252, 0.9171993947582978], \"yaxis\": \"y15\"}, {\"histfunc\": \"count\", \"histnorm\": \"\", \"marker\": {\"color\": \"rgba(128, 0, 128, 1.0)\", \"line\": {\"color\": \"#4D5663\", \"width\": 1.3}}, \"name\": \"D\", \"nbinsx\": 10, \"opacity\": 0.8, \"orientation\": \"v\", \"type\": \"histogram\", \"x\": [-0.9775540867952446, 0.5125419768385915, -0.294908048965335, 0.6561049172570194, -0.948655669014669, 0.38826492530369056, -1.051515798800067, 1.0916810700420954, -0.7698443127541724, -0.9044517115380162, 0.30475023729635403, 1.539858983273998, 1.226919733553733, 0.42749343772456005, 0.04433626310293226, -1.943719051879809, 1.2463238062234774, -1.2104794780278358, 2.2434389335917615, -0.7046858778536157, -1.4554723150616735, 1.0941988942748302, -0.02952503436206944, -0.33924093843015646, 0.2044200372012253, 0.2685291939229705, -1.5299696422235398, 0.6581448336938301, 0.39454019984961214, -0.29532382509339766, -0.7754927189028199, -0.7517249288087523, 1.1662456581357885, 0.47100641399697557, 0.18091632997000087, -0.8680521122835154, 0.34188638195693616, -0.6395572104363515, 1.7607211883492682, -0.5427324119660141, 0.6094134787515665, -0.3228406532113041, -1.240984117694116, 0.9476958531796474, -1.566799508736097, -1.3693967159456835, -1.002806751796895, -0.6290596720219408, -0.9665578288157056, 0.9840878963356897, -0.4843673241245268, 1.0518601552732783, -1.1491433046014432, -0.6095902338712633, 1.9231102218474039, 0.9376082791295621, 0.10526475977098643, 0.4989098099237765, -0.5043174075431105, 2.1408461247925024, 0.1352941400065242, -0.27473495827988226, -0.2889957842311569, -0.03266538710690525, -0.0157904210532621, 0.08899841220396364, -1.2285876409947754, 1.9089716125433318, -0.672817717516103, -0.9991552089496202, 0.7787563460737548, -0.012740471268385447, -2.479165537636401, 1.40143034536203, -1.729474372047749, -0.21787372323390702, 0.7980485729437748, 0.3776094257046723, -0.4760637243601897, -2.3832051413841637, -1.7099159788344809, 0.4827711017041606, 0.8620357645975364, 0.17453108335633685, 0.7443925303551422, 0.6903132193598274, -0.5627408036346566, -0.4518178996632333, -0.9368981301966262, 0.05061874383989501, -0.6922640658095132, -0.5280750185783809, -1.2947751095368296, -0.870662429879271, -0.298108580253174, 0.037387968557037854, -1.1207278026636471, -1.9113339857999854, -0.007295497555885252, 0.9171993947582978], \"xaxis\": \"x16\", \"yaxis\": \"y16\"}],                        {\"bargap\": 0.02, \"legend\": {\"bgcolor\": \"#F5F6F9\", \"font\": {\"color\": \"#4D5663\"}}, \"paper_bgcolor\": \"#F5F6F9\", \"plot_bgcolor\": \"#F5F6F9\", \"showlegend\": false, \"template\": {\"data\": {\"bar\": [{\"error_x\": {\"color\": \"#2a3f5f\"}, \"error_y\": {\"color\": \"#2a3f5f\"}, \"marker\": {\"line\": {\"color\": \"#E5ECF6\", \"width\": 0.5}}, \"type\": \"bar\"}], \"barpolar\": [{\"marker\": {\"line\": {\"color\": \"#E5ECF6\", \"width\": 0.5}}, \"type\": \"barpolar\"}], \"carpet\": [{\"aaxis\": {\"endlinecolor\": \"#2a3f5f\", \"gridcolor\": \"white\", \"linecolor\": \"white\", \"minorgridcolor\": \"white\", \"startlinecolor\": \"#2a3f5f\"}, \"baxis\": {\"endlinecolor\": \"#2a3f5f\", \"gridcolor\": \"white\", \"linecolor\": \"white\", \"minorgridcolor\": \"white\", \"startlinecolor\": \"#2a3f5f\"}, \"type\": \"carpet\"}], \"choropleth\": [{\"colorbar\": {\"outlinewidth\": 0, \"ticks\": \"\"}, \"type\": \"choropleth\"}], \"contour\": [{\"colorbar\": {\"outlinewidth\": 0, \"ticks\": \"\"}, \"colorscale\": [[0.0, \"#0d0887\"], [0.1111111111111111, \"#46039f\"], [0.2222222222222222, \"#7201a8\"], [0.3333333333333333, \"#9c179e\"], [0.4444444444444444, \"#bd3786\"], [0.5555555555555556, \"#d8576b\"], [0.6666666666666666, \"#ed7953\"], [0.7777777777777778, \"#fb9f3a\"], [0.8888888888888888, \"#fdca26\"], [1.0, \"#f0f921\"]], \"type\": \"contour\"}], \"contourcarpet\": [{\"colorbar\": {\"outlinewidth\": 0, \"ticks\": \"\"}, \"type\": \"contourcarpet\"}], \"heatmap\": [{\"colorbar\": {\"outlinewidth\": 0, \"ticks\": \"\"}, \"colorscale\": [[0.0, \"#0d0887\"], [0.1111111111111111, \"#46039f\"], [0.2222222222222222, \"#7201a8\"], [0.3333333333333333, \"#9c179e\"], [0.4444444444444444, \"#bd3786\"], [0.5555555555555556, \"#d8576b\"], [0.6666666666666666, \"#ed7953\"], [0.7777777777777778, \"#fb9f3a\"], [0.8888888888888888, \"#fdca26\"], [1.0, \"#f0f921\"]], \"type\": \"heatmap\"}], \"heatmapgl\": [{\"colorbar\": {\"outlinewidth\": 0, \"ticks\": \"\"}, \"colorscale\": [[0.0, \"#0d0887\"], [0.1111111111111111, \"#46039f\"], [0.2222222222222222, \"#7201a8\"], [0.3333333333333333, \"#9c179e\"], [0.4444444444444444, \"#bd3786\"], [0.5555555555555556, \"#d8576b\"], [0.6666666666666666, \"#ed7953\"], [0.7777777777777778, \"#fb9f3a\"], [0.8888888888888888, \"#fdca26\"], [1.0, \"#f0f921\"]], \"type\": \"heatmapgl\"}], \"histogram\": [{\"marker\": {\"colorbar\": {\"outlinewidth\": 0, \"ticks\": \"\"}}, \"type\": \"histogram\"}], \"histogram2d\": [{\"colorbar\": {\"outlinewidth\": 0, \"ticks\": \"\"}, \"colorscale\": [[0.0, \"#0d0887\"], [0.1111111111111111, \"#46039f\"], [0.2222222222222222, \"#7201a8\"], [0.3333333333333333, \"#9c179e\"], [0.4444444444444444, \"#bd3786\"], [0.5555555555555556, \"#d8576b\"], [0.6666666666666666, \"#ed7953\"], [0.7777777777777778, \"#fb9f3a\"], [0.8888888888888888, \"#fdca26\"], [1.0, \"#f0f921\"]], \"type\": \"histogram2d\"}], \"histogram2dcontour\": [{\"colorbar\": {\"outlinewidth\": 0, \"ticks\": \"\"}, \"colorscale\": [[0.0, \"#0d0887\"], [0.1111111111111111, \"#46039f\"], [0.2222222222222222, \"#7201a8\"], [0.3333333333333333, \"#9c179e\"], [0.4444444444444444, \"#bd3786\"], [0.5555555555555556, \"#d8576b\"], [0.6666666666666666, \"#ed7953\"], [0.7777777777777778, \"#fb9f3a\"], [0.8888888888888888, \"#fdca26\"], [1.0, \"#f0f921\"]], \"type\": \"histogram2dcontour\"}], \"mesh3d\": [{\"colorbar\": {\"outlinewidth\": 0, \"ticks\": \"\"}, \"type\": \"mesh3d\"}], \"parcoords\": [{\"line\": {\"colorbar\": {\"outlinewidth\": 0, \"ticks\": \"\"}}, \"type\": \"parcoords\"}], \"pie\": [{\"automargin\": true, \"type\": \"pie\"}], \"scatter\": [{\"marker\": {\"colorbar\": {\"outlinewidth\": 0, \"ticks\": \"\"}}, \"type\": \"scatter\"}], \"scatter3d\": [{\"line\": {\"colorbar\": {\"outlinewidth\": 0, \"ticks\": \"\"}}, \"marker\": {\"colorbar\": {\"outlinewidth\": 0, \"ticks\": \"\"}}, \"type\": \"scatter3d\"}], \"scattercarpet\": [{\"marker\": {\"colorbar\": {\"outlinewidth\": 0, \"ticks\": \"\"}}, \"type\": \"scattercarpet\"}], \"scattergeo\": [{\"marker\": {\"colorbar\": {\"outlinewidth\": 0, \"ticks\": \"\"}}, \"type\": \"scattergeo\"}], \"scattergl\": [{\"marker\": {\"colorbar\": {\"outlinewidth\": 0, \"ticks\": \"\"}}, \"type\": \"scattergl\"}], \"scattermapbox\": [{\"marker\": {\"colorbar\": {\"outlinewidth\": 0, \"ticks\": \"\"}}, \"type\": \"scattermapbox\"}], \"scatterpolar\": [{\"marker\": {\"colorbar\": {\"outlinewidth\": 0, \"ticks\": \"\"}}, \"type\": \"scatterpolar\"}], \"scatterpolargl\": [{\"marker\": {\"colorbar\": {\"outlinewidth\": 0, \"ticks\": \"\"}}, \"type\": \"scatterpolargl\"}], \"scatterternary\": [{\"marker\": {\"colorbar\": {\"outlinewidth\": 0, \"ticks\": \"\"}}, \"type\": \"scatterternary\"}], \"surface\": [{\"colorbar\": {\"outlinewidth\": 0, \"ticks\": \"\"}, \"colorscale\": [[0.0, \"#0d0887\"], [0.1111111111111111, \"#46039f\"], [0.2222222222222222, \"#7201a8\"], [0.3333333333333333, \"#9c179e\"], [0.4444444444444444, \"#bd3786\"], [0.5555555555555556, \"#d8576b\"], [0.6666666666666666, \"#ed7953\"], [0.7777777777777778, \"#fb9f3a\"], [0.8888888888888888, \"#fdca26\"], [1.0, \"#f0f921\"]], \"type\": \"surface\"}], \"table\": [{\"cells\": {\"fill\": {\"color\": \"#EBF0F8\"}, \"line\": {\"color\": \"white\"}}, \"header\": {\"fill\": {\"color\": \"#C8D4E3\"}, \"line\": {\"color\": \"white\"}}, \"type\": \"table\"}]}, \"layout\": {\"annotationdefaults\": {\"arrowcolor\": \"#2a3f5f\", \"arrowhead\": 0, \"arrowwidth\": 1}, \"autotypenumbers\": \"strict\", \"coloraxis\": {\"colorbar\": {\"outlinewidth\": 0, \"ticks\": \"\"}}, \"colorscale\": {\"diverging\": [[0, \"#8e0152\"], [0.1, \"#c51b7d\"], [0.2, \"#de77ae\"], [0.3, \"#f1b6da\"], [0.4, \"#fde0ef\"], [0.5, \"#f7f7f7\"], [0.6, \"#e6f5d0\"], [0.7, \"#b8e186\"], [0.8, \"#7fbc41\"], [0.9, \"#4d9221\"], [1, \"#276419\"]], \"sequential\": [[0.0, \"#0d0887\"], [0.1111111111111111, \"#46039f\"], [0.2222222222222222, \"#7201a8\"], [0.3333333333333333, \"#9c179e\"], [0.4444444444444444, \"#bd3786\"], [0.5555555555555556, \"#d8576b\"], [0.6666666666666666, \"#ed7953\"], [0.7777777777777778, \"#fb9f3a\"], [0.8888888888888888, \"#fdca26\"], [1.0, \"#f0f921\"]], \"sequentialminus\": [[0.0, \"#0d0887\"], [0.1111111111111111, \"#46039f\"], [0.2222222222222222, \"#7201a8\"], [0.3333333333333333, \"#9c179e\"], [0.4444444444444444, \"#bd3786\"], [0.5555555555555556, \"#d8576b\"], [0.6666666666666666, \"#ed7953\"], [0.7777777777777778, \"#fb9f3a\"], [0.8888888888888888, \"#fdca26\"], [1.0, \"#f0f921\"]]}, \"colorway\": [\"#636efa\", \"#EF553B\", \"#00cc96\", \"#ab63fa\", \"#FFA15A\", \"#19d3f3\", \"#FF6692\", \"#B6E880\", \"#FF97FF\", \"#FECB52\"], \"font\": {\"color\": \"#2a3f5f\"}, \"geo\": {\"bgcolor\": \"white\", \"lakecolor\": \"white\", \"landcolor\": \"#E5ECF6\", \"showlakes\": true, \"showland\": true, \"subunitcolor\": \"white\"}, \"hoverlabel\": {\"align\": \"left\"}, \"hovermode\": \"closest\", \"mapbox\": {\"style\": \"light\"}, \"paper_bgcolor\": \"white\", \"plot_bgcolor\": \"#E5ECF6\", \"polar\": {\"angularaxis\": {\"gridcolor\": \"white\", \"linecolor\": \"white\", \"ticks\": \"\"}, \"bgcolor\": \"#E5ECF6\", \"radialaxis\": {\"gridcolor\": \"white\", \"linecolor\": \"white\", \"ticks\": \"\"}}, \"scene\": {\"xaxis\": {\"backgroundcolor\": \"#E5ECF6\", \"gridcolor\": \"white\", \"gridwidth\": 2, \"linecolor\": \"white\", \"showbackground\": true, \"ticks\": \"\", \"zerolinecolor\": \"white\"}, \"yaxis\": {\"backgroundcolor\": \"#E5ECF6\", \"gridcolor\": \"white\", \"gridwidth\": 2, \"linecolor\": \"white\", \"showbackground\": true, \"ticks\": \"\", \"zerolinecolor\": \"white\"}, \"zaxis\": {\"backgroundcolor\": \"#E5ECF6\", \"gridcolor\": \"white\", \"gridwidth\": 2, \"linecolor\": \"white\", \"showbackground\": true, \"ticks\": \"\", \"zerolinecolor\": \"white\"}}, \"shapedefaults\": {\"line\": {\"color\": \"#2a3f5f\"}}, \"ternary\": {\"aaxis\": {\"gridcolor\": \"white\", \"linecolor\": \"white\", \"ticks\": \"\"}, \"baxis\": {\"gridcolor\": \"white\", \"linecolor\": \"white\", \"ticks\": \"\"}, \"bgcolor\": \"#E5ECF6\", \"caxis\": {\"gridcolor\": \"white\", \"linecolor\": \"white\", \"ticks\": \"\"}}, \"title\": {\"x\": 0.05}, \"xaxis\": {\"automargin\": true, \"gridcolor\": \"white\", \"linecolor\": \"white\", \"ticks\": \"\", \"title\": {\"standoff\": 15}, \"zerolinecolor\": \"white\", \"zerolinewidth\": 2}, \"yaxis\": {\"automargin\": true, \"gridcolor\": \"white\", \"linecolor\": \"white\", \"ticks\": \"\", \"title\": {\"standoff\": 15}, \"zerolinecolor\": \"white\", \"zerolinewidth\": 2}}}, \"title\": {\"font\": {\"color\": \"#4D5663\"}}, \"xaxis\": {\"anchor\": \"y\", \"domain\": [0.0, 0.2125], \"gridcolor\": \"#E1E5ED\", \"showgrid\": false, \"tickfont\": {\"color\": \"#4D5663\"}, \"title\": {\"font\": {\"color\": \"#4D5663\"}, \"text\": \"\"}, \"zerolinecolor\": \"#E1E5ED\"}, \"xaxis10\": {\"anchor\": \"y10\", \"domain\": [0.2625, 0.475], \"gridcolor\": \"#E1E5ED\", \"showgrid\": false, \"tickfont\": {\"color\": \"#4D5663\"}, \"title\": {\"font\": {\"color\": \"#4D5663\"}, \"text\": \"\"}, \"zerolinecolor\": \"#E1E5ED\"}, \"xaxis11\": {\"anchor\": \"y11\", \"domain\": [0.525, 0.7375], \"gridcolor\": \"#E1E5ED\", \"showgrid\": false, \"tickfont\": {\"color\": \"#4D5663\"}, \"title\": {\"font\": {\"color\": \"#4D5663\"}, \"text\": \"\"}, \"zerolinecolor\": \"#E1E5ED\"}, \"xaxis12\": {\"anchor\": \"y12\", \"domain\": [0.7875, 1.0], \"gridcolor\": \"#E1E5ED\", \"showgrid\": false, \"tickfont\": {\"color\": \"#4D5663\"}, \"title\": {\"font\": {\"color\": \"#4D5663\"}, \"text\": \"\"}, \"zerolinecolor\": \"#E1E5ED\"}, \"xaxis13\": {\"anchor\": \"y13\", \"domain\": [0.0, 0.2125], \"gridcolor\": \"#E1E5ED\", \"showgrid\": false, \"tickfont\": {\"color\": \"#4D5663\"}, \"title\": {\"font\": {\"color\": \"#4D5663\"}, \"text\": \"\"}, \"zerolinecolor\": \"#E1E5ED\"}, \"xaxis14\": {\"anchor\": \"y14\", \"domain\": [0.2625, 0.475], \"gridcolor\": \"#E1E5ED\", \"showgrid\": false, \"tickfont\": {\"color\": \"#4D5663\"}, \"title\": {\"font\": {\"color\": \"#4D5663\"}, \"text\": \"\"}, \"zerolinecolor\": \"#E1E5ED\"}, \"xaxis15\": {\"anchor\": \"y15\", \"domain\": [0.525, 0.7375], \"gridcolor\": \"#E1E5ED\", \"showgrid\": false, \"tickfont\": {\"color\": \"#4D5663\"}, \"title\": {\"font\": {\"color\": \"#4D5663\"}, \"text\": \"\"}, \"zerolinecolor\": \"#E1E5ED\"}, \"xaxis16\": {\"anchor\": \"y16\", \"domain\": [0.7875, 1.0], \"gridcolor\": \"#E1E5ED\", \"showgrid\": false, \"tickfont\": {\"color\": \"#4D5663\"}, \"title\": {\"font\": {\"color\": \"#4D5663\"}, \"text\": \"\"}, \"zerolinecolor\": \"#E1E5ED\"}, \"xaxis2\": {\"anchor\": \"y2\", \"domain\": [0.2625, 0.475], \"gridcolor\": \"#E1E5ED\", \"showgrid\": false, \"tickfont\": {\"color\": \"#4D5663\"}, \"title\": {\"font\": {\"color\": \"#4D5663\"}, \"text\": \"\"}, \"zerolinecolor\": \"#E1E5ED\"}, \"xaxis3\": {\"anchor\": \"y3\", \"domain\": [0.525, 0.7375], \"gridcolor\": \"#E1E5ED\", \"showgrid\": false, \"tickfont\": {\"color\": \"#4D5663\"}, \"title\": {\"font\": {\"color\": \"#4D5663\"}, \"text\": \"\"}, \"zerolinecolor\": \"#E1E5ED\"}, \"xaxis4\": {\"anchor\": \"y4\", \"domain\": [0.7875, 1.0], \"gridcolor\": \"#E1E5ED\", \"showgrid\": false, \"tickfont\": {\"color\": \"#4D5663\"}, \"title\": {\"font\": {\"color\": \"#4D5663\"}, \"text\": \"\"}, \"zerolinecolor\": \"#E1E5ED\"}, \"xaxis5\": {\"anchor\": \"y5\", \"domain\": [0.0, 0.2125], \"gridcolor\": \"#E1E5ED\", \"showgrid\": false, \"tickfont\": {\"color\": \"#4D5663\"}, \"title\": {\"font\": {\"color\": \"#4D5663\"}, \"text\": \"\"}, \"zerolinecolor\": \"#E1E5ED\"}, \"xaxis6\": {\"anchor\": \"y6\", \"domain\": [0.2625, 0.475], \"gridcolor\": \"#E1E5ED\", \"showgrid\": false, \"tickfont\": {\"color\": \"#4D5663\"}, \"title\": {\"font\": {\"color\": \"#4D5663\"}, \"text\": \"\"}, \"zerolinecolor\": \"#E1E5ED\"}, \"xaxis7\": {\"anchor\": \"y7\", \"domain\": [0.525, 0.7375], \"gridcolor\": \"#E1E5ED\", \"showgrid\": false, \"tickfont\": {\"color\": \"#4D5663\"}, \"title\": {\"font\": {\"color\": \"#4D5663\"}, \"text\": \"\"}, \"zerolinecolor\": \"#E1E5ED\"}, \"xaxis8\": {\"anchor\": \"y8\", \"domain\": [0.7875, 1.0], \"gridcolor\": \"#E1E5ED\", \"showgrid\": false, \"tickfont\": {\"color\": \"#4D5663\"}, \"title\": {\"font\": {\"color\": \"#4D5663\"}, \"text\": \"\"}, \"zerolinecolor\": \"#E1E5ED\"}, \"xaxis9\": {\"anchor\": \"y9\", \"domain\": [0.0, 0.2125], \"gridcolor\": \"#E1E5ED\", \"showgrid\": false, \"tickfont\": {\"color\": \"#4D5663\"}, \"title\": {\"font\": {\"color\": \"#4D5663\"}, \"text\": \"\"}, \"zerolinecolor\": \"#E1E5ED\"}, \"yaxis\": {\"anchor\": \"x\", \"domain\": [0.8025, 1.0], \"gridcolor\": \"#E1E5ED\", \"showgrid\": false, \"tickfont\": {\"color\": \"#4D5663\"}, \"title\": {\"font\": {\"color\": \"#4D5663\"}, \"text\": \"\"}, \"zerolinecolor\": \"#E1E5ED\"}, \"yaxis10\": {\"anchor\": \"x10\", \"domain\": [0.2675, 0.465], \"gridcolor\": \"#E1E5ED\", \"showgrid\": false, \"tickfont\": {\"color\": \"#4D5663\"}, \"title\": {\"font\": {\"color\": \"#4D5663\"}, \"text\": \"\"}, \"zerolinecolor\": \"#E1E5ED\"}, \"yaxis11\": {\"anchor\": \"x11\", \"domain\": [0.2675, 0.465], \"gridcolor\": \"#E1E5ED\", \"showgrid\": false, \"tickfont\": {\"color\": \"#4D5663\"}, \"title\": {\"font\": {\"color\": \"#4D5663\"}, \"text\": \"\"}, \"zerolinecolor\": \"#E1E5ED\"}, \"yaxis12\": {\"anchor\": \"x12\", \"domain\": [0.2675, 0.465], \"gridcolor\": \"#E1E5ED\", \"showgrid\": false, \"tickfont\": {\"color\": \"#4D5663\"}, \"title\": {\"font\": {\"color\": \"#4D5663\"}, \"text\": \"\"}, \"zerolinecolor\": \"#E1E5ED\"}, \"yaxis13\": {\"anchor\": \"x13\", \"domain\": [0.0, 0.1975], \"gridcolor\": \"#E1E5ED\", \"showgrid\": false, \"tickfont\": {\"color\": \"#4D5663\"}, \"title\": {\"font\": {\"color\": \"#4D5663\"}, \"text\": \"\"}, \"zerolinecolor\": \"#E1E5ED\"}, \"yaxis14\": {\"anchor\": \"x14\", \"domain\": [0.0, 0.1975], \"gridcolor\": \"#E1E5ED\", \"showgrid\": false, \"tickfont\": {\"color\": \"#4D5663\"}, \"title\": {\"font\": {\"color\": \"#4D5663\"}, \"text\": \"\"}, \"zerolinecolor\": \"#E1E5ED\"}, \"yaxis15\": {\"anchor\": \"x15\", \"domain\": [0.0, 0.1975], \"gridcolor\": \"#E1E5ED\", \"showgrid\": false, \"tickfont\": {\"color\": \"#4D5663\"}, \"title\": {\"font\": {\"color\": \"#4D5663\"}, \"text\": \"\"}, \"zerolinecolor\": \"#E1E5ED\"}, \"yaxis16\": {\"anchor\": \"x16\", \"domain\": [0.0, 0.1975], \"gridcolor\": \"#E1E5ED\", \"showgrid\": false, \"tickfont\": {\"color\": \"#4D5663\"}, \"title\": {\"font\": {\"color\": \"#4D5663\"}, \"text\": \"\"}, \"zerolinecolor\": \"#E1E5ED\"}, \"yaxis2\": {\"anchor\": \"x2\", \"domain\": [0.8025, 1.0], \"gridcolor\": \"#E1E5ED\", \"showgrid\": false, \"tickfont\": {\"color\": \"#4D5663\"}, \"title\": {\"font\": {\"color\": \"#4D5663\"}, \"text\": \"\"}, \"zerolinecolor\": \"#E1E5ED\"}, \"yaxis3\": {\"anchor\": \"x3\", \"domain\": [0.8025, 1.0], \"gridcolor\": \"#E1E5ED\", \"showgrid\": false, \"tickfont\": {\"color\": \"#4D5663\"}, \"title\": {\"font\": {\"color\": \"#4D5663\"}, \"text\": \"\"}, \"zerolinecolor\": \"#E1E5ED\"}, \"yaxis4\": {\"anchor\": \"x4\", \"domain\": [0.8025, 1.0], \"gridcolor\": \"#E1E5ED\", \"showgrid\": false, \"tickfont\": {\"color\": \"#4D5663\"}, \"title\": {\"font\": {\"color\": \"#4D5663\"}, \"text\": \"\"}, \"zerolinecolor\": \"#E1E5ED\"}, \"yaxis5\": {\"anchor\": \"x5\", \"domain\": [0.535, 0.7325], \"gridcolor\": \"#E1E5ED\", \"showgrid\": false, \"tickfont\": {\"color\": \"#4D5663\"}, \"title\": {\"font\": {\"color\": \"#4D5663\"}, \"text\": \"\"}, \"zerolinecolor\": \"#E1E5ED\"}, \"yaxis6\": {\"anchor\": \"x6\", \"domain\": [0.535, 0.7325], \"gridcolor\": \"#E1E5ED\", \"showgrid\": false, \"tickfont\": {\"color\": \"#4D5663\"}, \"title\": {\"font\": {\"color\": \"#4D5663\"}, \"text\": \"\"}, \"zerolinecolor\": \"#E1E5ED\"}, \"yaxis7\": {\"anchor\": \"x7\", \"domain\": [0.535, 0.7325], \"gridcolor\": \"#E1E5ED\", \"showgrid\": false, \"tickfont\": {\"color\": \"#4D5663\"}, \"title\": {\"font\": {\"color\": \"#4D5663\"}, \"text\": \"\"}, \"zerolinecolor\": \"#E1E5ED\"}, \"yaxis8\": {\"anchor\": \"x8\", \"domain\": [0.535, 0.7325], \"gridcolor\": \"#E1E5ED\", \"showgrid\": false, \"tickfont\": {\"color\": \"#4D5663\"}, \"title\": {\"font\": {\"color\": \"#4D5663\"}, \"text\": \"\"}, \"zerolinecolor\": \"#E1E5ED\"}, \"yaxis9\": {\"anchor\": \"x9\", \"domain\": [0.2675, 0.465], \"gridcolor\": \"#E1E5ED\", \"showgrid\": false, \"tickfont\": {\"color\": \"#4D5663\"}, \"title\": {\"font\": {\"color\": \"#4D5663\"}, \"text\": \"\"}, \"zerolinecolor\": \"#E1E5ED\"}},                        {\"showLink\": true, \"linkText\": \"Export to plot.ly\", \"plotlyServerURL\": \"https://plot.ly\", \"responsive\": true}                    ).then(function(){\n",
       "                            \n",
       "var gd = document.getElementById('b0e3ba6e-ec67-4ecc-b5b7-bd34b65b10f2');\n",
       "var x = new MutationObserver(function (mutations, observer) {{\n",
       "        var display = window.getComputedStyle(gd).display;\n",
       "        if (!display || display === 'none') {{\n",
       "            console.log([gd, 'removed!']);\n",
       "            Plotly.purge(gd);\n",
       "            observer.disconnect();\n",
       "        }}\n",
       "}});\n",
       "\n",
       "// Listen for the removal of the full notebook cells\n",
       "var notebookContainer = gd.closest('#notebook-container');\n",
       "if (notebookContainer) {{\n",
       "    x.observe(notebookContainer, {childList: true});\n",
       "}}\n",
       "\n",
       "// Listen for the clearing of the current output cell\n",
       "var outputEl = gd.closest('.output');\n",
       "if (outputEl) {{\n",
       "    x.observe(outputEl, {childList: true});\n",
       "}}\n",
       "\n",
       "                        })                };                });            </script>        </div>"
      ]
     },
     "metadata": {},
     "output_type": "display_data"
    }
   ],
   "source": [
    "#scatter matrix\n",
    "df.scatter_matrix()"
   ]
  },
  {
   "cell_type": "code",
   "execution_count": null,
   "metadata": {},
   "outputs": [],
   "source": []
  }
 ],
 "metadata": {
  "kernelspec": {
   "display_name": "Python 3",
   "language": "python",
   "name": "python3"
  },
  "language_info": {
   "codemirror_mode": {
    "name": "ipython",
    "version": 3
   },
   "file_extension": ".py",
   "mimetype": "text/x-python",
   "name": "python",
   "nbconvert_exporter": "python",
   "pygments_lexer": "ipython3",
   "version": "3.7.6"
  }
 },
 "nbformat": 4,
 "nbformat_minor": 4
}
